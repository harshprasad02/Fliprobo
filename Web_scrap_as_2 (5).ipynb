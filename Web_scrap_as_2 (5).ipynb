{
 "cells": [
  {
   "cell_type": "markdown",
   "metadata": {},
   "source": [
    "# Web scrapping assignment - 2 "
   ]
  },
  {
   "cell_type": "markdown",
   "metadata": {},
   "source": [
    "# Question no.1"
   ]
  },
  {
   "cell_type": "code",
   "execution_count": 3,
   "metadata": {},
   "outputs": [],
   "source": [
    "from selenium import webdriver"
   ]
  },
  {
   "cell_type": "code",
   "execution_count": 4,
   "metadata": {},
   "outputs": [],
   "source": [
    "import pandas as pd\n",
    "import numpy as np"
   ]
  },
  {
   "cell_type": "code",
   "execution_count": 16,
   "metadata": {},
   "outputs": [],
   "source": [
    "drivers = webdriver.Chrome(r\"C:\\Users\\harsh\\Downloads\\chromedriver_win32\\chromedriver.exe\")"
   ]
  },
  {
   "cell_type": "markdown",
   "metadata": {},
   "source": [
    "importing job-title, job-location, company_name, experience_required"
   ]
  },
  {
   "cell_type": "code",
   "execution_count": 5,
   "metadata": {},
   "outputs": [],
   "source": [
    "url = \"https://www.naukri.com/\""
   ]
  },
  {
   "cell_type": "code",
   "execution_count": 7,
   "metadata": {},
   "outputs": [],
   "source": [
    "drivers.get(url)"
   ]
  },
  {
   "cell_type": "code",
   "execution_count": 8,
   "metadata": {},
   "outputs": [],
   "source": [
    "search_jobs = drivers.find_element_by_id(\"qsb-keyword-sugg\")"
   ]
  },
  {
   "cell_type": "code",
   "execution_count": 9,
   "metadata": {},
   "outputs": [],
   "source": [
    "search_locations = drivers.find_element_by_id(\"qsb-location-sugg\")"
   ]
  },
  {
   "cell_type": "code",
   "execution_count": 10,
   "metadata": {},
   "outputs": [],
   "source": [
    "search_btutton = drivers.find_element_by_xpath(\"//button[@class = 'btn']\")"
   ]
  },
  {
   "cell_type": "code",
   "execution_count": 11,
   "metadata": {},
   "outputs": [],
   "source": [
    "search_jobs.send_keys(\"Data Analyst”\")"
   ]
  },
  {
   "cell_type": "code",
   "execution_count": 12,
   "metadata": {},
   "outputs": [],
   "source": [
    "search_locations.send_keys(\"Bangalore\")"
   ]
  },
  {
   "cell_type": "code",
   "execution_count": 13,
   "metadata": {},
   "outputs": [],
   "source": [
    "search_btutton.click()"
   ]
  },
  {
   "cell_type": "code",
   "execution_count": 14,
   "metadata": {},
   "outputs": [],
   "source": [
    "job_titlesDA = drivers.find_elements_by_xpath(\"//a[@class = 'title fw500 ellipsis']\")"
   ]
  },
  {
   "cell_type": "code",
   "execution_count": 15,
   "metadata": {},
   "outputs": [
    {
     "data": {
      "text/plain": [
       "[<selenium.webdriver.remote.webelement.WebElement (session=\"4911a28d2a909e94794ae33b5f3e23dc\", element=\"fa050e84-f694-40a6-8f69-8c46322d324d\")>,\n",
       " <selenium.webdriver.remote.webelement.WebElement (session=\"4911a28d2a909e94794ae33b5f3e23dc\", element=\"ff190261-b2a6-42aa-a861-ad7e0a072e18\")>,\n",
       " <selenium.webdriver.remote.webelement.WebElement (session=\"4911a28d2a909e94794ae33b5f3e23dc\", element=\"3a1f1af1-caa1-481c-a2f0-39e1604c0d2a\")>,\n",
       " <selenium.webdriver.remote.webelement.WebElement (session=\"4911a28d2a909e94794ae33b5f3e23dc\", element=\"637fa2b3-e49c-4173-877f-08c28b37e926\")>,\n",
       " <selenium.webdriver.remote.webelement.WebElement (session=\"4911a28d2a909e94794ae33b5f3e23dc\", element=\"a67da01d-45cf-4b3a-a0be-60340f5203e7\")>,\n",
       " <selenium.webdriver.remote.webelement.WebElement (session=\"4911a28d2a909e94794ae33b5f3e23dc\", element=\"61201be5-f3ed-405d-ba65-da05dec10204\")>,\n",
       " <selenium.webdriver.remote.webelement.WebElement (session=\"4911a28d2a909e94794ae33b5f3e23dc\", element=\"b815b158-5031-4ec1-9fc3-01196d86c0c3\")>,\n",
       " <selenium.webdriver.remote.webelement.WebElement (session=\"4911a28d2a909e94794ae33b5f3e23dc\", element=\"7793f42e-0fdf-4658-a950-88aafe21eebf\")>,\n",
       " <selenium.webdriver.remote.webelement.WebElement (session=\"4911a28d2a909e94794ae33b5f3e23dc\", element=\"6def66ab-737e-41b2-a2c6-ef2b62a3367a\")>,\n",
       " <selenium.webdriver.remote.webelement.WebElement (session=\"4911a28d2a909e94794ae33b5f3e23dc\", element=\"c1ed42cc-3b40-48d8-94f2-960aca076c2d\")>,\n",
       " <selenium.webdriver.remote.webelement.WebElement (session=\"4911a28d2a909e94794ae33b5f3e23dc\", element=\"551a7d44-7e41-4a97-a80c-ce2b9d8d10d2\")>,\n",
       " <selenium.webdriver.remote.webelement.WebElement (session=\"4911a28d2a909e94794ae33b5f3e23dc\", element=\"ae2a7d78-4585-439a-95c8-5f7f28437ccc\")>,\n",
       " <selenium.webdriver.remote.webelement.WebElement (session=\"4911a28d2a909e94794ae33b5f3e23dc\", element=\"a2d67dd6-3d4d-4071-914f-085400a2ca40\")>,\n",
       " <selenium.webdriver.remote.webelement.WebElement (session=\"4911a28d2a909e94794ae33b5f3e23dc\", element=\"b6510058-b52b-43dd-8441-c7196dab54ab\")>,\n",
       " <selenium.webdriver.remote.webelement.WebElement (session=\"4911a28d2a909e94794ae33b5f3e23dc\", element=\"779144ce-3804-4719-a905-c0a81a2b4589\")>,\n",
       " <selenium.webdriver.remote.webelement.WebElement (session=\"4911a28d2a909e94794ae33b5f3e23dc\", element=\"13d2ec96-7469-47d1-8811-2dcee67ce467\")>,\n",
       " <selenium.webdriver.remote.webelement.WebElement (session=\"4911a28d2a909e94794ae33b5f3e23dc\", element=\"f04a1d18-1a74-431f-b32c-2e0ba9b74dbe\")>,\n",
       " <selenium.webdriver.remote.webelement.WebElement (session=\"4911a28d2a909e94794ae33b5f3e23dc\", element=\"1244f47d-c241-416c-8e7d-123267d0dce5\")>,\n",
       " <selenium.webdriver.remote.webelement.WebElement (session=\"4911a28d2a909e94794ae33b5f3e23dc\", element=\"0ce1a82c-871f-489b-a9dc-f8320f36bd08\")>,\n",
       " <selenium.webdriver.remote.webelement.WebElement (session=\"4911a28d2a909e94794ae33b5f3e23dc\", element=\"645d0469-1262-4ec1-9490-d62d391cb3d7\")>]"
      ]
     },
     "execution_count": 15,
     "metadata": {},
     "output_type": "execute_result"
    }
   ],
   "source": [
    "job_titlesDA"
   ]
  },
  {
   "cell_type": "code",
   "execution_count": 16,
   "metadata": {},
   "outputs": [
    {
     "data": {
      "text/plain": [
       "['Data Scientist / Data Analyst -Business Analyst',\n",
       " 'Data Analyst',\n",
       " 'Hiring Data Analysts For E commerce Platform || WFH',\n",
       " 'Data Analyst',\n",
       " 'Data Analyst',\n",
       " 'DA - Urgent Opening For Data Analyst BFSI Domain - Pan India',\n",
       " 'Data Analyst',\n",
       " 'Assistant Vice President - MIS & Reporting ( Business Data Analyst)',\n",
       " 'Data Analyst',\n",
       " 'Data Analyst',\n",
       " 'Data Analyst',\n",
       " 'Data Analyst',\n",
       " 'Data Analyst',\n",
       " 'Data Analyst - Work from Home',\n",
       " 'Data Analyst Scada Systems & Database Management',\n",
       " 'Sybase SQL with Post trade/ settlement Data Analyst',\n",
       " 'Hiring For Data Analyst/ MIS Reporting Analyst - Bangalore',\n",
       " 'Senior/Regular Business Analyst / Data Analyst',\n",
       " 'Data Analyst',\n",
       " 'Business Data Analyst - MIS & Reporting']"
      ]
     },
     "execution_count": 16,
     "metadata": {},
     "output_type": "execute_result"
    }
   ],
   "source": [
    "job_titlesDA1 = []\n",
    "for i in job_titlesDA:\n",
    "    job_titlesDA1.append(i.text)\n",
    "job_titlesDA1"
   ]
  },
  {
   "cell_type": "code",
   "execution_count": 20,
   "metadata": {},
   "outputs": [],
   "source": [
    "job_locationDA = drivers.find_elements_by_xpath(\"//li[@class = 'fleft grey-text br2 placeHolderLi location']//span\")"
   ]
  },
  {
   "cell_type": "code",
   "execution_count": 21,
   "metadata": {},
   "outputs": [
    {
     "data": {
      "text/plain": [
       "[<selenium.webdriver.remote.webelement.WebElement (session=\"4911a28d2a909e94794ae33b5f3e23dc\", element=\"5bce39c3-2854-4795-b43b-557924c2eb13\")>,\n",
       " <selenium.webdriver.remote.webelement.WebElement (session=\"4911a28d2a909e94794ae33b5f3e23dc\", element=\"462968ed-472e-4432-a7ce-7f53a95eb129\")>,\n",
       " <selenium.webdriver.remote.webelement.WebElement (session=\"4911a28d2a909e94794ae33b5f3e23dc\", element=\"015bef5f-f93c-4b26-bf55-cfdc8084cba5\")>,\n",
       " <selenium.webdriver.remote.webelement.WebElement (session=\"4911a28d2a909e94794ae33b5f3e23dc\", element=\"a26b6d27-765a-427f-9631-2d6d3b447495\")>,\n",
       " <selenium.webdriver.remote.webelement.WebElement (session=\"4911a28d2a909e94794ae33b5f3e23dc\", element=\"6a0920cf-51ab-4628-8938-e46f42a661c5\")>,\n",
       " <selenium.webdriver.remote.webelement.WebElement (session=\"4911a28d2a909e94794ae33b5f3e23dc\", element=\"6830287c-73a0-4473-b533-59b29006f793\")>,\n",
       " <selenium.webdriver.remote.webelement.WebElement (session=\"4911a28d2a909e94794ae33b5f3e23dc\", element=\"a17bc6d7-ac05-4ff8-ba04-d70141145e75\")>,\n",
       " <selenium.webdriver.remote.webelement.WebElement (session=\"4911a28d2a909e94794ae33b5f3e23dc\", element=\"35856b47-ac3b-4d7b-b907-ee832e79d229\")>,\n",
       " <selenium.webdriver.remote.webelement.WebElement (session=\"4911a28d2a909e94794ae33b5f3e23dc\", element=\"f91cf8a7-1639-4876-95a0-c08e18a92cdc\")>,\n",
       " <selenium.webdriver.remote.webelement.WebElement (session=\"4911a28d2a909e94794ae33b5f3e23dc\", element=\"6a6276b2-7384-444b-82d0-8ccbc956d5e2\")>,\n",
       " <selenium.webdriver.remote.webelement.WebElement (session=\"4911a28d2a909e94794ae33b5f3e23dc\", element=\"969d49d1-9c1d-4e6a-a9bb-523ca2602677\")>,\n",
       " <selenium.webdriver.remote.webelement.WebElement (session=\"4911a28d2a909e94794ae33b5f3e23dc\", element=\"1e5a9bb4-70e8-4cca-87c9-14c0a2b174de\")>,\n",
       " <selenium.webdriver.remote.webelement.WebElement (session=\"4911a28d2a909e94794ae33b5f3e23dc\", element=\"4422e25e-9104-4533-a875-cbb146c85bec\")>,\n",
       " <selenium.webdriver.remote.webelement.WebElement (session=\"4911a28d2a909e94794ae33b5f3e23dc\", element=\"810042c0-677b-4312-8289-23c9adf4d8ee\")>,\n",
       " <selenium.webdriver.remote.webelement.WebElement (session=\"4911a28d2a909e94794ae33b5f3e23dc\", element=\"18d096d6-c046-4aeb-b6c3-b773737d9f9e\")>,\n",
       " <selenium.webdriver.remote.webelement.WebElement (session=\"4911a28d2a909e94794ae33b5f3e23dc\", element=\"f9ed2698-584b-450e-bb29-ba3f6aab3de7\")>,\n",
       " <selenium.webdriver.remote.webelement.WebElement (session=\"4911a28d2a909e94794ae33b5f3e23dc\", element=\"cdf4d791-d740-42ca-919b-e7062ff60f6d\")>,\n",
       " <selenium.webdriver.remote.webelement.WebElement (session=\"4911a28d2a909e94794ae33b5f3e23dc\", element=\"f70176c1-05cf-47b6-b8cf-6f6003c7c937\")>,\n",
       " <selenium.webdriver.remote.webelement.WebElement (session=\"4911a28d2a909e94794ae33b5f3e23dc\", element=\"a762bb02-2eff-40bd-a6ea-738d52e00767\")>,\n",
       " <selenium.webdriver.remote.webelement.WebElement (session=\"4911a28d2a909e94794ae33b5f3e23dc\", element=\"7dfdd8c8-57f2-46f8-b165-1ee3be29723c\")>]"
      ]
     },
     "execution_count": 21,
     "metadata": {},
     "output_type": "execute_result"
    }
   ],
   "source": [
    "job_locationDA"
   ]
  },
  {
   "cell_type": "code",
   "execution_count": 22,
   "metadata": {},
   "outputs": [
    {
     "data": {
      "text/plain": [
       "['Mumbai, Hyderabad/Secunderabad, Pune, Gurgaon/Gurugram, Chennai, Bangalore/Bengaluru',\n",
       " 'Bangalore/Bengaluru',\n",
       " 'Bangalore/Bengaluru',\n",
       " 'Bangalore/Bengaluru',\n",
       " 'Bangalore/Bengaluru',\n",
       " 'Kolkata, Hyderabad/Secunderabad, Pune, Ahmedabad, Chennai, Bangalore/Bengaluru, Delhi / NCR, Mumbai (All Areas)',\n",
       " 'Bangalore/Bengaluru',\n",
       " 'Mumbai, Bangalore/Bengaluru',\n",
       " 'Bangalore/Bengaluru',\n",
       " 'Bangalore/Bengaluru',\n",
       " 'Bangalore/Bengaluru',\n",
       " 'Bangalore/Bengaluru',\n",
       " 'Bangalore/Bengaluru',\n",
       " 'Pune, Bangalore/Bengaluru, Mumbai (All Areas)',\n",
       " 'New Delhi, Bangalore/Bengaluru',\n",
       " 'Mumbai, Hyderabad/Secunderabad, Pune, Chennai, Bangalore/Bengaluru',\n",
       " 'Bangalore/Bengaluru',\n",
       " 'Bangalore/Bengaluru',\n",
       " 'Bangalore/Bengaluru',\n",
       " 'Mumbai, Bangalore/Bengaluru']"
      ]
     },
     "execution_count": 22,
     "metadata": {},
     "output_type": "execute_result"
    }
   ],
   "source": [
    "job_locationDA1 = []\n",
    "for i in job_locationDA:\n",
    "    job_locationDA1.append(i.text)\n",
    "job_locationDA1"
   ]
  },
  {
   "cell_type": "code",
   "execution_count": 23,
   "metadata": {},
   "outputs": [
    {
     "data": {
      "text/plain": [
       "[<selenium.webdriver.remote.webelement.WebElement (session=\"4911a28d2a909e94794ae33b5f3e23dc\", element=\"33ccec89-4283-4f9d-a284-82aeefbd2114\")>,\n",
       " <selenium.webdriver.remote.webelement.WebElement (session=\"4911a28d2a909e94794ae33b5f3e23dc\", element=\"9a81a184-4531-427c-b5cb-99010b3fb08c\")>,\n",
       " <selenium.webdriver.remote.webelement.WebElement (session=\"4911a28d2a909e94794ae33b5f3e23dc\", element=\"e6b0273e-f8b8-4877-bb8e-3df31c84aeda\")>,\n",
       " <selenium.webdriver.remote.webelement.WebElement (session=\"4911a28d2a909e94794ae33b5f3e23dc\", element=\"0982709c-e788-4960-a88f-90ac63178161\")>,\n",
       " <selenium.webdriver.remote.webelement.WebElement (session=\"4911a28d2a909e94794ae33b5f3e23dc\", element=\"19827890-ea00-4621-9c4c-85f2c4860817\")>,\n",
       " <selenium.webdriver.remote.webelement.WebElement (session=\"4911a28d2a909e94794ae33b5f3e23dc\", element=\"9ac8bd40-1bfe-42ae-a153-702e92931e0c\")>,\n",
       " <selenium.webdriver.remote.webelement.WebElement (session=\"4911a28d2a909e94794ae33b5f3e23dc\", element=\"b14afc13-8551-4541-9bd5-b00e96699d89\")>,\n",
       " <selenium.webdriver.remote.webelement.WebElement (session=\"4911a28d2a909e94794ae33b5f3e23dc\", element=\"2eef3752-ecd2-4f69-96ea-39f1fd7021f5\")>,\n",
       " <selenium.webdriver.remote.webelement.WebElement (session=\"4911a28d2a909e94794ae33b5f3e23dc\", element=\"8a56e6d7-40ef-4ba0-bf3a-55810ca1dcc1\")>,\n",
       " <selenium.webdriver.remote.webelement.WebElement (session=\"4911a28d2a909e94794ae33b5f3e23dc\", element=\"f6b48256-963c-4616-8b2b-70749ba4fffe\")>,\n",
       " <selenium.webdriver.remote.webelement.WebElement (session=\"4911a28d2a909e94794ae33b5f3e23dc\", element=\"44bd41ac-dbff-4f19-9cf8-d6da7f757391\")>,\n",
       " <selenium.webdriver.remote.webelement.WebElement (session=\"4911a28d2a909e94794ae33b5f3e23dc\", element=\"aeeb8364-02d0-4a58-b907-0ac4fc16a167\")>,\n",
       " <selenium.webdriver.remote.webelement.WebElement (session=\"4911a28d2a909e94794ae33b5f3e23dc\", element=\"8eb88490-336e-4bba-baac-514c3ffeb9f9\")>,\n",
       " <selenium.webdriver.remote.webelement.WebElement (session=\"4911a28d2a909e94794ae33b5f3e23dc\", element=\"c9012713-c984-43e7-8b55-c0038f7213c5\")>,\n",
       " <selenium.webdriver.remote.webelement.WebElement (session=\"4911a28d2a909e94794ae33b5f3e23dc\", element=\"fe4310ff-72b0-4131-a701-0dc1ed46cb92\")>,\n",
       " <selenium.webdriver.remote.webelement.WebElement (session=\"4911a28d2a909e94794ae33b5f3e23dc\", element=\"d965b70b-5e1f-40a4-a753-4ec40173801b\")>,\n",
       " <selenium.webdriver.remote.webelement.WebElement (session=\"4911a28d2a909e94794ae33b5f3e23dc\", element=\"6dfd12b5-11bb-4eaf-9759-e767e027d97a\")>,\n",
       " <selenium.webdriver.remote.webelement.WebElement (session=\"4911a28d2a909e94794ae33b5f3e23dc\", element=\"68eb73ec-bd47-47ac-a028-9a08b0e88448\")>,\n",
       " <selenium.webdriver.remote.webelement.WebElement (session=\"4911a28d2a909e94794ae33b5f3e23dc\", element=\"4039fce0-550c-4452-ac04-b9a6bfdc3e58\")>,\n",
       " <selenium.webdriver.remote.webelement.WebElement (session=\"4911a28d2a909e94794ae33b5f3e23dc\", element=\"7e276bc2-f3b7-46c2-83b3-e9323b735a29\")>]"
      ]
     },
     "execution_count": 23,
     "metadata": {},
     "output_type": "execute_result"
    }
   ],
   "source": [
    "company_nameDA = drivers.find_elements_by_xpath(\"//a[@class = 'subTitle ellipsis fleft']\")\n",
    "company_nameDA"
   ]
  },
  {
   "cell_type": "code",
   "execution_count": 24,
   "metadata": {},
   "outputs": [
    {
     "data": {
      "text/plain": [
       "['Inflexion Analytix Private Limited',\n",
       " 'GlaxoSmithKline Pharmaceuticals Limited',\n",
       " 'Allegis Services India Pvt. Ltd.',\n",
       " 'Shell India Markets Private Limited',\n",
       " 'Applied Materials',\n",
       " 'Tata Consultancy Services Ltd.',\n",
       " 'Shell India Markets Private Limited',\n",
       " 'INTERTRUSTVITEOS CORPORATE AND FUND SERVICES PVT. LTD.',\n",
       " 'Myntra Designs Pvt. Ltd.',\n",
       " 'Myntra Designs Pvt. Ltd.',\n",
       " 'Myntra Designs Pvt. Ltd.',\n",
       " 'Myntra Designs Pvt. Ltd.',\n",
       " 'Myntra Designs Pvt. Ltd.',\n",
       " 'POWER STORES E COMMERCE PRIVATE LIMITED',\n",
       " 'SmartHelio Sarl',\n",
       " 'Larsen & Toubro Infotech Limited',\n",
       " 'PHARMACEUTICAL RESEARCH ASSOCIATES INDIA Pvt Ltd',\n",
       " 'Luxoft',\n",
       " 'IBM India Pvt. Limited',\n",
       " 'INTERTRUST GROUP']"
      ]
     },
     "execution_count": 24,
     "metadata": {},
     "output_type": "execute_result"
    }
   ],
   "source": [
    "company_nameDA1 = []\n",
    "for i in company_nameDA:\n",
    "    company_nameDA1.append(i.text)\n",
    "company_nameDA1"
   ]
  },
  {
   "cell_type": "code",
   "execution_count": null,
   "metadata": {},
   "outputs": [],
   "source": [
    "fleft grey-text br2 placeHolderLi experience"
   ]
  },
  {
   "cell_type": "code",
   "execution_count": 25,
   "metadata": {},
   "outputs": [],
   "source": [
    "job_experienceDA = drivers.find_elements_by_xpath(\"//li[@class = 'fleft grey-text br2 placeHolderLi experience']//span\")"
   ]
  },
  {
   "cell_type": "code",
   "execution_count": 26,
   "metadata": {},
   "outputs": [
    {
     "data": {
      "text/plain": [
       "[<selenium.webdriver.remote.webelement.WebElement (session=\"4911a28d2a909e94794ae33b5f3e23dc\", element=\"d1f763b1-dad2-40ab-83a3-24894bd6f169\")>,\n",
       " <selenium.webdriver.remote.webelement.WebElement (session=\"4911a28d2a909e94794ae33b5f3e23dc\", element=\"f40d5a38-b440-413b-bf32-97a7f61a71f4\")>,\n",
       " <selenium.webdriver.remote.webelement.WebElement (session=\"4911a28d2a909e94794ae33b5f3e23dc\", element=\"581e065a-ca7a-46e1-973a-36a10d85a023\")>,\n",
       " <selenium.webdriver.remote.webelement.WebElement (session=\"4911a28d2a909e94794ae33b5f3e23dc\", element=\"ab99814c-8aa6-4996-8b29-6c4e0ef4d0a6\")>,\n",
       " <selenium.webdriver.remote.webelement.WebElement (session=\"4911a28d2a909e94794ae33b5f3e23dc\", element=\"2dad234b-0835-4633-b004-e961d168bea7\")>,\n",
       " <selenium.webdriver.remote.webelement.WebElement (session=\"4911a28d2a909e94794ae33b5f3e23dc\", element=\"7d3bfc60-3cab-497e-92cd-3e2f964df797\")>,\n",
       " <selenium.webdriver.remote.webelement.WebElement (session=\"4911a28d2a909e94794ae33b5f3e23dc\", element=\"069b9160-5ccf-4034-b350-df1e747f229b\")>,\n",
       " <selenium.webdriver.remote.webelement.WebElement (session=\"4911a28d2a909e94794ae33b5f3e23dc\", element=\"8c927e9f-5a82-4e39-8b0c-cffb9e8abd17\")>,\n",
       " <selenium.webdriver.remote.webelement.WebElement (session=\"4911a28d2a909e94794ae33b5f3e23dc\", element=\"e7b21cf1-10a7-4e69-9831-cbd38c64dcba\")>,\n",
       " <selenium.webdriver.remote.webelement.WebElement (session=\"4911a28d2a909e94794ae33b5f3e23dc\", element=\"de1cd73e-ca01-47b3-a43f-2f365082a318\")>,\n",
       " <selenium.webdriver.remote.webelement.WebElement (session=\"4911a28d2a909e94794ae33b5f3e23dc\", element=\"43c8b710-e5d4-4c9d-a05b-af6c6f747397\")>,\n",
       " <selenium.webdriver.remote.webelement.WebElement (session=\"4911a28d2a909e94794ae33b5f3e23dc\", element=\"545c1177-1911-42ac-b743-1ddc84702945\")>,\n",
       " <selenium.webdriver.remote.webelement.WebElement (session=\"4911a28d2a909e94794ae33b5f3e23dc\", element=\"3afcfc67-2a9f-4f56-9b7a-17219ae0f375\")>,\n",
       " <selenium.webdriver.remote.webelement.WebElement (session=\"4911a28d2a909e94794ae33b5f3e23dc\", element=\"dcf84bce-0267-4245-b80c-bcc7864704fa\")>,\n",
       " <selenium.webdriver.remote.webelement.WebElement (session=\"4911a28d2a909e94794ae33b5f3e23dc\", element=\"ec9aaa32-4d45-4135-bd4d-6819d1884d8b\")>,\n",
       " <selenium.webdriver.remote.webelement.WebElement (session=\"4911a28d2a909e94794ae33b5f3e23dc\", element=\"0337bfa1-8976-46ff-a17c-ea68ad78a62d\")>,\n",
       " <selenium.webdriver.remote.webelement.WebElement (session=\"4911a28d2a909e94794ae33b5f3e23dc\", element=\"ba9cceba-02df-49f2-bf2e-a5065966c33e\")>,\n",
       " <selenium.webdriver.remote.webelement.WebElement (session=\"4911a28d2a909e94794ae33b5f3e23dc\", element=\"8d3710d9-435e-4b77-8a86-68f7107f38cd\")>,\n",
       " <selenium.webdriver.remote.webelement.WebElement (session=\"4911a28d2a909e94794ae33b5f3e23dc\", element=\"b34d68cf-e326-4206-9e7c-4155720c9af2\")>,\n",
       " <selenium.webdriver.remote.webelement.WebElement (session=\"4911a28d2a909e94794ae33b5f3e23dc\", element=\"cd83f7b6-d684-4cbc-b367-f5f3dc1f2da8\")>]"
      ]
     },
     "execution_count": 26,
     "metadata": {},
     "output_type": "execute_result"
    }
   ],
   "source": [
    "job_experienceDA"
   ]
  },
  {
   "cell_type": "code",
   "execution_count": 27,
   "metadata": {},
   "outputs": [
    {
     "data": {
      "text/plain": [
       "['0-3 Yrs',\n",
       " '0-2 Yrs',\n",
       " '0-5 Yrs',\n",
       " '5-8 Yrs',\n",
       " '7-10 Yrs',\n",
       " '4-9 Yrs',\n",
       " '5-8 Yrs',\n",
       " '12-18 Yrs',\n",
       " '3-6 Yrs',\n",
       " '3-6 Yrs',\n",
       " '4-9 Yrs',\n",
       " '4-8 Yrs',\n",
       " '3-6 Yrs',\n",
       " '2-5 Yrs',\n",
       " '2-5 Yrs',\n",
       " '5-9 Yrs',\n",
       " '2-4 Yrs',\n",
       " '3-6 Yrs',\n",
       " '5-10 Yrs',\n",
       " '3-8 Yrs']"
      ]
     },
     "execution_count": 27,
     "metadata": {},
     "output_type": "execute_result"
    }
   ],
   "source": [
    "job_experienceDA1 = []\n",
    "for i in job_experienceDA:\n",
    "    job_experienceDA1.append(i.text)\n",
    "job_experienceDA1"
   ]
  },
  {
   "cell_type": "code",
   "execution_count": 28,
   "metadata": {},
   "outputs": [],
   "source": [
    "#extracting top 10 companies"
   ]
  },
  {
   "cell_type": "code",
   "execution_count": 29,
   "metadata": {},
   "outputs": [
    {
     "data": {
      "text/plain": [
       "['Data Scientist / Data Analyst -Business Analyst',\n",
       " 'Data Analyst',\n",
       " 'Hiring Data Analysts For E commerce Platform || WFH',\n",
       " 'Data Analyst',\n",
       " 'Data Analyst',\n",
       " 'DA - Urgent Opening For Data Analyst BFSI Domain - Pan India',\n",
       " 'Data Analyst',\n",
       " 'Assistant Vice President - MIS & Reporting ( Business Data Analyst)',\n",
       " 'Data Analyst',\n",
       " 'Data Analyst']"
      ]
     },
     "execution_count": 29,
     "metadata": {},
     "output_type": "execute_result"
    }
   ],
   "source": [
    "job_titlesDA2 = job_titlesDA1[0:10]\n",
    "job_titlesDA2"
   ]
  },
  {
   "cell_type": "code",
   "execution_count": 30,
   "metadata": {},
   "outputs": [
    {
     "data": {
      "text/plain": [
       "['Mumbai, Hyderabad/Secunderabad, Pune, Gurgaon/Gurugram, Chennai, Bangalore/Bengaluru',\n",
       " 'Bangalore/Bengaluru',\n",
       " 'Bangalore/Bengaluru',\n",
       " 'Bangalore/Bengaluru',\n",
       " 'Bangalore/Bengaluru',\n",
       " 'Kolkata, Hyderabad/Secunderabad, Pune, Ahmedabad, Chennai, Bangalore/Bengaluru, Delhi / NCR, Mumbai (All Areas)',\n",
       " 'Bangalore/Bengaluru',\n",
       " 'Mumbai, Bangalore/Bengaluru',\n",
       " 'Bangalore/Bengaluru',\n",
       " 'Bangalore/Bengaluru']"
      ]
     },
     "execution_count": 30,
     "metadata": {},
     "output_type": "execute_result"
    }
   ],
   "source": [
    "job_locationDA2 = job_locationDA1[0:10]\n",
    "job_locationDA2"
   ]
  },
  {
   "cell_type": "code",
   "execution_count": 31,
   "metadata": {},
   "outputs": [
    {
     "data": {
      "text/plain": [
       "['Inflexion Analytix Private Limited',\n",
       " 'GlaxoSmithKline Pharmaceuticals Limited',\n",
       " 'Allegis Services India Pvt. Ltd.',\n",
       " 'Shell India Markets Private Limited',\n",
       " 'Applied Materials',\n",
       " 'Tata Consultancy Services Ltd.',\n",
       " 'Shell India Markets Private Limited',\n",
       " 'INTERTRUSTVITEOS CORPORATE AND FUND SERVICES PVT. LTD.',\n",
       " 'Myntra Designs Pvt. Ltd.',\n",
       " 'Myntra Designs Pvt. Ltd.']"
      ]
     },
     "execution_count": 31,
     "metadata": {},
     "output_type": "execute_result"
    }
   ],
   "source": [
    "company_nameDA2 = company_nameDA1[0:10]\n",
    "company_nameDA2"
   ]
  },
  {
   "cell_type": "code",
   "execution_count": 32,
   "metadata": {},
   "outputs": [
    {
     "data": {
      "text/plain": [
       "['0-3 Yrs',\n",
       " '0-2 Yrs',\n",
       " '0-5 Yrs',\n",
       " '5-8 Yrs',\n",
       " '7-10 Yrs',\n",
       " '4-9 Yrs',\n",
       " '5-8 Yrs',\n",
       " '12-18 Yrs',\n",
       " '3-6 Yrs',\n",
       " '3-6 Yrs']"
      ]
     },
     "execution_count": 32,
     "metadata": {},
     "output_type": "execute_result"
    }
   ],
   "source": [
    "job_experienceDA2 = job_experienceDA1[0:10]\n",
    "job_experienceDA2"
   ]
  },
  {
   "cell_type": "code",
   "execution_count": 33,
   "metadata": {},
   "outputs": [],
   "source": [
    "#creating tables"
   ]
  },
  {
   "cell_type": "code",
   "execution_count": 34,
   "metadata": {},
   "outputs": [],
   "source": [
    "Data_Analyst = pd.DataFrame({})"
   ]
  },
  {
   "cell_type": "code",
   "execution_count": 35,
   "metadata": {},
   "outputs": [],
   "source": [
    "Data_Analyst[\"Job Title\"] = job_titlesDA2\n",
    "Data_Analyst[\"Job Location\"] = job_locationDA2\n",
    "Data_Analyst[\"Company Name\"] = company_nameDA2\n",
    "Data_Analyst[\"Experience\"] = job_experienceDA2"
   ]
  },
  {
   "cell_type": "code",
   "execution_count": 36,
   "metadata": {},
   "outputs": [
    {
     "data": {
      "text/html": [
       "<div>\n",
       "<style scoped>\n",
       "    .dataframe tbody tr th:only-of-type {\n",
       "        vertical-align: middle;\n",
       "    }\n",
       "\n",
       "    .dataframe tbody tr th {\n",
       "        vertical-align: top;\n",
       "    }\n",
       "\n",
       "    .dataframe thead th {\n",
       "        text-align: right;\n",
       "    }\n",
       "</style>\n",
       "<table border=\"1\" class=\"dataframe\">\n",
       "  <thead>\n",
       "    <tr style=\"text-align: right;\">\n",
       "      <th></th>\n",
       "      <th>Job Title</th>\n",
       "      <th>Job Location</th>\n",
       "      <th>Company Name</th>\n",
       "      <th>Experience</th>\n",
       "    </tr>\n",
       "  </thead>\n",
       "  <tbody>\n",
       "    <tr>\n",
       "      <th>0</th>\n",
       "      <td>Data Scientist / Data Analyst -Business Analyst</td>\n",
       "      <td>Mumbai, Hyderabad/Secunderabad, Pune, Gurgaon/...</td>\n",
       "      <td>Inflexion Analytix Private Limited</td>\n",
       "      <td>0-3 Yrs</td>\n",
       "    </tr>\n",
       "    <tr>\n",
       "      <th>1</th>\n",
       "      <td>Data Analyst</td>\n",
       "      <td>Bangalore/Bengaluru</td>\n",
       "      <td>GlaxoSmithKline Pharmaceuticals Limited</td>\n",
       "      <td>0-2 Yrs</td>\n",
       "    </tr>\n",
       "    <tr>\n",
       "      <th>2</th>\n",
       "      <td>Hiring Data Analysts For E commerce Platform |...</td>\n",
       "      <td>Bangalore/Bengaluru</td>\n",
       "      <td>Allegis Services India Pvt. Ltd.</td>\n",
       "      <td>0-5 Yrs</td>\n",
       "    </tr>\n",
       "    <tr>\n",
       "      <th>3</th>\n",
       "      <td>Data Analyst</td>\n",
       "      <td>Bangalore/Bengaluru</td>\n",
       "      <td>Shell India Markets Private Limited</td>\n",
       "      <td>5-8 Yrs</td>\n",
       "    </tr>\n",
       "    <tr>\n",
       "      <th>4</th>\n",
       "      <td>Data Analyst</td>\n",
       "      <td>Bangalore/Bengaluru</td>\n",
       "      <td>Applied Materials</td>\n",
       "      <td>7-10 Yrs</td>\n",
       "    </tr>\n",
       "    <tr>\n",
       "      <th>5</th>\n",
       "      <td>DA - Urgent Opening For Data Analyst BFSI Doma...</td>\n",
       "      <td>Kolkata, Hyderabad/Secunderabad, Pune, Ahmedab...</td>\n",
       "      <td>Tata Consultancy Services Ltd.</td>\n",
       "      <td>4-9 Yrs</td>\n",
       "    </tr>\n",
       "    <tr>\n",
       "      <th>6</th>\n",
       "      <td>Data Analyst</td>\n",
       "      <td>Bangalore/Bengaluru</td>\n",
       "      <td>Shell India Markets Private Limited</td>\n",
       "      <td>5-8 Yrs</td>\n",
       "    </tr>\n",
       "    <tr>\n",
       "      <th>7</th>\n",
       "      <td>Assistant Vice President - MIS &amp; Reporting ( B...</td>\n",
       "      <td>Mumbai, Bangalore/Bengaluru</td>\n",
       "      <td>INTERTRUSTVITEOS CORPORATE AND FUND SERVICES P...</td>\n",
       "      <td>12-18 Yrs</td>\n",
       "    </tr>\n",
       "    <tr>\n",
       "      <th>8</th>\n",
       "      <td>Data Analyst</td>\n",
       "      <td>Bangalore/Bengaluru</td>\n",
       "      <td>Myntra Designs Pvt. Ltd.</td>\n",
       "      <td>3-6 Yrs</td>\n",
       "    </tr>\n",
       "    <tr>\n",
       "      <th>9</th>\n",
       "      <td>Data Analyst</td>\n",
       "      <td>Bangalore/Bengaluru</td>\n",
       "      <td>Myntra Designs Pvt. Ltd.</td>\n",
       "      <td>3-6 Yrs</td>\n",
       "    </tr>\n",
       "  </tbody>\n",
       "</table>\n",
       "</div>"
      ],
      "text/plain": [
       "                                           Job Title  \\\n",
       "0    Data Scientist / Data Analyst -Business Analyst   \n",
       "1                                       Data Analyst   \n",
       "2  Hiring Data Analysts For E commerce Platform |...   \n",
       "3                                       Data Analyst   \n",
       "4                                       Data Analyst   \n",
       "5  DA - Urgent Opening For Data Analyst BFSI Doma...   \n",
       "6                                       Data Analyst   \n",
       "7  Assistant Vice President - MIS & Reporting ( B...   \n",
       "8                                       Data Analyst   \n",
       "9                                       Data Analyst   \n",
       "\n",
       "                                        Job Location  \\\n",
       "0  Mumbai, Hyderabad/Secunderabad, Pune, Gurgaon/...   \n",
       "1                                Bangalore/Bengaluru   \n",
       "2                                Bangalore/Bengaluru   \n",
       "3                                Bangalore/Bengaluru   \n",
       "4                                Bangalore/Bengaluru   \n",
       "5  Kolkata, Hyderabad/Secunderabad, Pune, Ahmedab...   \n",
       "6                                Bangalore/Bengaluru   \n",
       "7                        Mumbai, Bangalore/Bengaluru   \n",
       "8                                Bangalore/Bengaluru   \n",
       "9                                Bangalore/Bengaluru   \n",
       "\n",
       "                                        Company Name Experience  \n",
       "0                 Inflexion Analytix Private Limited    0-3 Yrs  \n",
       "1            GlaxoSmithKline Pharmaceuticals Limited    0-2 Yrs  \n",
       "2                   Allegis Services India Pvt. Ltd.    0-5 Yrs  \n",
       "3                Shell India Markets Private Limited    5-8 Yrs  \n",
       "4                                  Applied Materials   7-10 Yrs  \n",
       "5                     Tata Consultancy Services Ltd.    4-9 Yrs  \n",
       "6                Shell India Markets Private Limited    5-8 Yrs  \n",
       "7  INTERTRUSTVITEOS CORPORATE AND FUND SERVICES P...  12-18 Yrs  \n",
       "8                           Myntra Designs Pvt. Ltd.    3-6 Yrs  \n",
       "9                           Myntra Designs Pvt. Ltd.    3-6 Yrs  "
      ]
     },
     "execution_count": 36,
     "metadata": {},
     "output_type": "execute_result"
    }
   ],
   "source": [
    "Data_Analyst"
   ]
  },
  {
   "cell_type": "code",
   "execution_count": 718,
   "metadata": {},
   "outputs": [],
   "source": [
    "#Done"
   ]
  },
  {
   "cell_type": "markdown",
   "metadata": {},
   "source": [
    "# Question no.2"
   ]
  },
  {
   "cell_type": "code",
   "execution_count": 153,
   "metadata": {},
   "outputs": [],
   "source": [
    "drivers.get(url)"
   ]
  },
  {
   "cell_type": "code",
   "execution_count": 154,
   "metadata": {},
   "outputs": [],
   "source": [
    "search_jobsDS = drivers.find_element_by_id(\"qsb-keyword-sugg\")"
   ]
  },
  {
   "cell_type": "code",
   "execution_count": 155,
   "metadata": {},
   "outputs": [],
   "source": [
    "search_locationsDS = drivers.find_element_by_id(\"qsb-location-sugg\")"
   ]
  },
  {
   "cell_type": "code",
   "execution_count": 156,
   "metadata": {},
   "outputs": [],
   "source": [
    "search_btuttonDS = drivers.find_element_by_xpath(\"//button[@class = 'btn']\")"
   ]
  },
  {
   "cell_type": "code",
   "execution_count": 157,
   "metadata": {},
   "outputs": [],
   "source": [
    "search_jobsDS.send_keys(\"Data Scientist\")"
   ]
  },
  {
   "cell_type": "code",
   "execution_count": 158,
   "metadata": {},
   "outputs": [],
   "source": [
    "search_locationsDS.send_keys(\"Bangalore\")"
   ]
  },
  {
   "cell_type": "code",
   "execution_count": 159,
   "metadata": {},
   "outputs": [],
   "source": [
    "search_btuttonDS.click()"
   ]
  },
  {
   "cell_type": "markdown",
   "metadata": {},
   "source": [
    "job-title, job-location, company_name, full job-description"
   ]
  },
  {
   "cell_type": "code",
   "execution_count": 160,
   "metadata": {},
   "outputs": [],
   "source": [
    "job_titlesDS = drivers.find_elements_by_xpath(\"//a[@class = 'title fw500 ellipsis']\")"
   ]
  },
  {
   "cell_type": "code",
   "execution_count": 161,
   "metadata": {},
   "outputs": [
    {
     "data": {
      "text/plain": [
       "[<selenium.webdriver.remote.webelement.WebElement (session=\"89134fcdf68a56c32f0c23e738d3aa41\", element=\"6f0de450-b9d1-4ff1-8ab4-e945f399deb2\")>,\n",
       " <selenium.webdriver.remote.webelement.WebElement (session=\"89134fcdf68a56c32f0c23e738d3aa41\", element=\"44402c28-e220-4eb5-8910-e4f41c9ce0be\")>,\n",
       " <selenium.webdriver.remote.webelement.WebElement (session=\"89134fcdf68a56c32f0c23e738d3aa41\", element=\"9afd1e6b-086e-48f7-992d-8e3f1689cd2e\")>,\n",
       " <selenium.webdriver.remote.webelement.WebElement (session=\"89134fcdf68a56c32f0c23e738d3aa41\", element=\"e7dec269-67e6-4e09-8a0e-157caa755ca4\")>,\n",
       " <selenium.webdriver.remote.webelement.WebElement (session=\"89134fcdf68a56c32f0c23e738d3aa41\", element=\"158c294d-1650-448a-a44a-bd7a544cc52c\")>,\n",
       " <selenium.webdriver.remote.webelement.WebElement (session=\"89134fcdf68a56c32f0c23e738d3aa41\", element=\"cc698523-38fe-424a-a668-362092c55724\")>,\n",
       " <selenium.webdriver.remote.webelement.WebElement (session=\"89134fcdf68a56c32f0c23e738d3aa41\", element=\"5c300861-f092-461f-a94e-ca6c1ad03da6\")>,\n",
       " <selenium.webdriver.remote.webelement.WebElement (session=\"89134fcdf68a56c32f0c23e738d3aa41\", element=\"926dfc39-9d9a-404d-8a6f-7c8f721438b7\")>,\n",
       " <selenium.webdriver.remote.webelement.WebElement (session=\"89134fcdf68a56c32f0c23e738d3aa41\", element=\"602364f3-65e7-43c6-ad3c-b3ec10df056b\")>,\n",
       " <selenium.webdriver.remote.webelement.WebElement (session=\"89134fcdf68a56c32f0c23e738d3aa41\", element=\"5aece9b9-0af4-4142-9679-4dc3dec0d7c4\")>,\n",
       " <selenium.webdriver.remote.webelement.WebElement (session=\"89134fcdf68a56c32f0c23e738d3aa41\", element=\"17599f56-244e-446a-825a-a603c64528ed\")>,\n",
       " <selenium.webdriver.remote.webelement.WebElement (session=\"89134fcdf68a56c32f0c23e738d3aa41\", element=\"9e5047d0-de0e-4b60-a344-ce08e2be4024\")>,\n",
       " <selenium.webdriver.remote.webelement.WebElement (session=\"89134fcdf68a56c32f0c23e738d3aa41\", element=\"aa8f7f0e-b4f3-4e92-b778-8ccc49eecfd8\")>,\n",
       " <selenium.webdriver.remote.webelement.WebElement (session=\"89134fcdf68a56c32f0c23e738d3aa41\", element=\"7c01033e-116f-486e-9810-f89947c46be6\")>,\n",
       " <selenium.webdriver.remote.webelement.WebElement (session=\"89134fcdf68a56c32f0c23e738d3aa41\", element=\"20d5bb83-5887-4a7e-9ab7-8ff9934dc959\")>,\n",
       " <selenium.webdriver.remote.webelement.WebElement (session=\"89134fcdf68a56c32f0c23e738d3aa41\", element=\"821b8e48-2c6f-4e62-bac8-8f425412ce24\")>,\n",
       " <selenium.webdriver.remote.webelement.WebElement (session=\"89134fcdf68a56c32f0c23e738d3aa41\", element=\"39e7f6b9-aa48-4dec-a860-d82de50525ea\")>,\n",
       " <selenium.webdriver.remote.webelement.WebElement (session=\"89134fcdf68a56c32f0c23e738d3aa41\", element=\"24559ceb-c159-48f1-808b-06ffdc6bf72c\")>,\n",
       " <selenium.webdriver.remote.webelement.WebElement (session=\"89134fcdf68a56c32f0c23e738d3aa41\", element=\"4479ccaf-fd75-40b8-931b-d9f902e2238b\")>,\n",
       " <selenium.webdriver.remote.webelement.WebElement (session=\"89134fcdf68a56c32f0c23e738d3aa41\", element=\"beb077cf-9c49-4a43-89ec-f0690e969ba8\")>]"
      ]
     },
     "execution_count": 161,
     "metadata": {},
     "output_type": "execute_result"
    }
   ],
   "source": [
    "job_titlesDS"
   ]
  },
  {
   "cell_type": "code",
   "execution_count": 162,
   "metadata": {},
   "outputs": [
    {
     "data": {
      "text/plain": [
       "['Data Scientist / Data Analyst -Business Analyst',\n",
       " 'Senior Data Scientist | CES IT LTD | CMMI Level 5',\n",
       " 'Senior Data Scientist | CES IT LTD | CMMI Level 5',\n",
       " 'Analytics & AI Product Mgmt - Sr. Data Scientist',\n",
       " 'Senior Data Scientist',\n",
       " 'Senior Data Scientist, Modeling',\n",
       " 'Data Scientist - IBM Garage',\n",
       " 'Data Scientist',\n",
       " 'Data Scientist',\n",
       " 'Senior Data Scientist - Credit risk',\n",
       " 'SDE Lead Data Scientist-L3',\n",
       " 'Computational Design Lead Data Scientist-L3',\n",
       " 'Data Scientist',\n",
       " 'Lead Data Scientist',\n",
       " 'Senior Data Scientist - Chatbot & NLP',\n",
       " 'Senior Data Scientist - Chatbot & NLP',\n",
       " 'Senior Data Scientist - Kinara Capital',\n",
       " 'Senior Data Scientist',\n",
       " 'Data Scientist',\n",
       " 'Data Scientist/ Senior Data Scientist']"
      ]
     },
     "execution_count": 162,
     "metadata": {},
     "output_type": "execute_result"
    }
   ],
   "source": [
    "job_titlesDS1 = []\n",
    "for i in job_titlesDS:\n",
    "    job_titlesDS1.append(i.text)\n",
    "job_titlesDS1"
   ]
  },
  {
   "cell_type": "code",
   "execution_count": 163,
   "metadata": {},
   "outputs": [
    {
     "data": {
      "text/plain": [
       "[<selenium.webdriver.remote.webelement.WebElement (session=\"89134fcdf68a56c32f0c23e738d3aa41\", element=\"61785fdb-0422-42d1-b01b-64a64631c6d2\")>,\n",
       " <selenium.webdriver.remote.webelement.WebElement (session=\"89134fcdf68a56c32f0c23e738d3aa41\", element=\"68762495-8b30-4f75-9056-7de1db372286\")>,\n",
       " <selenium.webdriver.remote.webelement.WebElement (session=\"89134fcdf68a56c32f0c23e738d3aa41\", element=\"b89bae25-1a2e-464e-8f4e-78d4c8c061f6\")>,\n",
       " <selenium.webdriver.remote.webelement.WebElement (session=\"89134fcdf68a56c32f0c23e738d3aa41\", element=\"4d54087e-8f01-4616-8b11-8e05128675a0\")>,\n",
       " <selenium.webdriver.remote.webelement.WebElement (session=\"89134fcdf68a56c32f0c23e738d3aa41\", element=\"0754997a-74f4-4041-b89f-5793759c7c6e\")>,\n",
       " <selenium.webdriver.remote.webelement.WebElement (session=\"89134fcdf68a56c32f0c23e738d3aa41\", element=\"1937191c-65aa-4d78-b964-e86c61c4ef5f\")>,\n",
       " <selenium.webdriver.remote.webelement.WebElement (session=\"89134fcdf68a56c32f0c23e738d3aa41\", element=\"0388f686-b9dd-436a-b967-5cbc51f86f9d\")>,\n",
       " <selenium.webdriver.remote.webelement.WebElement (session=\"89134fcdf68a56c32f0c23e738d3aa41\", element=\"8285aab7-9be4-41a4-b1c3-1a6f4fc9f771\")>,\n",
       " <selenium.webdriver.remote.webelement.WebElement (session=\"89134fcdf68a56c32f0c23e738d3aa41\", element=\"3d44e547-778a-42de-8c77-686791aa76ca\")>,\n",
       " <selenium.webdriver.remote.webelement.WebElement (session=\"89134fcdf68a56c32f0c23e738d3aa41\", element=\"d9607818-f3bc-47f6-94a0-1b6ed2ebdf08\")>,\n",
       " <selenium.webdriver.remote.webelement.WebElement (session=\"89134fcdf68a56c32f0c23e738d3aa41\", element=\"b432c005-b3a3-49b7-b8ad-5984fd8c93c3\")>,\n",
       " <selenium.webdriver.remote.webelement.WebElement (session=\"89134fcdf68a56c32f0c23e738d3aa41\", element=\"1fadad85-2b71-4035-bc4a-298bdc654de1\")>,\n",
       " <selenium.webdriver.remote.webelement.WebElement (session=\"89134fcdf68a56c32f0c23e738d3aa41\", element=\"3727b5fa-5f08-4fdd-b2ba-f8bd2a9ab736\")>,\n",
       " <selenium.webdriver.remote.webelement.WebElement (session=\"89134fcdf68a56c32f0c23e738d3aa41\", element=\"78cd3b65-a97a-418d-be25-39d7b9a23d8a\")>,\n",
       " <selenium.webdriver.remote.webelement.WebElement (session=\"89134fcdf68a56c32f0c23e738d3aa41\", element=\"30e2241c-6378-4539-aebb-7249d80ce632\")>,\n",
       " <selenium.webdriver.remote.webelement.WebElement (session=\"89134fcdf68a56c32f0c23e738d3aa41\", element=\"d0bbc73b-ffc1-4bb0-b28c-5460ed461ab7\")>,\n",
       " <selenium.webdriver.remote.webelement.WebElement (session=\"89134fcdf68a56c32f0c23e738d3aa41\", element=\"eb812a9c-fd8f-49cd-a034-99d713403269\")>,\n",
       " <selenium.webdriver.remote.webelement.WebElement (session=\"89134fcdf68a56c32f0c23e738d3aa41\", element=\"28afd95a-0fc2-4090-86c2-76fe794f0d78\")>,\n",
       " <selenium.webdriver.remote.webelement.WebElement (session=\"89134fcdf68a56c32f0c23e738d3aa41\", element=\"2ff11a6d-7233-4ffd-808a-812968e8f690\")>,\n",
       " <selenium.webdriver.remote.webelement.WebElement (session=\"89134fcdf68a56c32f0c23e738d3aa41\", element=\"afa61534-32c5-4f98-86a1-c282f6cc97ed\")>]"
      ]
     },
     "execution_count": 163,
     "metadata": {},
     "output_type": "execute_result"
    }
   ],
   "source": [
    "job_locationDS = drivers.find_elements_by_xpath(\"//li[@class = 'fleft grey-text br2 placeHolderLi location']//span\")\n",
    "job_locationDS"
   ]
  },
  {
   "cell_type": "code",
   "execution_count": 164,
   "metadata": {},
   "outputs": [
    {
     "data": {
      "text/plain": [
       "['Mumbai, Hyderabad/Secunderabad, Pune, Gurgaon/Gurugram, Chennai, Bangalore/Bengaluru',\n",
       " 'Kolkata, Mumbai, Hyderabad/Secunderabad, Pune, Chennai, Bangalore/Bengaluru, Delhi / NCR',\n",
       " 'Kolkata, Mumbai, Hyderabad/Secunderabad, Pune, Chennai, Bangalore/Bengaluru, Delhi / NCR',\n",
       " 'Bangalore/Bengaluru',\n",
       " 'Pune, Chennai, Bangalore/Bengaluru',\n",
       " 'Kolkata, Gurgaon/Gurugram, Bangalore/Bengaluru, Vadodara, Mumbai (All Areas)',\n",
       " 'Noida, Hyderabad/Secunderabad, Bangalore/Bengaluru',\n",
       " 'Noida, Hyderabad/Secunderabad, Bangalore/Bengaluru',\n",
       " 'Noida, Hyderabad/Secunderabad, Bangalore/Bengaluru',\n",
       " 'Bangalore/Bengaluru',\n",
       " 'Bangalore/Bengaluru',\n",
       " 'Bangalore/Bengaluru',\n",
       " 'Bangalore/Bengaluru',\n",
       " 'Bangalore/Bengaluru',\n",
       " 'Bangalore/Bengaluru',\n",
       " 'Bangalore/Bengaluru',\n",
       " 'Bangalore/Bengaluru',\n",
       " 'Bangalore/Bengaluru',\n",
       " 'Bangalore/Bengaluru',\n",
       " 'Bangalore/Bengaluru']"
      ]
     },
     "execution_count": 164,
     "metadata": {},
     "output_type": "execute_result"
    }
   ],
   "source": [
    "job_locationDS1 = []\n",
    "for i in job_locationDS:\n",
    "    job_locationDS1.append(i.text)\n",
    "job_locationDS1"
   ]
  },
  {
   "cell_type": "code",
   "execution_count": 165,
   "metadata": {},
   "outputs": [
    {
     "data": {
      "text/plain": [
       "[<selenium.webdriver.remote.webelement.WebElement (session=\"89134fcdf68a56c32f0c23e738d3aa41\", element=\"33d5f51b-1fb6-434b-ba43-d4e498268e09\")>,\n",
       " <selenium.webdriver.remote.webelement.WebElement (session=\"89134fcdf68a56c32f0c23e738d3aa41\", element=\"cde50619-9d20-45e1-a242-907e5a2d7b5e\")>,\n",
       " <selenium.webdriver.remote.webelement.WebElement (session=\"89134fcdf68a56c32f0c23e738d3aa41\", element=\"392ae410-4807-4253-8128-656750d57430\")>,\n",
       " <selenium.webdriver.remote.webelement.WebElement (session=\"89134fcdf68a56c32f0c23e738d3aa41\", element=\"42b59c40-f63e-47ae-b601-378603266033\")>,\n",
       " <selenium.webdriver.remote.webelement.WebElement (session=\"89134fcdf68a56c32f0c23e738d3aa41\", element=\"6cb48436-c67f-48fc-9785-2d68cc97f24d\")>,\n",
       " <selenium.webdriver.remote.webelement.WebElement (session=\"89134fcdf68a56c32f0c23e738d3aa41\", element=\"d983921c-5103-4690-8342-9a8a5b7c4226\")>,\n",
       " <selenium.webdriver.remote.webelement.WebElement (session=\"89134fcdf68a56c32f0c23e738d3aa41\", element=\"5f0d6786-238d-4224-9fbc-527b0ad55071\")>,\n",
       " <selenium.webdriver.remote.webelement.WebElement (session=\"89134fcdf68a56c32f0c23e738d3aa41\", element=\"af03aa85-7c18-416b-8d24-f63dbed38387\")>,\n",
       " <selenium.webdriver.remote.webelement.WebElement (session=\"89134fcdf68a56c32f0c23e738d3aa41\", element=\"ba7a73f6-ba6d-43a9-90ef-e77d11eb6aa3\")>,\n",
       " <selenium.webdriver.remote.webelement.WebElement (session=\"89134fcdf68a56c32f0c23e738d3aa41\", element=\"3c5fb2fe-6fb2-4603-a015-9f9bf4c36173\")>,\n",
       " <selenium.webdriver.remote.webelement.WebElement (session=\"89134fcdf68a56c32f0c23e738d3aa41\", element=\"46a2543f-5045-4b3a-97db-c0d4e6107124\")>,\n",
       " <selenium.webdriver.remote.webelement.WebElement (session=\"89134fcdf68a56c32f0c23e738d3aa41\", element=\"92ad175a-a7bb-4983-a4fe-00f5218caaa0\")>,\n",
       " <selenium.webdriver.remote.webelement.WebElement (session=\"89134fcdf68a56c32f0c23e738d3aa41\", element=\"c805bebd-e36e-4290-9161-93506b9b83f9\")>,\n",
       " <selenium.webdriver.remote.webelement.WebElement (session=\"89134fcdf68a56c32f0c23e738d3aa41\", element=\"aa9508f8-58b4-43a8-8b2c-73a06aaec61a\")>,\n",
       " <selenium.webdriver.remote.webelement.WebElement (session=\"89134fcdf68a56c32f0c23e738d3aa41\", element=\"d1c76ee0-2343-449b-9986-12be1ce5c6cb\")>,\n",
       " <selenium.webdriver.remote.webelement.WebElement (session=\"89134fcdf68a56c32f0c23e738d3aa41\", element=\"2c13a2bc-6150-4e6c-9ba8-3cee6abf0604\")>,\n",
       " <selenium.webdriver.remote.webelement.WebElement (session=\"89134fcdf68a56c32f0c23e738d3aa41\", element=\"ff155c49-ce8d-492d-9eae-49baa81ef493\")>,\n",
       " <selenium.webdriver.remote.webelement.WebElement (session=\"89134fcdf68a56c32f0c23e738d3aa41\", element=\"a65593f2-136f-43cb-8779-3e895f9cb908\")>,\n",
       " <selenium.webdriver.remote.webelement.WebElement (session=\"89134fcdf68a56c32f0c23e738d3aa41\", element=\"c09dfe44-78cf-4e64-a91c-ea2134caec30\")>,\n",
       " <selenium.webdriver.remote.webelement.WebElement (session=\"89134fcdf68a56c32f0c23e738d3aa41\", element=\"618043ed-396c-4166-a085-2024d243863d\")>]"
      ]
     },
     "execution_count": 165,
     "metadata": {},
     "output_type": "execute_result"
    }
   ],
   "source": [
    "company_nameDS = drivers.find_elements_by_xpath(\"//a[@class = 'subTitle ellipsis fleft']\")\n",
    "company_nameDS"
   ]
  },
  {
   "cell_type": "code",
   "execution_count": 166,
   "metadata": {},
   "outputs": [
    {
     "data": {
      "text/plain": [
       "['Inflexion Analytix Private Limited',\n",
       " 'CES Ltd.',\n",
       " 'CES Ltd.',\n",
       " 'GlaxoSmithKline Pharmaceuticals Limited',\n",
       " 'Vijaya Management Services',\n",
       " 'Nielsen',\n",
       " 'IBM India Pvt. Limited',\n",
       " 'IBM India Pvt. Limited',\n",
       " 'IBM India Pvt. Limited',\n",
       " 'Scienaptic Systems',\n",
       " 'Huawei Technologies India Pvt Ltd',\n",
       " 'Huawei Technologies India Pvt Ltd',\n",
       " 'IBM India Pvt. Limited',\n",
       " 'Intel Technology India Pvt Ltd',\n",
       " 'Gojek Tech',\n",
       " 'GO-JEK India',\n",
       " 'Kinara Financial Private Limited',\n",
       " 'Superior Group',\n",
       " 'Applied Materials',\n",
       " 'o9 Solutions Management India Private Limited']"
      ]
     },
     "execution_count": 166,
     "metadata": {},
     "output_type": "execute_result"
    }
   ],
   "source": [
    "company_nameDS1 = []\n",
    "for i in company_nameDS:\n",
    "    company_nameDS1.append(i.text)\n",
    "company_nameDS1"
   ]
  },
  {
   "cell_type": "code",
   "execution_count": 169,
   "metadata": {},
   "outputs": [],
   "source": [
    "from selenium.common.exceptions import StaleElementReferenceException, NoSuchElementException\n",
    "\n",
    "import time\n",
    "\n",
    "urls = []\n",
    "\n",
    "full_job_description = []\n",
    "\n",
    "job_link = drivers.find_elements_by_xpath(\"//a[@class='title fw500 ellipsis']\")\n",
    "\n",
    "for i in job_link:\n",
    "\n",
    "    urls.append(i.get_attribute(\"href\"))\n",
    "\n",
    "\n",
    "\n",
    "time.sleep(3)\n",
    "\n",
    "for url in urls:\n",
    "\n",
    "    try:\n",
    "\n",
    "        \n",
    "\n",
    "        drivers.get(url)\n",
    "\n",
    "        full_job_description.append(drivers.find_element_by_xpath(\"//section[@class='job-desc']/div[1]\").text)\n",
    "\n",
    "    except NoSuchElementException :\n",
    "\n",
    "        full_job_description.append(\"---\")"
   ]
  },
  {
   "cell_type": "code",
   "execution_count": 170,
   "metadata": {},
   "outputs": [
    {
     "data": {
      "text/plain": [
       "[\"Job Role : Data Scientist/Data Analyst /Business Analyst\\n\\nLocation : Chennai/Bangalore/Hyderabad/Pune/Mumbai/Delhi\\n\\nGreetings from CAIA - Center for Artificial Intelligence & Advanced Analytics\\n43% of companies experienced a high deficit of skilled resources with Advanced Analytical skills and AI implementing capabilities in year 2020. CAIA gives you a great opportunity to enter the world of future technologies and Innovations- Data Science, Analytics, AI, Data Visualization and Cloud Computing.\\n\\nWhile 2020 was a year like no other, we are living in an interesting times where data is reshaping the world, and businesses are rapidly adopting technology to gain an edge over others. Hence, there's a substantial increase in demand for technology professionals who can implement systems in data science, machine learning and AI in Tier 1 and Tier 2 organization's working closely with us.\\n\\nTo help you build a sustainable career we would like you to utilize data, software and Analytical approaches in Data Science and AI to up skill and get recruited into an organization appreciating your skilling journey.\\nApplications invited from all Freshers and experienced candidates (0-3 yrs) aspiring to make a career in Artificial Intelligence and Advanced Analytics and Data Science.\\nIf you wish to make a shift in your career or undergo a career transition, upskilling is essential since it allows you to learn more about the domain and acquire the required skills.\\n\\nCall to schedule interview Monday -Saturday from 10:00 am to 7Pm\\n\\nManigandan -+91 7299917200\\n\\nEmail : manigandan@centerforaia.com\\n\\nWhat is needed from you?\\n\\nFreshers who wish to start their career in Analytics and AI and professionals who wish to\\nupskill or change their domain to analytics and emerging technologies are free to apply.\\nAn Educational background in any one of the following- BE/B.Tech, ME/M Tech, MSc, BSc/MSc Maths and Statistics, B Com, BCA, BSc CS, BSC IT, MSC IT, MCA\\nSkills relating to Mathematics/Statistics.\\nNatural passion towards numbers, business, coding, Analytics and Artificial Intelligence, Machine Learning, visualization\\nGood verbal and written communication skills\\nAbility to understand domains in businesses across various sectors\\n\\n\\nSelection procedure includes\\n\\nAptitude Test & Communication Exam - Online / Offline\\nSQL/Python test - Online / Offline\\n\\nCandidates who clears the above will have one-one discussion with our Career Guidance Manager for further evaluation and processing of your Resume.\\n\\n\\nAll the Shortlisted candidates will be eligible to continue the corporate training with CAIA\\nWhat you can expect from us?\\n\\nYou will get trained on the following modules for a period of 12-14 weeks:\\n\\nSQL & PLSQL\\nData Wrangling using Python\\nData Visualization Using Power-BI\\nStatistics for Machine Learning\\nArtificial Intelligence, Data Interpretation\\nSupervised & Unsupervised Learning,\\nNLP & Deep Learning\\nCloud Data Lake\\nBusiness intelligence & Data Visualization\\nSimulation Projects\\nExpected Outcome?\\n\\nAt the end of the Training you are expected to be well versed with the following:\\n\\nAnalysis of large and complex data sets from multiple sources\\nDevelopment and evaluation of data analytics models, algorithms and solutions\\nUnderstanding/implementation of ML algorithms, performance tuning and reporting\\nImplementation of algorithms to mine targeted data and the ability to convert data in to a business story\\nTranslation of business requirements into technical requirements; Data extraction, preparation and transformation\\nIdentification, development and implementation of statistical techniques and algorithms that address business challenges and adds value to the organization\\nRequirement Analysis and communication of findings in the form of a meaningful story with the stakeholders\\nFinding analytical solutions to abstract business issues.\\nApply objective analysis of facts before coming to a conclusion\\n\\nAbout CAIA - Inflexion Analytix Private Limited\\n\\nCenter for Artificial Intelligence and Advanced Analytics (Center for AIA) is the brainchild of experienced and visionary alumni of IIT Madras and Bombay.\\nDigital leaders - 5F World and Systech Solutions have joined hands to create a venture for architecting the future of society, workforce, governments and businesses. 5F World specializes in designing solutions around digital platforms and Systech Solutions has an expertise in architecting Artificial Intelligence and Advance Analytics solutions for Fortune 500 companies.\\nOur Website : http://www.centerforaia.com/\\n\\nhttps://inflexion-analytix-private-limited.business.site/?m=true\\n\\nCenter for Artificial Intelligence & Advanced Analytics (CAIA) focuses on the following:\\n\\n1. Global Research on emerging trends, technologies and applications in AI and Advanced Analytics\\n2. Advanced Training programs for readying the future ready workforce\\n3. Solutions to herald the futuristic lifestyle and workspaces in the field of AI and Data Science.\",\n",
       " 'Roles and Responsibilities\\n\\nMandatory Skills\\n- Python Programming\\n- Strong OOPS Concepts\\n- Strong knowledge in CS fundamentals - Datastructures, algorithm design & Problem-solving\\n- Experience in workflow management platforms like - Apache Airflow, pachyderm, MLFlow\\n- AWS Lambda, Step Functions, State Machines, setting up data pipelines.\\n- Must have experience in working in a Rapid Prototyping environment. Be able to take the initiative and work with minimum guidance and requirements.\\nNice to Have\\nExperience in Machine Learning - Pandas, Scikit-Learn, EDA, PCA, other Data preprocessing techniques\\nExperience in any Infrastructure as code platform like Terraform, AWS CloudFormation.\\nOther Pre-Requisites\\nMust be extremely detail and technology-oriented and possess excellent communications skills.\\nMust have experience and be willing to work in a Rapid Prototyping environment as well.\\nProactive, driven individual with a strong work ethics\\nMust be able to take complete ownership of tasks in the project.\\nPassion for achieving excellence in technical, process, product quality and reliability.\\nStrong in troubleshooting and root cause analysis abilities\\nPerks and Benefits\\n\\nKindly share your resume to kandavelkumar.lakshmanan @cesltd.com',\n",
       " 'Roles and Responsibilities\\n\\nMandatory Skills\\n- Python Programming\\n- Strong OOPS Concepts\\n- Strong knowledge in CS fundamentals - Datastructures, algorithm design & Problem-solving\\n- Experience in workflow management platforms like - Apache Airflow, pachyderm, MLFlow\\n- AWS Lambda, Step Functions, State Machines, setting up data pipelines.\\n- Must have experience in working in a Rapid Prototyping environment. Be able to take the initiative and work with minimum guidance and requirements.\\nNice to Have\\nExperience in Machine Learning - Pandas, Scikit-Learn, EDA, PCA, other Data preprocessing techniques\\nExperience in any Infrastructure as code platform like Terraform, AWS CloudFormation.\\nOther Pre-Requisites\\nMust be extremely detail and technology-oriented and possess excellent communications skills.\\nMust have experience and be willing to work in a Rapid Prototyping environment as well.\\nProactive, driven individual with a strong work ethics\\nMust be able to take complete ownership of tasks in the project.\\nPassion for achieving excellence in technical, process, product quality and reliability.\\nStrong in troubleshooting and root cause analysis abilities\\nPerks and Benefits\\n\\nKindly share your resume to kandavelkumar.lakshmanan @cesltd.com',\n",
       " '---',\n",
       " '.\\nRoles and Responsibilities\\nAnalyze structured and unstructured data at scale to derive new insights and opportunities.\\nBuild and validate predictive models.\\nAdvise clients and project teams on leading data science practices.\\nCreate data-driven business recommendations.\\nContribute to internal research and development efforts in cutting edge areas including NLP, graph analytics, and deep learning / AI.\\nSkills and attributes for success\\nFostering an innovative and inclusive team-oriented work environment\\nLeading and coaching diverse teams of professionals with different backgrounds\\nDemonstrating in-depth technical capabilities and professional knowledge\\nEstablishing strong relationships with the clients\\nWorking in an entrepreneurial environment to pave your own career path\\n\\n\\nDesired Candidate Profile\\n\\nA MSc in a technical field like Computer Science, Econometrics, Mathematics, Engineering, or a related field .\\n3+ years practical experience with advanced machine learning techniques and big data technologies.\\n3+ years working with data and relevant computational frameworks and systems.\\nAn understanding of the latest industry developments in Big Data and AI such as graph databases, Natural Language Processing, and neural networks.\\nA thorough understanding of common languages and libraries used in machine learning (such as Spark or Python. Experience with big data tools, Hive, Databricks, Neo4j, etc. a plus)\\nExcellent business, communication, and presentation skills (experience in health insurance services domains a plus, but not required)\\nThe ability to translate complex information into non-technical, easy to understand language.\\nIdeally, you will also have\\nA PhD in a technical field like Computer Science, Econometrics, Mathematics, Engineering, or a related field\\nPerks and Benefits\\nAnnual CTC: Rupees 5,00,000 to 15,00,000 (willing to pay more if have good experience)',\n",
       " 'We wont say we can predict the future, but our team of Analysts get pretty close, they turn millions of data points into useful information & insights that help our clients to make better decisions on their marketing mix and achieve superior results. Be part of the future and join in on one of the major transformations in the market research industry with the integration of big data and classic marketing mix analysis.\\n\\nResponsibilities:\\nDeliver as a part of our consultant team in driving high quality results on custom project work\\nEnsure effective and timely delivery of project work\\nWork towards understanding statistical models and deliver business insights and findings\\nEnsure compliance to Marketing Mix Modeling modeling practices and company quality standards\\nMaximize the efficient and effective use of resources by utilizing appropriate processes and tools\\nTo build and maintain effective contacts with other departments to ensure the efficient and effective use of resources\\nLiaise with appropriate Marketing Mix Modeling and Nielsen departments to ensure hardware and software requirements are fulfilled\\nWork with co/ third party modellers to deliver business insights and findings\\n\\nQualifications and Skills\\n2-5 years of relevant experience\\nMasters degree in Economics, Mathematics, Statistics, Engineering\\nIn-depth understanding of statistical modeling techniques and applications\\nGood and working knowledge of any statistical languages like SAS, R, Pythons\\nSolid proficiency of decision making and problem resolution skills\\nPassion for results with a challenger mindset\\n\\nAbout the Team:\\nGlobal Product, Technology & Operations supports Nielsen Medias growth strategy by enabling positive client and market solutions. Our Operations Team is in a unique position as the center of data collection, analysis and delivery. We deliver outcomes with the highest quality and integrity standards in an agile and transparent way while standing by our Nielsen values.',\n",
       " '---',\n",
       " '---',\n",
       " '---',\n",
       " 'Responsibilities and duties Focus on developing clear and concise analytical approach for problem solving with client partnership\\nStrong understanding of ML libraries and applications e.g. Neural Net, SVMs, boosting methods and implementation using R/Python. Should have academic paper level understanding of math e.g. linear algebra, calculus etc.\\nAbility to code on SAS/R for data munging, analysis and insights and/or languages like Python for creating efficient production ready code\\nManaging delivery of projects including timely communication, setting milestones and tracking Generating actionable insights for business/KPI improvements Ability to work independently, structure analyses and handle multiple priorities Develop and Maintaining Credit Risk Models Strategies Rich experience in at least one production ready deployment of Machine Learning algorithms is a plus. Experience in working on real life large messy dataset to solve real business problems. Kaggle experience is a plus.\\n  Skills Competencies: Experience in Financial Services/ Fintech/ BFSI along with Credit Risk in Retail Banking and Data Science 5 years of experience in building predictive models (Application Scorecard, Behaviour Scorecard, Collection Score Card, Loan Pricing, Loss Forecasting, Cross Sell Model) Experienced Statistical software skills (e.g. SAS, R, Python Strong understanding of ML libraries and applications. Strong experience in leading credit risk model development, validation, deployment, and documentation Analytically oriented with ability to grasp complex risk management strategies, processes, models and draw insights / identify areas of opportunity\\nStrong track record of delivering on high value / critical projects. Ability to communicate with senior stakeholders crisply and confidently on findings, status, bottlenecks, and escalations\\nProven track record of delivering in a start-up environment would be a plus Strong written and oral communication skills',\n",
       " 'Business & Team overview:\\nFounded in 1987, Huawei is a leading global provider of ICT (information and communications technology) infrastructure and smart devices. We are committed to bringing digital to every person, home and organization for a fully connected, intelligent world. We have nearly 194,000 employees, and we operate in more than 170 countries and regions, serving more than 3 billion people around the world.\\n\\nHuawei Technologies has three business directions: Carrier Business Group, which provides innovative and secure network equipment to telecom carriers, including the leading 5G mobile network.\\nEnterprise Business Group, which provides facilities and solutions to big and small companies, including IT facilities.\\nConsumer Business Groups, which provides devices to the customer, including mobile phones, PC, tablet, TV, audio, glasses, watches, locomotives, and headphones. And also provide solutions on mobile offices, smart homes, sports and health, audio-visual entertainment, and smart travel products.\\n\\nThis opportunity is belong to Huawei Consumer Business Group.\\n\\nDriven by the coordinated development of \"Chip-Device-Cloud\", consumer products such as smartphones are becoming increasingly intelligent and pervasive. The era of smart services is the future.\\n\\nHuawei Ads Services is dedicated to provide Huawei end-users with high-quality digital experiences, to build a business closed-loop system for Developers and Improve the ROI for the Advertisers\\n.\\nIn 2020 Q1, along with more than 650 million users and 1,400,000 registered developers worldwide, we have the following unique advantages:\\n1. With All-scenario intelligent solution, the Huawei devices become super entrance of traffic, including mobile phones, PC, tablet, TV, audio, glasses, watches, locomotives, and head phones\\n2. This team will be responsible for building a new Ad Serving Platform and have the opportunity to define the product for our Huawei end-users.\\n3. AI-Driven is the direction of Ads, Huawei is going to build a strong team in India to Innovate and deliver AI-driven Smart Ad Serving Platforms\\n\\nJob Title: Lead Data Scientist\\nWe are looking for a Lead data scientist who will help us discover the information hidden in vast amounts of Ad Campaign data, and help us to optimize the campaign to improve the advertiser ROI and improve the overall consumer experience. Your primary focus will be in applying data mining techniques, doing statistical analysis, and building high quality prediction systems using Deep learning algorithms integrated with our products. Some the key area you will be working on spend recommendation, floor price prediction, CTR/CVR prediction, market funnel analysis and perdition of lead to conversion, etc.\\n\\nResponsibility:\\nAnalyze the data, develop insights and identify the opportunity to utilize the data to predict various Advertisement key indicators like CTR, CVR, Inventory and Develop prediction and optimization algorithms for campaign, look alike modeling, etc for Huawei Ads.\\nTakeup key challenges in AI-driven Smart Ad Serving Platform and focus on research and developing leading AI algorithms and productionize for Huawei Ads.\\nTakeup initiative in identifying the SOTA and finding key gaps in AI algorithms and develop a world leading AI algorithms for optimizing real-time Ad Serving engine. Identify and optimize the core modules such as Traffic Prediction, Optimization, Ad Targeting/Re-targeting, Ad Performance Optimization, Audience insights, Attribution, Bidding, re-ranking, and Diagnostics. Support hundreds of billions of ad requests per day, with efficiently cache technology.\\nTo build and enhance Ad platform features and Prediction capabilities in Huawei Ads Platform\\nOptimized Cost Per Mille; Optimized Cost Per Action; Optimized Cost Per Click and Cost per Click. OCPM, OCPA, OCPC.\\n\\nRequirements:\\n- Strong hands-on experience in implementing and validating big data algorithms and models including Deep Learning models like Seq2Seq/ GRU/RNN/LSTM , Knowledge Graph, Massive Graph algorithms, etc.\\n- Programming experience with Python\\n- Able to validate existing models including Deep Learning models with large scale dataset and able to make changes to the models to achieve better performance\\n- AdServing domain Experience is an added advantage',\n",
       " 'Business & Team overview:\\nFounded in 1987, Huawei is a leading global provider of ICT (information and communications technology) infrastructure and smart devices. We are committed to bringing digital to every person, home and organization for a fully connected, intelligent world. We have nearly 194,000 employees, and we operate in more than 170 countries and regions, serving more than 3 billion people around the world.\\n\\nHuawei Technologies has three business directions: Carrier Business Group, which provides innovative and secure network equipment to telecom carriers, including the leading 5G mobile network.\\nEnterprise Business Group, which provides facilities and solutions to big and small companies, including IT facilities.\\nConsumer Business Groups, which provides devices to the customer, including mobile phones, PC, tablet, TV, audio, glasses, watches, locomotives, and headphones. And also provide solutions on mobile offices, smart homes, sports and health, audio-visual entertainment, and smart travel products.\\n\\nThis opportunity is belong to Huawei Consumer Business Group.\\n\\nDriven by the coordinated development of \"Chip-Device-Cloud\", consumer products such as smartphones are becoming increasingly intelligent and pervasive. The era of smart services is the future.\\nHuawei Ads Services is dedicated to provide Huawei end-users with high-quality digital experiences, to build a business closed-loop system for Developers and Improve the ROI for the Advertisers\\n.\\nIn 2020 Q1, along with more than 650 million users and 1,400,000 registered developers worldwide, we have the following unique advantages:\\n1. With All-scenario intelligent solution, the Huawei devices become super entrance of traffic, including mobile phones, PC, tablet, TV, audio, glasses, watches, locomotives, and head phones\\n2. This team will be responsible for building a new Ad Serving Platform and have the opportunity to define the product for our Huawei end-users.\\n3. AI-Driven is the direction of Ads, Huawei is going to build a strong team in India to Innovate and deliver AI-driven Smart Ad Serving Platforms\\n\\n1. Job Title: Computational Design Lead Data Scientist\\n\\nResponsibility:\\nTake-up Key creative tools of the creative platform for Advertisers, research and develop breakthrough CNN based deep learning algorithms to solve the problem unique in the industry and productionize the algorithms, measure the ad creative performance and enhance the algorithm to ease the Ad Designer job.\\nDevelop the common AI platforms and frameworks to ease the experimentation of the Algorithms for creative Design.\\nTo build ability to understand the advertisers intent and provide creative assistance every step of creating all types of adverts\\nResponsible for intelligent identification of advertising creatives (pictures, videos) and related algorithms of content understanding.\\nResponsible for Image Synthesis, Intelligent Layout, Style Transfer, and other image processing, computing and visual processing, to improve the aesthetic level of advertising creativity.\\nResponsible for designing algorithms for suggesting how to intelligently crop and position an image for maximum effect, identify the optimal placement of text and copywriting.\\nResponsible for the algorithm and model of dynamic matching of advertising program creativity and dynamic creation of advertising content\\n\\nRequirements:\\nDeep knowledge of Computational Design\\nExperience on Intelligent composition, including image cropping, smart layout, the Gold Ratio composition, visual extension.\\nExperience computer vision models, including image/video recognition and content understanding.\\nExperience in algorithms such as image and video segmentation, separation, synthesis, and intelligent layout with engineering platform implementation capability.\\nStrong Knowledge Algorithms such as Image segmentation, object detection, Image processing (filtering, noise removal, histogram thresholding, etc.), object tracking, image transformation (affine transform, dewarping), keypoint detection/description, etc (and experience in using Computer vision Libraries)\\nStrong Knowledge in CNN, R-CNN, GAN, LSTM, GRU, Multimodal feature Learning, ASR, NLU, NLG, Copywriting and KG will be an added advantage\\nStrong logic/probability thinking ability and be good at analyzing, summarizing, describing, communicating, and solving problems\\nWorking experience in related online advertising products/creative platform is preferred\\nWorking experience in Computer Vision (CV) to enhance user artistic creativity while creating creatives/adverts is preferred\\nAbility to identify trends of advertising creative platform.',\n",
       " '---',\n",
       " 'We are seeking an outstanding Lead Data Scientist in AI/ML who will help our team continue to grow and bring high value to Intel. In this role you should demonstrate excellent problem formulation/definition skills in addition to technical skills. The ideal candidate should be:\\n\\nA professional role model with deep and wide expertise in state-of-the-art AI/ML techniques, a passion for solving challenging data science problems and extensive hands-on experience.\\nBe detail-oriented and have an aptitude for solving unstructured problems. You should be excellent in coming up with different approaches to solve business problem using AI and evaluate the trade-off between them.\\nBe self-directed, take charge of opportunities with business impact and drive them to completion.\\nHave prior experience in guiding a team of data scientists, coaching and mentoring them.\\nHave deep technical expertise in feature-engineering of massive datasets, effective exploratory data analysis, and model building using AI/ML techniques.\\nBe a role model innovator by adapting new AI/ML modeling techniques and procedures.\\nHave deep expertise in creation and management of datasets.\\nHave excellent business and communication skills to be able to work with stakeholders like the business teams, engineering teams and partner teams and align them with respect to your focus area.\\nHave the ability to manage and execute an entire AI project from start to finish, including problem solving, data gathering and manipulation, predictive modeling, and project management skills.\\nBe a role-model in storytelling with data and articulating the AI problems in an understandable manner to senior leadership of the Business Units.\\n\\nYou will be a part of the large global AI/ML Research Scientist community and will have access to state-of-the-art training, tools, and methods of the domain.\\n\\n\\nCandidates need to hold at least a masters degree (or higher) in Computer Science/Machine Learning/AI/Data Science\\n8 years of relevant experience in building AI/ML models and in using Python (Scikit-learn, TensorFlow/Pytorch) and SQL (or equivalent).\\nExperience in using data analysis techniques and ML methods like classification, regression pattern finding, clustering, dimensionality reduction, anomaly detection etc.\\nExperience with Hadoop, Spark is an advantage\\nDeep Knowledge of classical AI algorithms and Deep Learning techniques is a must.\\nGreat analytical skills and demonstrated ability of independent and creative thinking.\\nHighly motivated strong team player with the ability to work both independently and collaboratively within a team.\\nHas strong analytical skills, including the abilities to scope out business problems to be solved, start from ambiguous problem statements, identify and access relevant data, make appropriate assumptions, perform insightful analysis and draw conclusions relevant to the business problem.\\nAbility to present information professionally and concisely with supporting data.\\nPrevious experience as a data scientist in semi-conductor industry or data intensive organizations is a plus.\\nExperience in creating powerful data driven visualizations to describe ML modeling results to stakeholders.',\n",
       " 'What You Will Do\\nWork with Data Scientists, Machine Learning Engineers, and Business Users to build, deploy, and scale Data Science solutions on chatbots and intend detection models for instance\\nUse your experience in Data Science, Machine Learning, Software Engineering, and distributed systems to develop these system; work with the engineering team to take the systems to production\\nDesign and develop world class Data Science solutions to bring ML chatbot technology to life at Gojek\\nBecome Chatbot and NLP expert at Gojek, influence the roadmap and build ML systems; be a hands-on technical leader\\nPartner with PMs and Operation to define where can ML be leveraged further design solutions\\nWhat You Will Need\\nAt least 8 years of experience as a Data Scientist/Machine Learning Engineer, with experience in Python, Unix and specialised in NLP and chatbot\\nA Masters Degree in Computer Science, Statistics, Operation research or other quantitative fields\\nSolid knowledge of Data Science and Machine Learning fundamentals, with proven experience to formulate Data Science solutions to business problems\\nExperience in taking Data Science models from ideation to production\\nPrior experience in building chatbots and NLP ML system and bringing them to production\\nAbility to provide strong technical mentorship to the Data science team working on NLP systems',\n",
       " '  What You Will Do\\nWork with Data Scientists, Machine Learning Engineers, and Business Users to build, deploy, and scale Data Science solutions on chatbots and intend detection models for instance\\nUse your experience in Data Science, Machine Learning, Software Engineering, and distributed systems to develop these system; work with the engineering team to take the systems to production\\nDesign and develop world class Data Science solutions to bring ML chatbot technology to life at Gojek\\nBecome Chatbot and NLP expert at Gojek, influence the roadmap and build ML systems; be a hands-on technical leader\\nPartner with PMs and Operation to define where can ML be leveraged further design solutions\\nWhat You Will Need\\nAt least 8 years of experience as a Data Scientist/Machine Learning Engineer, with experience in Python, Unix and specialised in NLP and chatbot\\nA Masters Degree in Computer Science, Statistics, Operation research or other quantitative fields\\nSolid knowledge of Data Science and Machine Learning fundamentals, with proven experience to formulate Data Science solutions to business problems\\nExperience in taking Data Science models from ideation to production\\nPrior experience in building chatbots and NLP ML system and bringing them to production\\nAbility to provide strong technical mentorship to the Data science team working on NLP systems',\n",
       " 'We are looking for a smart and experienced analytics manager who can lead a team of analysts to build and deploy predictive models to infuse core business functions with deep analytical insights. The Senior Data Scientist will also work closely with the Kinara management team to investigate strategically important business questions.\\nLead a team through the entire analytical life cycle: define the problem statement build and clean datasets exploratory data analysis\\napply ML algorithms and assess the performance\\ncodify for deployment Communicate Analysis to Stakeholders\\nManage Data Analysts and Data Scientists\\ncomputer science/math/engineering from a top university Skills:\\nYou should be a deeply curious person with a lot of humility and aptitude in Math and Stats to go along with your technical skills. More specifically:\\nStudies in Data Science/ Stats or other quantitative fields (CS, Eng, Math, Econ)\\n5+ years in an analytical professional role with 3+ years in a leadership role.\\nExcellent communication skills (written, verbal, and data viz). English Fluency.\\nComfort with programming (eg Python), stats tools (Pandas or R), and SQL.\\nWorking knowledge of support tools and utilities (AWS, Git, Airflow, PySpark).\\nDomain knowledge in Financial Services a big plus.\\nInitiative, Energy, Bias for Action, and a commitment to our social mission.',\n",
       " '  Key Responsibilities:\\nProvide advanced analytical capabilities to support and drive data science initiatives\\nMines and extracts data and apply statistics and algorithms necessary to derive insights for Org s Digital\\nSupports the generation of an automated insights generation framework for Org s business partners to effectively interpret data\\nProvides actionable insights through data science for Recommendations, SEO and Collections selling\\nWork closely with the product and engineering teams to execute key initiatives\\nTracks success of Org s through the development of dashboard reports that measure financial results, customer satisfaction, and engagement metrics\\nConducts deep statistical analysis, including predictive and prescriptive modeling in order to provide a competitive advantage at Org s\\nMaintains expert-level knowledge on industry trends, emerging technologies, and new methodologies and applies it to projects as well as using it to guide team members\\nLeads automation and analytical projects, collaborating across functions in Org s and Org s Digital\\nJob Requirements\\nRequired Skills:\\nIndustry experience as a Data Scientist and experience in machine learning, data mining, search relevancy ranking, recommender systems or informational retrieval.\\nHands-on experience with accessing data, Python, machine learning libraries, and deep learning libraries (ex: tensorflow/pytorch/Keras, scikit-learn/scipi, numpy, pandas, Golve, word2vec, fasttext, bert etc.).\\nAbility to improve product discovery by collaborating with other domain teams such as Personalization and Search\\nFluency in at-least one programming languages such as Python, Scala or Java.\\nPresent results and make recommendations in a clear manner to senior leadership\\nAbility to learn new analytical methods and technologies and apply in practical business problems\\nStrong communication skills, ability to interact with diverse team of people across business and engineering.\\nEffective analytical, troubleshooting and problem-solving skills for building systems to process both structured and unstructured data',\n",
       " '---',\n",
       " 'Be part of something revolutionary\\nWe have a vision. Our Digital Brain, o9s AI-powered platform, is being used by global enterprises to drive their digital transformations. The integrated planning and operational efficiencies we provide is helping businesses do more, be more and mean more to the world at large. Because businesses that plan better, reduce waste, creating value for themselves and the planet.\\nBut we also have a vision for our people. We want the most talented, committed and driven people to power our transformative approach. In return, we’ll provide a nurturing environment where you can be a part of something special.\\nJob title - Senior Data Scientist / Data Scientist – Customer Success\\nWhat you’ll do for us\\nAnalyze problems by synthesizing complex information, evaluating alternate methods, and articulating the result with the relevant assumptions/reasons\\nApply a variety of machine learning techniques (clustering, regression, ensemble learning, neural nets, time series, optimizations etc.) to their real-world advantages/drawbacks to develop or optimize planning solutions\\nActively monitor, validate, root cause and tune statistical, time series, ML, optimization models\\nOptimise, scale & deploy ML models using o9’s open big data cloud platform\\nEvaluate/test additional data streams, parameters, algorithms to enhance models post go-live and develop new models to improve existing ones\\nResponsible for solution usability and uptime by resolving any customer issues in a timely fashion, ensuring accuracy of inputs and outputs\\nIdentify any design issues in the existing model and co-ordinate with other o9 consultants and data sceintists to solve the business problem. Be the single point of contact for any platform level upgrade/patch/hot fix.\\nWork with customer data science teams and support Super User and End User training, for a global user base.\\nWhat you’ll have\\nMandatory:\\n2+ years of experience in the field of Data Science and Analytics. Data Scientist or Sr Data Scientist will be decided based experience, knowledge, and interview performance.\\nStrong programming skills and experience in using Python and/or R for Data Science\\nStrong analytical techniques, data mining knowledge and proficiency in handling and processing large amounts of data is needed\\nDeep Knowledge of statistical and machine learning algorithms\\nExperience in maintenance and/or building of scalable ML frameworks by identifying and collecting relevant input data, feature engineering, tuning, and testing.\\nStrong presentation and communications skills\\nBachelors Degree in Computer Science, Mathematics, Statistics, Economics, Engineering or related field\\nNice to have:\\nExperience in time series forecasting in scale using heuristic based hierarchical best-fit models using algorithms like exponential smoothing, ARIMA, prophet and custom parameter tuning\\nExperience in applied analytical methods in the field of Supply chain and planning, like demand planning, demand sensing, supply planning, market intelligence, optimal assortments/pricing/inventory etc.\\nExperience with SQL, databases and ETL tools or similar is optional but preferred\\nExposure to distributed data/computing tools: Map/Reduce, Hadoop, Hive, Spark, Gurobi, or related Big Data technologies\\nExperience with Deep Learning frameworks such as Keras, Tensorflow or PyTorch is preferable but not essential\\nExperience in implementing planning applications will be a plus\\nUnderstanding of Supply Chain Concepts will be preferable\\nWhat we’ll do for you\\nCompetitive salary\\nExposure: Work with the biggest brands in the world in an international environment\\nFlexibility: Work from home two days a week. Get up a bit later, skip the commute and put the time back into your deadlines.\\nGet social: When we work from home, we play from home with fun after-work activities like Friday Socials. If you’re in the office, feel free to join these events in person.\\nFlat organization: With a very strong entrepreneurial culture (and no corporate politics).\\nSupport network: Work with a team you can learn from and every day.\\nDiversity: We pride ourselves on our international working environment.\\nHow the process works\\nApply by clicking the button below.\\nYou’ll be contacted by our recruiter, Shivani Anthony, who’ll fill you in on all things at o9, give you some background about the role and get to know you. They’ll contact you either via video call or phone call - whatever you prefer.\\nYou may be required to take an online data science test\\nDuring the interview phase, you will meet with technical panels for 60 minutes. The recruiter will contact you after the interview to let you know if we’d like to progress your application.\\nWe will have 3 rounds of Technical discussion followed by an HR discussion\\nOur recruiter will let you know if you’re the successful candidate.\\n\\nGood luck!']"
      ]
     },
     "execution_count": 170,
     "metadata": {},
     "output_type": "execute_result"
    }
   ],
   "source": [
    "full_job_description"
   ]
  },
  {
   "cell_type": "code",
   "execution_count": 171,
   "metadata": {},
   "outputs": [
    {
     "data": {
      "text/plain": [
       "\"Job Role : Data Scientist/Data Analyst /Business Analyst\\n\\nLocation : Chennai/Bangalore/Hyderabad/Pune/Mumbai/Delhi\\n\\nGreetings from CAIA - Center for Artificial Intelligence & Advanced Analytics\\n43% of companies experienced a high deficit of skilled resources with Advanced Analytical skills and AI implementing capabilities in year 2020. CAIA gives you a great opportunity to enter the world of future technologies and Innovations- Data Science, Analytics, AI, Data Visualization and Cloud Computing.\\n\\nWhile 2020 was a year like no other, we are living in an interesting times where data is reshaping the world, and businesses are rapidly adopting technology to gain an edge over others. Hence, there's a substantial increase in demand for technology professionals who can implement systems in data science, machine learning and AI in Tier 1 and Tier 2 organization's working closely with us.\\n\\nTo help you build a sustainable career we would like you to utilize data, software and Analytical approaches in Data Science and AI to up skill and get recruited into an organization appreciating your skilling journey.\\nApplications invited from all Freshers and experienced candidates (0-3 yrs) aspiring to make a career in Artificial Intelligence and Advanced Analytics and Data Science.\\nIf you wish to make a shift in your career or undergo a career transition, upskilling is essential since it allows you to learn more about the domain and acquire the required skills.\\n\\nCall to schedule interview Monday -Saturday from 10:00 am to 7Pm\\n\\nManigandan -+91 7299917200\\n\\nEmail : manigandan@centerforaia.com\\n\\nWhat is needed from you?\\n\\nFreshers who wish to start their career in Analytics and AI and professionals who wish to\\nupskill or change their domain to analytics and emerging technologies are free to apply.\\nAn Educational background in any one of the following- BE/B.Tech, ME/M Tech, MSc, BSc/MSc Maths and Statistics, B Com, BCA, BSc CS, BSC IT, MSC IT, MCA\\nSkills relating to Mathematics/Statistics.\\nNatural passion towards numbers, business, coding, Analytics and Artificial Intelligence, Machine Learning, visualization\\nGood verbal and written communication skills\\nAbility to understand domains in businesses across various sectors\\n\\n\\nSelection procedure includes\\n\\nAptitude Test & Communication Exam - Online / Offline\\nSQL/Python test - Online / Offline\\n\\nCandidates who clears the above will have one-one discussion with our Career Guidance Manager for further evaluation and processing of your Resume.\\n\\n\\nAll the Shortlisted candidates will be eligible to continue the corporate training with CAIA\\nWhat you can expect from us?\\n\\nYou will get trained on the following modules for a period of 12-14 weeks:\\n\\nSQL & PLSQL\\nData Wrangling using Python\\nData Visualization Using Power-BI\\nStatistics for Machine Learning\\nArtificial Intelligence, Data Interpretation\\nSupervised & Unsupervised Learning,\\nNLP & Deep Learning\\nCloud Data Lake\\nBusiness intelligence & Data Visualization\\nSimulation Projects\\nExpected Outcome?\\n\\nAt the end of the Training you are expected to be well versed with the following:\\n\\nAnalysis of large and complex data sets from multiple sources\\nDevelopment and evaluation of data analytics models, algorithms and solutions\\nUnderstanding/implementation of ML algorithms, performance tuning and reporting\\nImplementation of algorithms to mine targeted data and the ability to convert data in to a business story\\nTranslation of business requirements into technical requirements; Data extraction, preparation and transformation\\nIdentification, development and implementation of statistical techniques and algorithms that address business challenges and adds value to the organization\\nRequirement Analysis and communication of findings in the form of a meaningful story with the stakeholders\\nFinding analytical solutions to abstract business issues.\\nApply objective analysis of facts before coming to a conclusion\\n\\nAbout CAIA - Inflexion Analytix Private Limited\\n\\nCenter for Artificial Intelligence and Advanced Analytics (Center for AIA) is the brainchild of experienced and visionary alumni of IIT Madras and Bombay.\\nDigital leaders - 5F World and Systech Solutions have joined hands to create a venture for architecting the future of society, workforce, governments and businesses. 5F World specializes in designing solutions around digital platforms and Systech Solutions has an expertise in architecting Artificial Intelligence and Advance Analytics solutions for Fortune 500 companies.\\nOur Website : http://www.centerforaia.com/\\n\\nhttps://inflexion-analytix-private-limited.business.site/?m=true\\n\\nCenter for Artificial Intelligence & Advanced Analytics (CAIA) focuses on the following:\\n\\n1. Global Research on emerging trends, technologies and applications in AI and Advanced Analytics\\n2. Advanced Training programs for readying the future ready workforce\\n3. Solutions to herald the futuristic lifestyle and workspaces in the field of AI and Data Science.\""
      ]
     },
     "execution_count": 171,
     "metadata": {},
     "output_type": "execute_result"
    }
   ],
   "source": [
    "full_job_description[0]"
   ]
  },
  {
   "cell_type": "code",
   "execution_count": 172,
   "metadata": {},
   "outputs": [
    {
     "data": {
      "text/plain": [
       "'Roles and Responsibilities\\n\\nMandatory Skills\\n- Python Programming\\n- Strong OOPS Concepts\\n- Strong knowledge in CS fundamentals - Datastructures, algorithm design & Problem-solving\\n- Experience in workflow management platforms like - Apache Airflow, pachyderm, MLFlow\\n- AWS Lambda, Step Functions, State Machines, setting up data pipelines.\\n- Must have experience in working in a Rapid Prototyping environment. Be able to take the initiative and work with minimum guidance and requirements.\\nNice to Have\\nExperience in Machine Learning - Pandas, Scikit-Learn, EDA, PCA, other Data preprocessing techniques\\nExperience in any Infrastructure as code platform like Terraform, AWS CloudFormation.\\nOther Pre-Requisites\\nMust be extremely detail and technology-oriented and possess excellent communications skills.\\nMust have experience and be willing to work in a Rapid Prototyping environment as well.\\nProactive, driven individual with a strong work ethics\\nMust be able to take complete ownership of tasks in the project.\\nPassion for achieving excellence in technical, process, product quality and reliability.\\nStrong in troubleshooting and root cause analysis abilities\\nPerks and Benefits\\n\\nKindly share your resume to kandavelkumar.lakshmanan @cesltd.com'"
      ]
     },
     "execution_count": 172,
     "metadata": {},
     "output_type": "execute_result"
    }
   ],
   "source": [
    "full_job_description[1]"
   ]
  },
  {
   "cell_type": "code",
   "execution_count": 174,
   "metadata": {},
   "outputs": [
    {
     "name": "stdout",
     "output_type": "stream",
     "text": [
      "job 0 Job Role : Data Scientist/Data Analyst /Business Analyst\n",
      "\n",
      "Location : Chennai/Bangalore/Hyderabad/Pune/Mumbai/Delhi\n",
      "\n",
      "Greetings from CAIA - Center for Artificial Intelligence & Advanced Analytics\n",
      "43% of companies experienced a high deficit of skilled resources with Advanced Analytical skills and AI implementing capabilities in year 2020. CAIA gives you a great opportunity to enter the world of future technologies and Innovations- Data Science, Analytics, AI, Data Visualization and Cloud Computing.\n",
      "\n",
      "While 2020 was a year like no other, we are living in an interesting times where data is reshaping the world, and businesses are rapidly adopting technology to gain an edge over others. Hence, there's a substantial increase in demand for technology professionals who can implement systems in data science, machine learning and AI in Tier 1 and Tier 2 organization's working closely with us.\n",
      "\n",
      "To help you build a sustainable career we would like you to utilize data, software and Analytical approaches in Data Science and AI to up skill and get recruited into an organization appreciating your skilling journey.\n",
      "Applications invited from all Freshers and experienced candidates (0-3 yrs) aspiring to make a career in Artificial Intelligence and Advanced Analytics and Data Science.\n",
      "If you wish to make a shift in your career or undergo a career transition, upskilling is essential since it allows you to learn more about the domain and acquire the required skills.\n",
      "\n",
      "Call to schedule interview Monday -Saturday from 10:00 am to 7Pm\n",
      "\n",
      "Manigandan -+91 7299917200\n",
      "\n",
      "Email : manigandan@centerforaia.com\n",
      "\n",
      "What is needed from you?\n",
      "\n",
      "Freshers who wish to start their career in Analytics and AI and professionals who wish to\n",
      "upskill or change their domain to analytics and emerging technologies are free to apply.\n",
      "An Educational background in any one of the following- BE/B.Tech, ME/M Tech, MSc, BSc/MSc Maths and Statistics, B Com, BCA, BSc CS, BSC IT, MSC IT, MCA\n",
      "Skills relating to Mathematics/Statistics.\n",
      "Natural passion towards numbers, business, coding, Analytics and Artificial Intelligence, Machine Learning, visualization\n",
      "Good verbal and written communication skills\n",
      "Ability to understand domains in businesses across various sectors\n",
      "\n",
      "\n",
      "Selection procedure includes\n",
      "\n",
      "Aptitude Test & Communication Exam - Online / Offline\n",
      "SQL/Python test - Online / Offline\n",
      "\n",
      "Candidates who clears the above will have one-one discussion with our Career Guidance Manager for further evaluation and processing of your Resume.\n",
      "\n",
      "\n",
      "All the Shortlisted candidates will be eligible to continue the corporate training with CAIA\n",
      "What you can expect from us?\n",
      "\n",
      "You will get trained on the following modules for a period of 12-14 weeks:\n",
      "\n",
      "SQL & PLSQL\n",
      "Data Wrangling using Python\n",
      "Data Visualization Using Power-BI\n",
      "Statistics for Machine Learning\n",
      "Artificial Intelligence, Data Interpretation\n",
      "Supervised & Unsupervised Learning,\n",
      "NLP & Deep Learning\n",
      "Cloud Data Lake\n",
      "Business intelligence & Data Visualization\n",
      "Simulation Projects\n",
      "Expected Outcome?\n",
      "\n",
      "At the end of the Training you are expected to be well versed with the following:\n",
      "\n",
      "Analysis of large and complex data sets from multiple sources\n",
      "Development and evaluation of data analytics models, algorithms and solutions\n",
      "Understanding/implementation of ML algorithms, performance tuning and reporting\n",
      "Implementation of algorithms to mine targeted data and the ability to convert data in to a business story\n",
      "Translation of business requirements into technical requirements; Data extraction, preparation and transformation\n",
      "Identification, development and implementation of statistical techniques and algorithms that address business challenges and adds value to the organization\n",
      "Requirement Analysis and communication of findings in the form of a meaningful story with the stakeholders\n",
      "Finding analytical solutions to abstract business issues.\n",
      "Apply objective analysis of facts before coming to a conclusion\n",
      "\n",
      "About CAIA - Inflexion Analytix Private Limited\n",
      "\n",
      "Center for Artificial Intelligence and Advanced Analytics (Center for AIA) is the brainchild of experienced and visionary alumni of IIT Madras and Bombay.\n",
      "Digital leaders - 5F World and Systech Solutions have joined hands to create a venture for architecting the future of society, workforce, governments and businesses. 5F World specializes in designing solutions around digital platforms and Systech Solutions has an expertise in architecting Artificial Intelligence and Advance Analytics solutions for Fortune 500 companies.\n",
      "Our Website : http://www.centerforaia.com/\n",
      "\n",
      "https://inflexion-analytix-private-limited.business.site/?m=true\n",
      "\n",
      "Center for Artificial Intelligence & Advanced Analytics (CAIA) focuses on the following:\n",
      "\n",
      "1. Global Research on emerging trends, technologies and applications in AI and Advanced Analytics\n",
      "2. Advanced Training programs for readying the future ready workforce\n",
      "3. Solutions to herald the futuristic lifestyle and workspaces in the field of AI and Data Science. \n",
      "\n",
      "job 1 Roles and Responsibilities\n",
      "\n",
      "Mandatory Skills\n",
      "- Python Programming\n",
      "- Strong OOPS Concepts\n",
      "- Strong knowledge in CS fundamentals - Datastructures, algorithm design & Problem-solving\n",
      "- Experience in workflow management platforms like - Apache Airflow, pachyderm, MLFlow\n",
      "- AWS Lambda, Step Functions, State Machines, setting up data pipelines.\n",
      "- Must have experience in working in a Rapid Prototyping environment. Be able to take the initiative and work with minimum guidance and requirements.\n",
      "Nice to Have\n",
      "Experience in Machine Learning - Pandas, Scikit-Learn, EDA, PCA, other Data preprocessing techniques\n",
      "Experience in any Infrastructure as code platform like Terraform, AWS CloudFormation.\n",
      "Other Pre-Requisites\n",
      "Must be extremely detail and technology-oriented and possess excellent communications skills.\n",
      "Must have experience and be willing to work in a Rapid Prototyping environment as well.\n",
      "Proactive, driven individual with a strong work ethics\n",
      "Must be able to take complete ownership of tasks in the project.\n",
      "Passion for achieving excellence in technical, process, product quality and reliability.\n",
      "Strong in troubleshooting and root cause analysis abilities\n",
      "Perks and Benefits\n",
      "\n",
      "Kindly share your resume to kandavelkumar.lakshmanan @cesltd.com \n",
      "\n",
      "job 2 Roles and Responsibilities\n",
      "\n",
      "Mandatory Skills\n",
      "- Python Programming\n",
      "- Strong OOPS Concepts\n",
      "- Strong knowledge in CS fundamentals - Datastructures, algorithm design & Problem-solving\n",
      "- Experience in workflow management platforms like - Apache Airflow, pachyderm, MLFlow\n",
      "- AWS Lambda, Step Functions, State Machines, setting up data pipelines.\n",
      "- Must have experience in working in a Rapid Prototyping environment. Be able to take the initiative and work with minimum guidance and requirements.\n",
      "Nice to Have\n",
      "Experience in Machine Learning - Pandas, Scikit-Learn, EDA, PCA, other Data preprocessing techniques\n",
      "Experience in any Infrastructure as code platform like Terraform, AWS CloudFormation.\n",
      "Other Pre-Requisites\n",
      "Must be extremely detail and technology-oriented and possess excellent communications skills.\n",
      "Must have experience and be willing to work in a Rapid Prototyping environment as well.\n",
      "Proactive, driven individual with a strong work ethics\n",
      "Must be able to take complete ownership of tasks in the project.\n",
      "Passion for achieving excellence in technical, process, product quality and reliability.\n",
      "Strong in troubleshooting and root cause analysis abilities\n",
      "Perks and Benefits\n",
      "\n",
      "Kindly share your resume to kandavelkumar.lakshmanan @cesltd.com \n",
      "\n",
      "job 3 --- \n",
      "\n",
      "job 4 .\n",
      "Roles and Responsibilities\n",
      "Analyze structured and unstructured data at scale to derive new insights and opportunities.\n",
      "Build and validate predictive models.\n",
      "Advise clients and project teams on leading data science practices.\n",
      "Create data-driven business recommendations.\n",
      "Contribute to internal research and development efforts in cutting edge areas including NLP, graph analytics, and deep learning / AI.\n",
      "Skills and attributes for success\n",
      "Fostering an innovative and inclusive team-oriented work environment\n",
      "Leading and coaching diverse teams of professionals with different backgrounds\n",
      "Demonstrating in-depth technical capabilities and professional knowledge\n",
      "Establishing strong relationships with the clients\n",
      "Working in an entrepreneurial environment to pave your own career path\n",
      "\n",
      "\n",
      "Desired Candidate Profile\n",
      "\n",
      "A MSc in a technical field like Computer Science, Econometrics, Mathematics, Engineering, or a related field .\n",
      "3+ years practical experience with advanced machine learning techniques and big data technologies.\n",
      "3+ years working with data and relevant computational frameworks and systems.\n",
      "An understanding of the latest industry developments in Big Data and AI such as graph databases, Natural Language Processing, and neural networks.\n",
      "A thorough understanding of common languages and libraries used in machine learning (such as Spark or Python. Experience with big data tools, Hive, Databricks, Neo4j, etc. a plus)\n",
      "Excellent business, communication, and presentation skills (experience in health insurance services domains a plus, but not required)\n",
      "The ability to translate complex information into non-technical, easy to understand language.\n",
      "Ideally, you will also have\n",
      "A PhD in a technical field like Computer Science, Econometrics, Mathematics, Engineering, or a related field\n",
      "Perks and Benefits\n",
      "Annual CTC: Rupees 5,00,000 to 15,00,000 (willing to pay more if have good experience) \n",
      "\n",
      "job 5 We wont say we can predict the future, but our team of Analysts get pretty close, they turn millions of data points into useful information & insights that help our clients to make better decisions on their marketing mix and achieve superior results. Be part of the future and join in on one of the major transformations in the market research industry with the integration of big data and classic marketing mix analysis.\n",
      "\n",
      "Responsibilities:\n",
      "Deliver as a part of our consultant team in driving high quality results on custom project work\n",
      "Ensure effective and timely delivery of project work\n",
      "Work towards understanding statistical models and deliver business insights and findings\n",
      "Ensure compliance to Marketing Mix Modeling modeling practices and company quality standards\n",
      "Maximize the efficient and effective use of resources by utilizing appropriate processes and tools\n",
      "To build and maintain effective contacts with other departments to ensure the efficient and effective use of resources\n",
      "Liaise with appropriate Marketing Mix Modeling and Nielsen departments to ensure hardware and software requirements are fulfilled\n",
      "Work with co/ third party modellers to deliver business insights and findings\n",
      "\n",
      "Qualifications and Skills\n",
      "2-5 years of relevant experience\n",
      "Masters degree in Economics, Mathematics, Statistics, Engineering\n",
      "In-depth understanding of statistical modeling techniques and applications\n",
      "Good and working knowledge of any statistical languages like SAS, R, Pythons\n",
      "Solid proficiency of decision making and problem resolution skills\n",
      "Passion for results with a challenger mindset\n",
      "\n",
      "About the Team:\n",
      "Global Product, Technology & Operations supports Nielsen Medias growth strategy by enabling positive client and market solutions. Our Operations Team is in a unique position as the center of data collection, analysis and delivery. We deliver outcomes with the highest quality and integrity standards in an agile and transparent way while standing by our Nielsen values. \n",
      "\n",
      "job 6 --- \n",
      "\n",
      "job 7 --- \n",
      "\n",
      "job 8 --- \n",
      "\n"
     ]
    }
   ],
   "source": [
    "for i in range(0,9):\n",
    "    print(\"job\",i,full_job_description[i],'\\n')"
   ]
  },
  {
   "cell_type": "code",
   "execution_count": 175,
   "metadata": {},
   "outputs": [
    {
     "name": "stdout",
     "output_type": "stream",
     "text": [
      "job 9 Responsibilities and duties Focus on developing clear and concise analytical approach for problem solving with client partnership\n",
      "Strong understanding of ML libraries and applications e.g. Neural Net, SVMs, boosting methods and implementation using R/Python. Should have academic paper level understanding of math e.g. linear algebra, calculus etc.\n",
      "Ability to code on SAS/R for data munging, analysis and insights and/or languages like Python for creating efficient production ready code\n",
      "Managing delivery of projects including timely communication, setting milestones and tracking Generating actionable insights for business/KPI improvements Ability to work independently, structure analyses and handle multiple priorities Develop and Maintaining Credit Risk Models Strategies Rich experience in at least one production ready deployment of Machine Learning algorithms is a plus. Experience in working on real life large messy dataset to solve real business problems. Kaggle experience is a plus.\n",
      "  Skills Competencies: Experience in Financial Services/ Fintech/ BFSI along with Credit Risk in Retail Banking and Data Science 5 years of experience in building predictive models (Application Scorecard, Behaviour Scorecard, Collection Score Card, Loan Pricing, Loss Forecasting, Cross Sell Model) Experienced Statistical software skills (e.g. SAS, R, Python Strong understanding of ML libraries and applications. Strong experience in leading credit risk model development, validation, deployment, and documentation Analytically oriented with ability to grasp complex risk management strategies, processes, models and draw insights / identify areas of opportunity\n",
      "Strong track record of delivering on high value / critical projects. Ability to communicate with senior stakeholders crisply and confidently on findings, status, bottlenecks, and escalations\n",
      "Proven track record of delivering in a start-up environment would be a plus Strong written and oral communication skills \n",
      "\n",
      "job 10 Business & Team overview:\n",
      "Founded in 1987, Huawei is a leading global provider of ICT (information and communications technology) infrastructure and smart devices. We are committed to bringing digital to every person, home and organization for a fully connected, intelligent world. We have nearly 194,000 employees, and we operate in more than 170 countries and regions, serving more than 3 billion people around the world.\n",
      "\n",
      "Huawei Technologies has three business directions: Carrier Business Group, which provides innovative and secure network equipment to telecom carriers, including the leading 5G mobile network.\n",
      "Enterprise Business Group, which provides facilities and solutions to big and small companies, including IT facilities.\n",
      "Consumer Business Groups, which provides devices to the customer, including mobile phones, PC, tablet, TV, audio, glasses, watches, locomotives, and headphones. And also provide solutions on mobile offices, smart homes, sports and health, audio-visual entertainment, and smart travel products.\n",
      "\n",
      "This opportunity is belong to Huawei Consumer Business Group.\n",
      "\n",
      "Driven by the coordinated development of \"Chip-Device-Cloud\", consumer products such as smartphones are becoming increasingly intelligent and pervasive. The era of smart services is the future.\n",
      "\n",
      "Huawei Ads Services is dedicated to provide Huawei end-users with high-quality digital experiences, to build a business closed-loop system for Developers and Improve the ROI for the Advertisers\n",
      ".\n",
      "In 2020 Q1, along with more than 650 million users and 1,400,000 registered developers worldwide, we have the following unique advantages:\n",
      "1. With All-scenario intelligent solution, the Huawei devices become super entrance of traffic, including mobile phones, PC, tablet, TV, audio, glasses, watches, locomotives, and head phones\n",
      "2. This team will be responsible for building a new Ad Serving Platform and have the opportunity to define the product for our Huawei end-users.\n",
      "3. AI-Driven is the direction of Ads, Huawei is going to build a strong team in India to Innovate and deliver AI-driven Smart Ad Serving Platforms\n",
      "\n",
      "Job Title: Lead Data Scientist\n",
      "We are looking for a Lead data scientist who will help us discover the information hidden in vast amounts of Ad Campaign data, and help us to optimize the campaign to improve the advertiser ROI and improve the overall consumer experience. Your primary focus will be in applying data mining techniques, doing statistical analysis, and building high quality prediction systems using Deep learning algorithms integrated with our products. Some the key area you will be working on spend recommendation, floor price prediction, CTR/CVR prediction, market funnel analysis and perdition of lead to conversion, etc.\n",
      "\n",
      "Responsibility:\n",
      "Analyze the data, develop insights and identify the opportunity to utilize the data to predict various Advertisement key indicators like CTR, CVR, Inventory and Develop prediction and optimization algorithms for campaign, look alike modeling, etc for Huawei Ads.\n",
      "Takeup key challenges in AI-driven Smart Ad Serving Platform and focus on research and developing leading AI algorithms and productionize for Huawei Ads.\n",
      "Takeup initiative in identifying the SOTA and finding key gaps in AI algorithms and develop a world leading AI algorithms for optimizing real-time Ad Serving engine. Identify and optimize the core modules such as Traffic Prediction, Optimization, Ad Targeting/Re-targeting, Ad Performance Optimization, Audience insights, Attribution, Bidding, re-ranking, and Diagnostics. Support hundreds of billions of ad requests per day, with efficiently cache technology.\n",
      "To build and enhance Ad platform features and Prediction capabilities in Huawei Ads Platform\n",
      "Optimized Cost Per Mille; Optimized Cost Per Action; Optimized Cost Per Click and Cost per Click. OCPM, OCPA, OCPC.\n",
      "\n",
      "Requirements:\n",
      "- Strong hands-on experience in implementing and validating big data algorithms and models including Deep Learning models like Seq2Seq/ GRU/RNN/LSTM , Knowledge Graph, Massive Graph algorithms, etc.\n",
      "- Programming experience with Python\n",
      "- Able to validate existing models including Deep Learning models with large scale dataset and able to make changes to the models to achieve better performance\n",
      "- AdServing domain Experience is an added advantage \n",
      "\n",
      "job 11 Business & Team overview:\n",
      "Founded in 1987, Huawei is a leading global provider of ICT (information and communications technology) infrastructure and smart devices. We are committed to bringing digital to every person, home and organization for a fully connected, intelligent world. We have nearly 194,000 employees, and we operate in more than 170 countries and regions, serving more than 3 billion people around the world.\n",
      "\n",
      "Huawei Technologies has three business directions: Carrier Business Group, which provides innovative and secure network equipment to telecom carriers, including the leading 5G mobile network.\n",
      "Enterprise Business Group, which provides facilities and solutions to big and small companies, including IT facilities.\n",
      "Consumer Business Groups, which provides devices to the customer, including mobile phones, PC, tablet, TV, audio, glasses, watches, locomotives, and headphones. And also provide solutions on mobile offices, smart homes, sports and health, audio-visual entertainment, and smart travel products.\n",
      "\n",
      "This opportunity is belong to Huawei Consumer Business Group.\n",
      "\n",
      "Driven by the coordinated development of \"Chip-Device-Cloud\", consumer products such as smartphones are becoming increasingly intelligent and pervasive. The era of smart services is the future.\n",
      "Huawei Ads Services is dedicated to provide Huawei end-users with high-quality digital experiences, to build a business closed-loop system for Developers and Improve the ROI for the Advertisers\n",
      ".\n",
      "In 2020 Q1, along with more than 650 million users and 1,400,000 registered developers worldwide, we have the following unique advantages:\n",
      "1. With All-scenario intelligent solution, the Huawei devices become super entrance of traffic, including mobile phones, PC, tablet, TV, audio, glasses, watches, locomotives, and head phones\n",
      "2. This team will be responsible for building a new Ad Serving Platform and have the opportunity to define the product for our Huawei end-users.\n",
      "3. AI-Driven is the direction of Ads, Huawei is going to build a strong team in India to Innovate and deliver AI-driven Smart Ad Serving Platforms\n",
      "\n",
      "1. Job Title: Computational Design Lead Data Scientist\n",
      "\n",
      "Responsibility:\n",
      "Take-up Key creative tools of the creative platform for Advertisers, research and develop breakthrough CNN based deep learning algorithms to solve the problem unique in the industry and productionize the algorithms, measure the ad creative performance and enhance the algorithm to ease the Ad Designer job.\n",
      "Develop the common AI platforms and frameworks to ease the experimentation of the Algorithms for creative Design.\n",
      "To build ability to understand the advertisers intent and provide creative assistance every step of creating all types of adverts\n",
      "Responsible for intelligent identification of advertising creatives (pictures, videos) and related algorithms of content understanding.\n",
      "Responsible for Image Synthesis, Intelligent Layout, Style Transfer, and other image processing, computing and visual processing, to improve the aesthetic level of advertising creativity.\n",
      "Responsible for designing algorithms for suggesting how to intelligently crop and position an image for maximum effect, identify the optimal placement of text and copywriting.\n",
      "Responsible for the algorithm and model of dynamic matching of advertising program creativity and dynamic creation of advertising content\n",
      "\n",
      "Requirements:\n",
      "Deep knowledge of Computational Design\n",
      "Experience on Intelligent composition, including image cropping, smart layout, the Gold Ratio composition, visual extension.\n",
      "Experience computer vision models, including image/video recognition and content understanding.\n",
      "Experience in algorithms such as image and video segmentation, separation, synthesis, and intelligent layout with engineering platform implementation capability.\n",
      "Strong Knowledge Algorithms such as Image segmentation, object detection, Image processing (filtering, noise removal, histogram thresholding, etc.), object tracking, image transformation (affine transform, dewarping), keypoint detection/description, etc (and experience in using Computer vision Libraries)\n",
      "Strong Knowledge in CNN, R-CNN, GAN, LSTM, GRU, Multimodal feature Learning, ASR, NLU, NLG, Copywriting and KG will be an added advantage\n",
      "Strong logic/probability thinking ability and be good at analyzing, summarizing, describing, communicating, and solving problems\n",
      "Working experience in related online advertising products/creative platform is preferred\n",
      "Working experience in Computer Vision (CV) to enhance user artistic creativity while creating creatives/adverts is preferred\n",
      "Ability to identify trends of advertising creative platform. \n",
      "\n",
      "job 12 --- \n",
      "\n",
      "job 13 We are seeking an outstanding Lead Data Scientist in AI/ML who will help our team continue to grow and bring high value to Intel. In this role you should demonstrate excellent problem formulation/definition skills in addition to technical skills. The ideal candidate should be:\n",
      "\n",
      "A professional role model with deep and wide expertise in state-of-the-art AI/ML techniques, a passion for solving challenging data science problems and extensive hands-on experience.\n",
      "Be detail-oriented and have an aptitude for solving unstructured problems. You should be excellent in coming up with different approaches to solve business problem using AI and evaluate the trade-off between them.\n",
      "Be self-directed, take charge of opportunities with business impact and drive them to completion.\n",
      "Have prior experience in guiding a team of data scientists, coaching and mentoring them.\n",
      "Have deep technical expertise in feature-engineering of massive datasets, effective exploratory data analysis, and model building using AI/ML techniques.\n",
      "Be a role model innovator by adapting new AI/ML modeling techniques and procedures.\n",
      "Have deep expertise in creation and management of datasets.\n",
      "Have excellent business and communication skills to be able to work with stakeholders like the business teams, engineering teams and partner teams and align them with respect to your focus area.\n",
      "Have the ability to manage and execute an entire AI project from start to finish, including problem solving, data gathering and manipulation, predictive modeling, and project management skills.\n",
      "Be a role-model in storytelling with data and articulating the AI problems in an understandable manner to senior leadership of the Business Units.\n",
      "\n",
      "You will be a part of the large global AI/ML Research Scientist community and will have access to state-of-the-art training, tools, and methods of the domain.\n",
      "\n",
      "\n",
      "Candidates need to hold at least a masters degree (or higher) in Computer Science/Machine Learning/AI/Data Science\n",
      "8 years of relevant experience in building AI/ML models and in using Python (Scikit-learn, TensorFlow/Pytorch) and SQL (or equivalent).\n",
      "Experience in using data analysis techniques and ML methods like classification, regression pattern finding, clustering, dimensionality reduction, anomaly detection etc.\n",
      "Experience with Hadoop, Spark is an advantage\n",
      "Deep Knowledge of classical AI algorithms and Deep Learning techniques is a must.\n",
      "Great analytical skills and demonstrated ability of independent and creative thinking.\n",
      "Highly motivated strong team player with the ability to work both independently and collaboratively within a team.\n",
      "Has strong analytical skills, including the abilities to scope out business problems to be solved, start from ambiguous problem statements, identify and access relevant data, make appropriate assumptions, perform insightful analysis and draw conclusions relevant to the business problem.\n",
      "Ability to present information professionally and concisely with supporting data.\n",
      "Previous experience as a data scientist in semi-conductor industry or data intensive organizations is a plus.\n",
      "Experience in creating powerful data driven visualizations to describe ML modeling results to stakeholders. \n",
      "\n",
      "job 14 What You Will Do\n",
      "Work with Data Scientists, Machine Learning Engineers, and Business Users to build, deploy, and scale Data Science solutions on chatbots and intend detection models for instance\n",
      "Use your experience in Data Science, Machine Learning, Software Engineering, and distributed systems to develop these system; work with the engineering team to take the systems to production\n",
      "Design and develop world class Data Science solutions to bring ML chatbot technology to life at Gojek\n",
      "Become Chatbot and NLP expert at Gojek, influence the roadmap and build ML systems; be a hands-on technical leader\n",
      "Partner with PMs and Operation to define where can ML be leveraged further design solutions\n",
      "What You Will Need\n",
      "At least 8 years of experience as a Data Scientist/Machine Learning Engineer, with experience in Python, Unix and specialised in NLP and chatbot\n",
      "A Masters Degree in Computer Science, Statistics, Operation research or other quantitative fields\n",
      "Solid knowledge of Data Science and Machine Learning fundamentals, with proven experience to formulate Data Science solutions to business problems\n",
      "Experience in taking Data Science models from ideation to production\n",
      "Prior experience in building chatbots and NLP ML system and bringing them to production\n",
      "Ability to provide strong technical mentorship to the Data science team working on NLP systems \n",
      "\n",
      "job 15   What You Will Do\n",
      "Work with Data Scientists, Machine Learning Engineers, and Business Users to build, deploy, and scale Data Science solutions on chatbots and intend detection models for instance\n",
      "Use your experience in Data Science, Machine Learning, Software Engineering, and distributed systems to develop these system; work with the engineering team to take the systems to production\n",
      "Design and develop world class Data Science solutions to bring ML chatbot technology to life at Gojek\n",
      "Become Chatbot and NLP expert at Gojek, influence the roadmap and build ML systems; be a hands-on technical leader\n",
      "Partner with PMs and Operation to define where can ML be leveraged further design solutions\n",
      "What You Will Need\n",
      "At least 8 years of experience as a Data Scientist/Machine Learning Engineer, with experience in Python, Unix and specialised in NLP and chatbot\n",
      "A Masters Degree in Computer Science, Statistics, Operation research or other quantitative fields\n",
      "Solid knowledge of Data Science and Machine Learning fundamentals, with proven experience to formulate Data Science solutions to business problems\n",
      "Experience in taking Data Science models from ideation to production\n",
      "Prior experience in building chatbots and NLP ML system and bringing them to production\n",
      "Ability to provide strong technical mentorship to the Data science team working on NLP systems \n",
      "\n",
      "job 16 We are looking for a smart and experienced analytics manager who can lead a team of analysts to build and deploy predictive models to infuse core business functions with deep analytical insights. The Senior Data Scientist will also work closely with the Kinara management team to investigate strategically important business questions.\n",
      "Lead a team through the entire analytical life cycle: define the problem statement build and clean datasets exploratory data analysis\n",
      "apply ML algorithms and assess the performance\n",
      "codify for deployment Communicate Analysis to Stakeholders\n",
      "Manage Data Analysts and Data Scientists\n",
      "computer science/math/engineering from a top university Skills:\n",
      "You should be a deeply curious person with a lot of humility and aptitude in Math and Stats to go along with your technical skills. More specifically:\n",
      "Studies in Data Science/ Stats or other quantitative fields (CS, Eng, Math, Econ)\n",
      "5+ years in an analytical professional role with 3+ years in a leadership role.\n",
      "Excellent communication skills (written, verbal, and data viz). English Fluency.\n",
      "Comfort with programming (eg Python), stats tools (Pandas or R), and SQL.\n",
      "Working knowledge of support tools and utilities (AWS, Git, Airflow, PySpark).\n",
      "Domain knowledge in Financial Services a big plus.\n",
      "Initiative, Energy, Bias for Action, and a commitment to our social mission. \n",
      "\n",
      "job 17   Key Responsibilities:\n",
      "Provide advanced analytical capabilities to support and drive data science initiatives\n",
      "Mines and extracts data and apply statistics and algorithms necessary to derive insights for Org s Digital\n",
      "Supports the generation of an automated insights generation framework for Org s business partners to effectively interpret data\n",
      "Provides actionable insights through data science for Recommendations, SEO and Collections selling\n",
      "Work closely with the product and engineering teams to execute key initiatives\n",
      "Tracks success of Org s through the development of dashboard reports that measure financial results, customer satisfaction, and engagement metrics\n",
      "Conducts deep statistical analysis, including predictive and prescriptive modeling in order to provide a competitive advantage at Org s\n",
      "Maintains expert-level knowledge on industry trends, emerging technologies, and new methodologies and applies it to projects as well as using it to guide team members\n",
      "Leads automation and analytical projects, collaborating across functions in Org s and Org s Digital\n",
      "Job Requirements\n",
      "Required Skills:\n",
      "Industry experience as a Data Scientist and experience in machine learning, data mining, search relevancy ranking, recommender systems or informational retrieval.\n",
      "Hands-on experience with accessing data, Python, machine learning libraries, and deep learning libraries (ex: tensorflow/pytorch/Keras, scikit-learn/scipi, numpy, pandas, Golve, word2vec, fasttext, bert etc.).\n",
      "Ability to improve product discovery by collaborating with other domain teams such as Personalization and Search\n",
      "Fluency in at-least one programming languages such as Python, Scala or Java.\n",
      "Present results and make recommendations in a clear manner to senior leadership\n",
      "Ability to learn new analytical methods and technologies and apply in practical business problems\n",
      "Strong communication skills, ability to interact with diverse team of people across business and engineering.\n",
      "Effective analytical, troubleshooting and problem-solving skills for building systems to process both structured and unstructured data \n",
      "\n",
      "job 18 --- \n",
      "\n",
      "job 19 Be part of something revolutionary\n",
      "We have a vision. Our Digital Brain, o9s AI-powered platform, is being used by global enterprises to drive their digital transformations. The integrated planning and operational efficiencies we provide is helping businesses do more, be more and mean more to the world at large. Because businesses that plan better, reduce waste, creating value for themselves and the planet.\n",
      "But we also have a vision for our people. We want the most talented, committed and driven people to power our transformative approach. In return, we’ll provide a nurturing environment where you can be a part of something special.\n",
      "Job title - Senior Data Scientist / Data Scientist – Customer Success\n",
      "What you’ll do for us\n",
      "Analyze problems by synthesizing complex information, evaluating alternate methods, and articulating the result with the relevant assumptions/reasons\n",
      "Apply a variety of machine learning techniques (clustering, regression, ensemble learning, neural nets, time series, optimizations etc.) to their real-world advantages/drawbacks to develop or optimize planning solutions\n",
      "Actively monitor, validate, root cause and tune statistical, time series, ML, optimization models\n",
      "Optimise, scale & deploy ML models using o9’s open big data cloud platform\n",
      "Evaluate/test additional data streams, parameters, algorithms to enhance models post go-live and develop new models to improve existing ones\n",
      "Responsible for solution usability and uptime by resolving any customer issues in a timely fashion, ensuring accuracy of inputs and outputs\n",
      "Identify any design issues in the existing model and co-ordinate with other o9 consultants and data sceintists to solve the business problem. Be the single point of contact for any platform level upgrade/patch/hot fix.\n",
      "Work with customer data science teams and support Super User and End User training, for a global user base.\n",
      "What you’ll have\n",
      "Mandatory:\n",
      "2+ years of experience in the field of Data Science and Analytics. Data Scientist or Sr Data Scientist will be decided based experience, knowledge, and interview performance.\n",
      "Strong programming skills and experience in using Python and/or R for Data Science\n",
      "Strong analytical techniques, data mining knowledge and proficiency in handling and processing large amounts of data is needed\n",
      "Deep Knowledge of statistical and machine learning algorithms\n",
      "Experience in maintenance and/or building of scalable ML frameworks by identifying and collecting relevant input data, feature engineering, tuning, and testing.\n",
      "Strong presentation and communications skills\n",
      "Bachelors Degree in Computer Science, Mathematics, Statistics, Economics, Engineering or related field\n",
      "Nice to have:\n",
      "Experience in time series forecasting in scale using heuristic based hierarchical best-fit models using algorithms like exponential smoothing, ARIMA, prophet and custom parameter tuning\n",
      "Experience in applied analytical methods in the field of Supply chain and planning, like demand planning, demand sensing, supply planning, market intelligence, optimal assortments/pricing/inventory etc.\n",
      "Experience with SQL, databases and ETL tools or similar is optional but preferred\n",
      "Exposure to distributed data/computing tools: Map/Reduce, Hadoop, Hive, Spark, Gurobi, or related Big Data technologies\n",
      "Experience with Deep Learning frameworks such as Keras, Tensorflow or PyTorch is preferable but not essential\n",
      "Experience in implementing planning applications will be a plus\n",
      "Understanding of Supply Chain Concepts will be preferable\n",
      "What we’ll do for you\n",
      "Competitive salary\n",
      "Exposure: Work with the biggest brands in the world in an international environment\n",
      "Flexibility: Work from home two days a week. Get up a bit later, skip the commute and put the time back into your deadlines.\n",
      "Get social: When we work from home, we play from home with fun after-work activities like Friday Socials. If you’re in the office, feel free to join these events in person.\n",
      "Flat organization: With a very strong entrepreneurial culture (and no corporate politics).\n",
      "Support network: Work with a team you can learn from and every day.\n",
      "Diversity: We pride ourselves on our international working environment.\n",
      "How the process works\n",
      "Apply by clicking the button below.\n",
      "You’ll be contacted by our recruiter, Shivani Anthony, who’ll fill you in on all things at o9, give you some background about the role and get to know you. They’ll contact you either via video call or phone call - whatever you prefer.\n",
      "You may be required to take an online data science test\n",
      "During the interview phase, you will meet with technical panels for 60 minutes. The recruiter will contact you after the interview to let you know if we’d like to progress your application.\n",
      "We will have 3 rounds of Technical discussion followed by an HR discussion\n",
      "Our recruiter will let you know if you’re the successful candidate.\n",
      "\n",
      "Good luck! \n",
      "\n"
     ]
    }
   ],
   "source": [
    "for i in range(9,20):\n",
    "    print(\"job\",i,full_job_description[i],'\\n')"
   ]
  },
  {
   "cell_type": "code",
   "execution_count": 185,
   "metadata": {},
   "outputs": [],
   "source": [
    "final_job_titles3= []\n"
   ]
  },
  {
   "cell_type": "code",
   "execution_count": 186,
   "metadata": {},
   "outputs": [
    {
     "data": {
      "text/plain": [
       "['Data Scientist / Data Analyst -Business Analyst',\n",
       " 'Senior Data Scientist | CES IT LTD | CMMI Level 5',\n",
       " 'Senior Data Scientist | CES IT LTD | CMMI Level 5']"
      ]
     },
     "execution_count": 186,
     "metadata": {},
     "output_type": "execute_result"
    }
   ],
   "source": [
    "for i in range(0,15):\n",
    "    if i == 3 or i== 6 or i == 7 or i == 8 or i == 12:\n",
    "        continue\n",
    "    else:\n",
    "            final_job_titles3.append(job_titlesDS1[i])\n",
    "final_job_titles3\n",
    "    \n",
    "    "
   ]
  },
  {
   "cell_type": "code",
   "execution_count": 187,
   "metadata": {},
   "outputs": [
    {
     "data": {
      "text/plain": [
       "['Data Scientist / Data Analyst -Business Analyst',\n",
       " 'Senior Data Scientist | CES IT LTD | CMMI Level 5',\n",
       " 'Senior Data Scientist | CES IT LTD | CMMI Level 5',\n",
       " 'Senior Data Scientist',\n",
       " 'Senior Data Scientist, Modeling',\n",
       " 'Senior Data Scientist - Credit risk',\n",
       " 'SDE Lead Data Scientist-L3',\n",
       " 'Computational Design Lead Data Scientist-L3',\n",
       " 'Lead Data Scientist',\n",
       " 'Senior Data Scientist - Chatbot & NLP']"
      ]
     },
     "execution_count": 187,
     "metadata": {},
     "output_type": "execute_result"
    }
   ],
   "source": [
    "final_job_titles3"
   ]
  },
  {
   "cell_type": "code",
   "execution_count": 189,
   "metadata": {},
   "outputs": [],
   "source": [
    "final_job_location = []"
   ]
  },
  {
   "cell_type": "code",
   "execution_count": 190,
   "metadata": {},
   "outputs": [
    {
     "data": {
      "text/plain": [
       "['Mumbai, Hyderabad/Secunderabad, Pune, Gurgaon/Gurugram, Chennai, Bangalore/Bengaluru',\n",
       " 'Kolkata, Mumbai, Hyderabad/Secunderabad, Pune, Chennai, Bangalore/Bengaluru, Delhi / NCR',\n",
       " 'Kolkata, Mumbai, Hyderabad/Secunderabad, Pune, Chennai, Bangalore/Bengaluru, Delhi / NCR',\n",
       " 'Pune, Chennai, Bangalore/Bengaluru',\n",
       " 'Kolkata, Gurgaon/Gurugram, Bangalore/Bengaluru, Vadodara, Mumbai (All Areas)',\n",
       " 'Bangalore/Bengaluru',\n",
       " 'Bangalore/Bengaluru',\n",
       " 'Bangalore/Bengaluru',\n",
       " 'Bangalore/Bengaluru',\n",
       " 'Bangalore/Bengaluru']"
      ]
     },
     "execution_count": 190,
     "metadata": {},
     "output_type": "execute_result"
    }
   ],
   "source": [
    "for i in range(0,15):\n",
    "    if i == 3 or i== 6 or i == 7 or i == 8 or i == 12:\n",
    "        continue\n",
    "    else:\n",
    "            final_job_location.append(job_locationDS1[i])\n",
    "final_job_location\n",
    "    \n"
   ]
  },
  {
   "cell_type": "code",
   "execution_count": 191,
   "metadata": {},
   "outputs": [],
   "source": [
    "final_company_name = []"
   ]
  },
  {
   "cell_type": "code",
   "execution_count": 192,
   "metadata": {},
   "outputs": [
    {
     "data": {
      "text/plain": [
       "['Inflexion Analytix Private Limited',\n",
       " 'CES Ltd.',\n",
       " 'CES Ltd.',\n",
       " 'Vijaya Management Services',\n",
       " 'Nielsen',\n",
       " 'Scienaptic Systems',\n",
       " 'Huawei Technologies India Pvt Ltd',\n",
       " 'Huawei Technologies India Pvt Ltd',\n",
       " 'Intel Technology India Pvt Ltd',\n",
       " 'Gojek Tech']"
      ]
     },
     "execution_count": 192,
     "metadata": {},
     "output_type": "execute_result"
    }
   ],
   "source": [
    "for i in range(0,15):\n",
    "    if i == 3 or i== 6 or i == 7 or i == 8 or i == 12:\n",
    "        continue\n",
    "    else:\n",
    "            final_company_name.append(company_nameDS1[i])\n",
    "final_company_name\n",
    "    "
   ]
  },
  {
   "cell_type": "code",
   "execution_count": 193,
   "metadata": {},
   "outputs": [],
   "source": [
    "final_job_description = []"
   ]
  },
  {
   "cell_type": "code",
   "execution_count": 194,
   "metadata": {},
   "outputs": [
    {
     "data": {
      "text/plain": [
       "[\"Job Role : Data Scientist/Data Analyst /Business Analyst\\n\\nLocation : Chennai/Bangalore/Hyderabad/Pune/Mumbai/Delhi\\n\\nGreetings from CAIA - Center for Artificial Intelligence & Advanced Analytics\\n43% of companies experienced a high deficit of skilled resources with Advanced Analytical skills and AI implementing capabilities in year 2020. CAIA gives you a great opportunity to enter the world of future technologies and Innovations- Data Science, Analytics, AI, Data Visualization and Cloud Computing.\\n\\nWhile 2020 was a year like no other, we are living in an interesting times where data is reshaping the world, and businesses are rapidly adopting technology to gain an edge over others. Hence, there's a substantial increase in demand for technology professionals who can implement systems in data science, machine learning and AI in Tier 1 and Tier 2 organization's working closely with us.\\n\\nTo help you build a sustainable career we would like you to utilize data, software and Analytical approaches in Data Science and AI to up skill and get recruited into an organization appreciating your skilling journey.\\nApplications invited from all Freshers and experienced candidates (0-3 yrs) aspiring to make a career in Artificial Intelligence and Advanced Analytics and Data Science.\\nIf you wish to make a shift in your career or undergo a career transition, upskilling is essential since it allows you to learn more about the domain and acquire the required skills.\\n\\nCall to schedule interview Monday -Saturday from 10:00 am to 7Pm\\n\\nManigandan -+91 7299917200\\n\\nEmail : manigandan@centerforaia.com\\n\\nWhat is needed from you?\\n\\nFreshers who wish to start their career in Analytics and AI and professionals who wish to\\nupskill or change their domain to analytics and emerging technologies are free to apply.\\nAn Educational background in any one of the following- BE/B.Tech, ME/M Tech, MSc, BSc/MSc Maths and Statistics, B Com, BCA, BSc CS, BSC IT, MSC IT, MCA\\nSkills relating to Mathematics/Statistics.\\nNatural passion towards numbers, business, coding, Analytics and Artificial Intelligence, Machine Learning, visualization\\nGood verbal and written communication skills\\nAbility to understand domains in businesses across various sectors\\n\\n\\nSelection procedure includes\\n\\nAptitude Test & Communication Exam - Online / Offline\\nSQL/Python test - Online / Offline\\n\\nCandidates who clears the above will have one-one discussion with our Career Guidance Manager for further evaluation and processing of your Resume.\\n\\n\\nAll the Shortlisted candidates will be eligible to continue the corporate training with CAIA\\nWhat you can expect from us?\\n\\nYou will get trained on the following modules for a period of 12-14 weeks:\\n\\nSQL & PLSQL\\nData Wrangling using Python\\nData Visualization Using Power-BI\\nStatistics for Machine Learning\\nArtificial Intelligence, Data Interpretation\\nSupervised & Unsupervised Learning,\\nNLP & Deep Learning\\nCloud Data Lake\\nBusiness intelligence & Data Visualization\\nSimulation Projects\\nExpected Outcome?\\n\\nAt the end of the Training you are expected to be well versed with the following:\\n\\nAnalysis of large and complex data sets from multiple sources\\nDevelopment and evaluation of data analytics models, algorithms and solutions\\nUnderstanding/implementation of ML algorithms, performance tuning and reporting\\nImplementation of algorithms to mine targeted data and the ability to convert data in to a business story\\nTranslation of business requirements into technical requirements; Data extraction, preparation and transformation\\nIdentification, development and implementation of statistical techniques and algorithms that address business challenges and adds value to the organization\\nRequirement Analysis and communication of findings in the form of a meaningful story with the stakeholders\\nFinding analytical solutions to abstract business issues.\\nApply objective analysis of facts before coming to a conclusion\\n\\nAbout CAIA - Inflexion Analytix Private Limited\\n\\nCenter for Artificial Intelligence and Advanced Analytics (Center for AIA) is the brainchild of experienced and visionary alumni of IIT Madras and Bombay.\\nDigital leaders - 5F World and Systech Solutions have joined hands to create a venture for architecting the future of society, workforce, governments and businesses. 5F World specializes in designing solutions around digital platforms and Systech Solutions has an expertise in architecting Artificial Intelligence and Advance Analytics solutions for Fortune 500 companies.\\nOur Website : http://www.centerforaia.com/\\n\\nhttps://inflexion-analytix-private-limited.business.site/?m=true\\n\\nCenter for Artificial Intelligence & Advanced Analytics (CAIA) focuses on the following:\\n\\n1. Global Research on emerging trends, technologies and applications in AI and Advanced Analytics\\n2. Advanced Training programs for readying the future ready workforce\\n3. Solutions to herald the futuristic lifestyle and workspaces in the field of AI and Data Science.\",\n",
       " 'Roles and Responsibilities\\n\\nMandatory Skills\\n- Python Programming\\n- Strong OOPS Concepts\\n- Strong knowledge in CS fundamentals - Datastructures, algorithm design & Problem-solving\\n- Experience in workflow management platforms like - Apache Airflow, pachyderm, MLFlow\\n- AWS Lambda, Step Functions, State Machines, setting up data pipelines.\\n- Must have experience in working in a Rapid Prototyping environment. Be able to take the initiative and work with minimum guidance and requirements.\\nNice to Have\\nExperience in Machine Learning - Pandas, Scikit-Learn, EDA, PCA, other Data preprocessing techniques\\nExperience in any Infrastructure as code platform like Terraform, AWS CloudFormation.\\nOther Pre-Requisites\\nMust be extremely detail and technology-oriented and possess excellent communications skills.\\nMust have experience and be willing to work in a Rapid Prototyping environment as well.\\nProactive, driven individual with a strong work ethics\\nMust be able to take complete ownership of tasks in the project.\\nPassion for achieving excellence in technical, process, product quality and reliability.\\nStrong in troubleshooting and root cause analysis abilities\\nPerks and Benefits\\n\\nKindly share your resume to kandavelkumar.lakshmanan @cesltd.com',\n",
       " 'Roles and Responsibilities\\n\\nMandatory Skills\\n- Python Programming\\n- Strong OOPS Concepts\\n- Strong knowledge in CS fundamentals - Datastructures, algorithm design & Problem-solving\\n- Experience in workflow management platforms like - Apache Airflow, pachyderm, MLFlow\\n- AWS Lambda, Step Functions, State Machines, setting up data pipelines.\\n- Must have experience in working in a Rapid Prototyping environment. Be able to take the initiative and work with minimum guidance and requirements.\\nNice to Have\\nExperience in Machine Learning - Pandas, Scikit-Learn, EDA, PCA, other Data preprocessing techniques\\nExperience in any Infrastructure as code platform like Terraform, AWS CloudFormation.\\nOther Pre-Requisites\\nMust be extremely detail and technology-oriented and possess excellent communications skills.\\nMust have experience and be willing to work in a Rapid Prototyping environment as well.\\nProactive, driven individual with a strong work ethics\\nMust be able to take complete ownership of tasks in the project.\\nPassion for achieving excellence in technical, process, product quality and reliability.\\nStrong in troubleshooting and root cause analysis abilities\\nPerks and Benefits\\n\\nKindly share your resume to kandavelkumar.lakshmanan @cesltd.com',\n",
       " '.\\nRoles and Responsibilities\\nAnalyze structured and unstructured data at scale to derive new insights and opportunities.\\nBuild and validate predictive models.\\nAdvise clients and project teams on leading data science practices.\\nCreate data-driven business recommendations.\\nContribute to internal research and development efforts in cutting edge areas including NLP, graph analytics, and deep learning / AI.\\nSkills and attributes for success\\nFostering an innovative and inclusive team-oriented work environment\\nLeading and coaching diverse teams of professionals with different backgrounds\\nDemonstrating in-depth technical capabilities and professional knowledge\\nEstablishing strong relationships with the clients\\nWorking in an entrepreneurial environment to pave your own career path\\n\\n\\nDesired Candidate Profile\\n\\nA MSc in a technical field like Computer Science, Econometrics, Mathematics, Engineering, or a related field .\\n3+ years practical experience with advanced machine learning techniques and big data technologies.\\n3+ years working with data and relevant computational frameworks and systems.\\nAn understanding of the latest industry developments in Big Data and AI such as graph databases, Natural Language Processing, and neural networks.\\nA thorough understanding of common languages and libraries used in machine learning (such as Spark or Python. Experience with big data tools, Hive, Databricks, Neo4j, etc. a plus)\\nExcellent business, communication, and presentation skills (experience in health insurance services domains a plus, but not required)\\nThe ability to translate complex information into non-technical, easy to understand language.\\nIdeally, you will also have\\nA PhD in a technical field like Computer Science, Econometrics, Mathematics, Engineering, or a related field\\nPerks and Benefits\\nAnnual CTC: Rupees 5,00,000 to 15,00,000 (willing to pay more if have good experience)',\n",
       " 'We wont say we can predict the future, but our team of Analysts get pretty close, they turn millions of data points into useful information & insights that help our clients to make better decisions on their marketing mix and achieve superior results. Be part of the future and join in on one of the major transformations in the market research industry with the integration of big data and classic marketing mix analysis.\\n\\nResponsibilities:\\nDeliver as a part of our consultant team in driving high quality results on custom project work\\nEnsure effective and timely delivery of project work\\nWork towards understanding statistical models and deliver business insights and findings\\nEnsure compliance to Marketing Mix Modeling modeling practices and company quality standards\\nMaximize the efficient and effective use of resources by utilizing appropriate processes and tools\\nTo build and maintain effective contacts with other departments to ensure the efficient and effective use of resources\\nLiaise with appropriate Marketing Mix Modeling and Nielsen departments to ensure hardware and software requirements are fulfilled\\nWork with co/ third party modellers to deliver business insights and findings\\n\\nQualifications and Skills\\n2-5 years of relevant experience\\nMasters degree in Economics, Mathematics, Statistics, Engineering\\nIn-depth understanding of statistical modeling techniques and applications\\nGood and working knowledge of any statistical languages like SAS, R, Pythons\\nSolid proficiency of decision making and problem resolution skills\\nPassion for results with a challenger mindset\\n\\nAbout the Team:\\nGlobal Product, Technology & Operations supports Nielsen Medias growth strategy by enabling positive client and market solutions. Our Operations Team is in a unique position as the center of data collection, analysis and delivery. We deliver outcomes with the highest quality and integrity standards in an agile and transparent way while standing by our Nielsen values.',\n",
       " 'Responsibilities and duties Focus on developing clear and concise analytical approach for problem solving with client partnership\\nStrong understanding of ML libraries and applications e.g. Neural Net, SVMs, boosting methods and implementation using R/Python. Should have academic paper level understanding of math e.g. linear algebra, calculus etc.\\nAbility to code on SAS/R for data munging, analysis and insights and/or languages like Python for creating efficient production ready code\\nManaging delivery of projects including timely communication, setting milestones and tracking Generating actionable insights for business/KPI improvements Ability to work independently, structure analyses and handle multiple priorities Develop and Maintaining Credit Risk Models Strategies Rich experience in at least one production ready deployment of Machine Learning algorithms is a plus. Experience in working on real life large messy dataset to solve real business problems. Kaggle experience is a plus.\\n  Skills Competencies: Experience in Financial Services/ Fintech/ BFSI along with Credit Risk in Retail Banking and Data Science 5 years of experience in building predictive models (Application Scorecard, Behaviour Scorecard, Collection Score Card, Loan Pricing, Loss Forecasting, Cross Sell Model) Experienced Statistical software skills (e.g. SAS, R, Python Strong understanding of ML libraries and applications. Strong experience in leading credit risk model development, validation, deployment, and documentation Analytically oriented with ability to grasp complex risk management strategies, processes, models and draw insights / identify areas of opportunity\\nStrong track record of delivering on high value / critical projects. Ability to communicate with senior stakeholders crisply and confidently on findings, status, bottlenecks, and escalations\\nProven track record of delivering in a start-up environment would be a plus Strong written and oral communication skills',\n",
       " 'Business & Team overview:\\nFounded in 1987, Huawei is a leading global provider of ICT (information and communications technology) infrastructure and smart devices. We are committed to bringing digital to every person, home and organization for a fully connected, intelligent world. We have nearly 194,000 employees, and we operate in more than 170 countries and regions, serving more than 3 billion people around the world.\\n\\nHuawei Technologies has three business directions: Carrier Business Group, which provides innovative and secure network equipment to telecom carriers, including the leading 5G mobile network.\\nEnterprise Business Group, which provides facilities and solutions to big and small companies, including IT facilities.\\nConsumer Business Groups, which provides devices to the customer, including mobile phones, PC, tablet, TV, audio, glasses, watches, locomotives, and headphones. And also provide solutions on mobile offices, smart homes, sports and health, audio-visual entertainment, and smart travel products.\\n\\nThis opportunity is belong to Huawei Consumer Business Group.\\n\\nDriven by the coordinated development of \"Chip-Device-Cloud\", consumer products such as smartphones are becoming increasingly intelligent and pervasive. The era of smart services is the future.\\n\\nHuawei Ads Services is dedicated to provide Huawei end-users with high-quality digital experiences, to build a business closed-loop system for Developers and Improve the ROI for the Advertisers\\n.\\nIn 2020 Q1, along with more than 650 million users and 1,400,000 registered developers worldwide, we have the following unique advantages:\\n1. With All-scenario intelligent solution, the Huawei devices become super entrance of traffic, including mobile phones, PC, tablet, TV, audio, glasses, watches, locomotives, and head phones\\n2. This team will be responsible for building a new Ad Serving Platform and have the opportunity to define the product for our Huawei end-users.\\n3. AI-Driven is the direction of Ads, Huawei is going to build a strong team in India to Innovate and deliver AI-driven Smart Ad Serving Platforms\\n\\nJob Title: Lead Data Scientist\\nWe are looking for a Lead data scientist who will help us discover the information hidden in vast amounts of Ad Campaign data, and help us to optimize the campaign to improve the advertiser ROI and improve the overall consumer experience. Your primary focus will be in applying data mining techniques, doing statistical analysis, and building high quality prediction systems using Deep learning algorithms integrated with our products. Some the key area you will be working on spend recommendation, floor price prediction, CTR/CVR prediction, market funnel analysis and perdition of lead to conversion, etc.\\n\\nResponsibility:\\nAnalyze the data, develop insights and identify the opportunity to utilize the data to predict various Advertisement key indicators like CTR, CVR, Inventory and Develop prediction and optimization algorithms for campaign, look alike modeling, etc for Huawei Ads.\\nTakeup key challenges in AI-driven Smart Ad Serving Platform and focus on research and developing leading AI algorithms and productionize for Huawei Ads.\\nTakeup initiative in identifying the SOTA and finding key gaps in AI algorithms and develop a world leading AI algorithms for optimizing real-time Ad Serving engine. Identify and optimize the core modules such as Traffic Prediction, Optimization, Ad Targeting/Re-targeting, Ad Performance Optimization, Audience insights, Attribution, Bidding, re-ranking, and Diagnostics. Support hundreds of billions of ad requests per day, with efficiently cache technology.\\nTo build and enhance Ad platform features and Prediction capabilities in Huawei Ads Platform\\nOptimized Cost Per Mille; Optimized Cost Per Action; Optimized Cost Per Click and Cost per Click. OCPM, OCPA, OCPC.\\n\\nRequirements:\\n- Strong hands-on experience in implementing and validating big data algorithms and models including Deep Learning models like Seq2Seq/ GRU/RNN/LSTM , Knowledge Graph, Massive Graph algorithms, etc.\\n- Programming experience with Python\\n- Able to validate existing models including Deep Learning models with large scale dataset and able to make changes to the models to achieve better performance\\n- AdServing domain Experience is an added advantage',\n",
       " 'Business & Team overview:\\nFounded in 1987, Huawei is a leading global provider of ICT (information and communications technology) infrastructure and smart devices. We are committed to bringing digital to every person, home and organization for a fully connected, intelligent world. We have nearly 194,000 employees, and we operate in more than 170 countries and regions, serving more than 3 billion people around the world.\\n\\nHuawei Technologies has three business directions: Carrier Business Group, which provides innovative and secure network equipment to telecom carriers, including the leading 5G mobile network.\\nEnterprise Business Group, which provides facilities and solutions to big and small companies, including IT facilities.\\nConsumer Business Groups, which provides devices to the customer, including mobile phones, PC, tablet, TV, audio, glasses, watches, locomotives, and headphones. And also provide solutions on mobile offices, smart homes, sports and health, audio-visual entertainment, and smart travel products.\\n\\nThis opportunity is belong to Huawei Consumer Business Group.\\n\\nDriven by the coordinated development of \"Chip-Device-Cloud\", consumer products such as smartphones are becoming increasingly intelligent and pervasive. The era of smart services is the future.\\nHuawei Ads Services is dedicated to provide Huawei end-users with high-quality digital experiences, to build a business closed-loop system for Developers and Improve the ROI for the Advertisers\\n.\\nIn 2020 Q1, along with more than 650 million users and 1,400,000 registered developers worldwide, we have the following unique advantages:\\n1. With All-scenario intelligent solution, the Huawei devices become super entrance of traffic, including mobile phones, PC, tablet, TV, audio, glasses, watches, locomotives, and head phones\\n2. This team will be responsible for building a new Ad Serving Platform and have the opportunity to define the product for our Huawei end-users.\\n3. AI-Driven is the direction of Ads, Huawei is going to build a strong team in India to Innovate and deliver AI-driven Smart Ad Serving Platforms\\n\\n1. Job Title: Computational Design Lead Data Scientist\\n\\nResponsibility:\\nTake-up Key creative tools of the creative platform for Advertisers, research and develop breakthrough CNN based deep learning algorithms to solve the problem unique in the industry and productionize the algorithms, measure the ad creative performance and enhance the algorithm to ease the Ad Designer job.\\nDevelop the common AI platforms and frameworks to ease the experimentation of the Algorithms for creative Design.\\nTo build ability to understand the advertisers intent and provide creative assistance every step of creating all types of adverts\\nResponsible for intelligent identification of advertising creatives (pictures, videos) and related algorithms of content understanding.\\nResponsible for Image Synthesis, Intelligent Layout, Style Transfer, and other image processing, computing and visual processing, to improve the aesthetic level of advertising creativity.\\nResponsible for designing algorithms for suggesting how to intelligently crop and position an image for maximum effect, identify the optimal placement of text and copywriting.\\nResponsible for the algorithm and model of dynamic matching of advertising program creativity and dynamic creation of advertising content\\n\\nRequirements:\\nDeep knowledge of Computational Design\\nExperience on Intelligent composition, including image cropping, smart layout, the Gold Ratio composition, visual extension.\\nExperience computer vision models, including image/video recognition and content understanding.\\nExperience in algorithms such as image and video segmentation, separation, synthesis, and intelligent layout with engineering platform implementation capability.\\nStrong Knowledge Algorithms such as Image segmentation, object detection, Image processing (filtering, noise removal, histogram thresholding, etc.), object tracking, image transformation (affine transform, dewarping), keypoint detection/description, etc (and experience in using Computer vision Libraries)\\nStrong Knowledge in CNN, R-CNN, GAN, LSTM, GRU, Multimodal feature Learning, ASR, NLU, NLG, Copywriting and KG will be an added advantage\\nStrong logic/probability thinking ability and be good at analyzing, summarizing, describing, communicating, and solving problems\\nWorking experience in related online advertising products/creative platform is preferred\\nWorking experience in Computer Vision (CV) to enhance user artistic creativity while creating creatives/adverts is preferred\\nAbility to identify trends of advertising creative platform.',\n",
       " 'We are seeking an outstanding Lead Data Scientist in AI/ML who will help our team continue to grow and bring high value to Intel. In this role you should demonstrate excellent problem formulation/definition skills in addition to technical skills. The ideal candidate should be:\\n\\nA professional role model with deep and wide expertise in state-of-the-art AI/ML techniques, a passion for solving challenging data science problems and extensive hands-on experience.\\nBe detail-oriented and have an aptitude for solving unstructured problems. You should be excellent in coming up with different approaches to solve business problem using AI and evaluate the trade-off between them.\\nBe self-directed, take charge of opportunities with business impact and drive them to completion.\\nHave prior experience in guiding a team of data scientists, coaching and mentoring them.\\nHave deep technical expertise in feature-engineering of massive datasets, effective exploratory data analysis, and model building using AI/ML techniques.\\nBe a role model innovator by adapting new AI/ML modeling techniques and procedures.\\nHave deep expertise in creation and management of datasets.\\nHave excellent business and communication skills to be able to work with stakeholders like the business teams, engineering teams and partner teams and align them with respect to your focus area.\\nHave the ability to manage and execute an entire AI project from start to finish, including problem solving, data gathering and manipulation, predictive modeling, and project management skills.\\nBe a role-model in storytelling with data and articulating the AI problems in an understandable manner to senior leadership of the Business Units.\\n\\nYou will be a part of the large global AI/ML Research Scientist community and will have access to state-of-the-art training, tools, and methods of the domain.\\n\\n\\nCandidates need to hold at least a masters degree (or higher) in Computer Science/Machine Learning/AI/Data Science\\n8 years of relevant experience in building AI/ML models and in using Python (Scikit-learn, TensorFlow/Pytorch) and SQL (or equivalent).\\nExperience in using data analysis techniques and ML methods like classification, regression pattern finding, clustering, dimensionality reduction, anomaly detection etc.\\nExperience with Hadoop, Spark is an advantage\\nDeep Knowledge of classical AI algorithms and Deep Learning techniques is a must.\\nGreat analytical skills and demonstrated ability of independent and creative thinking.\\nHighly motivated strong team player with the ability to work both independently and collaboratively within a team.\\nHas strong analytical skills, including the abilities to scope out business problems to be solved, start from ambiguous problem statements, identify and access relevant data, make appropriate assumptions, perform insightful analysis and draw conclusions relevant to the business problem.\\nAbility to present information professionally and concisely with supporting data.\\nPrevious experience as a data scientist in semi-conductor industry or data intensive organizations is a plus.\\nExperience in creating powerful data driven visualizations to describe ML modeling results to stakeholders.',\n",
       " 'What You Will Do\\nWork with Data Scientists, Machine Learning Engineers, and Business Users to build, deploy, and scale Data Science solutions on chatbots and intend detection models for instance\\nUse your experience in Data Science, Machine Learning, Software Engineering, and distributed systems to develop these system; work with the engineering team to take the systems to production\\nDesign and develop world class Data Science solutions to bring ML chatbot technology to life at Gojek\\nBecome Chatbot and NLP expert at Gojek, influence the roadmap and build ML systems; be a hands-on technical leader\\nPartner with PMs and Operation to define where can ML be leveraged further design solutions\\nWhat You Will Need\\nAt least 8 years of experience as a Data Scientist/Machine Learning Engineer, with experience in Python, Unix and specialised in NLP and chatbot\\nA Masters Degree in Computer Science, Statistics, Operation research or other quantitative fields\\nSolid knowledge of Data Science and Machine Learning fundamentals, with proven experience to formulate Data Science solutions to business problems\\nExperience in taking Data Science models from ideation to production\\nPrior experience in building chatbots and NLP ML system and bringing them to production\\nAbility to provide strong technical mentorship to the Data science team working on NLP systems']"
      ]
     },
     "execution_count": 194,
     "metadata": {},
     "output_type": "execute_result"
    }
   ],
   "source": [
    "for i in range(0,15):\n",
    "    if i == 3 or i== 6 or i == 7 or i == 8 or i == 12:\n",
    "        continue\n",
    "    else:\n",
    "            final_job_description.append(full_job_description[i])\n",
    "final_job_description"
   ]
  },
  {
   "cell_type": "code",
   "execution_count": 195,
   "metadata": {},
   "outputs": [],
   "source": [
    "#creating data frame"
   ]
  },
  {
   "cell_type": "code",
   "execution_count": 197,
   "metadata": {},
   "outputs": [],
   "source": [
    "Data_ScientistJ1 = pd.DataFrame({})"
   ]
  },
  {
   "cell_type": "code",
   "execution_count": 198,
   "metadata": {},
   "outputs": [],
   "source": [
    "Data_ScientistJ1[\"Job Title\"] = final_job_titles3\n",
    "Data_ScientistJ1[\"Company Name\"] = final_company_name\n",
    "Data_ScientistJ1[\"Job Location\"] = final_job_location\n",
    "Data_ScientistJ1[\"Job Description\"] = final_job_description"
   ]
  },
  {
   "cell_type": "code",
   "execution_count": 199,
   "metadata": {},
   "outputs": [
    {
     "data": {
      "text/html": [
       "<div>\n",
       "<style scoped>\n",
       "    .dataframe tbody tr th:only-of-type {\n",
       "        vertical-align: middle;\n",
       "    }\n",
       "\n",
       "    .dataframe tbody tr th {\n",
       "        vertical-align: top;\n",
       "    }\n",
       "\n",
       "    .dataframe thead th {\n",
       "        text-align: right;\n",
       "    }\n",
       "</style>\n",
       "<table border=\"1\" class=\"dataframe\">\n",
       "  <thead>\n",
       "    <tr style=\"text-align: right;\">\n",
       "      <th></th>\n",
       "      <th>Job Title</th>\n",
       "      <th>Company Name</th>\n",
       "      <th>Job Location</th>\n",
       "      <th>Job Description</th>\n",
       "    </tr>\n",
       "  </thead>\n",
       "  <tbody>\n",
       "    <tr>\n",
       "      <th>0</th>\n",
       "      <td>Data Scientist / Data Analyst -Business Analyst</td>\n",
       "      <td>Inflexion Analytix Private Limited</td>\n",
       "      <td>Mumbai, Hyderabad/Secunderabad, Pune, Gurgaon/...</td>\n",
       "      <td>Job Role : Data Scientist/Data Analyst /Busine...</td>\n",
       "    </tr>\n",
       "    <tr>\n",
       "      <th>1</th>\n",
       "      <td>Senior Data Scientist | CES IT LTD | CMMI Level 5</td>\n",
       "      <td>CES Ltd.</td>\n",
       "      <td>Kolkata, Mumbai, Hyderabad/Secunderabad, Pune,...</td>\n",
       "      <td>Roles and Responsibilities\\n\\nMandatory Skills...</td>\n",
       "    </tr>\n",
       "    <tr>\n",
       "      <th>2</th>\n",
       "      <td>Senior Data Scientist | CES IT LTD | CMMI Level 5</td>\n",
       "      <td>CES Ltd.</td>\n",
       "      <td>Kolkata, Mumbai, Hyderabad/Secunderabad, Pune,...</td>\n",
       "      <td>Roles and Responsibilities\\n\\nMandatory Skills...</td>\n",
       "    </tr>\n",
       "    <tr>\n",
       "      <th>3</th>\n",
       "      <td>Senior Data Scientist</td>\n",
       "      <td>Vijaya Management Services</td>\n",
       "      <td>Pune, Chennai, Bangalore/Bengaluru</td>\n",
       "      <td>.\\nRoles and Responsibilities\\nAnalyze structu...</td>\n",
       "    </tr>\n",
       "    <tr>\n",
       "      <th>4</th>\n",
       "      <td>Senior Data Scientist, Modeling</td>\n",
       "      <td>Nielsen</td>\n",
       "      <td>Kolkata, Gurgaon/Gurugram, Bangalore/Bengaluru...</td>\n",
       "      <td>We wont say we can predict the future, but our...</td>\n",
       "    </tr>\n",
       "    <tr>\n",
       "      <th>5</th>\n",
       "      <td>Senior Data Scientist - Credit risk</td>\n",
       "      <td>Scienaptic Systems</td>\n",
       "      <td>Bangalore/Bengaluru</td>\n",
       "      <td>Responsibilities and duties Focus on developin...</td>\n",
       "    </tr>\n",
       "    <tr>\n",
       "      <th>6</th>\n",
       "      <td>SDE Lead Data Scientist-L3</td>\n",
       "      <td>Huawei Technologies India Pvt Ltd</td>\n",
       "      <td>Bangalore/Bengaluru</td>\n",
       "      <td>Business &amp; Team overview:\\nFounded in 1987, Hu...</td>\n",
       "    </tr>\n",
       "    <tr>\n",
       "      <th>7</th>\n",
       "      <td>Computational Design Lead Data Scientist-L3</td>\n",
       "      <td>Huawei Technologies India Pvt Ltd</td>\n",
       "      <td>Bangalore/Bengaluru</td>\n",
       "      <td>Business &amp; Team overview:\\nFounded in 1987, Hu...</td>\n",
       "    </tr>\n",
       "    <tr>\n",
       "      <th>8</th>\n",
       "      <td>Lead Data Scientist</td>\n",
       "      <td>Intel Technology India Pvt Ltd</td>\n",
       "      <td>Bangalore/Bengaluru</td>\n",
       "      <td>We are seeking an outstanding Lead Data Scient...</td>\n",
       "    </tr>\n",
       "    <tr>\n",
       "      <th>9</th>\n",
       "      <td>Senior Data Scientist - Chatbot &amp; NLP</td>\n",
       "      <td>Gojek Tech</td>\n",
       "      <td>Bangalore/Bengaluru</td>\n",
       "      <td>What You Will Do\\nWork with Data Scientists, M...</td>\n",
       "    </tr>\n",
       "  </tbody>\n",
       "</table>\n",
       "</div>"
      ],
      "text/plain": [
       "                                           Job Title  \\\n",
       "0    Data Scientist / Data Analyst -Business Analyst   \n",
       "1  Senior Data Scientist | CES IT LTD | CMMI Level 5   \n",
       "2  Senior Data Scientist | CES IT LTD | CMMI Level 5   \n",
       "3                              Senior Data Scientist   \n",
       "4                    Senior Data Scientist, Modeling   \n",
       "5                Senior Data Scientist - Credit risk   \n",
       "6                         SDE Lead Data Scientist-L3   \n",
       "7        Computational Design Lead Data Scientist-L3   \n",
       "8                                Lead Data Scientist   \n",
       "9              Senior Data Scientist - Chatbot & NLP   \n",
       "\n",
       "                         Company Name  \\\n",
       "0  Inflexion Analytix Private Limited   \n",
       "1                            CES Ltd.   \n",
       "2                            CES Ltd.   \n",
       "3          Vijaya Management Services   \n",
       "4                             Nielsen   \n",
       "5                  Scienaptic Systems   \n",
       "6   Huawei Technologies India Pvt Ltd   \n",
       "7   Huawei Technologies India Pvt Ltd   \n",
       "8      Intel Technology India Pvt Ltd   \n",
       "9                          Gojek Tech   \n",
       "\n",
       "                                        Job Location  \\\n",
       "0  Mumbai, Hyderabad/Secunderabad, Pune, Gurgaon/...   \n",
       "1  Kolkata, Mumbai, Hyderabad/Secunderabad, Pune,...   \n",
       "2  Kolkata, Mumbai, Hyderabad/Secunderabad, Pune,...   \n",
       "3                 Pune, Chennai, Bangalore/Bengaluru   \n",
       "4  Kolkata, Gurgaon/Gurugram, Bangalore/Bengaluru...   \n",
       "5                                Bangalore/Bengaluru   \n",
       "6                                Bangalore/Bengaluru   \n",
       "7                                Bangalore/Bengaluru   \n",
       "8                                Bangalore/Bengaluru   \n",
       "9                                Bangalore/Bengaluru   \n",
       "\n",
       "                                     Job Description  \n",
       "0  Job Role : Data Scientist/Data Analyst /Busine...  \n",
       "1  Roles and Responsibilities\\n\\nMandatory Skills...  \n",
       "2  Roles and Responsibilities\\n\\nMandatory Skills...  \n",
       "3  .\\nRoles and Responsibilities\\nAnalyze structu...  \n",
       "4  We wont say we can predict the future, but our...  \n",
       "5  Responsibilities and duties Focus on developin...  \n",
       "6  Business & Team overview:\\nFounded in 1987, Hu...  \n",
       "7  Business & Team overview:\\nFounded in 1987, Hu...  \n",
       "8  We are seeking an outstanding Lead Data Scient...  \n",
       "9  What You Will Do\\nWork with Data Scientists, M...  "
      ]
     },
     "execution_count": 199,
     "metadata": {},
     "output_type": "execute_result"
    }
   ],
   "source": [
    "Data_ScientistJ1"
   ]
  },
  {
   "cell_type": "code",
   "execution_count": 719,
   "metadata": {},
   "outputs": [],
   "source": [
    "#Done"
   ]
  },
  {
   "cell_type": "markdown",
   "metadata": {},
   "source": [
    "# Question no.3 \n",
    "\n",
    "You have to scrape data for “Data Scientist” designation for first 10 job results.\n",
    "\n",
    "job-title, job-location, company_name, experience_required."
   ]
  },
  {
   "cell_type": "code",
   "execution_count": 741,
   "metadata": {},
   "outputs": [],
   "source": [
    "url1 = \"https://www.naukri.com/\""
   ]
  },
  {
   "cell_type": "code",
   "execution_count": 742,
   "metadata": {},
   "outputs": [],
   "source": [
    "drivers.get(url1)"
   ]
  },
  {
   "cell_type": "code",
   "execution_count": 743,
   "metadata": {},
   "outputs": [],
   "source": [
    "search_tab1 = drivers.find_element_by_id(\"qsb-keyword-sugg\")"
   ]
  },
  {
   "cell_type": "code",
   "execution_count": 744,
   "metadata": {},
   "outputs": [],
   "source": [
    "search_locGD = drivers.find_element_by_id(\"qsb-location-sugg\")"
   ]
  },
  {
   "cell_type": "code",
   "execution_count": 745,
   "metadata": {},
   "outputs": [],
   "source": [
    "search_btn1 = drivers.find_element_by_xpath(\"//button[@class = 'btn']\")"
   ]
  },
  {
   "cell_type": "code",
   "execution_count": 746,
   "metadata": {},
   "outputs": [],
   "source": [
    "search_tab1.send_keys(\"Data Scientist\")"
   ]
  },
  {
   "cell_type": "code",
   "execution_count": 747,
   "metadata": {},
   "outputs": [],
   "source": [
    "search_btn1.click()"
   ]
  },
  {
   "cell_type": "code",
   "execution_count": 749,
   "metadata": {},
   "outputs": [],
   "source": [
    "job_tilesDNC = drivers.find_elements_by_xpath(\"//a[@class = 'title fw500 ellipsis']\")"
   ]
  },
  {
   "cell_type": "code",
   "execution_count": 750,
   "metadata": {},
   "outputs": [
    {
     "data": {
      "text/plain": [
       "['Data Scientist / Data Analyst -Business Analyst',\n",
       " 'Business Analyst- Data Scientist',\n",
       " 'Data Scientist - High growth VC backed Influencer Marketplace',\n",
       " 'Data Scientist',\n",
       " 'Data Scientist',\n",
       " 'DATA Scientist – Gurgaon (Exp 3-6 years)',\n",
       " 'DATA Scientist – Gurgaon (Exp 3-6 years)',\n",
       " 'Data Scientist - Noida',\n",
       " 'Data Scientist',\n",
       " 'Data Scientist']"
      ]
     },
     "execution_count": 750,
     "metadata": {},
     "output_type": "execute_result"
    }
   ],
   "source": [
    "job_titlesDNC1 = []\n",
    "for i in job_tilesDNC[0:10]:\n",
    "    job_titlesDNC1.append(i.text)\n",
    "job_titlesDNC1"
   ]
  },
  {
   "cell_type": "code",
   "execution_count": 754,
   "metadata": {},
   "outputs": [],
   "source": [
    "job_location_DNC = drivers.find_elements_by_xpath(\"//li[@class = 'fleft grey-text br2 placeHolderLi location']\")"
   ]
  },
  {
   "cell_type": "code",
   "execution_count": 755,
   "metadata": {},
   "outputs": [
    {
     "data": {
      "text/plain": [
       "['Mumbai, Hyderabad/Secunderabad, Pune, Gurgaon/Gurugram, Chennai, Bangalore/Bengaluru',\n",
       " 'Noida, Gurgaon/Gurugram',\n",
       " 'Bangalore/Bengaluru, Delhi / NCR, Mumbai (All Areas)',\n",
       " 'Bharuch, Jaipur, Bhopal, Mumbai, Jhansi, Nagpur, Ghaziabad, Jaunpur, Kanpur, New Delhi, Lucknow, Agra, Gurgaon/Gurugram, Rajkot, Bangalore/Bengaluru',\n",
       " 'New Delhi, Gurgaon/Gurugram, Delhi / NCR',\n",
       " 'Gurgaon/Gurugram, Delhi / NCR',\n",
       " 'Gurgaon/Gurugram, Delhi / NCR',\n",
       " 'Noida',\n",
       " 'Noida, Hyderabad/Secunderabad, Bangalore/Bengaluru',\n",
       " 'Noida']"
      ]
     },
     "execution_count": 755,
     "metadata": {},
     "output_type": "execute_result"
    }
   ],
   "source": [
    "job_location_DNC1 = []\n",
    "for i in job_location_DNC[0:10]:\n",
    "    job_location_DNC1.append(i.text)\n",
    "job_location_DNC1"
   ]
  },
  {
   "cell_type": "code",
   "execution_count": 756,
   "metadata": {},
   "outputs": [],
   "source": [
    "Company_Name_DNC = drivers.find_elements_by_xpath(\"//a[@class = 'subTitle ellipsis fleft']\")"
   ]
  },
  {
   "cell_type": "code",
   "execution_count": 757,
   "metadata": {},
   "outputs": [
    {
     "data": {
      "text/plain": [
       "['Inflexion Analytix Private Limited',\n",
       " 'Wipro',\n",
       " 'Ravgins International Pvt. Ltd.',\n",
       " 'Country Veggie',\n",
       " 'Mobikwik',\n",
       " 'CRESCENDO GLOBAL LEADERSHIP HIRING INDIA PRIVATE L IMITED',\n",
       " 'CRESCENDO GLOBAL LEADERSHIP HIRING INDIA PRIVATE L IMITED',\n",
       " 'Optum Global Solutions (India) Private Limited',\n",
       " 'IBM India Pvt. Limited',\n",
       " 'Blitz Jobs']"
      ]
     },
     "execution_count": 757,
     "metadata": {},
     "output_type": "execute_result"
    }
   ],
   "source": [
    "Company_Name_DNC1 = []\n",
    "for i in Company_Name_DNC[0:10]:\n",
    "    Company_Name_DNC1.append(i.text)\n",
    "Company_Name_DNC1"
   ]
  },
  {
   "cell_type": "code",
   "execution_count": 758,
   "metadata": {},
   "outputs": [],
   "source": [
    "Experience_required_DNC = drivers.find_elements_by_xpath(\"//li[@class='fleft grey-text br2 placeHolderLi experience']\")"
   ]
  },
  {
   "cell_type": "code",
   "execution_count": 759,
   "metadata": {},
   "outputs": [
    {
     "data": {
      "text/plain": [
       "['0-3 Yrs',\n",
       " '2-5 Yrs',\n",
       " '3-5 Yrs',\n",
       " '1-3 Yrs',\n",
       " '3-5 Yrs',\n",
       " '3-6 Yrs',\n",
       " '3-6 Yrs',\n",
       " '3-5 Yrs',\n",
       " '4-9 Yrs',\n",
       " '3-5 Yrs']"
      ]
     },
     "execution_count": 759,
     "metadata": {},
     "output_type": "execute_result"
    }
   ],
   "source": [
    "Experience_required_DNC1 = []\n",
    "for i in Experience_required_DNC[0:10]:\n",
    "    Experience_required_DNC1.append(i.text)\n",
    "Experience_required_DNC1"
   ]
  },
  {
   "cell_type": "code",
   "execution_count": 760,
   "metadata": {},
   "outputs": [],
   "source": [
    "Data_Scientist_Delhi = pd.DataFrame({})"
   ]
  },
  {
   "cell_type": "code",
   "execution_count": 761,
   "metadata": {},
   "outputs": [],
   "source": [
    "Data_Scientist_Delhi[\"Job Title\"] = job_titlesDNC1\n",
    "Data_Scientist_Delhi[\"Job Location\"] = job_location_DNC1\n",
    "Data_Scientist_Delhi[\"Company Name\"] = Company_Name_DNC1\n",
    "Data_Scientist_Delhi[\"Experience Required\"] = Experience_required_DNC1"
   ]
  },
  {
   "cell_type": "code",
   "execution_count": 762,
   "metadata": {},
   "outputs": [
    {
     "data": {
      "text/html": [
       "<div>\n",
       "<style scoped>\n",
       "    .dataframe tbody tr th:only-of-type {\n",
       "        vertical-align: middle;\n",
       "    }\n",
       "\n",
       "    .dataframe tbody tr th {\n",
       "        vertical-align: top;\n",
       "    }\n",
       "\n",
       "    .dataframe thead th {\n",
       "        text-align: right;\n",
       "    }\n",
       "</style>\n",
       "<table border=\"1\" class=\"dataframe\">\n",
       "  <thead>\n",
       "    <tr style=\"text-align: right;\">\n",
       "      <th></th>\n",
       "      <th>Job Title</th>\n",
       "      <th>Job Location</th>\n",
       "      <th>Company Name</th>\n",
       "      <th>Experience Required</th>\n",
       "    </tr>\n",
       "  </thead>\n",
       "  <tbody>\n",
       "    <tr>\n",
       "      <th>0</th>\n",
       "      <td>Data Scientist / Data Analyst -Business Analyst</td>\n",
       "      <td>Mumbai, Hyderabad/Secunderabad, Pune, Gurgaon/...</td>\n",
       "      <td>Inflexion Analytix Private Limited</td>\n",
       "      <td>0-3 Yrs</td>\n",
       "    </tr>\n",
       "    <tr>\n",
       "      <th>1</th>\n",
       "      <td>Business Analyst- Data Scientist</td>\n",
       "      <td>Noida, Gurgaon/Gurugram</td>\n",
       "      <td>Wipro</td>\n",
       "      <td>2-5 Yrs</td>\n",
       "    </tr>\n",
       "    <tr>\n",
       "      <th>2</th>\n",
       "      <td>Data Scientist - High growth VC backed Influen...</td>\n",
       "      <td>Bangalore/Bengaluru, Delhi / NCR, Mumbai (All ...</td>\n",
       "      <td>Ravgins International Pvt. Ltd.</td>\n",
       "      <td>3-5 Yrs</td>\n",
       "    </tr>\n",
       "    <tr>\n",
       "      <th>3</th>\n",
       "      <td>Data Scientist</td>\n",
       "      <td>Bharuch, Jaipur, Bhopal, Mumbai, Jhansi, Nagpu...</td>\n",
       "      <td>Country Veggie</td>\n",
       "      <td>1-3 Yrs</td>\n",
       "    </tr>\n",
       "    <tr>\n",
       "      <th>4</th>\n",
       "      <td>Data Scientist</td>\n",
       "      <td>New Delhi, Gurgaon/Gurugram, Delhi / NCR</td>\n",
       "      <td>Mobikwik</td>\n",
       "      <td>3-5 Yrs</td>\n",
       "    </tr>\n",
       "    <tr>\n",
       "      <th>5</th>\n",
       "      <td>DATA Scientist – Gurgaon (Exp 3-6 years)</td>\n",
       "      <td>Gurgaon/Gurugram, Delhi / NCR</td>\n",
       "      <td>CRESCENDO GLOBAL LEADERSHIP HIRING INDIA PRIVA...</td>\n",
       "      <td>3-6 Yrs</td>\n",
       "    </tr>\n",
       "    <tr>\n",
       "      <th>6</th>\n",
       "      <td>DATA Scientist – Gurgaon (Exp 3-6 years)</td>\n",
       "      <td>Gurgaon/Gurugram, Delhi / NCR</td>\n",
       "      <td>CRESCENDO GLOBAL LEADERSHIP HIRING INDIA PRIVA...</td>\n",
       "      <td>3-6 Yrs</td>\n",
       "    </tr>\n",
       "    <tr>\n",
       "      <th>7</th>\n",
       "      <td>Data Scientist - Noida</td>\n",
       "      <td>Noida</td>\n",
       "      <td>Optum Global Solutions (India) Private Limited</td>\n",
       "      <td>3-5 Yrs</td>\n",
       "    </tr>\n",
       "    <tr>\n",
       "      <th>8</th>\n",
       "      <td>Data Scientist</td>\n",
       "      <td>Noida, Hyderabad/Secunderabad, Bangalore/Benga...</td>\n",
       "      <td>IBM India Pvt. Limited</td>\n",
       "      <td>4-9 Yrs</td>\n",
       "    </tr>\n",
       "    <tr>\n",
       "      <th>9</th>\n",
       "      <td>Data Scientist</td>\n",
       "      <td>Noida</td>\n",
       "      <td>Blitz Jobs</td>\n",
       "      <td>3-5 Yrs</td>\n",
       "    </tr>\n",
       "  </tbody>\n",
       "</table>\n",
       "</div>"
      ],
      "text/plain": [
       "                                           Job Title  \\\n",
       "0    Data Scientist / Data Analyst -Business Analyst   \n",
       "1                   Business Analyst- Data Scientist   \n",
       "2  Data Scientist - High growth VC backed Influen...   \n",
       "3                                     Data Scientist   \n",
       "4                                     Data Scientist   \n",
       "5           DATA Scientist – Gurgaon (Exp 3-6 years)   \n",
       "6           DATA Scientist – Gurgaon (Exp 3-6 years)   \n",
       "7                             Data Scientist - Noida   \n",
       "8                                     Data Scientist   \n",
       "9                                     Data Scientist   \n",
       "\n",
       "                                        Job Location  \\\n",
       "0  Mumbai, Hyderabad/Secunderabad, Pune, Gurgaon/...   \n",
       "1                            Noida, Gurgaon/Gurugram   \n",
       "2  Bangalore/Bengaluru, Delhi / NCR, Mumbai (All ...   \n",
       "3  Bharuch, Jaipur, Bhopal, Mumbai, Jhansi, Nagpu...   \n",
       "4           New Delhi, Gurgaon/Gurugram, Delhi / NCR   \n",
       "5                      Gurgaon/Gurugram, Delhi / NCR   \n",
       "6                      Gurgaon/Gurugram, Delhi / NCR   \n",
       "7                                              Noida   \n",
       "8  Noida, Hyderabad/Secunderabad, Bangalore/Benga...   \n",
       "9                                              Noida   \n",
       "\n",
       "                                        Company Name Experience Required  \n",
       "0                 Inflexion Analytix Private Limited             0-3 Yrs  \n",
       "1                                              Wipro             2-5 Yrs  \n",
       "2                    Ravgins International Pvt. Ltd.             3-5 Yrs  \n",
       "3                                     Country Veggie             1-3 Yrs  \n",
       "4                                           Mobikwik             3-5 Yrs  \n",
       "5  CRESCENDO GLOBAL LEADERSHIP HIRING INDIA PRIVA...             3-6 Yrs  \n",
       "6  CRESCENDO GLOBAL LEADERSHIP HIRING INDIA PRIVA...             3-6 Yrs  \n",
       "7     Optum Global Solutions (India) Private Limited             3-5 Yrs  \n",
       "8                             IBM India Pvt. Limited             4-9 Yrs  \n",
       "9                                         Blitz Jobs             3-5 Yrs  "
      ]
     },
     "execution_count": 762,
     "metadata": {},
     "output_type": "execute_result"
    }
   ],
   "source": [
    "Data_Scientist_Delhi"
   ]
  },
  {
   "cell_type": "code",
   "execution_count": 763,
   "metadata": {},
   "outputs": [],
   "source": [
    "#completed"
   ]
  },
  {
   "cell_type": "markdown",
   "metadata": {},
   "source": [
    "# Question no. 4"
   ]
  },
  {
   "cell_type": "markdown",
   "metadata": {},
   "source": [
    "### Write a python program to scrape data for first 10 job results for Data scientist Designation in Noida location. You have to scrape company_name, No. of days ago when job was posted, Rating of the company"
   ]
  },
  {
   "cell_type": "code",
   "execution_count": 95,
   "metadata": {},
   "outputs": [],
   "source": [
    "urlGD = \"https://www.glassdoor.co.in/index.htm\""
   ]
  },
  {
   "cell_type": "code",
   "execution_count": 97,
   "metadata": {},
   "outputs": [],
   "source": [
    "drivers.get(urlGD)"
   ]
  },
  {
   "cell_type": "code",
   "execution_count": 104,
   "metadata": {},
   "outputs": [],
   "source": [
    "search_tab = drivers.find_element_by_id(\"sc.keyword\")"
   ]
  },
  {
   "cell_type": "code",
   "execution_count": 111,
   "metadata": {},
   "outputs": [],
   "source": [
    "search_locGD = drivers.find_element_by_id(\"sc.location\")"
   ]
  },
  {
   "cell_type": "code",
   "execution_count": 108,
   "metadata": {},
   "outputs": [],
   "source": [
    "search_btnGD = drivers.find_element_by_xpath(\"//button[@class='gd-ui-button ml-std col-auto SearchStyles__newSearchButton css-iixdfr']\")"
   ]
  },
  {
   "cell_type": "code",
   "execution_count": 109,
   "metadata": {},
   "outputs": [],
   "source": [
    "search_tab.send_keys(\"Data Scientist\")"
   ]
  },
  {
   "cell_type": "code",
   "execution_count": 112,
   "metadata": {},
   "outputs": [],
   "source": [
    "search_locGD.send_keys(\"Noida\")"
   ]
  },
  {
   "cell_type": "code",
   "execution_count": 114,
   "metadata": {},
   "outputs": [],
   "source": [
    "search_btnGD.click()"
   ]
  },
  {
   "cell_type": "code",
   "execution_count": 115,
   "metadata": {},
   "outputs": [
    {
     "data": {
      "text/plain": [
       "[<selenium.webdriver.remote.webelement.WebElement (session=\"4911a28d2a909e94794ae33b5f3e23dc\", element=\"85f4253f-cc48-4b29-91fb-6c66992574e1\")>,\n",
       " <selenium.webdriver.remote.webelement.WebElement (session=\"4911a28d2a909e94794ae33b5f3e23dc\", element=\"933b03b3-5873-431b-ab13-777e681ccf01\")>,\n",
       " <selenium.webdriver.remote.webelement.WebElement (session=\"4911a28d2a909e94794ae33b5f3e23dc\", element=\"869ddd3a-f615-4ca2-9c1b-b60ca44a583c\")>,\n",
       " <selenium.webdriver.remote.webelement.WebElement (session=\"4911a28d2a909e94794ae33b5f3e23dc\", element=\"ab9c0dc1-2c0d-4798-b7dc-96741a70683b\")>,\n",
       " <selenium.webdriver.remote.webelement.WebElement (session=\"4911a28d2a909e94794ae33b5f3e23dc\", element=\"75c043eb-e53e-4d2b-9ac9-779bd36aaa9c\")>,\n",
       " <selenium.webdriver.remote.webelement.WebElement (session=\"4911a28d2a909e94794ae33b5f3e23dc\", element=\"0b7f037e-eba0-42fb-a63b-6f994ea31fdd\")>,\n",
       " <selenium.webdriver.remote.webelement.WebElement (session=\"4911a28d2a909e94794ae33b5f3e23dc\", element=\"e5efe0b4-1bc2-4d19-b483-b4e33bd9491f\")>,\n",
       " <selenium.webdriver.remote.webelement.WebElement (session=\"4911a28d2a909e94794ae33b5f3e23dc\", element=\"847d00e4-3ea4-4881-a128-532cd6478e05\")>,\n",
       " <selenium.webdriver.remote.webelement.WebElement (session=\"4911a28d2a909e94794ae33b5f3e23dc\", element=\"3dad5052-ab21-4293-8531-9ce9ed6ca778\")>,\n",
       " <selenium.webdriver.remote.webelement.WebElement (session=\"4911a28d2a909e94794ae33b5f3e23dc\", element=\"91aafb7e-35bb-4e39-8284-3120dba61bba\")>,\n",
       " <selenium.webdriver.remote.webelement.WebElement (session=\"4911a28d2a909e94794ae33b5f3e23dc\", element=\"12cb9d78-4cec-41f6-b78b-ae2743b9737e\")>,\n",
       " <selenium.webdriver.remote.webelement.WebElement (session=\"4911a28d2a909e94794ae33b5f3e23dc\", element=\"e003eb1c-df98-4622-a867-ed0ecc458062\")>,\n",
       " <selenium.webdriver.remote.webelement.WebElement (session=\"4911a28d2a909e94794ae33b5f3e23dc\", element=\"a7583ac7-d603-40ec-b122-cfb2b45e76cc\")>,\n",
       " <selenium.webdriver.remote.webelement.WebElement (session=\"4911a28d2a909e94794ae33b5f3e23dc\", element=\"c3ded1fb-e9af-4126-a6e3-b55069c5f45b\")>,\n",
       " <selenium.webdriver.remote.webelement.WebElement (session=\"4911a28d2a909e94794ae33b5f3e23dc\", element=\"d6da8210-e24e-472d-a4ce-ad7ed3ac68a6\")>,\n",
       " <selenium.webdriver.remote.webelement.WebElement (session=\"4911a28d2a909e94794ae33b5f3e23dc\", element=\"4c08a660-c6df-42b9-a923-f7236de4091f\")>,\n",
       " <selenium.webdriver.remote.webelement.WebElement (session=\"4911a28d2a909e94794ae33b5f3e23dc\", element=\"0ab72645-2139-4a92-85b6-9c94a633dc2a\")>,\n",
       " <selenium.webdriver.remote.webelement.WebElement (session=\"4911a28d2a909e94794ae33b5f3e23dc\", element=\"b2ac2d6e-0962-4f91-9624-37ece647dacb\")>,\n",
       " <selenium.webdriver.remote.webelement.WebElement (session=\"4911a28d2a909e94794ae33b5f3e23dc\", element=\"f13ab833-15cf-4273-8c4a-49bbaf15bbaf\")>,\n",
       " <selenium.webdriver.remote.webelement.WebElement (session=\"4911a28d2a909e94794ae33b5f3e23dc\", element=\"b310611c-0767-4f51-84ee-545fa5910df0\")>,\n",
       " <selenium.webdriver.remote.webelement.WebElement (session=\"4911a28d2a909e94794ae33b5f3e23dc\", element=\"b0e44438-d206-43e4-8291-f4757cff3b32\")>,\n",
       " <selenium.webdriver.remote.webelement.WebElement (session=\"4911a28d2a909e94794ae33b5f3e23dc\", element=\"20736cbd-be51-439d-b040-f2b162bc142e\")>,\n",
       " <selenium.webdriver.remote.webelement.WebElement (session=\"4911a28d2a909e94794ae33b5f3e23dc\", element=\"95136bae-0681-4356-bac5-3b8d39adb2f8\")>,\n",
       " <selenium.webdriver.remote.webelement.WebElement (session=\"4911a28d2a909e94794ae33b5f3e23dc\", element=\"e95633ea-ffd8-41c5-924b-2434e9c25496\")>,\n",
       " <selenium.webdriver.remote.webelement.WebElement (session=\"4911a28d2a909e94794ae33b5f3e23dc\", element=\"6b734aba-3bc5-4d8d-b3f0-14ae263e8beb\")>,\n",
       " <selenium.webdriver.remote.webelement.WebElement (session=\"4911a28d2a909e94794ae33b5f3e23dc\", element=\"51c7fa68-f0f7-4347-8027-939333f6bd25\")>,\n",
       " <selenium.webdriver.remote.webelement.WebElement (session=\"4911a28d2a909e94794ae33b5f3e23dc\", element=\"aa35229f-8730-4c5a-b6df-93c92e47b613\")>,\n",
       " <selenium.webdriver.remote.webelement.WebElement (session=\"4911a28d2a909e94794ae33b5f3e23dc\", element=\"47418238-a10d-4249-8572-e70329ef6d00\")>,\n",
       " <selenium.webdriver.remote.webelement.WebElement (session=\"4911a28d2a909e94794ae33b5f3e23dc\", element=\"27a36573-da08-4f6f-9104-f1527ae3efa9\")>,\n",
       " <selenium.webdriver.remote.webelement.WebElement (session=\"4911a28d2a909e94794ae33b5f3e23dc\", element=\"0bdee96a-dc18-41b2-a734-e39afb3e8d44\")>]"
      ]
     },
     "execution_count": 115,
     "metadata": {},
     "output_type": "execute_result"
    }
   ],
   "source": [
    "job_titlesGD = drivers.find_elements_by_xpath(\"//a[@class = ' css-l2wjgv e1n63ojh0 jobLink']\")\n",
    "job_titlesGD"
   ]
  },
  {
   "cell_type": "code",
   "execution_count": 116,
   "metadata": {},
   "outputs": [
    {
     "data": {
      "text/plain": [
       "['Ericsson',\n",
       " 'Biz2Credit Inc',\n",
       " 'Adobe',\n",
       " 'Salasar New Age Technologies',\n",
       " 'TBM Technologies Private Limited',\n",
       " 'Salasar New Age Technologies',\n",
       " 'Techlive',\n",
       " 'Unyscape Infocom Pvt. Ltd',\n",
       " 'xtLytics',\n",
       " 'KNOWLVERS CONSULTING PVT LTD',\n",
       " 'WishFin',\n",
       " 'HDFC Bank',\n",
       " 'SearchUrCollege',\n",
       " 'Nitesh Kumar',\n",
       " 'Asquero',\n",
       " 'Mind Works Global',\n",
       " 'Sparkbpl',\n",
       " 'Data Trained Education',\n",
       " 'Eagletfly Solutions',\n",
       " 'Galaxy Card',\n",
       " 'xtLytics',\n",
       " 'Mansha Solutions',\n",
       " 'dunnhumby',\n",
       " 'Dürr Somac GmbH',\n",
       " 'CRMNEXT',\n",
       " 'UnitedHealth Group',\n",
       " 'Genpact',\n",
       " 'RannLab Technologies',\n",
       " 'ANI Calls India Private Limited',\n",
       " 'Priority Vendor']"
      ]
     },
     "execution_count": 116,
     "metadata": {},
     "output_type": "execute_result"
    }
   ],
   "source": [
    "job_titlesGD1 = []\n",
    "for i in job_titlesGD:\n",
    "    job_titlesGD1.append(i.text)\n",
    "job_titlesGD1"
   ]
  },
  {
   "cell_type": "code",
   "execution_count": 117,
   "metadata": {},
   "outputs": [
    {
     "data": {
      "text/plain": [
       "[<selenium.webdriver.remote.webelement.WebElement (session=\"4911a28d2a909e94794ae33b5f3e23dc\", element=\"506d19b2-3b9f-4fb9-bcf5-590a4f4bb588\")>,\n",
       " <selenium.webdriver.remote.webelement.WebElement (session=\"4911a28d2a909e94794ae33b5f3e23dc\", element=\"d3422763-bb44-4f6a-b4fd-b713dab36997\")>,\n",
       " <selenium.webdriver.remote.webelement.WebElement (session=\"4911a28d2a909e94794ae33b5f3e23dc\", element=\"3c81ac32-dc9c-4f85-b652-333d32012e54\")>,\n",
       " <selenium.webdriver.remote.webelement.WebElement (session=\"4911a28d2a909e94794ae33b5f3e23dc\", element=\"289cba66-8b31-4c31-818b-18bb49ae6cee\")>,\n",
       " <selenium.webdriver.remote.webelement.WebElement (session=\"4911a28d2a909e94794ae33b5f3e23dc\", element=\"175f1c9d-ca35-4cf1-8341-89a244c1ef02\")>,\n",
       " <selenium.webdriver.remote.webelement.WebElement (session=\"4911a28d2a909e94794ae33b5f3e23dc\", element=\"c07e7640-cd67-4863-bf7d-d317c237889c\")>,\n",
       " <selenium.webdriver.remote.webelement.WebElement (session=\"4911a28d2a909e94794ae33b5f3e23dc\", element=\"2bcebe65-bda9-4adc-8cdb-f530bd9123da\")>,\n",
       " <selenium.webdriver.remote.webelement.WebElement (session=\"4911a28d2a909e94794ae33b5f3e23dc\", element=\"158f5179-ee33-4bfc-b081-b7fd45e20ec0\")>,\n",
       " <selenium.webdriver.remote.webelement.WebElement (session=\"4911a28d2a909e94794ae33b5f3e23dc\", element=\"6c3fccb3-23d3-43d2-9ddf-381417bbc5f3\")>,\n",
       " <selenium.webdriver.remote.webelement.WebElement (session=\"4911a28d2a909e94794ae33b5f3e23dc\", element=\"8babc5f4-feb7-40da-bc90-15ec7ca77a77\")>,\n",
       " <selenium.webdriver.remote.webelement.WebElement (session=\"4911a28d2a909e94794ae33b5f3e23dc\", element=\"c99b8ce7-1ca9-4700-a101-1e88204e22cc\")>,\n",
       " <selenium.webdriver.remote.webelement.WebElement (session=\"4911a28d2a909e94794ae33b5f3e23dc\", element=\"982d7e5e-62f1-4897-b77e-787843fbd1ca\")>,\n",
       " <selenium.webdriver.remote.webelement.WebElement (session=\"4911a28d2a909e94794ae33b5f3e23dc\", element=\"b95f37ca-e94d-4459-9ae2-9ca0de8f8b9f\")>,\n",
       " <selenium.webdriver.remote.webelement.WebElement (session=\"4911a28d2a909e94794ae33b5f3e23dc\", element=\"b0c50a9e-9e6d-45bf-8c01-9bde66f61750\")>,\n",
       " <selenium.webdriver.remote.webelement.WebElement (session=\"4911a28d2a909e94794ae33b5f3e23dc\", element=\"baabd749-1356-4660-a104-7acd5f134d95\")>,\n",
       " <selenium.webdriver.remote.webelement.WebElement (session=\"4911a28d2a909e94794ae33b5f3e23dc\", element=\"4a8edd7f-7459-472f-8966-49e0c454a259\")>,\n",
       " <selenium.webdriver.remote.webelement.WebElement (session=\"4911a28d2a909e94794ae33b5f3e23dc\", element=\"6d36adad-4857-4084-8aa4-da7c85390f4c\")>,\n",
       " <selenium.webdriver.remote.webelement.WebElement (session=\"4911a28d2a909e94794ae33b5f3e23dc\", element=\"927299f3-800c-48f3-92c2-5a858bd09330\")>,\n",
       " <selenium.webdriver.remote.webelement.WebElement (session=\"4911a28d2a909e94794ae33b5f3e23dc\", element=\"cf352ffb-88e4-49a1-9125-bf6ee77086d9\")>,\n",
       " <selenium.webdriver.remote.webelement.WebElement (session=\"4911a28d2a909e94794ae33b5f3e23dc\", element=\"f3052611-e657-4a93-9834-f6e0f51e8a0a\")>,\n",
       " <selenium.webdriver.remote.webelement.WebElement (session=\"4911a28d2a909e94794ae33b5f3e23dc\", element=\"6c00a64f-039e-4fee-92ef-625c51764dcc\")>,\n",
       " <selenium.webdriver.remote.webelement.WebElement (session=\"4911a28d2a909e94794ae33b5f3e23dc\", element=\"288deb5c-dd37-4c42-80e2-5f331a7f51d9\")>,\n",
       " <selenium.webdriver.remote.webelement.WebElement (session=\"4911a28d2a909e94794ae33b5f3e23dc\", element=\"1742a147-8b6c-46dc-a14a-4bb9e12bc26c\")>,\n",
       " <selenium.webdriver.remote.webelement.WebElement (session=\"4911a28d2a909e94794ae33b5f3e23dc\", element=\"bd415a9e-a563-49d5-9456-eccfa8f7e736\")>,\n",
       " <selenium.webdriver.remote.webelement.WebElement (session=\"4911a28d2a909e94794ae33b5f3e23dc\", element=\"f703544a-a852-4213-ad54-33f4f71f3a81\")>,\n",
       " <selenium.webdriver.remote.webelement.WebElement (session=\"4911a28d2a909e94794ae33b5f3e23dc\", element=\"c0b9769b-efd9-43b2-9d4f-49ad67eea0b6\")>,\n",
       " <selenium.webdriver.remote.webelement.WebElement (session=\"4911a28d2a909e94794ae33b5f3e23dc\", element=\"8b8073a5-d0c5-4361-8a86-341b05c15344\")>,\n",
       " <selenium.webdriver.remote.webelement.WebElement (session=\"4911a28d2a909e94794ae33b5f3e23dc\", element=\"990b0f07-2c5b-4444-9e48-8f7c9c89c297\")>,\n",
       " <selenium.webdriver.remote.webelement.WebElement (session=\"4911a28d2a909e94794ae33b5f3e23dc\", element=\"131c004c-b6ca-4b5b-bebd-fe10288c887f\")>,\n",
       " <selenium.webdriver.remote.webelement.WebElement (session=\"4911a28d2a909e94794ae33b5f3e23dc\", element=\"a75c37c1-c802-4a0f-9c34-a8b7c84b9e52\")>]"
      ]
     },
     "execution_count": 117,
     "metadata": {},
     "output_type": "execute_result"
    }
   ],
   "source": [
    "days_ago = drivers.find_elements_by_xpath(\"//div[@class = 'd-flex align-items-end pl-std css-mi55ob']\")\n",
    "days_ago"
   ]
  },
  {
   "cell_type": "code",
   "execution_count": 118,
   "metadata": {},
   "outputs": [
    {
     "data": {
      "text/plain": [
       "['6d',\n",
       " '30d+',\n",
       " '30d+',\n",
       " '30d+',\n",
       " '4d',\n",
       " '',\n",
       " '30d+',\n",
       " '29d',\n",
       " '30d+',\n",
       " '15d',\n",
       " '30d+',\n",
       " '30d+',\n",
       " '30d+',\n",
       " '1d',\n",
       " '4d',\n",
       " '9d',\n",
       " '5d',\n",
       " '15d',\n",
       " '26d',\n",
       " '10d',\n",
       " '30d+',\n",
       " '24h',\n",
       " '5d',\n",
       " '30d+',\n",
       " '4d',\n",
       " '30d+',\n",
       " '30d+',\n",
       " '24d',\n",
       " '30d+',\n",
       " '30d+']"
      ]
     },
     "execution_count": 118,
     "metadata": {},
     "output_type": "execute_result"
    }
   ],
   "source": [
    "days_agoGD = []\n",
    "for i in days_ago:\n",
    "    days_agoGD.append(i.text)\n",
    "days_agoGD"
   ]
  },
  {
   "cell_type": "code",
   "execution_count": 120,
   "metadata": {},
   "outputs": [
    {
     "data": {
      "text/plain": [
       "[<selenium.webdriver.remote.webelement.WebElement (session=\"4911a28d2a909e94794ae33b5f3e23dc\", element=\"b773718b-24f2-492e-9c48-d555da6f99e0\")>,\n",
       " <selenium.webdriver.remote.webelement.WebElement (session=\"4911a28d2a909e94794ae33b5f3e23dc\", element=\"707a6fec-62a3-49e9-9a8c-276af7f118f1\")>,\n",
       " <selenium.webdriver.remote.webelement.WebElement (session=\"4911a28d2a909e94794ae33b5f3e23dc\", element=\"921da8e3-cb4f-465a-964d-fc739d2608a2\")>,\n",
       " <selenium.webdriver.remote.webelement.WebElement (session=\"4911a28d2a909e94794ae33b5f3e23dc\", element=\"491976ec-f46d-4d84-8dce-f78815d421d8\")>,\n",
       " <selenium.webdriver.remote.webelement.WebElement (session=\"4911a28d2a909e94794ae33b5f3e23dc\", element=\"1a5772f2-10af-48e9-a4e7-ca9a569814ec\")>,\n",
       " <selenium.webdriver.remote.webelement.WebElement (session=\"4911a28d2a909e94794ae33b5f3e23dc\", element=\"3e17fcda-f9d0-4164-95d8-a90182267a19\")>,\n",
       " <selenium.webdriver.remote.webelement.WebElement (session=\"4911a28d2a909e94794ae33b5f3e23dc\", element=\"c7b923ad-9cf8-4186-aa5a-da03608aeef4\")>,\n",
       " <selenium.webdriver.remote.webelement.WebElement (session=\"4911a28d2a909e94794ae33b5f3e23dc\", element=\"7ac45aef-0679-4754-8cb2-f4ddcca0b8fb\")>,\n",
       " <selenium.webdriver.remote.webelement.WebElement (session=\"4911a28d2a909e94794ae33b5f3e23dc\", element=\"d3268234-9382-4ce2-a985-3892ce6f2b91\")>,\n",
       " <selenium.webdriver.remote.webelement.WebElement (session=\"4911a28d2a909e94794ae33b5f3e23dc\", element=\"fd86976b-e364-4f8e-a751-8de024ad1378\")>,\n",
       " <selenium.webdriver.remote.webelement.WebElement (session=\"4911a28d2a909e94794ae33b5f3e23dc\", element=\"54abd3d3-81a5-4d7e-a943-1a20f75d6805\")>,\n",
       " <selenium.webdriver.remote.webelement.WebElement (session=\"4911a28d2a909e94794ae33b5f3e23dc\", element=\"915b882c-de84-418c-9db5-f849877a6d9b\")>,\n",
       " <selenium.webdriver.remote.webelement.WebElement (session=\"4911a28d2a909e94794ae33b5f3e23dc\", element=\"d37a3b7c-cfaa-47eb-ad16-ee71ab535520\")>,\n",
       " <selenium.webdriver.remote.webelement.WebElement (session=\"4911a28d2a909e94794ae33b5f3e23dc\", element=\"e7d5a475-b3ae-42c5-9876-aa1dcd344a3e\")>,\n",
       " <selenium.webdriver.remote.webelement.WebElement (session=\"4911a28d2a909e94794ae33b5f3e23dc\", element=\"e688dc87-9605-4a43-9844-1d04da9fee83\")>,\n",
       " <selenium.webdriver.remote.webelement.WebElement (session=\"4911a28d2a909e94794ae33b5f3e23dc\", element=\"da5a27a7-cb0f-4183-a4be-b6a22356bb30\")>,\n",
       " <selenium.webdriver.remote.webelement.WebElement (session=\"4911a28d2a909e94794ae33b5f3e23dc\", element=\"1fc94794-9dbd-4c56-836d-ded34c2841e3\")>,\n",
       " <selenium.webdriver.remote.webelement.WebElement (session=\"4911a28d2a909e94794ae33b5f3e23dc\", element=\"28ce237f-865a-4479-a0c6-ab41f8b17313\")>]"
      ]
     },
     "execution_count": 120,
     "metadata": {},
     "output_type": "execute_result"
    }
   ],
   "source": [
    "company_ratingsGD = drivers.find_elements_by_xpath(\"//span[@class = 'css-19pjha7 e1cjmv6j1']\")\n",
    "company_ratingsGD"
   ]
  },
  {
   "cell_type": "code",
   "execution_count": 121,
   "metadata": {},
   "outputs": [
    {
     "data": {
      "text/plain": [
       "['4.1',\n",
       " '3.8',\n",
       " '4.4',\n",
       " '4.1',\n",
       " '5.0',\n",
       " '4.2',\n",
       " '3.0',\n",
       " '3.8',\n",
       " '3.6',\n",
       " '3.8',\n",
       " '3.1',\n",
       " '3.0',\n",
       " '4.1',\n",
       " '3.6',\n",
       " '3.6',\n",
       " '3.8',\n",
       " '3.6',\n",
       " '3.7']"
      ]
     },
     "execution_count": 121,
     "metadata": {},
     "output_type": "execute_result"
    }
   ],
   "source": [
    "company_ratingsGD1 = []\n",
    "for i in company_ratingsGD:\n",
    "    company_ratingsGD1.append(i.text)\n",
    "company_ratingsGD1"
   ]
  },
  {
   "cell_type": "code",
   "execution_count": 123,
   "metadata": {},
   "outputs": [
    {
     "data": {
      "text/plain": [
       "['4.1',\n",
       " '3.8',\n",
       " '4.4',\n",
       " None,\n",
       " '4.1',\n",
       " None,\n",
       " '5.0',\n",
       " '4.2',\n",
       " '3.0',\n",
       " None,\n",
       " '3.8',\n",
       " '3.6',\n",
       " '3.8',\n",
       " '3.1',\n",
       " '3.0',\n",
       " '4.1',\n",
       " '3.6',\n",
       " '3.6',\n",
       " '3.8',\n",
       " '3.6',\n",
       " '3.7']"
      ]
     },
     "execution_count": 123,
     "metadata": {},
     "output_type": "execute_result"
    }
   ],
   "source": [
    "index = [3,5,9]\n",
    "for i in index:\n",
    "    company_ratingsGD1[i] = company_ratingsGD1.insert(i,'none')\n",
    "company_ratingsGD1"
   ]
  },
  {
   "cell_type": "code",
   "execution_count": null,
   "metadata": {},
   "outputs": [],
   "source": [
    "job_titlesGD1 ,days_agoGD, company_ratingsGD1"
   ]
  },
  {
   "cell_type": "code",
   "execution_count": 131,
   "metadata": {},
   "outputs": [],
   "source": [
    "final_job_titles1 = job_titlesGD1[0:10]"
   ]
  },
  {
   "cell_type": "code",
   "execution_count": 132,
   "metadata": {},
   "outputs": [
    {
     "data": {
      "text/plain": [
       "['Ericsson',\n",
       " 'Biz2Credit Inc',\n",
       " 'Adobe',\n",
       " 'Salasar New Age Technologies',\n",
       " 'TBM Technologies Private Limited',\n",
       " 'Salasar New Age Technologies',\n",
       " 'Techlive',\n",
       " 'Unyscape Infocom Pvt. Ltd',\n",
       " 'xtLytics',\n",
       " 'KNOWLVERS CONSULTING PVT LTD']"
      ]
     },
     "execution_count": 132,
     "metadata": {},
     "output_type": "execute_result"
    }
   ],
   "source": [
    "final_job_titles1"
   ]
  },
  {
   "cell_type": "code",
   "execution_count": 137,
   "metadata": {},
   "outputs": [],
   "source": [
    "final_days_ago1 = days_agoGD[0:10]"
   ]
  },
  {
   "cell_type": "code",
   "execution_count": 144,
   "metadata": {},
   "outputs": [],
   "source": [
    "final_days_ago1[5]=final_days_ago1[5].replace('','unknown')"
   ]
  },
  {
   "cell_type": "code",
   "execution_count": 145,
   "metadata": {},
   "outputs": [
    {
     "data": {
      "text/plain": [
       "['6d', '30d+', '30d+', '30d+', '4d', 'unknown', '30d+', '29d', '30d+', '15d']"
      ]
     },
     "execution_count": 145,
     "metadata": {},
     "output_type": "execute_result"
    }
   ],
   "source": [
    "final_days_ago1"
   ]
  },
  {
   "cell_type": "code",
   "execution_count": 146,
   "metadata": {},
   "outputs": [],
   "source": [
    "final_ratings = company_ratingsGD1[0:10]"
   ]
  },
  {
   "cell_type": "code",
   "execution_count": 147,
   "metadata": {},
   "outputs": [],
   "source": [
    "Data_ScientistGD = pd.DataFrame({})"
   ]
  },
  {
   "cell_type": "code",
   "execution_count": 148,
   "metadata": {},
   "outputs": [],
   "source": [
    "Data_ScientistGD[\"Company Name\"] = final_job_titles1\n",
    "Data_ScientistGD[\"No. of days ago when job was posted\"] = final_days_ago1\n",
    "Data_ScientistGD[\"Rating of the Company\"] = final_ratings"
   ]
  },
  {
   "cell_type": "code",
   "execution_count": 149,
   "metadata": {},
   "outputs": [
    {
     "data": {
      "text/html": [
       "<div>\n",
       "<style scoped>\n",
       "    .dataframe tbody tr th:only-of-type {\n",
       "        vertical-align: middle;\n",
       "    }\n",
       "\n",
       "    .dataframe tbody tr th {\n",
       "        vertical-align: top;\n",
       "    }\n",
       "\n",
       "    .dataframe thead th {\n",
       "        text-align: right;\n",
       "    }\n",
       "</style>\n",
       "<table border=\"1\" class=\"dataframe\">\n",
       "  <thead>\n",
       "    <tr style=\"text-align: right;\">\n",
       "      <th></th>\n",
       "      <th>Company Name</th>\n",
       "      <th>No. of days ago when job was posted</th>\n",
       "      <th>Rating of the Company</th>\n",
       "    </tr>\n",
       "  </thead>\n",
       "  <tbody>\n",
       "    <tr>\n",
       "      <th>0</th>\n",
       "      <td>Ericsson</td>\n",
       "      <td>6d</td>\n",
       "      <td>4.1</td>\n",
       "    </tr>\n",
       "    <tr>\n",
       "      <th>1</th>\n",
       "      <td>Biz2Credit Inc</td>\n",
       "      <td>30d+</td>\n",
       "      <td>3.8</td>\n",
       "    </tr>\n",
       "    <tr>\n",
       "      <th>2</th>\n",
       "      <td>Adobe</td>\n",
       "      <td>30d+</td>\n",
       "      <td>4.4</td>\n",
       "    </tr>\n",
       "    <tr>\n",
       "      <th>3</th>\n",
       "      <td>Salasar New Age Technologies</td>\n",
       "      <td>30d+</td>\n",
       "      <td>None</td>\n",
       "    </tr>\n",
       "    <tr>\n",
       "      <th>4</th>\n",
       "      <td>TBM Technologies Private Limited</td>\n",
       "      <td>4d</td>\n",
       "      <td>4.1</td>\n",
       "    </tr>\n",
       "    <tr>\n",
       "      <th>5</th>\n",
       "      <td>Salasar New Age Technologies</td>\n",
       "      <td>unknown</td>\n",
       "      <td>None</td>\n",
       "    </tr>\n",
       "    <tr>\n",
       "      <th>6</th>\n",
       "      <td>Techlive</td>\n",
       "      <td>30d+</td>\n",
       "      <td>5.0</td>\n",
       "    </tr>\n",
       "    <tr>\n",
       "      <th>7</th>\n",
       "      <td>Unyscape Infocom Pvt. Ltd</td>\n",
       "      <td>29d</td>\n",
       "      <td>4.2</td>\n",
       "    </tr>\n",
       "    <tr>\n",
       "      <th>8</th>\n",
       "      <td>xtLytics</td>\n",
       "      <td>30d+</td>\n",
       "      <td>3.0</td>\n",
       "    </tr>\n",
       "    <tr>\n",
       "      <th>9</th>\n",
       "      <td>KNOWLVERS CONSULTING PVT LTD</td>\n",
       "      <td>15d</td>\n",
       "      <td>None</td>\n",
       "    </tr>\n",
       "  </tbody>\n",
       "</table>\n",
       "</div>"
      ],
      "text/plain": [
       "                       Company Name No. of days ago when job was posted  \\\n",
       "0                          Ericsson                                  6d   \n",
       "1                    Biz2Credit Inc                                30d+   \n",
       "2                             Adobe                                30d+   \n",
       "3      Salasar New Age Technologies                                30d+   \n",
       "4  TBM Technologies Private Limited                                  4d   \n",
       "5      Salasar New Age Technologies                             unknown   \n",
       "6                          Techlive                                30d+   \n",
       "7         Unyscape Infocom Pvt. Ltd                                 29d   \n",
       "8                          xtLytics                                30d+   \n",
       "9      KNOWLVERS CONSULTING PVT LTD                                 15d   \n",
       "\n",
       "  Rating of the Company  \n",
       "0                   4.1  \n",
       "1                   3.8  \n",
       "2                   4.4  \n",
       "3                  None  \n",
       "4                   4.1  \n",
       "5                  None  \n",
       "6                   5.0  \n",
       "7                   4.2  \n",
       "8                   3.0  \n",
       "9                  None  "
      ]
     },
     "execution_count": 149,
     "metadata": {},
     "output_type": "execute_result"
    }
   ],
   "source": [
    "Data_ScientistGD"
   ]
  },
  {
   "cell_type": "code",
   "execution_count": 150,
   "metadata": {},
   "outputs": [],
   "source": [
    "#done"
   ]
  },
  {
   "cell_type": "markdown",
   "metadata": {},
   "source": [
    "# Question Number 5"
   ]
  },
  {
   "cell_type": "markdown",
   "metadata": {},
   "source": [
    "Write a python program to scrape the salary data for Data Scientist designation in Noida location.\n",
    "You have to scrape Company name, Number of salaries, Average salary, Min salary, Max Salary."
   ]
  },
  {
   "cell_type": "code",
   "execution_count": 268,
   "metadata": {},
   "outputs": [],
   "source": [
    "urlQ5 = \"https://www.glassdoor.co.in/Salaries/index.htm\""
   ]
  },
  {
   "cell_type": "code",
   "execution_count": 269,
   "metadata": {},
   "outputs": [],
   "source": [
    "drivers = webdriver.Chrome(r\"C:\\Users\\harsh\\Downloads\\chromedriver_win32\\chromedriver.exe\")"
   ]
  },
  {
   "cell_type": "code",
   "execution_count": 270,
   "metadata": {},
   "outputs": [],
   "source": [
    "drivers.get(urlQ5)"
   ]
  },
  {
   "cell_type": "code",
   "execution_count": 271,
   "metadata": {},
   "outputs": [],
   "source": [
    "searchq5 = drivers.find_element_by_id(\"KeywordSearch\")"
   ]
  },
  {
   "cell_type": "code",
   "execution_count": 272,
   "metadata": {},
   "outputs": [],
   "source": [
    "search_locq5 = drivers.find_element_by_id(\"LocationSearch\")"
   ]
  },
  {
   "cell_type": "code",
   "execution_count": 273,
   "metadata": {},
   "outputs": [],
   "source": [
    "search_btnq5 = drivers.find_element_by_id(\"HeroSearchButton\")"
   ]
  },
  {
   "cell_type": "code",
   "execution_count": 274,
   "metadata": {},
   "outputs": [],
   "source": [
    "searchq5.send_keys(\"Data Scientist\")"
   ]
  },
  {
   "cell_type": "code",
   "execution_count": 275,
   "metadata": {},
   "outputs": [],
   "source": [
    "search_locq5.send_keys(\"Noida\")"
   ]
  },
  {
   "cell_type": "code",
   "execution_count": 277,
   "metadata": {},
   "outputs": [],
   "source": [
    "search_btnq5.click()"
   ]
  },
  {
   "cell_type": "code",
   "execution_count": 280,
   "metadata": {},
   "outputs": [],
   "source": [
    "company_nameq5 = drivers.find_elements_by_xpath(\"//p[@class = 'm-0 ']\")"
   ]
  },
  {
   "cell_type": "code",
   "execution_count": 281,
   "metadata": {},
   "outputs": [
    {
     "data": {
      "text/plain": [
       "[<selenium.webdriver.remote.webelement.WebElement (session=\"1314a2c4fb7fc5e552d4da13ee0ab731\", element=\"ced6c9ae-a7e1-4230-9135-3d2ce05caafe\")>,\n",
       " <selenium.webdriver.remote.webelement.WebElement (session=\"1314a2c4fb7fc5e552d4da13ee0ab731\", element=\"08247fef-1a0c-4deb-a513-c5ecbc04e55e\")>,\n",
       " <selenium.webdriver.remote.webelement.WebElement (session=\"1314a2c4fb7fc5e552d4da13ee0ab731\", element=\"05a8e9ad-c291-43ff-8f22-db7d9a2d7636\")>,\n",
       " <selenium.webdriver.remote.webelement.WebElement (session=\"1314a2c4fb7fc5e552d4da13ee0ab731\", element=\"87096447-9db0-4273-a366-bd22ff948766\")>,\n",
       " <selenium.webdriver.remote.webelement.WebElement (session=\"1314a2c4fb7fc5e552d4da13ee0ab731\", element=\"7e2ac20e-edba-48c6-bbb8-bda64b122848\")>,\n",
       " <selenium.webdriver.remote.webelement.WebElement (session=\"1314a2c4fb7fc5e552d4da13ee0ab731\", element=\"b352c7e0-e214-433f-ab6f-2d41cfd092f3\")>,\n",
       " <selenium.webdriver.remote.webelement.WebElement (session=\"1314a2c4fb7fc5e552d4da13ee0ab731\", element=\"046f6415-2d84-41c1-9c43-07b0b79a67f0\")>,\n",
       " <selenium.webdriver.remote.webelement.WebElement (session=\"1314a2c4fb7fc5e552d4da13ee0ab731\", element=\"9f3de5b9-2630-4b4a-be3a-d86104e174d0\")>,\n",
       " <selenium.webdriver.remote.webelement.WebElement (session=\"1314a2c4fb7fc5e552d4da13ee0ab731\", element=\"ccc8b533-4593-4416-b51b-377c80fb613a\")>,\n",
       " <selenium.webdriver.remote.webelement.WebElement (session=\"1314a2c4fb7fc5e552d4da13ee0ab731\", element=\"bdb7fb8d-c0ae-4163-90b6-8e9796161e1e\")>,\n",
       " <selenium.webdriver.remote.webelement.WebElement (session=\"1314a2c4fb7fc5e552d4da13ee0ab731\", element=\"925119e5-75b3-4050-8ca8-ce81504dcff5\")>,\n",
       " <selenium.webdriver.remote.webelement.WebElement (session=\"1314a2c4fb7fc5e552d4da13ee0ab731\", element=\"2061811e-d5d0-455f-8ada-75994926a608\")>,\n",
       " <selenium.webdriver.remote.webelement.WebElement (session=\"1314a2c4fb7fc5e552d4da13ee0ab731\", element=\"e25a3b83-3a5e-4797-839a-f2c111b50404\")>,\n",
       " <selenium.webdriver.remote.webelement.WebElement (session=\"1314a2c4fb7fc5e552d4da13ee0ab731\", element=\"339d16ff-fe78-41f5-9d62-a5378b40c1b6\")>,\n",
       " <selenium.webdriver.remote.webelement.WebElement (session=\"1314a2c4fb7fc5e552d4da13ee0ab731\", element=\"e9957bc1-2b2c-4320-bc3a-19fc871464ea\")>,\n",
       " <selenium.webdriver.remote.webelement.WebElement (session=\"1314a2c4fb7fc5e552d4da13ee0ab731\", element=\"9561694b-3790-4026-a2f0-f57d9bdbce96\")>,\n",
       " <selenium.webdriver.remote.webelement.WebElement (session=\"1314a2c4fb7fc5e552d4da13ee0ab731\", element=\"01893bf5-dda5-40d3-9291-f49111ed9510\")>,\n",
       " <selenium.webdriver.remote.webelement.WebElement (session=\"1314a2c4fb7fc5e552d4da13ee0ab731\", element=\"6620ab43-f6fa-4565-9fb6-d192f910c786\")>,\n",
       " <selenium.webdriver.remote.webelement.WebElement (session=\"1314a2c4fb7fc5e552d4da13ee0ab731\", element=\"847f68e6-21c4-42f4-89e3-95e5ee2474eb\")>,\n",
       " <selenium.webdriver.remote.webelement.WebElement (session=\"1314a2c4fb7fc5e552d4da13ee0ab731\", element=\"9c5306ee-67da-45ff-8450-35142a0fe7bc\")>]"
      ]
     },
     "execution_count": 281,
     "metadata": {},
     "output_type": "execute_result"
    }
   ],
   "source": [
    "company_nameq5"
   ]
  },
  {
   "cell_type": "code",
   "execution_count": 282,
   "metadata": {},
   "outputs": [
    {
     "data": {
      "text/plain": [
       "['Tata Consultancy Services',\n",
       " 'Accenture',\n",
       " 'IBM',\n",
       " 'Ericsson-Worldwide',\n",
       " 'Delhivery',\n",
       " 'UnitedHealth Group',\n",
       " 'Valiance Solutions',\n",
       " 'ZS Associates',\n",
       " 'EXL Service',\n",
       " 'Optum Global Solutions',\n",
       " 'Innovaccer',\n",
       " 'Cognizant Technology Solutions',\n",
       " 'Optum',\n",
       " 'Tech Mahindra',\n",
       " 'OYO',\n",
       " 'Nagarro',\n",
       " 'dunnhumby',\n",
       " 'Vidooly Media Tech',\n",
       " 'Algo8.ai',\n",
       " 'Amazon']"
      ]
     },
     "execution_count": 282,
     "metadata": {},
     "output_type": "execute_result"
    }
   ],
   "source": [
    "comp_nameQ5 = []\n",
    "for i in company_nameq5:\n",
    "    comp_nameQ5.append(i.text)\n",
    "comp_nameQ5"
   ]
  },
  {
   "cell_type": "code",
   "execution_count": 308,
   "metadata": {},
   "outputs": [],
   "source": [
    "comp_name10 = comp_nameQ5[0:10]"
   ]
  },
  {
   "cell_type": "code",
   "execution_count": 309,
   "metadata": {},
   "outputs": [
    {
     "data": {
      "text/plain": [
       "['Tata Consultancy Services',\n",
       " 'Accenture',\n",
       " 'IBM',\n",
       " 'Ericsson-Worldwide',\n",
       " 'Delhivery',\n",
       " 'UnitedHealth Group',\n",
       " 'Valiance Solutions',\n",
       " 'ZS Associates',\n",
       " 'EXL Service',\n",
       " 'Optum Global Solutions']"
      ]
     },
     "execution_count": 309,
     "metadata": {},
     "output_type": "execute_result"
    }
   ],
   "source": [
    "comp_name10"
   ]
  },
  {
   "cell_type": "code",
   "execution_count": 286,
   "metadata": {},
   "outputs": [],
   "source": [
    "num_salq5 = drivers.find_elements_by_xpath(\"//p[@class = 'css-1uyte9r css-1kuy7z7 m-0 ']\")"
   ]
  },
  {
   "cell_type": "code",
   "execution_count": 287,
   "metadata": {},
   "outputs": [
    {
     "data": {
      "text/plain": [
       "['16 salaries',\n",
       " '14 salaries',\n",
       " '14 salaries',\n",
       " '14 salaries',\n",
       " '14 salaries',\n",
       " '11 salaries',\n",
       " '9 salaries',\n",
       " '8 salaries',\n",
       " '8 salaries',\n",
       " '8 salaries',\n",
       " '8 salaries',\n",
       " '6 salaries',\n",
       " '6 salaries',\n",
       " '5 salaries',\n",
       " '5 salaries',\n",
       " '5 salaries',\n",
       " '5 salaries',\n",
       " '5 salaries',\n",
       " '5 salaries',\n",
       " '4 salaries']"
      ]
     },
     "execution_count": 287,
     "metadata": {},
     "output_type": "execute_result"
    }
   ],
   "source": [
    "num_salQ5 = []\n",
    "for i in num_salq5:\n",
    "    num_salQ5.append(i.text)\n",
    "num_salQ5"
   ]
  },
  {
   "cell_type": "code",
   "execution_count": 310,
   "metadata": {},
   "outputs": [],
   "source": [
    "salary10 = num_salQ5[0:10]"
   ]
  },
  {
   "cell_type": "code",
   "execution_count": 311,
   "metadata": {},
   "outputs": [
    {
     "data": {
      "text/plain": [
       "['16 salaries',\n",
       " '14 salaries',\n",
       " '14 salaries',\n",
       " '14 salaries',\n",
       " '14 salaries',\n",
       " '11 salaries',\n",
       " '9 salaries',\n",
       " '8 salaries',\n",
       " '8 salaries',\n",
       " '8 salaries']"
      ]
     },
     "execution_count": 311,
     "metadata": {},
     "output_type": "execute_result"
    }
   ],
   "source": [
    "salary10"
   ]
  },
  {
   "cell_type": "code",
   "execution_count": 288,
   "metadata": {},
   "outputs": [
    {
     "data": {
      "text/plain": [
       "[<selenium.webdriver.remote.webelement.WebElement (session=\"1314a2c4fb7fc5e552d4da13ee0ab731\", element=\"081f66b6-952c-4725-b283-758fdcd671c8\")>,\n",
       " <selenium.webdriver.remote.webelement.WebElement (session=\"1314a2c4fb7fc5e552d4da13ee0ab731\", element=\"86c10ed5-a219-4159-b4c5-d1599a5df202\")>,\n",
       " <selenium.webdriver.remote.webelement.WebElement (session=\"1314a2c4fb7fc5e552d4da13ee0ab731\", element=\"16b3a7d2-8173-4dde-bf35-4cedc772a24a\")>,\n",
       " <selenium.webdriver.remote.webelement.WebElement (session=\"1314a2c4fb7fc5e552d4da13ee0ab731\", element=\"3b6abae0-650e-45db-b61e-43e068d44b33\")>,\n",
       " <selenium.webdriver.remote.webelement.WebElement (session=\"1314a2c4fb7fc5e552d4da13ee0ab731\", element=\"47153240-af57-4dc4-a5ce-07aba98697c3\")>,\n",
       " <selenium.webdriver.remote.webelement.WebElement (session=\"1314a2c4fb7fc5e552d4da13ee0ab731\", element=\"37c53845-ec8d-4a2d-8913-7adb7ee37952\")>,\n",
       " <selenium.webdriver.remote.webelement.WebElement (session=\"1314a2c4fb7fc5e552d4da13ee0ab731\", element=\"a7e3a39a-9332-45fa-a43f-534aaa7301f3\")>,\n",
       " <selenium.webdriver.remote.webelement.WebElement (session=\"1314a2c4fb7fc5e552d4da13ee0ab731\", element=\"f8348d77-9fc3-43ea-9310-52558c150c7e\")>,\n",
       " <selenium.webdriver.remote.webelement.WebElement (session=\"1314a2c4fb7fc5e552d4da13ee0ab731\", element=\"298e9630-d4aa-4451-8c5e-55647f89af37\")>,\n",
       " <selenium.webdriver.remote.webelement.WebElement (session=\"1314a2c4fb7fc5e552d4da13ee0ab731\", element=\"3250bc37-46fa-4e15-82cc-de296d5cd43b\")>,\n",
       " <selenium.webdriver.remote.webelement.WebElement (session=\"1314a2c4fb7fc5e552d4da13ee0ab731\", element=\"25ed564f-9a7f-452c-9226-121e127b5046\")>,\n",
       " <selenium.webdriver.remote.webelement.WebElement (session=\"1314a2c4fb7fc5e552d4da13ee0ab731\", element=\"2313a77d-e3f5-421f-95a2-d602992101d0\")>,\n",
       " <selenium.webdriver.remote.webelement.WebElement (session=\"1314a2c4fb7fc5e552d4da13ee0ab731\", element=\"9996adb7-38de-4665-9fee-452d3ee93c10\")>,\n",
       " <selenium.webdriver.remote.webelement.WebElement (session=\"1314a2c4fb7fc5e552d4da13ee0ab731\", element=\"fb4736f3-ea1b-4301-9ab4-ae8808b4f2db\")>,\n",
       " <selenium.webdriver.remote.webelement.WebElement (session=\"1314a2c4fb7fc5e552d4da13ee0ab731\", element=\"23b7ad0d-b6f1-46aa-8d45-2c75a8254a66\")>,\n",
       " <selenium.webdriver.remote.webelement.WebElement (session=\"1314a2c4fb7fc5e552d4da13ee0ab731\", element=\"d554b25e-6f2e-45b3-bfed-e8d1d9b70ba7\")>,\n",
       " <selenium.webdriver.remote.webelement.WebElement (session=\"1314a2c4fb7fc5e552d4da13ee0ab731\", element=\"236ad743-8ce6-4c84-a41e-514781bed3c3\")>,\n",
       " <selenium.webdriver.remote.webelement.WebElement (session=\"1314a2c4fb7fc5e552d4da13ee0ab731\", element=\"c6ccc8ba-f8e5-4a45-bd4d-62ca8849a48e\")>,\n",
       " <selenium.webdriver.remote.webelement.WebElement (session=\"1314a2c4fb7fc5e552d4da13ee0ab731\", element=\"74865347-3372-491b-bb86-3ed8599d3255\")>,\n",
       " <selenium.webdriver.remote.webelement.WebElement (session=\"1314a2c4fb7fc5e552d4da13ee0ab731\", element=\"3ac5facd-ad5d-485d-b31c-c169f7347a2a\")>]"
      ]
     },
     "execution_count": 288,
     "metadata": {},
     "output_type": "execute_result"
    }
   ],
   "source": [
    "avg_salq5 = drivers.find_elements_by_xpath(\"//div[@class = 'col-2 d-none d-md-flex flex-row justify-content-end']//strong\")\n",
    "avg_salq5"
   ]
  },
  {
   "cell_type": "code",
   "execution_count": 289,
   "metadata": {},
   "outputs": [
    {
     "data": {
      "text/plain": [
       "['₹ 6,11,228',\n",
       " '₹ 11,46,533',\n",
       " '₹ 8,97,795',\n",
       " '₹ 7,38,057',\n",
       " '₹ 12,39,781',\n",
       " '₹ 13,36,142',\n",
       " '₹ 8,15,192',\n",
       " '₹ 11,35,221',\n",
       " '₹ 11,44,243',\n",
       " '₹ 14,13,288',\n",
       " '₹ 12,07,110',\n",
       " '₹ 10,07,410',\n",
       " '₹ 13,18,851',\n",
       " '₹ 10,52,718',\n",
       " '₹ 14,13,078',\n",
       " '₹ 9,61,653',\n",
       " '₹ 11,00,000',\n",
       " '₹ 15,887',\n",
       " '₹ 6,75,000',\n",
       " '₹ 15,00,000']"
      ]
     },
     "execution_count": 289,
     "metadata": {},
     "output_type": "execute_result"
    }
   ],
   "source": [
    "avg_salQ5 = []\n",
    "for i in avg_salq5:\n",
    "    avg_salQ5.append(i.text)\n",
    "avg_salQ5"
   ]
  },
  {
   "cell_type": "code",
   "execution_count": 312,
   "metadata": {},
   "outputs": [
    {
     "data": {
      "text/plain": [
       "['₹ 6,11,228',\n",
       " '₹ 11,46,533',\n",
       " '₹ 8,97,795',\n",
       " '₹ 7,38,057',\n",
       " '₹ 12,39,781',\n",
       " '₹ 13,36,142',\n",
       " '₹ 8,15,192',\n",
       " '₹ 11,35,221',\n",
       " '₹ 11,44,243',\n",
       " '₹ 14,13,288']"
      ]
     },
     "execution_count": 312,
     "metadata": {},
     "output_type": "execute_result"
    }
   ],
   "source": [
    "avg_sal10 = avg_salQ5[0:10]\n",
    "avg_sal10"
   ]
  },
  {
   "cell_type": "code",
   "execution_count": 290,
   "metadata": {},
   "outputs": [],
   "source": [
    "min_salq5 =  drivers.find_elements_by_xpath(\"//div[@class = 'common__RangeBarStyle__values d-flex justify-content-between ']//span\")"
   ]
  },
  {
   "cell_type": "code",
   "execution_count": 291,
   "metadata": {},
   "outputs": [
    {
     "data": {
      "text/plain": [
       "[<selenium.webdriver.remote.webelement.WebElement (session=\"1314a2c4fb7fc5e552d4da13ee0ab731\", element=\"ccb70bc3-e91c-4a56-a6f9-71da01e02745\")>,\n",
       " <selenium.webdriver.remote.webelement.WebElement (session=\"1314a2c4fb7fc5e552d4da13ee0ab731\", element=\"1edf3d9d-7f31-478b-ba0e-c49743b71879\")>,\n",
       " <selenium.webdriver.remote.webelement.WebElement (session=\"1314a2c4fb7fc5e552d4da13ee0ab731\", element=\"218174fb-d089-498a-8b5d-305268157ed5\")>,\n",
       " <selenium.webdriver.remote.webelement.WebElement (session=\"1314a2c4fb7fc5e552d4da13ee0ab731\", element=\"10c73d70-27b4-425f-92c7-73cdc57cc91b\")>,\n",
       " <selenium.webdriver.remote.webelement.WebElement (session=\"1314a2c4fb7fc5e552d4da13ee0ab731\", element=\"6c419612-535b-491d-98ca-bc1f49d4bf9f\")>,\n",
       " <selenium.webdriver.remote.webelement.WebElement (session=\"1314a2c4fb7fc5e552d4da13ee0ab731\", element=\"861254b0-8ebd-4a05-b320-d40aa0fa790c\")>,\n",
       " <selenium.webdriver.remote.webelement.WebElement (session=\"1314a2c4fb7fc5e552d4da13ee0ab731\", element=\"b4ab11fe-7c9f-4527-be29-5bcd9272fbed\")>,\n",
       " <selenium.webdriver.remote.webelement.WebElement (session=\"1314a2c4fb7fc5e552d4da13ee0ab731\", element=\"34cd049f-576e-4129-8af3-ad08acc8942e\")>,\n",
       " <selenium.webdriver.remote.webelement.WebElement (session=\"1314a2c4fb7fc5e552d4da13ee0ab731\", element=\"e5b3b4be-230f-444f-a044-29e5f945f600\")>,\n",
       " <selenium.webdriver.remote.webelement.WebElement (session=\"1314a2c4fb7fc5e552d4da13ee0ab731\", element=\"f5064c07-871a-4679-9e0e-8e4003b2bd43\")>,\n",
       " <selenium.webdriver.remote.webelement.WebElement (session=\"1314a2c4fb7fc5e552d4da13ee0ab731\", element=\"0338975b-bad8-4bb4-b4e2-ade6b37cc0e7\")>,\n",
       " <selenium.webdriver.remote.webelement.WebElement (session=\"1314a2c4fb7fc5e552d4da13ee0ab731\", element=\"913928dc-1318-424f-a123-c301e2db43c6\")>,\n",
       " <selenium.webdriver.remote.webelement.WebElement (session=\"1314a2c4fb7fc5e552d4da13ee0ab731\", element=\"199156bf-3ce0-4a0a-a951-28cccec9e037\")>,\n",
       " <selenium.webdriver.remote.webelement.WebElement (session=\"1314a2c4fb7fc5e552d4da13ee0ab731\", element=\"0e5787a7-dacb-42ac-9fd1-96488df62abe\")>,\n",
       " <selenium.webdriver.remote.webelement.WebElement (session=\"1314a2c4fb7fc5e552d4da13ee0ab731\", element=\"52c9110d-ad55-48ae-8ecc-d6ec11bf3493\")>,\n",
       " <selenium.webdriver.remote.webelement.WebElement (session=\"1314a2c4fb7fc5e552d4da13ee0ab731\", element=\"f4d129d7-e951-4489-8312-3dd63dca1fb8\")>,\n",
       " <selenium.webdriver.remote.webelement.WebElement (session=\"1314a2c4fb7fc5e552d4da13ee0ab731\", element=\"67f2e11b-1134-492e-a0f3-800c812eae05\")>,\n",
       " <selenium.webdriver.remote.webelement.WebElement (session=\"1314a2c4fb7fc5e552d4da13ee0ab731\", element=\"3a3b3021-2604-4438-aa0a-5bbe21a8ec16\")>,\n",
       " <selenium.webdriver.remote.webelement.WebElement (session=\"1314a2c4fb7fc5e552d4da13ee0ab731\", element=\"63ae5100-f9d0-4aca-a914-91b7ca39b6d6\")>,\n",
       " <selenium.webdriver.remote.webelement.WebElement (session=\"1314a2c4fb7fc5e552d4da13ee0ab731\", element=\"c5994d52-7040-400d-b01b-4e4f7f716e8a\")>,\n",
       " <selenium.webdriver.remote.webelement.WebElement (session=\"1314a2c4fb7fc5e552d4da13ee0ab731\", element=\"01b28010-a096-46dd-b295-fe6b00afeb8b\")>,\n",
       " <selenium.webdriver.remote.webelement.WebElement (session=\"1314a2c4fb7fc5e552d4da13ee0ab731\", element=\"a93c6e09-e3d7-4a31-859d-006b71b077d4\")>,\n",
       " <selenium.webdriver.remote.webelement.WebElement (session=\"1314a2c4fb7fc5e552d4da13ee0ab731\", element=\"828c5e7b-2cfe-4e25-8833-2496cdebe757\")>,\n",
       " <selenium.webdriver.remote.webelement.WebElement (session=\"1314a2c4fb7fc5e552d4da13ee0ab731\", element=\"201c22b7-e2f9-4446-8f8e-e396a666165e\")>,\n",
       " <selenium.webdriver.remote.webelement.WebElement (session=\"1314a2c4fb7fc5e552d4da13ee0ab731\", element=\"70472873-8568-4c94-89fc-6db37ffae548\")>,\n",
       " <selenium.webdriver.remote.webelement.WebElement (session=\"1314a2c4fb7fc5e552d4da13ee0ab731\", element=\"c64065c6-fde8-40b4-b175-5d4a7f75bbe5\")>,\n",
       " <selenium.webdriver.remote.webelement.WebElement (session=\"1314a2c4fb7fc5e552d4da13ee0ab731\", element=\"8415acd1-a4d8-445d-a52e-4255ebe0e124\")>,\n",
       " <selenium.webdriver.remote.webelement.WebElement (session=\"1314a2c4fb7fc5e552d4da13ee0ab731\", element=\"d65dc0ce-0c7d-4644-8c59-fe02cbeb5f41\")>,\n",
       " <selenium.webdriver.remote.webelement.WebElement (session=\"1314a2c4fb7fc5e552d4da13ee0ab731\", element=\"273bf069-deb3-432f-9b95-1cd20b7b0c49\")>,\n",
       " <selenium.webdriver.remote.webelement.WebElement (session=\"1314a2c4fb7fc5e552d4da13ee0ab731\", element=\"e1d8b540-0869-4f07-a7e3-8430e9ea8bb4\")>,\n",
       " <selenium.webdriver.remote.webelement.WebElement (session=\"1314a2c4fb7fc5e552d4da13ee0ab731\", element=\"397a0f35-3323-442c-9a05-8af35d11bf5e\")>,\n",
       " <selenium.webdriver.remote.webelement.WebElement (session=\"1314a2c4fb7fc5e552d4da13ee0ab731\", element=\"c9045014-65b5-4d0e-8ae2-42e89716aad2\")>,\n",
       " <selenium.webdriver.remote.webelement.WebElement (session=\"1314a2c4fb7fc5e552d4da13ee0ab731\", element=\"2e69f32e-fa69-40ab-99ad-d882fa41bcf2\")>,\n",
       " <selenium.webdriver.remote.webelement.WebElement (session=\"1314a2c4fb7fc5e552d4da13ee0ab731\", element=\"1c66a40d-739e-465e-96df-660f68c39db1\")>,\n",
       " <selenium.webdriver.remote.webelement.WebElement (session=\"1314a2c4fb7fc5e552d4da13ee0ab731\", element=\"a28e88ef-3693-47f2-a121-8c67c573cbf9\")>,\n",
       " <selenium.webdriver.remote.webelement.WebElement (session=\"1314a2c4fb7fc5e552d4da13ee0ab731\", element=\"3591b2a9-2ee7-4668-8cec-d446f39d1504\")>,\n",
       " <selenium.webdriver.remote.webelement.WebElement (session=\"1314a2c4fb7fc5e552d4da13ee0ab731\", element=\"5eac618b-6b4e-499f-a76c-7ff98b7095f6\")>,\n",
       " <selenium.webdriver.remote.webelement.WebElement (session=\"1314a2c4fb7fc5e552d4da13ee0ab731\", element=\"2c7ebabe-9d06-4214-adbd-dea7f1fa77b1\")>,\n",
       " <selenium.webdriver.remote.webelement.WebElement (session=\"1314a2c4fb7fc5e552d4da13ee0ab731\", element=\"56e4a502-55ca-48b6-9eb2-ed4479a9a320\")>,\n",
       " <selenium.webdriver.remote.webelement.WebElement (session=\"1314a2c4fb7fc5e552d4da13ee0ab731\", element=\"8edc2009-8c6c-4e09-b63d-a6f339b2557f\")>]"
      ]
     },
     "execution_count": 291,
     "metadata": {},
     "output_type": "execute_result"
    }
   ],
   "source": [
    "min_salq5"
   ]
  },
  {
   "cell_type": "code",
   "execution_count": 292,
   "metadata": {},
   "outputs": [
    {
     "data": {
      "text/plain": [
       "['₹343K',\n",
       " '₹1,095K',\n",
       " '₹577K',\n",
       " '₹2,213K',\n",
       " '₹586K',\n",
       " '₹2,730K',\n",
       " '₹355K',\n",
       " '₹1,613K',\n",
       " '₹450K',\n",
       " '₹11,622K',\n",
       " '₹1,069K',\n",
       " '₹1,520K',\n",
       " '₹502K',\n",
       " '₹1,465K',\n",
       " '₹202K',\n",
       " '₹1,809K',\n",
       " '₹575K',\n",
       " '₹1,520K',\n",
       " '₹1,014K',\n",
       " '₹2,149K',\n",
       " '₹620K',\n",
       " '₹1,695K',\n",
       " '₹792K',\n",
       " '₹1,263K',\n",
       " '₹807K',\n",
       " '₹1,986K',\n",
       " '₹405K',\n",
       " '₹1,703K',\n",
       " '₹971K',\n",
       " '₹1,883K',\n",
       " '₹400K',\n",
       " '₹1,124K',\n",
       " '₹817K',\n",
       " '₹2,006K',\n",
       " '₹12K',\n",
       " '₹63K',\n",
       " '₹86K',\n",
       " '₹1,358K',\n",
       " '₹772K',\n",
       " '₹2,091K']"
      ]
     },
     "execution_count": 292,
     "metadata": {},
     "output_type": "execute_result"
    }
   ],
   "source": [
    "min_salQ5 = []\n",
    "for i in min_salq5:\n",
    "    min_salQ5.append(i.text)\n",
    "min_salQ5"
   ]
  },
  {
   "cell_type": "code",
   "execution_count": 300,
   "metadata": {},
   "outputs": [
    {
     "data": {
      "text/plain": [
       "40"
      ]
     },
     "execution_count": 300,
     "metadata": {},
     "output_type": "execute_result"
    }
   ],
   "source": [
    "np.count_nonzero(min_salQ5)"
   ]
  },
  {
   "cell_type": "code",
   "execution_count": 301,
   "metadata": {},
   "outputs": [],
   "source": [
    "min_sal_n = min_salQ5[0:40:2]"
   ]
  },
  {
   "cell_type": "code",
   "execution_count": 302,
   "metadata": {},
   "outputs": [
    {
     "data": {
      "text/plain": [
       "['₹343K',\n",
       " '₹577K',\n",
       " '₹586K',\n",
       " '₹355K',\n",
       " '₹450K',\n",
       " '₹1,069K',\n",
       " '₹502K',\n",
       " '₹202K',\n",
       " '₹575K',\n",
       " '₹1,014K',\n",
       " '₹620K',\n",
       " '₹792K',\n",
       " '₹807K',\n",
       " '₹405K',\n",
       " '₹971K',\n",
       " '₹400K',\n",
       " '₹817K',\n",
       " '₹12K',\n",
       " '₹86K',\n",
       " '₹772K']"
      ]
     },
     "execution_count": 302,
     "metadata": {},
     "output_type": "execute_result"
    }
   ],
   "source": [
    "min_sal_n"
   ]
  },
  {
   "cell_type": "code",
   "execution_count": 313,
   "metadata": {},
   "outputs": [
    {
     "data": {
      "text/plain": [
       "['₹343K',\n",
       " '₹577K',\n",
       " '₹586K',\n",
       " '₹355K',\n",
       " '₹450K',\n",
       " '₹1,069K',\n",
       " '₹502K',\n",
       " '₹202K',\n",
       " '₹575K',\n",
       " '₹1,014K']"
      ]
     },
     "execution_count": 313,
     "metadata": {},
     "output_type": "execute_result"
    }
   ],
   "source": [
    "min_sal10 = min_sal_n[0:10]\n",
    "min_sal10"
   ]
  },
  {
   "cell_type": "code",
   "execution_count": 303,
   "metadata": {},
   "outputs": [],
   "source": [
    "max_sal_Q5 = min_salQ5[1:41:2]"
   ]
  },
  {
   "cell_type": "code",
   "execution_count": 304,
   "metadata": {},
   "outputs": [
    {
     "data": {
      "text/plain": [
       "['₹1,095K',\n",
       " '₹2,213K',\n",
       " '₹2,730K',\n",
       " '₹1,613K',\n",
       " '₹11,622K',\n",
       " '₹1,520K',\n",
       " '₹1,465K',\n",
       " '₹1,809K',\n",
       " '₹1,520K',\n",
       " '₹2,149K',\n",
       " '₹1,695K',\n",
       " '₹1,263K',\n",
       " '₹1,986K',\n",
       " '₹1,703K',\n",
       " '₹1,883K',\n",
       " '₹1,124K',\n",
       " '₹2,006K',\n",
       " '₹63K',\n",
       " '₹1,358K',\n",
       " '₹2,091K']"
      ]
     },
     "execution_count": 304,
     "metadata": {},
     "output_type": "execute_result"
    }
   ],
   "source": [
    "max_sal_Q5"
   ]
  },
  {
   "cell_type": "code",
   "execution_count": 314,
   "metadata": {},
   "outputs": [],
   "source": [
    "max_sal10 = max_sal_Q5[0:10]"
   ]
  },
  {
   "cell_type": "code",
   "execution_count": 305,
   "metadata": {},
   "outputs": [],
   "source": [
    "#creating dataframes"
   ]
  },
  {
   "cell_type": "code",
   "execution_count": 315,
   "metadata": {},
   "outputs": [],
   "source": [
    "Ques5 = pd.DataFrame({})"
   ]
  },
  {
   "cell_type": "code",
   "execution_count": 316,
   "metadata": {},
   "outputs": [],
   "source": [
    "Ques5[\"Company Name\"] = comp_name10\n",
    "Ques5[\"Number of Salaries\"] = salary10\n",
    "Ques5[\"Average Salary\"] = avg_sal10\n",
    "Ques5[\"Minimum Salary\"] = min_sal10\n",
    "Ques5[\"Maximum Salary\"] = max_sal10"
   ]
  },
  {
   "cell_type": "code",
   "execution_count": 317,
   "metadata": {},
   "outputs": [
    {
     "data": {
      "text/html": [
       "<div>\n",
       "<style scoped>\n",
       "    .dataframe tbody tr th:only-of-type {\n",
       "        vertical-align: middle;\n",
       "    }\n",
       "\n",
       "    .dataframe tbody tr th {\n",
       "        vertical-align: top;\n",
       "    }\n",
       "\n",
       "    .dataframe thead th {\n",
       "        text-align: right;\n",
       "    }\n",
       "</style>\n",
       "<table border=\"1\" class=\"dataframe\">\n",
       "  <thead>\n",
       "    <tr style=\"text-align: right;\">\n",
       "      <th></th>\n",
       "      <th>Company Name</th>\n",
       "      <th>Number of Salaries</th>\n",
       "      <th>Average Salary</th>\n",
       "      <th>Minimum Salary</th>\n",
       "      <th>Maximum Salary</th>\n",
       "    </tr>\n",
       "  </thead>\n",
       "  <tbody>\n",
       "    <tr>\n",
       "      <th>0</th>\n",
       "      <td>Tata Consultancy Services</td>\n",
       "      <td>16 salaries</td>\n",
       "      <td>₹ 6,11,228</td>\n",
       "      <td>₹343K</td>\n",
       "      <td>₹1,095K</td>\n",
       "    </tr>\n",
       "    <tr>\n",
       "      <th>1</th>\n",
       "      <td>Accenture</td>\n",
       "      <td>14 salaries</td>\n",
       "      <td>₹ 11,46,533</td>\n",
       "      <td>₹577K</td>\n",
       "      <td>₹2,213K</td>\n",
       "    </tr>\n",
       "    <tr>\n",
       "      <th>2</th>\n",
       "      <td>IBM</td>\n",
       "      <td>14 salaries</td>\n",
       "      <td>₹ 8,97,795</td>\n",
       "      <td>₹586K</td>\n",
       "      <td>₹2,730K</td>\n",
       "    </tr>\n",
       "    <tr>\n",
       "      <th>3</th>\n",
       "      <td>Ericsson-Worldwide</td>\n",
       "      <td>14 salaries</td>\n",
       "      <td>₹ 7,38,057</td>\n",
       "      <td>₹355K</td>\n",
       "      <td>₹1,613K</td>\n",
       "    </tr>\n",
       "    <tr>\n",
       "      <th>4</th>\n",
       "      <td>Delhivery</td>\n",
       "      <td>14 salaries</td>\n",
       "      <td>₹ 12,39,781</td>\n",
       "      <td>₹450K</td>\n",
       "      <td>₹11,622K</td>\n",
       "    </tr>\n",
       "    <tr>\n",
       "      <th>5</th>\n",
       "      <td>UnitedHealth Group</td>\n",
       "      <td>11 salaries</td>\n",
       "      <td>₹ 13,36,142</td>\n",
       "      <td>₹1,069K</td>\n",
       "      <td>₹1,520K</td>\n",
       "    </tr>\n",
       "    <tr>\n",
       "      <th>6</th>\n",
       "      <td>Valiance Solutions</td>\n",
       "      <td>9 salaries</td>\n",
       "      <td>₹ 8,15,192</td>\n",
       "      <td>₹502K</td>\n",
       "      <td>₹1,465K</td>\n",
       "    </tr>\n",
       "    <tr>\n",
       "      <th>7</th>\n",
       "      <td>ZS Associates</td>\n",
       "      <td>8 salaries</td>\n",
       "      <td>₹ 11,35,221</td>\n",
       "      <td>₹202K</td>\n",
       "      <td>₹1,809K</td>\n",
       "    </tr>\n",
       "    <tr>\n",
       "      <th>8</th>\n",
       "      <td>EXL Service</td>\n",
       "      <td>8 salaries</td>\n",
       "      <td>₹ 11,44,243</td>\n",
       "      <td>₹575K</td>\n",
       "      <td>₹1,520K</td>\n",
       "    </tr>\n",
       "    <tr>\n",
       "      <th>9</th>\n",
       "      <td>Optum Global Solutions</td>\n",
       "      <td>8 salaries</td>\n",
       "      <td>₹ 14,13,288</td>\n",
       "      <td>₹1,014K</td>\n",
       "      <td>₹2,149K</td>\n",
       "    </tr>\n",
       "  </tbody>\n",
       "</table>\n",
       "</div>"
      ],
      "text/plain": [
       "                Company Name Number of Salaries Average Salary Minimum Salary  \\\n",
       "0  Tata Consultancy Services        16 salaries     ₹ 6,11,228          ₹343K   \n",
       "1                  Accenture        14 salaries    ₹ 11,46,533          ₹577K   \n",
       "2                        IBM        14 salaries     ₹ 8,97,795          ₹586K   \n",
       "3         Ericsson-Worldwide        14 salaries     ₹ 7,38,057          ₹355K   \n",
       "4                  Delhivery        14 salaries    ₹ 12,39,781          ₹450K   \n",
       "5         UnitedHealth Group        11 salaries    ₹ 13,36,142        ₹1,069K   \n",
       "6         Valiance Solutions         9 salaries     ₹ 8,15,192          ₹502K   \n",
       "7              ZS Associates         8 salaries    ₹ 11,35,221          ₹202K   \n",
       "8                EXL Service         8 salaries    ₹ 11,44,243          ₹575K   \n",
       "9     Optum Global Solutions         8 salaries    ₹ 14,13,288        ₹1,014K   \n",
       "\n",
       "  Maximum Salary  \n",
       "0        ₹1,095K  \n",
       "1        ₹2,213K  \n",
       "2        ₹2,730K  \n",
       "3        ₹1,613K  \n",
       "4       ₹11,622K  \n",
       "5        ₹1,520K  \n",
       "6        ₹1,465K  \n",
       "7        ₹1,809K  \n",
       "8        ₹1,520K  \n",
       "9        ₹2,149K  "
      ]
     },
     "execution_count": 317,
     "metadata": {},
     "output_type": "execute_result"
    }
   ],
   "source": [
    "Ques5"
   ]
  },
  {
   "cell_type": "code",
   "execution_count": 598,
   "metadata": {},
   "outputs": [],
   "source": [
    "#completed"
   ]
  },
  {
   "cell_type": "markdown",
   "metadata": {},
   "source": [
    "# Question 6"
   ]
  },
  {
   "cell_type": "markdown",
   "metadata": {},
   "source": [
    "Scrape data of first 100 sunglasses listings on flipkart.com. You have to scrape four attributes:\n",
    "1. Brand\n",
    "2. Product Description\n",
    "3. Price\n",
    "4. Discount %"
   ]
  },
  {
   "cell_type": "code",
   "execution_count": 432,
   "metadata": {},
   "outputs": [],
   "source": [
    "urlq6 = \"https://www.flipkart.com/\""
   ]
  },
  {
   "cell_type": "code",
   "execution_count": 433,
   "metadata": {},
   "outputs": [],
   "source": [
    "drivers.get(urlq6)"
   ]
  },
  {
   "cell_type": "code",
   "execution_count": 434,
   "metadata": {},
   "outputs": [],
   "source": [
    "search_glasses = drivers.find_element_by_xpath(\"//input[@class = '_3704LK']\")"
   ]
  },
  {
   "cell_type": "code",
   "execution_count": 435,
   "metadata": {},
   "outputs": [],
   "source": [
    "search_glasses_btn = drivers.find_element_by_xpath(\"//button[@class = 'L0Z3Pu']\")"
   ]
  },
  {
   "cell_type": "code",
   "execution_count": 436,
   "metadata": {},
   "outputs": [],
   "source": [
    "search_glasses.send_keys(\"sunglasses\")"
   ]
  },
  {
   "cell_type": "code",
   "execution_count": 437,
   "metadata": {},
   "outputs": [],
   "source": [
    "search_glasses_btn.click()"
   ]
  },
  {
   "cell_type": "code",
   "execution_count": 438,
   "metadata": {},
   "outputs": [],
   "source": [
    "brand_name1 = drivers.find_elements_by_xpath(\"//div[@class = '_2WkVRV']\")"
   ]
  },
  {
   "cell_type": "code",
   "execution_count": 410,
   "metadata": {
    "scrolled": true
   },
   "outputs": [
    {
     "data": {
      "text/plain": [
       "[<selenium.webdriver.remote.webelement.WebElement (session=\"1314a2c4fb7fc5e552d4da13ee0ab731\", element=\"d6d4ebd4-43cc-4287-b9cb-6b38e8ae6fce\")>,\n",
       " <selenium.webdriver.remote.webelement.WebElement (session=\"1314a2c4fb7fc5e552d4da13ee0ab731\", element=\"c5070412-dd4e-44c1-9eae-f639352167a8\")>,\n",
       " <selenium.webdriver.remote.webelement.WebElement (session=\"1314a2c4fb7fc5e552d4da13ee0ab731\", element=\"da974411-621b-41b2-87dd-96fdd919fc4f\")>,\n",
       " <selenium.webdriver.remote.webelement.WebElement (session=\"1314a2c4fb7fc5e552d4da13ee0ab731\", element=\"91843c9f-fe04-42d3-b70a-42c326fc9152\")>,\n",
       " <selenium.webdriver.remote.webelement.WebElement (session=\"1314a2c4fb7fc5e552d4da13ee0ab731\", element=\"8aa708d3-6bc5-4039-bc5d-9a987a3323aa\")>,\n",
       " <selenium.webdriver.remote.webelement.WebElement (session=\"1314a2c4fb7fc5e552d4da13ee0ab731\", element=\"647bb5f7-6233-4052-9dd0-f27594f0cf42\")>,\n",
       " <selenium.webdriver.remote.webelement.WebElement (session=\"1314a2c4fb7fc5e552d4da13ee0ab731\", element=\"d223a7cb-266e-4f6c-ab19-0ad19b2e30e9\")>,\n",
       " <selenium.webdriver.remote.webelement.WebElement (session=\"1314a2c4fb7fc5e552d4da13ee0ab731\", element=\"3c954474-fea5-4373-bc1a-cb36d990dcc7\")>,\n",
       " <selenium.webdriver.remote.webelement.WebElement (session=\"1314a2c4fb7fc5e552d4da13ee0ab731\", element=\"64b18306-06cc-4d56-bce5-09e32be766b7\")>,\n",
       " <selenium.webdriver.remote.webelement.WebElement (session=\"1314a2c4fb7fc5e552d4da13ee0ab731\", element=\"0232ecbc-a901-419c-bb31-2df7235e953d\")>,\n",
       " <selenium.webdriver.remote.webelement.WebElement (session=\"1314a2c4fb7fc5e552d4da13ee0ab731\", element=\"98791a6f-f817-4057-9086-298f00746d68\")>,\n",
       " <selenium.webdriver.remote.webelement.WebElement (session=\"1314a2c4fb7fc5e552d4da13ee0ab731\", element=\"021d98d7-d034-4fc4-97e1-0c4b5d2a5702\")>,\n",
       " <selenium.webdriver.remote.webelement.WebElement (session=\"1314a2c4fb7fc5e552d4da13ee0ab731\", element=\"684b01f1-3f6d-41b7-8230-e1625d6c3c5c\")>,\n",
       " <selenium.webdriver.remote.webelement.WebElement (session=\"1314a2c4fb7fc5e552d4da13ee0ab731\", element=\"4673e6e0-58d2-47d0-bb26-77f6d133c7f5\")>,\n",
       " <selenium.webdriver.remote.webelement.WebElement (session=\"1314a2c4fb7fc5e552d4da13ee0ab731\", element=\"59b0e112-32b7-4b72-8947-62b70f57449e\")>,\n",
       " <selenium.webdriver.remote.webelement.WebElement (session=\"1314a2c4fb7fc5e552d4da13ee0ab731\", element=\"681c23a6-c140-465a-9603-6e7e231d399c\")>,\n",
       " <selenium.webdriver.remote.webelement.WebElement (session=\"1314a2c4fb7fc5e552d4da13ee0ab731\", element=\"a2d23d72-538f-4320-80c3-9981a382d4a9\")>,\n",
       " <selenium.webdriver.remote.webelement.WebElement (session=\"1314a2c4fb7fc5e552d4da13ee0ab731\", element=\"dcb250ef-2998-40cd-b3f1-e41c452d7e73\")>,\n",
       " <selenium.webdriver.remote.webelement.WebElement (session=\"1314a2c4fb7fc5e552d4da13ee0ab731\", element=\"8f792ebe-7639-4064-866f-5786feb88eb9\")>,\n",
       " <selenium.webdriver.remote.webelement.WebElement (session=\"1314a2c4fb7fc5e552d4da13ee0ab731\", element=\"6610c00c-9bfe-4d7b-8698-5dc6387c6af8\")>,\n",
       " <selenium.webdriver.remote.webelement.WebElement (session=\"1314a2c4fb7fc5e552d4da13ee0ab731\", element=\"654c9726-3b27-4f7a-8eb8-9ce78d826d06\")>,\n",
       " <selenium.webdriver.remote.webelement.WebElement (session=\"1314a2c4fb7fc5e552d4da13ee0ab731\", element=\"68de2f70-3b66-4f3a-871e-93b2a89a7c2e\")>,\n",
       " <selenium.webdriver.remote.webelement.WebElement (session=\"1314a2c4fb7fc5e552d4da13ee0ab731\", element=\"945a6162-ac18-4128-af09-a0346488a6a9\")>,\n",
       " <selenium.webdriver.remote.webelement.WebElement (session=\"1314a2c4fb7fc5e552d4da13ee0ab731\", element=\"7a0a487f-f1f3-4eb1-a52a-6b172c6c189e\")>,\n",
       " <selenium.webdriver.remote.webelement.WebElement (session=\"1314a2c4fb7fc5e552d4da13ee0ab731\", element=\"1618126f-8c0a-42e3-90f4-3cd66bcc576d\")>,\n",
       " <selenium.webdriver.remote.webelement.WebElement (session=\"1314a2c4fb7fc5e552d4da13ee0ab731\", element=\"24b0878b-9396-416f-a726-24504fc052f4\")>,\n",
       " <selenium.webdriver.remote.webelement.WebElement (session=\"1314a2c4fb7fc5e552d4da13ee0ab731\", element=\"fa5d2c3f-27b0-4d3f-858b-ae4b37848b1f\")>,\n",
       " <selenium.webdriver.remote.webelement.WebElement (session=\"1314a2c4fb7fc5e552d4da13ee0ab731\", element=\"f5e8d683-e324-409e-90b1-49161f11a3be\")>,\n",
       " <selenium.webdriver.remote.webelement.WebElement (session=\"1314a2c4fb7fc5e552d4da13ee0ab731\", element=\"b49ed432-082b-42ad-863f-9a9bb418f0a9\")>,\n",
       " <selenium.webdriver.remote.webelement.WebElement (session=\"1314a2c4fb7fc5e552d4da13ee0ab731\", element=\"eb2d92e4-3b87-493d-99fb-408b358493f4\")>,\n",
       " <selenium.webdriver.remote.webelement.WebElement (session=\"1314a2c4fb7fc5e552d4da13ee0ab731\", element=\"938e1169-664a-421b-87e5-511c91cd8da2\")>,\n",
       " <selenium.webdriver.remote.webelement.WebElement (session=\"1314a2c4fb7fc5e552d4da13ee0ab731\", element=\"167a5990-8f8d-42cf-a433-99e0cb3f0e0b\")>,\n",
       " <selenium.webdriver.remote.webelement.WebElement (session=\"1314a2c4fb7fc5e552d4da13ee0ab731\", element=\"ca845688-338a-4cfc-afcb-caf981bbbbdf\")>,\n",
       " <selenium.webdriver.remote.webelement.WebElement (session=\"1314a2c4fb7fc5e552d4da13ee0ab731\", element=\"ad9957f6-a385-4cf7-8615-76e9eb3ee4a4\")>,\n",
       " <selenium.webdriver.remote.webelement.WebElement (session=\"1314a2c4fb7fc5e552d4da13ee0ab731\", element=\"ef455187-62a8-4adf-acc3-69a835950eeb\")>,\n",
       " <selenium.webdriver.remote.webelement.WebElement (session=\"1314a2c4fb7fc5e552d4da13ee0ab731\", element=\"1d5e9ab1-1a84-4aa4-a2ab-ba671dc71345\")>,\n",
       " <selenium.webdriver.remote.webelement.WebElement (session=\"1314a2c4fb7fc5e552d4da13ee0ab731\", element=\"67fc86e5-a0c9-4be3-bf1d-43c1dc5051e6\")>,\n",
       " <selenium.webdriver.remote.webelement.WebElement (session=\"1314a2c4fb7fc5e552d4da13ee0ab731\", element=\"6d77c5e2-4cd4-40d3-962a-a427e61fd413\")>,\n",
       " <selenium.webdriver.remote.webelement.WebElement (session=\"1314a2c4fb7fc5e552d4da13ee0ab731\", element=\"f6a46602-e596-4414-a748-b7cab1d304e0\")>,\n",
       " <selenium.webdriver.remote.webelement.WebElement (session=\"1314a2c4fb7fc5e552d4da13ee0ab731\", element=\"ea101dbb-7fc3-4630-8c5a-4fb9ef28a75e\")>]"
      ]
     },
     "execution_count": 410,
     "metadata": {},
     "output_type": "execute_result"
    }
   ],
   "source": [
    "brand_name1"
   ]
  },
  {
   "cell_type": "code",
   "execution_count": 443,
   "metadata": {},
   "outputs": [],
   "source": [
    "from selenium.common.exceptions import StaleElementReferenceException, NoSuchElementException\n",
    "\n",
    "import time\n",
    "\n",
    "urls = []\n",
    "\n",
    "next_page_link1 = drivers.find_elements_by_xpath(\"//a[@class='ge-49M']\")\n",
    "\n",
    "for i in next_page_link1:\n",
    "\n",
    "    urls.append(i.get_attribute(\"href\"))\n",
    "\n",
    "\n",
    "\n",
    "time.sleep(3)"
   ]
  },
  {
   "cell_type": "code",
   "execution_count": 486,
   "metadata": {},
   "outputs": [],
   "source": [
    "for i in range(0,1):\n",
    "\n",
    "    try:\n",
    "\n",
    "        \n",
    "\n",
    "        drivers.get(urls[i])\n",
    "        brand_name_3 = drivers.find_elements_by_xpath(\"//div[@class = '_2WkVRV']\")\n",
    "        short_desc = drivers.find_elements_by_xpath(\"//a[@class = 'IRpwTa']\")\n",
    "        price_of = drivers.find_elements_by_xpath(\"//div[@class = '_30jeq3']\")\n",
    "        discount_per = drivers.find_elements_by_xpath(\"//div[@class = '_3Ay6Sb']//span\")\n",
    "  \n",
    "    except NoSuchElementException :\n",
    "\n",
    "        brand_name_2.append(\"---\")\n",
    "        short_desc.append(\"---\")\n",
    "        price_of.append(\"---\")\n",
    "        discount_per.append(\"---\")"
   ]
  },
  {
   "cell_type": "code",
   "execution_count": 487,
   "metadata": {},
   "outputs": [
    {
     "data": {
      "text/plain": [
       "['ROYAL SON',\n",
       " 'ROYAL SON',\n",
       " 'Fastrack',\n",
       " 'Fastrack',\n",
       " 'PHENOMENAL',\n",
       " 'ROZZETTA CRAFT',\n",
       " 'ROZZETTA CRAFT',\n",
       " 'PIRASO',\n",
       " 'DEIXELS',\n",
       " 'Fastrack',\n",
       " 'Fastrack',\n",
       " 'Fastrack',\n",
       " 'HIPPON',\n",
       " 'ROYAL SON',\n",
       " 'Silver Kartz',\n",
       " 'PHENOMENAL',\n",
       " 'DEIXELS',\n",
       " 'Fastrack',\n",
       " 'GANSTA',\n",
       " 'ROYAL SON',\n",
       " 'NuVew',\n",
       " 'ROZZETTA CRAFT',\n",
       " 'Singco India',\n",
       " 'ROYAL SON',\n",
       " 'Fastrack',\n",
       " 'ROZZETTA CRAFT',\n",
       " 'Fastrack',\n",
       " 'Fastrack',\n",
       " 'Fastrack',\n",
       " 'ROYAL SON',\n",
       " 'PHENOMENAL',\n",
       " 'ROYAL SON',\n",
       " 'ROZZETTA CRAFT',\n",
       " 'ROYAL SON',\n",
       " 'Villain',\n",
       " 'Singco India',\n",
       " 'hipe',\n",
       " 'Fastrack',\n",
       " 'ROYAL SON',\n",
       " 'ROYAL SON']"
      ]
     },
     "execution_count": 487,
     "metadata": {},
     "output_type": "execute_result"
    }
   ],
   "source": [
    "all_brands = []\n",
    "for i in brand_name_3:\n",
    "    all_brands.append(i.text)\n",
    "all_brands"
   ]
  },
  {
   "cell_type": "code",
   "execution_count": 472,
   "metadata": {},
   "outputs": [
    {
     "data": {
      "text/plain": [
       "['UV Protection, Gradient Oval Sunglasses (58)',\n",
       " 'UV Protection, Gradient Round, Shield Sunglasses (50)',\n",
       " 'UV Protection Wayfarer Sunglasses (Free Size)',\n",
       " 'UV Protection Rectangular Sunglasses (Free Size)',\n",
       " 'UV Protection Retro Square Sunglasses (Free Size)',\n",
       " 'UV Protection Retro Square Sunglasses (Free Size)',\n",
       " 'UV Protection, Gradient Rectangular Sunglasses (Free Si...',\n",
       " 'UV Protection Aviator Sunglasses (Free Size)',\n",
       " 'UV Protection Aviator, Wayfarer Sunglasses (Free Size)',\n",
       " 'Gradient, UV Protection Wayfarer Sunglasses (Free Size)',\n",
       " 'UV Protection Wayfarer Sunglasses (Free Size)',\n",
       " 'UV Protection Aviator Sunglasses (58)',\n",
       " 'UV Protection Wayfarer Sunglasses (55)',\n",
       " 'UV Protection, Gradient Aviator Sunglasses (61)',\n",
       " 'UV Protection Wayfarer Sunglasses (Free Size)',\n",
       " 'UV Protection, Mirrored Retro Square Sunglasses (53)',\n",
       " 'UV Protection Aviator Sunglasses (Free Size)',\n",
       " 'UV Protection Round Sunglasses (Free Size)',\n",
       " 'UV Protection Aviator Sunglasses (58)',\n",
       " 'UV Protection, Riding Glasses Rectangular Sunglasses (F...',\n",
       " 'UV Protection Aviator Sunglasses (57)',\n",
       " 'UV Protection Aviator Sunglasses (Free Size)',\n",
       " 'UV Protection Cat-eye Sunglasses (60)',\n",
       " 'UV Protection Retro Square Sunglasses (Free Size)',\n",
       " 'UV Protection Wayfarer Sunglasses (Free Size)',\n",
       " 'Gradient, UV Protection Wayfarer Sunglasses (Free Size)',\n",
       " 'UV Protection Aviator Sunglasses (58)',\n",
       " 'UV Protection Wayfarer Sunglasses (56)',\n",
       " 'UV Protection Shield, Wayfarer Sunglasses (61)',\n",
       " 'UV Protection, Mirrored Retro Square Sunglasses (Free S...',\n",
       " 'Mirrored Aviator Sunglasses (55)',\n",
       " 'UV Protection, Gradient Rectangular Sunglasses (Free Si...',\n",
       " 'UV Protection, Gradient Wayfarer Sunglasses (57)',\n",
       " 'Others Retro Square Sunglasses (Free Size)',\n",
       " 'UV Protection Wayfarer Sunglasses (Free Size)',\n",
       " 'UV Protection, Mirrored Aviator Sunglasses (Free Size)',\n",
       " 'Polarized, UV Protection Aviator Sunglasses (58)',\n",
       " 'UV Protection Wayfarer Sunglasses (Free Size)',\n",
       " 'Mirrored, Riding Glasses, Others Sports Sunglasses (50)']"
      ]
     },
     "execution_count": 472,
     "metadata": {},
     "output_type": "execute_result"
    }
   ],
   "source": [
    "all_desc =[]\n",
    "for i in short_desc:\n",
    "    all_desc.append(i.text)\n",
    "all_desc"
   ]
  },
  {
   "cell_type": "code",
   "execution_count": 473,
   "metadata": {},
   "outputs": [
    {
     "data": {
      "text/plain": [
       "['₹522',\n",
       " '₹395',\n",
       " '₹758',\n",
       " '₹630',\n",
       " '₹399',\n",
       " '₹499',\n",
       " '₹404',\n",
       " '₹349',\n",
       " '₹202',\n",
       " '₹621',\n",
       " '₹733',\n",
       " '₹1,085',\n",
       " '₹251',\n",
       " '₹658',\n",
       " '₹259',\n",
       " '₹399',\n",
       " '₹674',\n",
       " '₹189',\n",
       " '₹215',\n",
       " '₹664',\n",
       " '₹449',\n",
       " '₹281',\n",
       " '₹339',\n",
       " '₹419',\n",
       " '₹499',\n",
       " '₹838',\n",
       " '₹638',\n",
       " '₹1,123',\n",
       " '₹759',\n",
       " '₹469',\n",
       " '₹399',\n",
       " '₹379',\n",
       " '₹499',\n",
       " '₹525',\n",
       " '₹599',\n",
       " '₹200',\n",
       " '₹199',\n",
       " '₹711',\n",
       " '₹758',\n",
       " '₹249']"
      ]
     },
     "execution_count": 473,
     "metadata": {},
     "output_type": "execute_result"
    }
   ],
   "source": [
    "all_price =[]\n",
    "for i in price_of:\n",
    "    all_price.append(i.text)\n",
    "all_price"
   ]
  },
  {
   "cell_type": "code",
   "execution_count": 474,
   "metadata": {},
   "outputs": [
    {
     "data": {
      "text/plain": [
       "['65% off',\n",
       " '77% off',\n",
       " '15% off',\n",
       " '21% off',\n",
       " '80% off',\n",
       " '77% off',\n",
       " '79% off',\n",
       " '78% off',\n",
       " '83% off',\n",
       " '22% off',\n",
       " '18% off',\n",
       " '16% off',\n",
       " '79% off',\n",
       " '69% off',\n",
       " '82% off',\n",
       " '80% off',\n",
       " '25% off',\n",
       " '76% off',\n",
       " '72% off',\n",
       " '66% off',\n",
       " '79% off',\n",
       " '85% off',\n",
       " '71% off',\n",
       " '71% off',\n",
       " '77% off',\n",
       " '6% off',\n",
       " '20% off',\n",
       " '13% off',\n",
       " '15% off',\n",
       " '74% off',\n",
       " '80% off',\n",
       " '74% off',\n",
       " '77% off',\n",
       " '80% off',\n",
       " '20% off',\n",
       " '59% off',\n",
       " '80% off',\n",
       " '64% off',\n",
       " '15% off',\n",
       " '83% off']"
      ]
     },
     "execution_count": 474,
     "metadata": {},
     "output_type": "execute_result"
    }
   ],
   "source": [
    "all_discount =[]\n",
    "for i in discount_per:\n",
    "    all_discount.append(i.text)\n",
    "all_discount"
   ]
  },
  {
   "cell_type": "code",
   "execution_count": 475,
   "metadata": {},
   "outputs": [],
   "source": [
    "for i in range(1,2):\n",
    "\n",
    "    try:\n",
    "\n",
    "        \n",
    "\n",
    "        drivers.get(urls[i])\n",
    "        brand_name_4 = drivers.find_elements_by_xpath(\"//div[@class = '_2WkVRV']\")\n",
    "        short_desc1 = drivers.find_elements_by_xpath(\"//a[@class = 'IRpwTa']\")\n",
    "        price_of1 = drivers.find_elements_by_xpath(\"//div[@class = '_30jeq3']\")\n",
    "        discount_per1= drivers.find_elements_by_xpath(\"//div[@class = '_3Ay6Sb']//span\")\n",
    "  \n",
    "    except NoSuchElementException :\n",
    "\n",
    "        brand_name_2.append(\"---\")\n",
    "        short_desc.append(\"---\")\n",
    "        price_of.append(\"---\")\n",
    "        discount_per.append(\"---\")"
   ]
  },
  {
   "cell_type": "code",
   "execution_count": 477,
   "metadata": {},
   "outputs": [
    {
     "data": {
      "text/plain": [
       "['hipe',\n",
       " 'PHENOMENAL',\n",
       " 'hipe',\n",
       " 'ROYAL SON',\n",
       " 'Fastrack',\n",
       " 'Fastrack',\n",
       " 'elegante',\n",
       " 'Silver Kartz',\n",
       " 'GANSTA',\n",
       " 'AISLIN',\n",
       " 'Fastrack',\n",
       " 'DEIXELS',\n",
       " 'PHENOMENAL',\n",
       " 'AISLIN',\n",
       " 'ROYAL SON',\n",
       " 'Crackers',\n",
       " 'Fastrack',\n",
       " 'PHENOMENAL',\n",
       " 'elegante',\n",
       " 'AISLIN',\n",
       " 'ROZZETTA CRAFT',\n",
       " 'PHENOMENAL',\n",
       " 'GANSTA',\n",
       " 'ROYAL SON',\n",
       " 'AISLIN',\n",
       " 'Flizz',\n",
       " 'Fastrack',\n",
       " 'GANSTA',\n",
       " 'ROZZETTA CRAFT',\n",
       " 'Villain',\n",
       " 'ROZZETTA CRAFT',\n",
       " 'ROYAL SON',\n",
       " 'Fastrack',\n",
       " 'NuVew',\n",
       " 'GANSTA',\n",
       " 'GANSTA',\n",
       " 'hipe',\n",
       " 'ROZZETTA CRAFT',\n",
       " 'Fastrack',\n",
       " 'AISLIN']"
      ]
     },
     "execution_count": 477,
     "metadata": {},
     "output_type": "execute_result"
    }
   ],
   "source": [
    "all_brands1 = []\n",
    "for i in brand_name_4:\n",
    "    all_brands1.append(i.text)\n",
    "all_brands1"
   ]
  },
  {
   "cell_type": "code",
   "execution_count": 478,
   "metadata": {},
   "outputs": [
    {
     "data": {
      "text/plain": [
       "['UV Protection Sports Sunglasses (Free Size)',\n",
       " 'UV Protection Retro Square Sunglasses (Free Size)',\n",
       " 'UV Protection, Mirrored Round Sunglasses (Free Size)',\n",
       " 'Mirrored Aviator Sunglasses (55)',\n",
       " 'UV Protection Aviator Sunglasses (Free Size)',\n",
       " 'UV Protection Wayfarer Sunglasses (57)',\n",
       " 'UV Protection Wrap-around Sunglasses (Free Size)',\n",
       " 'UV Protection Oval Sunglasses (56)',\n",
       " 'UV Protection, Riding Glasses Wayfarer Sunglasses (53)',\n",
       " 'UV Protection, Gradient Oval Sunglasses (58)',\n",
       " 'UV Protection Shield Sunglasses (Free Size)',\n",
       " 'Polarized, UV Protection, Riding Glasses Wayfarer Sungl...',\n",
       " 'UV Protection, Mirrored Retro Square Sunglasses (53)',\n",
       " 'UV Protection, Gradient Round, Shield Sunglasses (50)',\n",
       " 'UV Protection Wayfarer Sunglasses (55)',\n",
       " 'UV Protection Aviator Sunglasses (55)',\n",
       " 'Gradient, UV Protection Wayfarer Sunglasses (Free Size)',\n",
       " 'UV Protection Clubmaster Sunglasses (Free Size)',\n",
       " 'UV Protection Wayfarer Sunglasses (Free Size)',\n",
       " 'UV Protection, Gradient Aviator Sunglasses (61)',\n",
       " 'Mirrored, UV Protection Round Sunglasses (Free Size)',\n",
       " 'UV Protection, Mirrored Clubmaster Sunglasses (Free Siz...',\n",
       " 'UV Protection, Night Vision, Riding Glasses Aviator Sun...',\n",
       " 'UV Protection, Gradient Oval Sunglasses (58)',\n",
       " 'UV Protection Retro Square Sunglasses (Free Size)',\n",
       " 'Gradient, UV Protection Wayfarer Sunglasses (Free Size)',\n",
       " 'UV Protection, Mirrored Wayfarer Sunglasses (53)',\n",
       " 'UV Protection, Gradient Round Sunglasses (Free Size)',\n",
       " 'Others Retro Square Sunglasses (Free Size)',\n",
       " 'UV Protection, Gradient Rectangular Sunglasses (Free Si...',\n",
       " 'UV Protection Aviator Sunglasses (Free Size)',\n",
       " 'UV Protection Wayfarer Sunglasses (Free Size)',\n",
       " 'UV Protection Cat-eye Sunglasses (60)',\n",
       " 'UV Protection Aviator Sunglasses (57)',\n",
       " 'Night Vision, Riding Glasses Wayfarer Sunglasses (53)',\n",
       " 'UV Protection, Night Vision, Gradient, Mirrored Round, ...',\n",
       " 'UV Protection, Gradient Round Sunglasses (Free Size)',\n",
       " 'UV Protection Rectangular Sunglasses (59)',\n",
       " 'UV Protection, Gradient Wayfarer Sunglasses (57)']"
      ]
     },
     "execution_count": 478,
     "metadata": {},
     "output_type": "execute_result"
    }
   ],
   "source": [
    "all_desc1 =[]\n",
    "for i in short_desc1:\n",
    "    all_desc1.append(i.text)\n",
    "all_desc1"
   ]
  },
  {
   "cell_type": "code",
   "execution_count": 479,
   "metadata": {},
   "outputs": [
    {
     "data": {
      "text/plain": [
       "['₹319',\n",
       " '₹399',\n",
       " '₹219',\n",
       " '₹379',\n",
       " '₹749',\n",
       " '₹559',\n",
       " '₹499',\n",
       " '₹299',\n",
       " '₹260',\n",
       " '₹522',\n",
       " '₹759',\n",
       " '₹236',\n",
       " '₹399',\n",
       " '₹395',\n",
       " '₹265',\n",
       " '₹170',\n",
       " '₹629',\n",
       " '₹319',\n",
       " '₹449',\n",
       " '₹658',\n",
       " '₹399',\n",
       " '₹319',\n",
       " '₹292',\n",
       " '₹664',\n",
       " '₹500',\n",
       " '₹399',\n",
       " '₹777',\n",
       " '₹224',\n",
       " '₹449',\n",
       " '₹599',\n",
       " '₹499',\n",
       " '₹499',\n",
       " '₹576',\n",
       " '₹419',\n",
       " '₹337',\n",
       " '₹207',\n",
       " '₹210',\n",
       " '₹449',\n",
       " '₹1,097',\n",
       " '₹525']"
      ]
     },
     "execution_count": 479,
     "metadata": {},
     "output_type": "execute_result"
    }
   ],
   "source": [
    "all_price1 =[]\n",
    "for i in price_of1:\n",
    "    all_price1.append(i.text)\n",
    "all_price1"
   ]
  },
  {
   "cell_type": "code",
   "execution_count": 480,
   "metadata": {},
   "outputs": [
    {
     "data": {
      "text/plain": [
       "['83% off',\n",
       " '80% off',\n",
       " '86% off',\n",
       " '74% off',\n",
       " '6% off',\n",
       " '30% off',\n",
       " '66% off',\n",
       " '75% off',\n",
       " '86% off',\n",
       " '65% off',\n",
       " '15% off',\n",
       " '60% off',\n",
       " '80% off',\n",
       " '77% off',\n",
       " '79% off',\n",
       " '82% off',\n",
       " '21% off',\n",
       " '84% off',\n",
       " '70% off',\n",
       " '69% off',\n",
       " '72% off',\n",
       " '84% off',\n",
       " '85% off',\n",
       " '66% off',\n",
       " '67% off',\n",
       " '81% off',\n",
       " '22% off',\n",
       " '77% off',\n",
       " '83% off',\n",
       " '20% off',\n",
       " '75% off',\n",
       " '61% off',\n",
       " '27% off',\n",
       " '71% off',\n",
       " '83% off',\n",
       " '88% off',\n",
       " '78% off',\n",
       " '77% off',\n",
       " '15% off',\n",
       " '80% off']"
      ]
     },
     "execution_count": 480,
     "metadata": {},
     "output_type": "execute_result"
    }
   ],
   "source": [
    "all_discount1 =[]\n",
    "for i in discount_per1:\n",
    "    all_discount1.append(i.text)\n",
    "all_discount1"
   ]
  },
  {
   "cell_type": "code",
   "execution_count": 481,
   "metadata": {},
   "outputs": [],
   "source": [
    "for i in range(2,3):\n",
    "\n",
    "    try:\n",
    "\n",
    "        \n",
    "\n",
    "        drivers.get(urls[i])\n",
    "        brand_name_5 = drivers.find_elements_by_xpath(\"//div[@class = '_2WkVRV']\")\n",
    "        short_desc2 = drivers.find_elements_by_xpath(\"//a[@class = 'IRpwTa']\")\n",
    "        price_of2 = drivers.find_elements_by_xpath(\"//div[@class = '_30jeq3']\")\n",
    "        discount_per2= drivers.find_elements_by_xpath(\"//div[@class = '_3Ay6Sb']//span\")\n",
    "  \n",
    "    except NoSuchElementException :\n",
    "\n",
    "        brand_name_2.append(\"---\")\n",
    "        short_desc.append(\"---\")\n",
    "        price_of.append(\"---\")\n",
    "        discount_per.append(\"---\")"
   ]
  },
  {
   "cell_type": "code",
   "execution_count": 482,
   "metadata": {},
   "outputs": [
    {
     "data": {
      "text/plain": [
       "['ROYAL SON',\n",
       " 'ROZZETTA CRAFT',\n",
       " 'ROZZETTA CRAFT',\n",
       " 'ROYAL SON',\n",
       " 'Fastrack',\n",
       " 'Badfella',\n",
       " 'Fastrack',\n",
       " 'Fastrack',\n",
       " 'Fravy',\n",
       " 'AISLIN',\n",
       " 'GANSTA',\n",
       " 'ROZZETTA CRAFT',\n",
       " 'PHENOMENAL',\n",
       " 'AISLIN',\n",
       " 'elegante',\n",
       " 'elegante',\n",
       " 'Elligator',\n",
       " 'ROYAL SON',\n",
       " 'Fastrack',\n",
       " 'AISLIN',\n",
       " 'elegante',\n",
       " 'hipe',\n",
       " 'ROZZETTA CRAFT',\n",
       " 'ROYAL SON',\n",
       " 'GANSTA',\n",
       " 'ROYAL SON',\n",
       " 'Fastrack',\n",
       " 'hipe',\n",
       " 'Ray-Ban',\n",
       " 'Villain',\n",
       " 'ROYAL SON',\n",
       " 'elegante',\n",
       " 'FOSSIL',\n",
       " 'NuVew',\n",
       " 'ROZZETTA CRAFT',\n",
       " 'Silver Kartz',\n",
       " 'AISLIN',\n",
       " 'Flizz',\n",
       " 'ROYAL SON',\n",
       " 'AISLIN']"
      ]
     },
     "execution_count": 482,
     "metadata": {},
     "output_type": "execute_result"
    }
   ],
   "source": [
    "all_brands2 = []\n",
    "for i in brand_name_5:\n",
    "    all_brands2.append(i.text)\n",
    "all_brands2"
   ]
  },
  {
   "cell_type": "code",
   "execution_count": 483,
   "metadata": {},
   "outputs": [
    {
     "data": {
      "text/plain": [
       "['Gradient, UV Protection Round, Oval, Cat-eye Sunglasses...',\n",
       " 'UV Protection, Gradient Round Sunglasses (Free Size)',\n",
       " 'Polarized, UV Protection Aviator Sunglasses (Free Size)',\n",
       " 'Mirrored Aviator Sunglasses (55)',\n",
       " 'Gradient, UV Protection Wayfarer Sunglasses (Free Size)',\n",
       " 'Polarized, UV Protection Retro Square Sunglasses (53)',\n",
       " 'Mirrored, UV Protection Wayfarer Sunglasses (Free Size)',\n",
       " 'UV Protection Round Sunglasses (52)',\n",
       " 'UV Protection Retro Square Sunglasses (Free Size)',\n",
       " 'UV Protection, Gradient Aviator Sunglasses (61)',\n",
       " 'UV Protection, Mirrored, Gradient Wayfarer Sunglasses (...',\n",
       " 'UV Protection, Gradient Rectangular Sunglasses (Free Si...',\n",
       " 'UV Protection, Mirrored, Gradient Retro Square Sunglass...',\n",
       " 'UV Protection, Gradient Round, Shield Sunglasses (50)',\n",
       " 'Mirrored Round Sunglasses (Free Size)',\n",
       " 'UV Protection Round Sunglasses (Free Size)',\n",
       " 'Mirrored Aviator Sunglasses (55)',\n",
       " 'UV Protection Wayfarer Sunglasses (55)',\n",
       " 'UV Protection, Gradient Oval Sunglasses (58)',\n",
       " 'UV Protection Round Sunglasses (Free Size)',\n",
       " 'Gradient, UV Protection Round Sunglasses (Free Size)',\n",
       " 'UV Protection, Gradient Retro Square Sunglasses (62)',\n",
       " 'UV Protection Aviator Sunglasses (57)',\n",
       " 'Mirrored Aviator Sunglasses (55)',\n",
       " 'UV Protection Wayfarer Sunglasses (Free Size)',\n",
       " 'UV Protection, Night Vision, Riding Glasses, Gradient, ...',\n",
       " 'UV Protection Retro Square Sunglasses (55)',\n",
       " 'Others Retro Square Sunglasses (Free Size)',\n",
       " 'UV Protection Retro Square Sunglasses (88)',\n",
       " 'UV Protection Retro Square Sunglasses (Free Size)',\n",
       " 'Others Rectangular Sunglasses (54)',\n",
       " 'UV Protection Cat-eye Sunglasses (60)',\n",
       " 'UV Protection, Gradient Butterfly, Shield Sunglasses (F...',\n",
       " 'UV Protection Wayfarer, Aviator Sunglasses (88)',\n",
       " 'UV Protection Aviator Sunglasses (58)',\n",
       " 'UV Protection, Polarized Rectangular Sunglasses (Free S...',\n",
       " 'Mirrored Aviator Sunglasses (Free Size)',\n",
       " 'UV Protection, Gradient Wayfarer Sunglasses (57)']"
      ]
     },
     "execution_count": 483,
     "metadata": {},
     "output_type": "execute_result"
    }
   ],
   "source": [
    "all_desc2 =[]\n",
    "for i in short_desc2:\n",
    "    all_desc2.append(i.text)\n",
    "all_desc2"
   ]
  },
  {
   "cell_type": "code",
   "execution_count": 484,
   "metadata": {},
   "outputs": [
    {
     "data": {
      "text/plain": [
       "['₹699',\n",
       " '₹449',\n",
       " '₹449',\n",
       " '₹379',\n",
       " '₹682',\n",
       " '₹269',\n",
       " '₹777',\n",
       " '₹1,232',\n",
       " '₹289',\n",
       " '₹658',\n",
       " '₹281',\n",
       " '₹449',\n",
       " '₹259',\n",
       " '₹395',\n",
       " '₹399',\n",
       " '₹199',\n",
       " '₹279',\n",
       " '₹399',\n",
       " '₹744',\n",
       " '₹522',\n",
       " '₹449',\n",
       " '₹219',\n",
       " '₹499',\n",
       " '₹664',\n",
       " '₹233',\n",
       " '₹399',\n",
       " '₹627',\n",
       " '₹210',\n",
       " '₹3,019',\n",
       " '₹599',\n",
       " '₹599',\n",
       " '₹399',\n",
       " '₹2,625',\n",
       " '₹419',\n",
       " '₹399',\n",
       " '₹279',\n",
       " '₹890',\n",
       " '₹279',\n",
       " '₹399',\n",
       " '₹525']"
      ]
     },
     "execution_count": 484,
     "metadata": {},
     "output_type": "execute_result"
    }
   ],
   "source": [
    "all_price2 =[]\n",
    "for i in price_of2:\n",
    "    all_price2.append(i.text)\n",
    "all_price2"
   ]
  },
  {
   "cell_type": "code",
   "execution_count": 485,
   "metadata": {},
   "outputs": [
    {
     "data": {
      "text/plain": [
       "['53% off',\n",
       " '87% off',\n",
       " '77% off',\n",
       " '74% off',\n",
       " '14% off',\n",
       " '73% off',\n",
       " '22% off',\n",
       " '5% off',\n",
       " '80% off',\n",
       " '69% off',\n",
       " '85% off',\n",
       " '77% off',\n",
       " '87% off',\n",
       " '77% off',\n",
       " '80% off',\n",
       " '80% off',\n",
       " '88% off',\n",
       " '73% off',\n",
       " '17% off',\n",
       " '65% off',\n",
       " '70% off',\n",
       " '83% off',\n",
       " '75% off',\n",
       " '66% off',\n",
       " '77% off',\n",
       " '73% off',\n",
       " '21% off',\n",
       " '83% off',\n",
       " '45% off',\n",
       " '20% off',\n",
       " '70% off',\n",
       " '69% off',\n",
       " '55% off',\n",
       " '71% off',\n",
       " '85% off',\n",
       " '76% off',\n",
       " '75% off',\n",
       " '81% off',\n",
       " '73% off',\n",
       " '80% off']"
      ]
     },
     "execution_count": 485,
     "metadata": {},
     "output_type": "execute_result"
    }
   ],
   "source": [
    "all_discount2 =[]\n",
    "for i in discount_per2:\n",
    "    all_discount2.append(i.text)\n",
    "all_discount2"
   ]
  },
  {
   "cell_type": "code",
   "execution_count": 488,
   "metadata": {},
   "outputs": [
    {
     "data": {
      "text/plain": [
       "['ROYAL SON',\n",
       " 'ROYAL SON',\n",
       " 'Fastrack',\n",
       " 'Fastrack',\n",
       " 'PHENOMENAL',\n",
       " 'ROZZETTA CRAFT',\n",
       " 'ROZZETTA CRAFT',\n",
       " 'PIRASO',\n",
       " 'DEIXELS',\n",
       " 'Fastrack',\n",
       " 'Fastrack',\n",
       " 'Fastrack',\n",
       " 'HIPPON',\n",
       " 'ROYAL SON',\n",
       " 'Silver Kartz',\n",
       " 'PHENOMENAL',\n",
       " 'DEIXELS',\n",
       " 'Fastrack',\n",
       " 'GANSTA',\n",
       " 'ROYAL SON',\n",
       " 'NuVew',\n",
       " 'ROZZETTA CRAFT',\n",
       " 'Singco India',\n",
       " 'ROYAL SON',\n",
       " 'Fastrack',\n",
       " 'ROZZETTA CRAFT',\n",
       " 'Fastrack',\n",
       " 'Fastrack',\n",
       " 'Fastrack',\n",
       " 'ROYAL SON',\n",
       " 'PHENOMENAL',\n",
       " 'ROYAL SON',\n",
       " 'ROZZETTA CRAFT',\n",
       " 'ROYAL SON',\n",
       " 'Villain',\n",
       " 'Singco India',\n",
       " 'hipe',\n",
       " 'Fastrack',\n",
       " 'ROYAL SON',\n",
       " 'ROYAL SON',\n",
       " 'hipe',\n",
       " 'PHENOMENAL',\n",
       " 'hipe',\n",
       " 'ROYAL SON',\n",
       " 'Fastrack',\n",
       " 'Fastrack',\n",
       " 'elegante',\n",
       " 'Silver Kartz',\n",
       " 'GANSTA',\n",
       " 'AISLIN',\n",
       " 'Fastrack',\n",
       " 'DEIXELS',\n",
       " 'PHENOMENAL',\n",
       " 'AISLIN',\n",
       " 'ROYAL SON',\n",
       " 'Crackers',\n",
       " 'Fastrack',\n",
       " 'PHENOMENAL',\n",
       " 'elegante',\n",
       " 'AISLIN',\n",
       " 'ROZZETTA CRAFT',\n",
       " 'PHENOMENAL',\n",
       " 'GANSTA',\n",
       " 'ROYAL SON',\n",
       " 'AISLIN',\n",
       " 'Flizz',\n",
       " 'Fastrack',\n",
       " 'GANSTA',\n",
       " 'ROZZETTA CRAFT',\n",
       " 'Villain',\n",
       " 'ROZZETTA CRAFT',\n",
       " 'ROYAL SON',\n",
       " 'Fastrack',\n",
       " 'NuVew',\n",
       " 'GANSTA',\n",
       " 'GANSTA',\n",
       " 'hipe',\n",
       " 'ROZZETTA CRAFT',\n",
       " 'Fastrack',\n",
       " 'AISLIN']"
      ]
     },
     "execution_count": 488,
     "metadata": {},
     "output_type": "execute_result"
    }
   ],
   "source": [
    "all_brands.extend(all_brands1)\n",
    "all_brands"
   ]
  },
  {
   "cell_type": "code",
   "execution_count": 489,
   "metadata": {},
   "outputs": [],
   "source": [
    "all_brands.extend(all_brands2)"
   ]
  },
  {
   "cell_type": "code",
   "execution_count": 492,
   "metadata": {},
   "outputs": [
    {
     "data": {
      "text/plain": [
       "['ROYAL SON',\n",
       " 'ROYAL SON',\n",
       " 'Fastrack',\n",
       " 'Fastrack',\n",
       " 'PHENOMENAL',\n",
       " 'ROZZETTA CRAFT',\n",
       " 'ROZZETTA CRAFT',\n",
       " 'PIRASO',\n",
       " 'DEIXELS',\n",
       " 'Fastrack',\n",
       " 'Fastrack',\n",
       " 'Fastrack',\n",
       " 'HIPPON',\n",
       " 'ROYAL SON',\n",
       " 'Silver Kartz',\n",
       " 'PHENOMENAL',\n",
       " 'DEIXELS',\n",
       " 'Fastrack',\n",
       " 'GANSTA',\n",
       " 'ROYAL SON',\n",
       " 'NuVew',\n",
       " 'ROZZETTA CRAFT',\n",
       " 'Singco India',\n",
       " 'ROYAL SON',\n",
       " 'Fastrack',\n",
       " 'ROZZETTA CRAFT',\n",
       " 'Fastrack',\n",
       " 'Fastrack',\n",
       " 'Fastrack',\n",
       " 'ROYAL SON',\n",
       " 'PHENOMENAL',\n",
       " 'ROYAL SON',\n",
       " 'ROZZETTA CRAFT',\n",
       " 'ROYAL SON',\n",
       " 'Villain',\n",
       " 'Singco India',\n",
       " 'hipe',\n",
       " 'Fastrack',\n",
       " 'ROYAL SON',\n",
       " 'ROYAL SON',\n",
       " 'hipe',\n",
       " 'PHENOMENAL',\n",
       " 'hipe',\n",
       " 'ROYAL SON',\n",
       " 'Fastrack',\n",
       " 'Fastrack',\n",
       " 'elegante',\n",
       " 'Silver Kartz',\n",
       " 'GANSTA',\n",
       " 'AISLIN',\n",
       " 'Fastrack',\n",
       " 'DEIXELS',\n",
       " 'PHENOMENAL',\n",
       " 'AISLIN',\n",
       " 'ROYAL SON',\n",
       " 'Crackers',\n",
       " 'Fastrack',\n",
       " 'PHENOMENAL',\n",
       " 'elegante',\n",
       " 'AISLIN',\n",
       " 'ROZZETTA CRAFT',\n",
       " 'PHENOMENAL',\n",
       " 'GANSTA',\n",
       " 'ROYAL SON',\n",
       " 'AISLIN',\n",
       " 'Flizz',\n",
       " 'Fastrack',\n",
       " 'GANSTA',\n",
       " 'ROZZETTA CRAFT',\n",
       " 'Villain',\n",
       " 'ROZZETTA CRAFT',\n",
       " 'ROYAL SON',\n",
       " 'Fastrack',\n",
       " 'NuVew',\n",
       " 'GANSTA',\n",
       " 'GANSTA',\n",
       " 'hipe',\n",
       " 'ROZZETTA CRAFT',\n",
       " 'Fastrack',\n",
       " 'AISLIN',\n",
       " 'ROYAL SON',\n",
       " 'ROZZETTA CRAFT',\n",
       " 'ROZZETTA CRAFT',\n",
       " 'ROYAL SON',\n",
       " 'Fastrack',\n",
       " 'Badfella',\n",
       " 'Fastrack',\n",
       " 'Fastrack',\n",
       " 'Fravy',\n",
       " 'AISLIN',\n",
       " 'GANSTA',\n",
       " 'ROZZETTA CRAFT',\n",
       " 'PHENOMENAL',\n",
       " 'AISLIN',\n",
       " 'elegante',\n",
       " 'elegante',\n",
       " 'Elligator',\n",
       " 'ROYAL SON',\n",
       " 'Fastrack',\n",
       " 'AISLIN',\n",
       " 'elegante',\n",
       " 'hipe',\n",
       " 'ROZZETTA CRAFT',\n",
       " 'ROYAL SON',\n",
       " 'GANSTA',\n",
       " 'ROYAL SON',\n",
       " 'Fastrack',\n",
       " 'hipe',\n",
       " 'Ray-Ban',\n",
       " 'Villain',\n",
       " 'ROYAL SON',\n",
       " 'elegante',\n",
       " 'FOSSIL',\n",
       " 'NuVew',\n",
       " 'ROZZETTA CRAFT',\n",
       " 'Silver Kartz',\n",
       " 'AISLIN',\n",
       " 'Flizz',\n",
       " 'ROYAL SON',\n",
       " 'AISLIN']"
      ]
     },
     "execution_count": 492,
     "metadata": {},
     "output_type": "execute_result"
    }
   ],
   "source": [
    "all_brands"
   ]
  },
  {
   "cell_type": "code",
   "execution_count": 493,
   "metadata": {},
   "outputs": [
    {
     "data": {
      "text/plain": [
       "120"
      ]
     },
     "execution_count": 493,
     "metadata": {},
     "output_type": "execute_result"
    }
   ],
   "source": [
    "np.count_nonzero(all_brands)"
   ]
  },
  {
   "cell_type": "code",
   "execution_count": 495,
   "metadata": {},
   "outputs": [],
   "source": [
    "all_desc.extend(all_desc1)"
   ]
  },
  {
   "cell_type": "code",
   "execution_count": 496,
   "metadata": {},
   "outputs": [],
   "source": [
    "all_desc.extend(all_desc2)"
   ]
  },
  {
   "cell_type": "code",
   "execution_count": 497,
   "metadata": {},
   "outputs": [],
   "source": [
    "all_price.extend(all_price1)"
   ]
  },
  {
   "cell_type": "code",
   "execution_count": 498,
   "metadata": {},
   "outputs": [],
   "source": [
    "all_price.extend(all_price2)"
   ]
  },
  {
   "cell_type": "code",
   "execution_count": 499,
   "metadata": {},
   "outputs": [],
   "source": [
    "all_discount.extend(all_discount1)"
   ]
  },
  {
   "cell_type": "code",
   "execution_count": 500,
   "metadata": {},
   "outputs": [],
   "source": [
    "all_discount.extend(all_discount2)"
   ]
  },
  {
   "cell_type": "code",
   "execution_count": 501,
   "metadata": {},
   "outputs": [],
   "source": [
    "Brands = all_brands[0:100]"
   ]
  },
  {
   "cell_type": "code",
   "execution_count": 502,
   "metadata": {},
   "outputs": [],
   "source": [
    "Price = all_price[0:100]"
   ]
  },
  {
   "cell_type": "code",
   "execution_count": 503,
   "metadata": {},
   "outputs": [],
   "source": [
    "Discount = all_discount[0:100]"
   ]
  },
  {
   "cell_type": "code",
   "execution_count": 504,
   "metadata": {},
   "outputs": [],
   "source": [
    "Description = all_desc[0:100]"
   ]
  },
  {
   "cell_type": "code",
   "execution_count": 505,
   "metadata": {},
   "outputs": [],
   "source": [
    "Sunglasses = pd.DataFrame({})"
   ]
  },
  {
   "cell_type": "code",
   "execution_count": 507,
   "metadata": {},
   "outputs": [],
   "source": [
    "Sunglasses[\"Brand Name\"] = Brands\n",
    "Sunglasses[\"Price\"] = Price\n",
    "Sunglasses[\"Discount\"] = Discount\n",
    "Sunglasses[\"Description\"] = Description"
   ]
  },
  {
   "cell_type": "code",
   "execution_count": 508,
   "metadata": {},
   "outputs": [
    {
     "data": {
      "text/html": [
       "<div>\n",
       "<style scoped>\n",
       "    .dataframe tbody tr th:only-of-type {\n",
       "        vertical-align: middle;\n",
       "    }\n",
       "\n",
       "    .dataframe tbody tr th {\n",
       "        vertical-align: top;\n",
       "    }\n",
       "\n",
       "    .dataframe thead th {\n",
       "        text-align: right;\n",
       "    }\n",
       "</style>\n",
       "<table border=\"1\" class=\"dataframe\">\n",
       "  <thead>\n",
       "    <tr style=\"text-align: right;\">\n",
       "      <th></th>\n",
       "      <th>Brand Name</th>\n",
       "      <th>Price</th>\n",
       "      <th>Discount</th>\n",
       "      <th>Description</th>\n",
       "    </tr>\n",
       "  </thead>\n",
       "  <tbody>\n",
       "    <tr>\n",
       "      <th>0</th>\n",
       "      <td>ROYAL SON</td>\n",
       "      <td>₹522</td>\n",
       "      <td>65% off</td>\n",
       "      <td>UV Protection, Gradient Oval Sunglasses (58)</td>\n",
       "    </tr>\n",
       "    <tr>\n",
       "      <th>1</th>\n",
       "      <td>ROYAL SON</td>\n",
       "      <td>₹395</td>\n",
       "      <td>77% off</td>\n",
       "      <td>UV Protection, Gradient Round, Shield Sunglass...</td>\n",
       "    </tr>\n",
       "    <tr>\n",
       "      <th>2</th>\n",
       "      <td>Fastrack</td>\n",
       "      <td>₹758</td>\n",
       "      <td>15% off</td>\n",
       "      <td>UV Protection Wayfarer Sunglasses (Free Size)</td>\n",
       "    </tr>\n",
       "    <tr>\n",
       "      <th>3</th>\n",
       "      <td>Fastrack</td>\n",
       "      <td>₹630</td>\n",
       "      <td>21% off</td>\n",
       "      <td>UV Protection Rectangular Sunglasses (Free Size)</td>\n",
       "    </tr>\n",
       "    <tr>\n",
       "      <th>4</th>\n",
       "      <td>PHENOMENAL</td>\n",
       "      <td>₹399</td>\n",
       "      <td>80% off</td>\n",
       "      <td>UV Protection Retro Square Sunglasses (Free Size)</td>\n",
       "    </tr>\n",
       "    <tr>\n",
       "      <th>...</th>\n",
       "      <td>...</td>\n",
       "      <td>...</td>\n",
       "      <td>...</td>\n",
       "      <td>...</td>\n",
       "    </tr>\n",
       "    <tr>\n",
       "      <th>95</th>\n",
       "      <td>elegante</td>\n",
       "      <td>₹199</td>\n",
       "      <td>80% off</td>\n",
       "      <td>UV Protection Wayfarer Sunglasses (55)</td>\n",
       "    </tr>\n",
       "    <tr>\n",
       "      <th>96</th>\n",
       "      <td>Elligator</td>\n",
       "      <td>₹279</td>\n",
       "      <td>88% off</td>\n",
       "      <td>UV Protection, Gradient Oval Sunglasses (58)</td>\n",
       "    </tr>\n",
       "    <tr>\n",
       "      <th>97</th>\n",
       "      <td>ROYAL SON</td>\n",
       "      <td>₹399</td>\n",
       "      <td>73% off</td>\n",
       "      <td>UV Protection Round Sunglasses (Free Size)</td>\n",
       "    </tr>\n",
       "    <tr>\n",
       "      <th>98</th>\n",
       "      <td>Fastrack</td>\n",
       "      <td>₹744</td>\n",
       "      <td>17% off</td>\n",
       "      <td>Gradient, UV Protection Round Sunglasses (Free...</td>\n",
       "    </tr>\n",
       "    <tr>\n",
       "      <th>99</th>\n",
       "      <td>AISLIN</td>\n",
       "      <td>₹522</td>\n",
       "      <td>65% off</td>\n",
       "      <td>UV Protection, Gradient Retro Square Sunglasse...</td>\n",
       "    </tr>\n",
       "  </tbody>\n",
       "</table>\n",
       "<p>100 rows × 4 columns</p>\n",
       "</div>"
      ],
      "text/plain": [
       "    Brand Name Price Discount  \\\n",
       "0    ROYAL SON  ₹522  65% off   \n",
       "1    ROYAL SON  ₹395  77% off   \n",
       "2     Fastrack  ₹758  15% off   \n",
       "3     Fastrack  ₹630  21% off   \n",
       "4   PHENOMENAL  ₹399  80% off   \n",
       "..         ...   ...      ...   \n",
       "95    elegante  ₹199  80% off   \n",
       "96   Elligator  ₹279  88% off   \n",
       "97   ROYAL SON  ₹399  73% off   \n",
       "98    Fastrack  ₹744  17% off   \n",
       "99      AISLIN  ₹522  65% off   \n",
       "\n",
       "                                          Description  \n",
       "0        UV Protection, Gradient Oval Sunglasses (58)  \n",
       "1   UV Protection, Gradient Round, Shield Sunglass...  \n",
       "2       UV Protection Wayfarer Sunglasses (Free Size)  \n",
       "3    UV Protection Rectangular Sunglasses (Free Size)  \n",
       "4   UV Protection Retro Square Sunglasses (Free Size)  \n",
       "..                                                ...  \n",
       "95             UV Protection Wayfarer Sunglasses (55)  \n",
       "96       UV Protection, Gradient Oval Sunglasses (58)  \n",
       "97         UV Protection Round Sunglasses (Free Size)  \n",
       "98  Gradient, UV Protection Round Sunglasses (Free...  \n",
       "99  UV Protection, Gradient Retro Square Sunglasse...  \n",
       "\n",
       "[100 rows x 4 columns]"
      ]
     },
     "execution_count": 508,
     "metadata": {},
     "output_type": "execute_result"
    }
   ],
   "source": [
    "Sunglasses"
   ]
  },
  {
   "cell_type": "code",
   "execution_count": 599,
   "metadata": {},
   "outputs": [],
   "source": [
    "#Completed"
   ]
  },
  {
   "cell_type": "markdown",
   "metadata": {},
   "source": [
    "# Question number 7 "
   ]
  },
  {
   "cell_type": "markdown",
   "metadata": {},
   "source": [
    "Scrape 100 reviews data from flipkart.com for iphone11 phone."
   ]
  },
  {
   "cell_type": "markdown",
   "metadata": {},
   "source": [
    "1. Rating\n",
    "2. Review_summary\n",
    "3. Full review\n",
    "You have to scrape this data for first 100 reviews."
   ]
  },
  {
   "cell_type": "code",
   "execution_count": 683,
   "metadata": {},
   "outputs": [],
   "source": [
    "urlq7 = \"https://www.flipkart.com/apple-iphone-11-black-64-gb-includes-earpods-power-adapter/p/itm0f37c2240b217?pid=MOBFKCTSVZAXUHGR&lid=LSTMOBFKCTSVZAXUHGREPBFGI&marketplace.\""
   ]
  },
  {
   "cell_type": "code",
   "execution_count": 709,
   "metadata": {},
   "outputs": [],
   "source": [
    "drivers.get(urlq7)"
   ]
  },
  {
   "cell_type": "code",
   "execution_count": 685,
   "metadata": {},
   "outputs": [],
   "source": [
    "#Doubt in this part"
   ]
  },
  {
   "cell_type": "code",
   "execution_count": null,
   "metadata": {},
   "outputs": [],
   "source": [
    "short description."
   ]
  },
  {
   "cell_type": "code",
   "execution_count": 686,
   "metadata": {},
   "outputs": [],
   "source": [
    "urls = []\n",
    "urls1 = []\n",
    "\n",
    "\n",
    "Short_description = []\n",
    "\n",
    "urls = drivers.find_elements_by_xpath(\"//nav[@class='yFHi8N']//a\")\n",
    "\n",
    "for j in urls[0:10]:\n",
    "    urls1.append(j.get_attribute(\"href\"))\n",
    "\n",
    "for i in urls1:\n",
    "\n",
    "    \n",
    "    drivers.get(i)\n",
    "    \n",
    "    \n",
    "\n",
    "    #for scrapping the short review\n",
    "\n",
    "    for k in drivers.find_elements_by_xpath(\"//p[@class='_2-N8zT']\"):\n",
    "\n",
    "        Short_description.append(k.text)\n",
    "    time.sleep(10)"
   ]
  },
  {
   "cell_type": "code",
   "execution_count": 687,
   "metadata": {},
   "outputs": [
    {
     "data": {
      "text/plain": [
       "['Brilliant',\n",
       " 'Perfect product!',\n",
       " 'Great product',\n",
       " 'Worth every penny',\n",
       " 'Good choice',\n",
       " 'Highly recommended',\n",
       " 'Perfect product!',\n",
       " 'Perfect product!',\n",
       " 'Fabulous!',\n",
       " 'Worth every penny',\n",
       " 'Perfect product!',\n",
       " 'Worth every penny',\n",
       " 'Nice product',\n",
       " 'Simply awesome',\n",
       " 'Terrific',\n",
       " 'Highly recommended',\n",
       " 'Classy product',\n",
       " 'Wonderful',\n",
       " 'Brilliant',\n",
       " 'Must buy!',\n",
       " 'Terrific purchase',\n",
       " 'Mind-blowing purchase',\n",
       " 'Great product',\n",
       " 'Terrific purchase',\n",
       " 'Simply awesome',\n",
       " 'Good quality product',\n",
       " 'Very poor',\n",
       " 'Best in the market!',\n",
       " 'Must buy!',\n",
       " 'Fabulous!',\n",
       " 'Mind-blowing purchase',\n",
       " 'Mind-blowing purchase',\n",
       " 'Wonderful',\n",
       " 'Worth every penny',\n",
       " 'Wonderful',\n",
       " 'Good choice',\n",
       " 'Very Good',\n",
       " 'Perfect product!',\n",
       " 'Classy product',\n",
       " 'Perfect product!',\n",
       " 'Just wow!',\n",
       " 'Awesome',\n",
       " 'Terrific purchase',\n",
       " 'Brilliant',\n",
       " 'Perfect product!',\n",
       " 'Highly recommended',\n",
       " 'Perfect product!',\n",
       " 'Excellent',\n",
       " 'Fabulous!',\n",
       " 'Excellent',\n",
       " 'Must buy!',\n",
       " 'Simply awesome',\n",
       " 'Brilliant',\n",
       " 'Terrific purchase',\n",
       " 'Simply awesome',\n",
       " 'Perfect product!',\n",
       " 'Worth every penny',\n",
       " 'Value-for-money',\n",
       " 'Just wow!',\n",
       " 'Super!',\n",
       " 'Perfect product!',\n",
       " 'Must buy!',\n",
       " 'Great product',\n",
       " 'Perfect product!',\n",
       " 'Awesome',\n",
       " 'Mind-blowing purchase',\n",
       " 'Fabulous!',\n",
       " 'Fabulous!',\n",
       " 'Excellent',\n",
       " 'Mind-blowing purchase',\n",
       " 'Good quality product',\n",
       " 'Terrific purchase',\n",
       " 'Awesome',\n",
       " 'Decent product',\n",
       " 'Good quality product',\n",
       " 'Must buy!',\n",
       " 'Just wow!',\n",
       " 'Excellent',\n",
       " 'Awesome',\n",
       " 'Classy product',\n",
       " 'Super!',\n",
       " 'Excellent',\n",
       " 'Value-for-money',\n",
       " 'Perfect product!',\n",
       " 'Wonderful',\n",
       " 'Good quality product',\n",
       " 'Classy product',\n",
       " 'Not recommended at all',\n",
       " 'Fabulous!',\n",
       " 'Best in the market!',\n",
       " 'Mind-blowing purchase',\n",
       " 'Super!',\n",
       " 'Terrific',\n",
       " 'Brilliant',\n",
       " 'Most Price worthy Iphone',\n",
       " 'Terrific purchase',\n",
       " 'Excellent',\n",
       " 'Wonderful',\n",
       " 'Fabulous!',\n",
       " 'Value-for-money']"
      ]
     },
     "execution_count": 687,
     "metadata": {},
     "output_type": "execute_result"
    }
   ],
   "source": [
    "Short_description"
   ]
  },
  {
   "cell_type": "code",
   "execution_count": 688,
   "metadata": {},
   "outputs": [
    {
     "data": {
      "text/plain": [
       "100"
      ]
     },
     "execution_count": 688,
     "metadata": {},
     "output_type": "execute_result"
    }
   ],
   "source": [
    "np.count_nonzero(Short_description)"
   ]
  },
  {
   "cell_type": "code",
   "execution_count": 639,
   "metadata": {},
   "outputs": [],
   "source": [
    "#detailed description"
   ]
  },
  {
   "cell_type": "code",
   "execution_count": 691,
   "metadata": {},
   "outputs": [],
   "source": [
    "Detailed_review= []\n",
    "\n",
    "urls = []\n",
    "urls1 = []\n",
    "\n",
    "\n",
    "urls = drivers.find_elements_by_xpath(\"//nav[@class='yFHi8N']//a\")\n",
    "\n",
    "for j in urls[0:10]:\n",
    "    urls1.append(j.get_attribute(\"href\"))\n",
    "\n",
    "for i in urls1:\n",
    "\n",
    "    \n",
    "    drivers.get(i)\n",
    "    \n",
    "    \n",
    "    #for scrapping the short review\n",
    "\n",
    "    for k in drivers.find_elements_by_xpath(\"//div[@class='t-ZTKy']\"):\n",
    "\n",
    "        Detailed_review.append(k.text)\n",
    "    time.sleep(10)"
   ]
  },
  {
   "cell_type": "code",
   "execution_count": 692,
   "metadata": {},
   "outputs": [
    {
     "data": {
      "text/plain": [
       "['The Best Phone for the Money\\n\\nThe iPhone 11 offers superb cameras, a more durable design and excellent battery life for an affordable price.\\n\\nCompelling ultra-wide camera\\nNew Night mode is excellent\\nLong battery life',\n",
       " 'Amazing phone with great cameras and better battery which gives you the best performance. I just love the camera .',\n",
       " 'Amazing Powerful and Durable Gadget.\\n\\nI’m am very happy with the camera picture quality, Amazing face id unlocked in dark room, Strong battery with perfect screen size as you can carry easily in pocket. This is my third iPhone.\\n\\nI shifted from android Samsung Note series to iPhone because of the strong build quality and peace of mind for next 3-4 years.\\n\\nDon’t think to much just go for it and I suggest you to go for minimum 128gb variant or more 256gb.\\n\\nI’ve attached my puppy pics and no fi...\\nREAD MORE',\n",
       " 'Previously I was using one plus 3t it was a great phone\\nAnd then I decided to upgrade I am stuck between Samsung s10 plus or iPhone 11\\nI have seen the specs and everything were good except the display it’s somewhere between 720-1080 and it’s not even an amoled it’s an LCD display\\nBut I decided to go with iPhone because I have never used an IOS device I have Been an android user from the past 9 years I ordered IPhone 11 (128gb) product red\\nMy experience after using 3 weeks\\n1. The delivery ...\\nREAD MORE',\n",
       " 'So far it’s been an AMAZING experience coming back to iOS after nearly a decade but it’s not as versatile as android though phone is sturdy dropped it accidentally a couple of times and nothing happened fortunately camera is awesome',\n",
       " 'iphone 11 is a very good phone to buy only if you can compromise for the display. The display on this is device is pretty good but you can get other options with better displays in this price segment.\\nIf you can survive with an HD+ LCD panel with thicker bezels and a notch up top then this is a very good phone for you.\\nCameras are awesome, battery backup excellent, great performance and a decent premium look. Good job Apple !',\n",
       " 'It’s a must buy who is looking for an upgrade from previous generation of iPhones. If you are using XR then still you can hold on for sometime and upgrade to 2020 model else this phone is a must buy . Camera quality is amazing and wide angle is something to count upon. Performance wise it’s amazing and feels premium while holding in hand. So a big YES for this device. Go for 128 GB variant as the 4K videos will occupy lots of space and the storage can get over very quickly. Try to buy it with...\\nREAD MORE',\n",
       " 'Value for money❤️❤️\\nIts awesome mobile phone in the world ...\\nDisplay was very good and bright ..\\nTrust me freinds you r never regret after Buying..\\nJust go for it....\\nI love this phone and i switch to iphone x to 11',\n",
       " 'This is my first iOS phone. I am very happy with this product. Very much satisfied with this. I love this phone.',\n",
       " 'Best budget Iphone till date ❤️ go for it guys without second thought. Let me explain you guys about Camera, Display, battery, and performance.\\n\\nCamera: at this price range there is no comparison of camera, you’ll love the picture quality as well as video quality. I am a Vlogger I wanted an iPhone with 4k video by front camera and I got this phone and I am more than happy 😃\\n\\nBattery: I use this phone roughly as I am active social media person and I have a youtube channel. so the battery ba...\\nREAD MORE',\n",
       " \"Iphone is just awesome.. battery backup is very very nice.. continuously for 10 hours we can use it.camera is just awesome.. display is just fab.i love it alot..i had to wait 15 days for it as i pre ordered it..overalll it's worth the price..these all images are clicked by my iPhone..and i love it.\",\n",
       " 'It’s been almost a month since I have been using this phone. I upgraded from an iPhone 8. The main issue with my 8 was battery and this phone is just awesome when it comes to battery. It lasts a day and a half for me with my regular use , internet connected always with 4g\\nCan’t move forward without saying this. Battery of this phone is a life saver when I am traveling or at work when I don’t get the option to charge\\nCamera is superb. Front cam selfies and back cam photos are just awesome.\\n...\\nREAD MORE',\n",
       " 'Awesome Phone. Slightly high price but worth. Better than iPhone XR.\\nCamera is superb and wide angle camera is very clear.\\n12MP selfie camera is also very good.\\nA13 Chip gives a very good and smooth performance.',\n",
       " 'Excellent camera, good performance, no lag. The lcd display is also good.. but difference come when we watch movie in prime and Netflix, the colours are not vibrant.. as we see in amoled display.. and the charger in box is of 5 watts.. takes more than 3 hours to charge from 0 to 100.. so guys be prepare to buy 18 watts charger . Finally I am an android user, it was my first Iapple phone, I promise u guys the iOS is so smooth.. overall the phone is damn good.... close eyes to buy it.. thanks t...\\nREAD MORE',\n",
       " 'Really worth of money. i just love it. It is the best phone ever.',\n",
       " \"It's my first time to use iOS phone and I am loving my upgradation 😍😍 I love the color, I love the assebility of the phone....I need to learn more about its functionality, but as far as I have seen, it's quite easy and it has a lot of functions to work on, specially if you are a content writer or a blogger you get a lot of content creation platforms and they are really amazing.\\n\\nThis phone not only for good quality photography but a lot of other task too.😍💯\",\n",
       " 'Superb Product !!!\\nA big and worthy upgrade from mi 3S to iphone 11 .\\nTotally loved it !',\n",
       " 'This is my first ever I phone. Before this I was using my google nexus 5. But moving from android to iOS is a great experience. It’s worth at this price. I will highly recommend it if you want to move to iOS. The best part of this phone is it’s camera and it’s battery life. This two things have won my heart. I loved it. Happy to have it in my hand. Still exploring its features. And can’t forget to mention Flipkart service. Very prompt service and fast delivery.',\n",
       " 'I have migrated from OP 7pro... and trust me, iPhone 11 is totally worth it.. following are the reasons:-\\n1)there is ABSOLUTELY NO ISSUE WITH THE DISPLAY... its crisp, sharp and I found it to be much much better than OP7 pro. Netflix, Prime video all run crisply... you won’t miss a thing. True Tone works flawlessly...the display brightness is perfect. OP have not calibrated their screens properly.\\n2) iPhone 11 series have really good cameras... others have spoken in depth about them.\\n3) bat...\\nREAD MORE',\n",
       " 'It’s an amazing product from apple and the camera is simply superb. Phone is faster.Night shot is simply superb and detailing and colour differentiation from camera is an added advantage\\n\\nThis review I have written from iPhone 11 only and I am glad to say outside.\\n\\nCons wise if we see HD+ display only, no battery percentage indicator as in older iPhone 8.\\nNo assistive touch control button in it\\nNo oleophobic coating on back panel glass and finger prints are visible but since I bought mint gr...\\nREAD MORE',\n",
       " 'Upgraded from iphone 6 to 11 best phone for iphone users battery is much better than other iphones camera is awesome love to use it.camera is so clear in night.',\n",
       " 'This will help you more. See if you are planning to buy iPhone 11. I will say. Yes. But there are some plans I just want to disclose before you buy. 1) If you are an existing iPhone X/XS/XS Max/ XR user, better you guys do not think it to buy. You guys have more or less better gadget. 2) If you are an android user and planning to buy premium phone. I will suggest them to please buy iPhone instead of buying an Android. I bet you will never go back to android after using IOS. Now I want to shar...\\nREAD MORE',\n",
       " 'Well you all know the specifications . One of a kind. Best iPhone till date. Many enhancements to the camera app with many options. Love the glass body with matte finish in the lens area on the back. Lovely colours to choose from. Best battery in an iPhone till date, enough to last more than a day in normal usage. I tested my iPhone 11 battery and lasted for than 24 hours after full charge still with 30% battery charge left. Watched movies for some time. Normal usage on calls, browsing, musi...\\nREAD MORE',\n",
       " 'The built quality is not very premium.\\nThe battery back is great .\\nThe LCD panel is not so sharp but the brightness level is very High .\\nCamera is super duper awesome.\\nThe red colour which people think is bright is actually very soothing and excellent colour to choose from .\\nThe A13 Bionic chip is really a flagship processor and can beat any phone which even has 12 gb ram .\\nCamera module is very great and looks very stylish.',\n",
       " 'Really good actually this is my first apple product am using its really awesome performance wise excellent. Am really happy with this iphone11',\n",
       " 'it is very good at performance. Camera is best like before and very smooth response even in water. Don’t buy 12 mini buy iPhone 11 , it is far better than 12 mini believe me ! Have a nice day \\uf8ff ☺️',\n",
       " 'Reviewing again after 5 months. At the beginning the battery and performance was good but it degraded soon. Also I was facing heating issues. The mobile will heat up like a stove sometimes. You cannot even play Pubg even in low settings properly, performance is not a problem but heating is. Also if you play that game for 10 mins the brightness will be automatically down due to over heating even when the auto brightness is set to off. This will not be solved even if u manually increase the bri...\\nREAD MORE',\n",
       " 'Great iPhone very snappy experience as apple kind. Upgraded from iPhone 7.\\nPros\\n-Camera top class\\n- Battery top performed\\n-Chipset no need to say as apple kind\\n-Security as you expect from apple\\n- Display super bright industry leading colour\\naccuracy and super responsive\\n-Build quality as expect from apple sturdy\\npremium durable beautiful stylish.\\n-Os most stable os in smartphone industry\\n\\nCons\\n-No 5G\\n-Display is not based on OLED technology\\n-Charger headphones and 1 apple stic...\\nREAD MORE',\n",
       " 'Best Apple iPhone that i have bought at a very reasonable price, camera quality is next level just awesome n of superior quality android phones not even close(RIP) to that and also battery is really good but packaging by Flipkart of iPhone was very poor of such a expensive product, firstly im bit worried about the quality of product if i purchased it through online how was the product but i think now this was mine best decision to bought it through Flipkart online because i got genuine Apple...\\nREAD MORE',\n",
       " \"I can say I'm damn impressed with iPhone 11. As they says iPhone 11 have the toughest glass ever in the smartphone which you'll find on the front and back and it's totally smooth. The fit and finish is full apple quality - there's no sense that any cheaping out has happened in the construction. Without saying it's camera features this review won't complete. The iPhone 11 has a dual camera system, consisting of a wide angle len's that's pretty much same as found on the iPhone XR last year, but...\\nREAD MORE\",\n",
       " 'Best Quality Product OF iPhone Series , Sound Quality & Camera quality is very awesome, Battery Life is very Sufficient for 24 hr Backup With Full Internet Access , I love this this Product too much , It is very fast & making me Very fast in all my daily Routine\\nHighlights;\\n1.Camera: 5 STAR\\n2.Video Recording: 5 star\\n3.Night mODE sHOOTING & Camera:4 star\\n4. Audio Quality: Awesome\\n5. Battery : 5 Star\\n6. Touch:5 Star\\n7. Processor: Very Fast\\nThe M...\\nREAD MORE',\n",
       " 'First thanks to Flipkart for this amazing deal and phone is outstanding. I upgraded from iPhone 7 and this is like very big upgrade. But the packaging was very basic I expected a good packaging as they only wrapped one layer of bubble wrap which I don’t think is enough to protect this expensive phone. And I recommend this phone and seller as well.\\n\\nAnd I’m posting this review after using it for 4 days.',\n",
       " 'Superfast delivery by Flipkart. Thanks.\\n\\n1. iPhone 11 is a pretty solid phone for the money you are paying.\\n2. All the bad reviews about the display is confusing. It’s not that bad.\\n3. I switched from a Oneplus 7t. I have no complaints about the display quality of iPhone. Yes, it’s not OLED, so, we are missing on the deep blacks. But that’s it. It is a very colour accurate display. Gets adequately bright and I could not find any pixelation.\\n4. Performance is one of the best, if not best, in ...\\nREAD MORE',\n",
       " 'Smooth like butter, camera like fantabulous, sound is crystal clear & its red color is damn attractive, i am just loving it. Must buy if you love photography.\\n\\nLucky to get it in sale, thank you Flipkart.',\n",
       " 'I just directly switch from iphone 6s to iphone 11 .The best premium smartphone I recommend to everyone. Excellent quality and colors the iphone have in 11 series.\\nCamera quality is just awesome and the major feel when we hold in our hands. The sound quality and volume is also higher then the previous models.\\nI will recommend to buy iphone 11 instead of pro models , there is nothing much difference as this model contains everything which fulfill our needs.\\n\\nOnly one thing that I dislike abo...\\nREAD MORE',\n",
       " 'Looking so good 👍 😍 super 👌 stylish 😎 phone\\nClean box 📦 good 👍 delivery 👌 fast delivery\\nOriginal box Original iphone 📱 👌 😍😍😍',\n",
       " 'impressive super phone and best in class camera ,sound and face unlock is super fast just see and phone is unlock and fast in daily apps use',\n",
       " 'Battery backup is extraordinary, camera is decent & performance offered by A13 bionic is awsome. The display is good in practical usage like the visibility of display is very good in direct sun light compare to pro models. Iam extremely satisfied for the money I spent.',\n",
       " 'Well while switching from android to iOS the first thing you need to be careful about is that you will loose all your whatsapp chat backups as both are different operating systems. Camera clarity is awesome and though being an lcd screen clarity and resolution is good. Battery backup is also good unlike previous gen iPhone. So far the experience is good will Padre after a few months of usage.\\n\\nP.S the black is more of a dark grey shade and not jet black',\n",
       " 'In love with this iphone great performance,camera ,battery everything. Go for it have a uncompareble battery backup, no doubts in iPhone camera here You can see the picture which is shot on my iPhone In love with this iphone great performance,camera ,battery everything. Go for it have a uncompareble battery backup, no doubts in iPhone camera here You can see the picture which is shot on my iPhone In love with this iphone great performance,camera ,battery everything. Go for it have a uncompare...\\nREAD MORE',\n",
       " 'Best in class. Battery backup is good especially when you play games like Pubg COD. But it is sort of heavy when you hold in hands. Portrait mode is best to click pictures. Stage light effect is awesome. Try to click photos outside in nature because photos inside home or room will not give you the quality in any phone even in DSLR.',\n",
       " 'Very excited to have this phone. This phone has the real power unlike the android phones having SD 855 . The battery life is very good and the camera quality is excellent as comapred to redmi and other phones except google pixel. I M enjoying every single bit of it. Would recommed only if you have the budget.',\n",
       " 'Its Very awesome product working and good camera quality and all about best product and also flipkart is very great deal and offer nice price',\n",
       " 'Excellent camera and display touching very nice and smooth very improvement against iPhone XR and new processor is very fast',\n",
       " 'After 1 month use I found camera quality best compared to my previous Samsung note 10+.Display not good as note 10 also charging too slow.Apple should add fast charger like 11 plus and pro.Best phone for daily use',\n",
       " 'What a camera .....just awesome ..you can feel this iPhone just awesome . Good for gaming also ...try pubg in hd it’s just wow',\n",
       " 'Awesome purchase. Amazing phone with good battery backup. It’s a top notch device. White colour looks amazing. Phone has a few extra feature than iPhone XR. Overall, this is value for money',\n",
       " 'Amazing camera and feel super machine I am not describe my feeling but this is amazing Phone I am so lucky I have this',\n",
       " 'awesome phone to have. it has got many smart features apart from mind blowing looks, camera, display, battery and sound. have fallen in love with this phone. must buy phone if you have got enough money. thanks to flipkart and apple of course..',\n",
       " 'Its a fabulous mobile look awesome performance unbeaten camera like dslr battery good i think this is a beast of mobile',\n",
       " 'Dear friends... I want to share my experience with you about this amazing I phone 11....this is my first iPhone and special things about this mobile is it has great camera, battery backup and awesome display.... I mean everything is perfect.loved it 👍👍👍',\n",
       " \"It's very high performances devise i am like the service of flipkart delevary very fast and packing very nice perfect phone\",\n",
       " 'Amazing phone and on great deal I received with super fast delivery by Flipkart...',\n",
       " 'finally an iPhone with very nice battery backup. update from iPhone 7 and happy to have it. camera is not up to the mark in low light but overall a recommended phone if your budget allows 😀',\n",
       " 'Really satisfied with the Product I received... It’s totally genuine and the packaging was also really good so if ur planning to buy just go for it.',\n",
       " 'Worth the money’ starting first from its performance it beats out all phones , second the smoothness of camera is awesome, contrast ratio is much than expected. Price will not matter if u r a quality person, if not other phones are available with better discount',\n",
       " 'i11 is worthy to buy, too much happy with the product. Thank u flipkart I received the item on time..loved it..',\n",
       " \"I'm Really happy with the product\\nDelivery was fast as well\\n..it was a gift for my sister and she loved it so much.\",\n",
       " 'Great iphone.\\nI am writing this review after 2 months of usage.\\nCamera is excellent, especially the nightmode\\nDisplay perfect\\nBattery backup awesome\\nSound quality very good\\nOverall Apple gives you a perfect iphone in this range.\\nReally in love with iPhone 11',\n",
       " 'Did an upgrade from 6s plus to iphone 11.\\nAo far the experience is well and good. Felt smoother than 6s plus. The camera quality is superb. Battery backup is descent. Not a heavy user, and gets power more than a day. Go for it if you need an alrounder iphone in a competitve price.',\n",
       " 'Value for money\\n5 star rating\\nExcellent camera\\nBattery backup full day in single charge.\\n\\nTougher and water resistant design, glossy back.\\nThe screen has excellent brightness and contrast.\\nApple A13 Bionic is the fastest smartphone chip on the planet.\\nExcellent battery life, fast charging support.\\nStereo speakers with great quality.',\n",
       " 'Damn this phone is a blast . Upgraded from android to ios and is a duperb experience. Battery backup is top notch and display also pretty good',\n",
       " \"Again back to apple iphone after a gap of 2-3 years. It's pleasure to use iOS and the quality product by Apple. Iphone 11 still works like a beast in 2021 also. It really capable of doing day to day usage as well as hard core gaming. Battery is awesome. I'm really too much satisfied with it. Apart fto the very gorgious IPS LCD (AMOLED will be better) everything is mind boggling. Iphone💕.\",\n",
       " 'Best and amazing product.....phone looks so premium.... battary is also good as expected .... Wide angle camera is so addictive ...if you are a IOS lover....then this phone will be the best choice for you all!!💯🔥',\n",
       " 'Always love the apple products, upgraded from old iPhone 6S plus to this after having my first baby. I just love to click baby’s photos with it. Overall I just love this phone. Battery back up is okay, sound quality is good. Haven’t tested yet waterproof yet. Only one thing I hate is apple could have given charger & headphones in box.',\n",
       " 'awesome Phone Smooth Touch Too good Sexyy looks one word Awesome',\n",
       " 'I purchased the iPhone 11 a month back. I must say Apple has impressed me yet again . I have been an Apple user for past 5 years . The phone is power packed with amazing features . What impressed me the most was the battery backup the phone offers . Battery can easily run upto 1.5 days in single charge with moderate to\\nHeavy usage . If you’re looking for a value for money device , I don’t see any other phone in the price range which can match the iPhone 11 .\\nOne thing I didn’t like was that ...\\nREAD MORE',\n",
       " 'Product is nice at the deviled time the delivery boy not open the box and this order is oBD but he is not open and not showing product he gives Product and gone time God product is super nice and good Tq Flipkart and seller love you Flipkart Product is nice display good touch screen amazing compared to other brands over all Product is super. Tq Flipkart',\n",
       " \"Just go for it.\\nThis phone is really amazing. I ordered it for my wife and we click photos on this thing which are better than dslr. I own OnePlus 6t but it's camera sucks. iPhone is really amazing when it comes to camera. It's worth spending 50k on this. Cons- only display is lcd. While using u don't feel it but if u compare with other phone then u can see difference quite easily.\\nChanging from Android to iphone is bit difficult coz most of things u don't know but I liked it. Some of the a...\\nREAD MORE\",\n",
       " 'Absolutely powerful gadget. Loved it’s look! Soo glassy and classy. I would definitely recommend this model of Apple. Only disappointed with the 5W charger, one should purchase an 18W adapter for fast charging. Though battery backup is great. Bought it in September 2020, reviewing after so long so I’m gonna put the genuine review here.✅',\n",
       " 'I was torn between the oneplus 8 pro and the iphone 11. I had to shell out extra money for this, but I say if you can afford it, this truely is the best package.\\nMind blowing camera, battery and overall performance. Face Id works like magic even in complete darkness without firing up the screen brightness. The phones with in display fingerprint scanners do this at night time and it really burns your eyes.\\nI wanted the oneplus for its display but tbh the OLEDs on oneplus is really bad. Flick...\\nREAD MORE',\n",
       " 'I use a Note10+ and have been using both iOS and Android devices.\\n\\nCamera has really good features and portraits are super good, better than Samsung flagship. Overall camera setup can still be enhanced and hopeful for better upgrades on software in next release\\n\\nOperating system is quite a breeze and user experience of daily usage is very high as compared to Android. I moved to iOS very swiftly in 2 days for all my office work from Note10+\\n\\nBattery holds up quite well with 4 hrs of call and ...\\nREAD MORE',\n",
       " 'The phone is completely good\\nAs far as camera Apple is king of it\\nAnd its a beast in performance\\nAnd the battery is pretty good too',\n",
       " 'Everything u ll like it when u use this iPhone. Simple changes only not many to lower models but it’s nice to use. Little heavy compared to previous models like 7,8',\n",
       " \"I'm switching this phone to oppo reno 10x zoom\\nIt's really impressive\\nRarely I'm missing smooth display touch response like oppo reno but\\nI really loved it.\\nCamera really impressive\",\n",
       " 'I rate this product 5* as it has got amazing user experience with the best performing A13 bionic processor. The screen responds and graphics rendering is top notch. With casual gaming and internet browsing, the battery lasts for approx. 1 day. Camera is very good. You will fall in love with the portrait mode. You can call me a loyal Apple customer or whatever but I won’t stop praising the products and overall experience. That user experience matters and is worth every penny you pay.\\n\\nBelow ar...\\nREAD MORE',\n",
       " 'The ultimate performance\\nCamera is superb\\nThe battery backup also very good i never saw iphone gives this much of battery backup\\nIf any one wana buy iphone 11 definitely i will recommend this mobile\\nIt has the better battery and powerfull processer peak performance glorious camera and the display also 100% high quality lcd display if u had money for for 12 if u dont wana invest much money on that then go for iphone 11 it has maximum same specs only main difference between the 12 and 11 is...\\nREAD MORE',\n",
       " 'Seller - SuperComNet ( my trust in you has grown deeper. Thanks for the genuine product )\\nThe package came packed perfectly. The box was sealed which gave me a big relief.\\n\\nApple needs no introduction since its the dominant market player. I just love the way how IPhone 11 stands out so boldly. The moment I took it out from the box, I could feel the premium intensity. The body is remarkable and crafted for giving you a elite vibe.\\n\\nCamera is to die for. There is no other phone that can beat...\\nREAD MORE',\n",
       " 'Can’t beat the software and hardware integration of apple.\\nPerforms like a beast. Great quality camera\\n6-7 hours screen on time which is good. Nothing much to complaint about the screen. Good connectivity speeds.\\nGreat buy and Flipkart’s delivery top notch as usual',\n",
       " 'We are on apple ecosystem for almost eight years now with couple of iPads and iPhones, including Xr.\\n\\nBought iPhone 11 as a gift to my daughter who loves it. We chose for a purple coloured one. Believe me it is gorgeous and towards the lighter shade. Dazzling and brilliant!\\n\\nThe phone is great and does excellent RAM management like any other Apple device.\\n\\nThe screen, though a LCD and lesser ppi as compared to other flagship phones of competitor brands, is a delight to watch with perfect re...\\nREAD MORE',\n",
       " \"It's a great phone. From camera to display everything is best for the price.\\nBest camera , best performance. I think everyone should buy it . This phone has best battery life so far in iphone series which I had used earlier. Happy to have it. Thanks Flipkart\",\n",
       " 'Value for money product. This iphone 11 is really amazing. Again nice release by apple. Great camera, battery backup is excellent. I just love this phone',\n",
       " \"Just got this iphone 11\\nAnd it is most powerful mobile phone I have used ever\\n\\nSo,go for it if you want a phone with best specification like camera,battery backup,display, A13 bionic chip\\n\\nThat's my review about this phone but yours can be differ from me....\",\n",
       " 'It is just awesome mobile for this price from Apple,\\n\\nAfter 10 days review\\n\\nBattery enough for 1 day even 24*7 Internet will be on and mostly internet usage\\n\\nCamera is just awesome cool , android 64 MP is equal to this just 12 MP\\n\\nA13 Bionic chip will give more high performance without hanging\\n\\nAudio stereo speakers will give Dolby atoms sound with crystal clear\\n\\nVideo recording is like cinematic shots of every sec can be a 4K 60fps. Just awesome this phone\\niPhone 11 loved one',\n",
       " \"I genuinely liked it. One of the best mobile phones I have used. It's sho smooth and it's security is very astonishing. Plus it has a very good camera quality. so overall it's a win win.\",\n",
       " 'Awesome camera, smooth and fast UI, display is great (though not LED) but the black area at the top could have been reduced. Battery remains a day even if used heavily. Charger in the box is ok, but 12 or 18W could have been nothing like anything. Overall an excellent product and comfortable to use. I have got it almost a month back and so far so good.',\n",
       " \"I write this review after using a week this iPhone 11.\\nI'm 6 Years Old Android User and this is my first iPhone. Basically I searched for a phone with a Great Camera and Video Quality for Making YouTube Videos My Budget was around 40-50k then I search a lot on the Internet. Then I finally decide to buy this phone. I've been using this phone for about a week and I purchased this phone at 45K and I'm really happy with that. Its Software Integration with Processor is Just Awesome! This phone can...\\nREAD MORE\",\n",
       " 'They are selling cheep quality items. There is a black line on the edge of the display. Waiting for the replacement..\\n\\nUpdate:today I got the replacement from flipkart.. The second one is nice and the display and camera quality is much better than the previous one.. Thanks for the support',\n",
       " 'Everything is perfect pictures come out so clearly and at first I wasn’t sure when I got it then when I started to use it and get the hang of it it was amazing!! I can’t wait to see what the next future phones will be like. The screen display on this bad boy are unbelievable they are so clear and never fail me. The performance is super cool there is a lot of cool features as well I like this phone because I feel that it is easy to use and one of my favorite things about this phone is the Face...\\nREAD MORE',\n",
       " \"The best all rounder iphone. Flipkart is doing a great job. They're delivery services are blazing fast. I got delivery on the same day. Genuine Apple Product. Working great. Talking about review There's no need of review for iphones. They're simply the best.\",\n",
       " \"i was confused between 11 and 11 pro. i was going towards 11 pro, but the screen size was not enough for me.\\nAnd i saw 11 in the showroom. i didn't find much difference in screen quality.And cameras seems to be ok with me. And i saw offer's in flipkart and made the purchase.\\nthe device is fabulous. The hardware and software quality is excellent. The new iOS is something you need to experience yourself. The drawback i found was absence of fast charger, but the pricing can compensate that. Am...\\nREAD MORE\",\n",
       " 'This is my first ever iPhone.\\nAnd I truly don’t regret switching to IOS from my Android.\\n\\nIt is easily an alternative to a DSLR camera.\\nIf you’re obsessed with photos and videos, just don’t think twice or don’t compare to other androids(Samsung S10 lite or OnePlus 8/8T), as it’s far better from them in every field.\\nComparing will only make you confused.\\n\\nI am getting an average Screen on Time of around 10 hours with 30 percent left. I haven’t let my device discharged below 30 % as it aff...\\nREAD MORE',\n",
       " 'Awesome phone in budget... If you are going for an Android phone for say above 40 k then add more 5 to 7k and go for IPHONE 11 you will get awesome phone with CLASS.\\n\\nMy first IPhone and it is great to have iPhone 11\\n\\nThanks to Flipkart for one day delivery, got the phone delivered in 24hrs.....\\n\\nBattery 10\\nLooks 10\\nPerformance 10\\nCamera 10\\nBattery 9',\n",
       " 'Wow wow and wow, in 48k you will not get anything better than this, processor is awsome, camera is a beast, display is superb, this is my first iphone, and I am already in love with these',\n",
       " 'Reviewing within 1st Month\\n\\n\\n1st Month Review\\nThis is my first Iphone. So been new to the Ios Environment i faced some basic issues. Whatever issues i am facing is because of change in environment.\\nVideo Output is amazing.\\nBattery - Typical One Day Battery. 20 W fast charger is amazing which charges the iphone within 40-60 Mins ( purchased separately)\\nCamera - Good and Natural Colours. ( I have Samsung S21+ and not at par with its camera) but the output is same all the time which is good.\\n...\\nREAD MORE',\n",
       " 'Well , as we all know if its not an Iphone , its not an iphone . The iphones are always beast . The camera game has been level up . The A13 Bionic is just fabulous . The update this year are certainly the camera which is damn good with d addition of wide angle lens as well as ultra wide . If anyones purchasing an iphone for the first time , do opt for the black color . Its just feels more than premium . Battery life is damn good with lasting fully a day . Overall a nice package . Well managed...\\nREAD MORE',\n",
       " 'A perfect phone and a good battery super camera and the sound is dynamic overall the phone is perfect for upgrading from lower iPhone model to iPhone 11',\n",
       " 'Nice value for money good and best price I phone mind blowing camera processor very fast other android mobile I am happy India top selling phone 2020',\n",
       " \"Just an awesome phone...upgraded from 6s to 11 and trust me guys it's super cool with amazing features..loved it ♥️ and a big thank you to Flipkart for delivering it in just 2 days ?\",\n",
       " 'As usual a great product from Apple. but the look wise there were some scope to make it more attractive. from the back it looks nice. picture quality is awesome . face id is blazing fast. The lightning fast bionic processor makes the phone butter smooth.Battery back up is unbeatable and best of the released iPhone.full display is still missing. however, a iPhone is a iPhone. The iPhone lovers know the value of an iPhone 🙂']"
      ]
     },
     "execution_count": 692,
     "metadata": {},
     "output_type": "execute_result"
    }
   ],
   "source": [
    "Detailed_review"
   ]
  },
  {
   "cell_type": "code",
   "execution_count": 698,
   "metadata": {},
   "outputs": [
    {
     "data": {
      "text/plain": [
       "100"
      ]
     },
     "execution_count": 698,
     "metadata": {},
     "output_type": "execute_result"
    }
   ],
   "source": [
    "np.count_nonzero(Detailed_review)"
   ]
  },
  {
   "cell_type": "code",
   "execution_count": null,
   "metadata": {},
   "outputs": [],
   "source": [
    "#yet to complete"
   ]
  },
  {
   "cell_type": "code",
   "execution_count": 693,
   "metadata": {},
   "outputs": [],
   "source": [
    "#ratings"
   ]
  },
  {
   "cell_type": "code",
   "execution_count": 710,
   "metadata": {},
   "outputs": [],
   "source": [
    "Ratings_star= []\n",
    "\n",
    "urls = []\n",
    "urls1 = []\n",
    "\n",
    "\n",
    "urls = drivers.find_elements_by_xpath(\"//nav[@class='yFHi8N']//a\")\n",
    "\n",
    "for j in urls[0:10]:\n",
    "    urls1.append(j.get_attribute(\"href\"))\n",
    "\n",
    "for i in urls1:\n",
    "\n",
    "    \n",
    "    drivers.get(i)\n",
    "    \n",
    "    \n",
    "    #for scrapping the short review\n",
    "\n",
    "    for k in drivers.find_elements_by_xpath(\"//div[@class='_3LWZlK _1BLPMq']\"):\n",
    "\n",
    "        Ratings_star.append(k.text)\n",
    "    time.sleep(10)"
   ]
  },
  {
   "cell_type": "code",
   "execution_count": 711,
   "metadata": {},
   "outputs": [
    {
     "data": {
      "text/plain": [
       "['5',\n",
       " '5',\n",
       " '5',\n",
       " '5',\n",
       " '4',\n",
       " '5',\n",
       " '5',\n",
       " '5',\n",
       " '5',\n",
       " '5',\n",
       " '5',\n",
       " '5',\n",
       " '4',\n",
       " '5',\n",
       " '5',\n",
       " '5',\n",
       " '5',\n",
       " '5',\n",
       " '5',\n",
       " '5',\n",
       " '5',\n",
       " '5',\n",
       " '5',\n",
       " '5',\n",
       " '5',\n",
       " '4',\n",
       " '5',\n",
       " '5',\n",
       " '5',\n",
       " '5',\n",
       " '5',\n",
       " '5',\n",
       " '5',\n",
       " '5',\n",
       " '4',\n",
       " '4',\n",
       " '5',\n",
       " '5',\n",
       " '5',\n",
       " '5',\n",
       " '5',\n",
       " '5',\n",
       " '5',\n",
       " '5',\n",
       " '5',\n",
       " '5',\n",
       " '5',\n",
       " '5',\n",
       " '5',\n",
       " '5',\n",
       " '5',\n",
       " '5',\n",
       " '5',\n",
       " '5',\n",
       " '5',\n",
       " '5',\n",
       " '4',\n",
       " '5',\n",
       " '5',\n",
       " '5',\n",
       " '5',\n",
       " '5',\n",
       " '5',\n",
       " '5',\n",
       " '5',\n",
       " '5',\n",
       " '5',\n",
       " '5',\n",
       " '5',\n",
       " '4',\n",
       " '5',\n",
       " '5',\n",
       " '3',\n",
       " '4',\n",
       " '5',\n",
       " '5',\n",
       " '5',\n",
       " '5',\n",
       " '5',\n",
       " '5',\n",
       " '5',\n",
       " '4',\n",
       " '5',\n",
       " '4',\n",
       " '4',\n",
       " '5',\n",
       " '5',\n",
       " '5',\n",
       " '5',\n",
       " '5',\n",
       " '5',\n",
       " '5',\n",
       " '5',\n",
       " '5',\n",
       " '5',\n",
       " '5',\n",
       " '5',\n",
       " '4']"
      ]
     },
     "execution_count": 711,
     "metadata": {},
     "output_type": "execute_result"
    }
   ],
   "source": [
    "Ratings_star"
   ]
  },
  {
   "cell_type": "code",
   "execution_count": 712,
   "metadata": {},
   "outputs": [
    {
     "data": {
      "text/plain": [
       "98"
      ]
     },
     "execution_count": 712,
     "metadata": {},
     "output_type": "execute_result"
    }
   ],
   "source": [
    "np.count_nonzero(Ratings_star)"
   ]
  },
  {
   "cell_type": "code",
   "execution_count": 714,
   "metadata": {},
   "outputs": [],
   "source": [
    "Short_description = Short_description[0:98]\n",
    "Detailed_review = Detailed_review[0:98]"
   ]
  },
  {
   "cell_type": "code",
   "execution_count": 715,
   "metadata": {},
   "outputs": [],
   "source": [
    "Iphone = pd.DataFrame({})"
   ]
  },
  {
   "cell_type": "code",
   "execution_count": 716,
   "metadata": {},
   "outputs": [],
   "source": [
    "Iphone[\"Ratings\"] = Ratings_star\n",
    "Iphone[\"Review summary\"] = Short_description\n",
    "Iphone[\"Full Review\"] = Detailed_review"
   ]
  },
  {
   "cell_type": "code",
   "execution_count": 717,
   "metadata": {},
   "outputs": [
    {
     "data": {
      "text/html": [
       "<div>\n",
       "<style scoped>\n",
       "    .dataframe tbody tr th:only-of-type {\n",
       "        vertical-align: middle;\n",
       "    }\n",
       "\n",
       "    .dataframe tbody tr th {\n",
       "        vertical-align: top;\n",
       "    }\n",
       "\n",
       "    .dataframe thead th {\n",
       "        text-align: right;\n",
       "    }\n",
       "</style>\n",
       "<table border=\"1\" class=\"dataframe\">\n",
       "  <thead>\n",
       "    <tr style=\"text-align: right;\">\n",
       "      <th></th>\n",
       "      <th>Ratings</th>\n",
       "      <th>Review summary</th>\n",
       "      <th>Full Review</th>\n",
       "    </tr>\n",
       "  </thead>\n",
       "  <tbody>\n",
       "    <tr>\n",
       "      <th>0</th>\n",
       "      <td>5</td>\n",
       "      <td>Brilliant</td>\n",
       "      <td>The Best Phone for the Money\\n\\nThe iPhone 11 ...</td>\n",
       "    </tr>\n",
       "    <tr>\n",
       "      <th>1</th>\n",
       "      <td>5</td>\n",
       "      <td>Perfect product!</td>\n",
       "      <td>Amazing phone with great cameras and better ba...</td>\n",
       "    </tr>\n",
       "    <tr>\n",
       "      <th>2</th>\n",
       "      <td>5</td>\n",
       "      <td>Great product</td>\n",
       "      <td>Amazing Powerful and Durable Gadget.\\n\\nI’m am...</td>\n",
       "    </tr>\n",
       "    <tr>\n",
       "      <th>3</th>\n",
       "      <td>5</td>\n",
       "      <td>Worth every penny</td>\n",
       "      <td>Previously I was using one plus 3t it was a gr...</td>\n",
       "    </tr>\n",
       "    <tr>\n",
       "      <th>4</th>\n",
       "      <td>4</td>\n",
       "      <td>Good choice</td>\n",
       "      <td>So far it’s been an AMAZING experience coming ...</td>\n",
       "    </tr>\n",
       "    <tr>\n",
       "      <th>...</th>\n",
       "      <td>...</td>\n",
       "      <td>...</td>\n",
       "      <td>...</td>\n",
       "    </tr>\n",
       "    <tr>\n",
       "      <th>93</th>\n",
       "      <td>5</td>\n",
       "      <td>Brilliant</td>\n",
       "      <td>Wow wow and wow, in 48k you will not get anyth...</td>\n",
       "    </tr>\n",
       "    <tr>\n",
       "      <th>94</th>\n",
       "      <td>5</td>\n",
       "      <td>Most Price worthy Iphone</td>\n",
       "      <td>Reviewing within 1st Month\\n\\n\\n1st Month Revi...</td>\n",
       "    </tr>\n",
       "    <tr>\n",
       "      <th>95</th>\n",
       "      <td>5</td>\n",
       "      <td>Terrific purchase</td>\n",
       "      <td>Well , as we all know if its not an Iphone , i...</td>\n",
       "    </tr>\n",
       "    <tr>\n",
       "      <th>96</th>\n",
       "      <td>5</td>\n",
       "      <td>Excellent</td>\n",
       "      <td>A perfect phone and a good battery super camer...</td>\n",
       "    </tr>\n",
       "    <tr>\n",
       "      <th>97</th>\n",
       "      <td>4</td>\n",
       "      <td>Wonderful</td>\n",
       "      <td>Nice value for money good and best price I pho...</td>\n",
       "    </tr>\n",
       "  </tbody>\n",
       "</table>\n",
       "<p>98 rows × 3 columns</p>\n",
       "</div>"
      ],
      "text/plain": [
       "   Ratings            Review summary  \\\n",
       "0        5                 Brilliant   \n",
       "1        5          Perfect product!   \n",
       "2        5             Great product   \n",
       "3        5         Worth every penny   \n",
       "4        4               Good choice   \n",
       "..     ...                       ...   \n",
       "93       5                 Brilliant   \n",
       "94       5  Most Price worthy Iphone   \n",
       "95       5         Terrific purchase   \n",
       "96       5                 Excellent   \n",
       "97       4                 Wonderful   \n",
       "\n",
       "                                          Full Review  \n",
       "0   The Best Phone for the Money\\n\\nThe iPhone 11 ...  \n",
       "1   Amazing phone with great cameras and better ba...  \n",
       "2   Amazing Powerful and Durable Gadget.\\n\\nI’m am...  \n",
       "3   Previously I was using one plus 3t it was a gr...  \n",
       "4   So far it’s been an AMAZING experience coming ...  \n",
       "..                                                ...  \n",
       "93  Wow wow and wow, in 48k you will not get anyth...  \n",
       "94  Reviewing within 1st Month\\n\\n\\n1st Month Revi...  \n",
       "95  Well , as we all know if its not an Iphone , i...  \n",
       "96  A perfect phone and a good battery super camer...  \n",
       "97  Nice value for money good and best price I pho...  \n",
       "\n",
       "[98 rows x 3 columns]"
      ]
     },
     "execution_count": 717,
     "metadata": {},
     "output_type": "execute_result"
    }
   ],
   "source": [
    "Iphone"
   ]
  },
  {
   "cell_type": "code",
   "execution_count": 720,
   "metadata": {},
   "outputs": [],
   "source": [
    "#completed"
   ]
  },
  {
   "cell_type": "markdown",
   "metadata": {},
   "source": [
    "# Question number 8"
   ]
  },
  {
   "cell_type": "markdown",
   "metadata": {},
   "source": [
    "Scrape data for first 100 sneakers you find when you visit flipkart.com and search for “sneakers” in the search field.\n",
    "\n",
    "You have to scrape 4 attributes of each sneaker :\n",
    "1. Brand\n",
    "2. Product Description\n",
    "3. Price\n",
    "4. discount %"
   ]
  },
  {
   "cell_type": "code",
   "execution_count": 529,
   "metadata": {},
   "outputs": [],
   "source": [
    "urlq8 = \"https://www.flipkart.com/\""
   ]
  },
  {
   "cell_type": "code",
   "execution_count": 530,
   "metadata": {},
   "outputs": [],
   "source": [
    "drivers.get(urlq8)"
   ]
  },
  {
   "cell_type": "code",
   "execution_count": 531,
   "metadata": {},
   "outputs": [],
   "source": [
    "search_glasses = drivers.find_element_by_xpath(\"//input[@class = '_3704LK']\")"
   ]
  },
  {
   "cell_type": "code",
   "execution_count": 532,
   "metadata": {},
   "outputs": [],
   "source": [
    "search_glasses_btn = drivers.find_element_by_xpath(\"//button[@class = 'L0Z3Pu']\")"
   ]
  },
  {
   "cell_type": "code",
   "execution_count": 533,
   "metadata": {},
   "outputs": [],
   "source": [
    "search_glasses.send_keys(\"Sneakers\")"
   ]
  },
  {
   "cell_type": "code",
   "execution_count": 534,
   "metadata": {},
   "outputs": [],
   "source": [
    "search_glasses_btn.click()"
   ]
  },
  {
   "cell_type": "code",
   "execution_count": 535,
   "metadata": {},
   "outputs": [],
   "source": [
    "from selenium.common.exceptions import StaleElementReferenceException, NoSuchElementException\n",
    "\n",
    "import time\n",
    "\n",
    "urls = []\n",
    "\n",
    "next_page_link1 = drivers.find_elements_by_xpath(\"//a[@class='ge-49M']\")\n",
    "\n",
    "for i in next_page_link1:\n",
    "\n",
    "    urls.append(i.get_attribute(\"href\"))\n",
    "\n",
    "\n",
    "\n",
    "time.sleep(3)"
   ]
  },
  {
   "cell_type": "code",
   "execution_count": 537,
   "metadata": {},
   "outputs": [],
   "source": [
    "brand_name_S = drivers.find_elements_by_xpath(\"//div[@class = '_2WkVRV']\")\n",
    "short_descS = drivers.find_elements_by_xpath(\"//a[@class = 'IRpwTa']\")\n",
    "price_ofS = drivers.find_elements_by_xpath(\"//div[@class = '_30jeq3']\")\n",
    "discount_perS = drivers.find_elements_by_xpath(\"//div[@class = '_3Ay6Sb']//span\")"
   ]
  },
  {
   "cell_type": "code",
   "execution_count": 538,
   "metadata": {},
   "outputs": [
    {
     "data": {
      "text/plain": [
       "['Deals4you',\n",
       " \"LEVI'S\",\n",
       " 'Robbie jones',\n",
       " 'Numenzo',\n",
       " 'HOTSTYLE',\n",
       " 'Robbie jones',\n",
       " 'aadi',\n",
       " 'Stefano Rads',\n",
       " 'BRUTON',\n",
       " 'VIPSJAZZY',\n",
       " 'ORICUM',\n",
       " 'Shoes Bank',\n",
       " 'Birde',\n",
       " 'SHURAB',\n",
       " 'Zsyto',\n",
       " '\"trend\"',\n",
       " 'bluemaker',\n",
       " 'Robbie jones',\n",
       " 'Numenzo',\n",
       " \"LEVI'S\",\n",
       " 'World Wear Footwear',\n",
       " 'PUMA',\n",
       " 'HOTSTYLE',\n",
       " 'Black Cooper',\n",
       " 'SCATCHITE',\n",
       " 'luxury fashion',\n",
       " 'M K FOOTWEAR',\n",
       " 'restinfoot',\n",
       " '3SIX5',\n",
       " 'BRUTON',\n",
       " 'Airland',\n",
       " 'SPARX',\n",
       " 'World Wear Footwear',\n",
       " \"LEVI'S\",\n",
       " 'Axter',\n",
       " 'Numenzo',\n",
       " 'HOTSTYLE',\n",
       " 'bluemaker',\n",
       " 'believe',\n",
       " 'HOTSTYLE']"
      ]
     },
     "execution_count": 538,
     "metadata": {},
     "output_type": "execute_result"
    }
   ],
   "source": [
    "all_brandsSN = []\n",
    "for i in brand_name_S:\n",
    "    all_brandsSN.append(i.text)\n",
    "all_brandsSN"
   ]
  },
  {
   "cell_type": "code",
   "execution_count": 539,
   "metadata": {},
   "outputs": [
    {
     "data": {
      "text/plain": [
       "['Sneakers For Men',\n",
       " 'Basic 2.0 Sneakers For Men',\n",
       " 'Casual Sneakers Shoes For Men Sneakers For Men',\n",
       " 'Sneakers For Men',\n",
       " 'Sneakers Sneakers For Men',\n",
       " 'Sneakers For Men',\n",
       " 'Sneakers For Men',\n",
       " 'Combo Pack Of 4 Canvas Sneakers For Men',\n",
       " 'Combo pack of 2 casual sneaker shoes for men Sneakers F...',\n",
       " \"White Sneaker For Men's/Boy's Sneakers For Men\",\n",
       " 'Combo Pack of 4 Casual Shoes Sneakers For Men',\n",
       " 'Fashionable casual sneakers shoes for men Sneakers For ...',\n",
       " 'casual for men (blue 06) Sneakers For Men',\n",
       " 'Casual Sneakers Black Shoes For Men Sneakers For Men',\n",
       " 'Casual Sneaker Sneakers For Men',\n",
       " 'Sneakers For Men',\n",
       " 'Combo Pack of 4 Latest Collection Stylish Casual Loafer...',\n",
       " 'Icon IDP Sneakers For Men',\n",
       " 'Sneakers Sneakers For Men',\n",
       " 'Sneakers Sneakers For Men',\n",
       " 'Fashionable casual sneaker shoes Sneakers For Men',\n",
       " 'Casual shoes Sneakers For Men',\n",
       " 'ORIFWSH(OR)-1077 Sneakers For Men',\n",
       " 'Combo Pack of 2 Casual Sneakers For Men',\n",
       " 'shoe Sneakers For Men',\n",
       " 'SD-323 Sneakers For Men',\n",
       " 'Latest Collection Stylish Casual Sports Sneakers For Me...',\n",
       " 'Jordy Buck Sneakers For Men',\n",
       " 'Combo Pack of 2 Latest Collection Stylish Casual Loafer...',\n",
       " 'Sneakers For Men',\n",
       " 'Sneakers Sneakers For Men',\n",
       " 'casual for men Sneakers For Men',\n",
       " 'Sneakers for men(black_6) Sneakers For Men',\n",
       " '5001 Sneakers For Men']"
      ]
     },
     "execution_count": 539,
     "metadata": {},
     "output_type": "execute_result"
    }
   ],
   "source": [
    "all_descSN =[]\n",
    "for i in short_descS:\n",
    "    all_descSN.append(i.text)\n",
    "all_descSN"
   ]
  },
  {
   "cell_type": "code",
   "execution_count": 540,
   "metadata": {},
   "outputs": [
    {
     "data": {
      "text/plain": [
       "['₹449',\n",
       " '₹1,499',\n",
       " '₹379',\n",
       " '₹398',\n",
       " '₹283',\n",
       " '₹474',\n",
       " '₹298',\n",
       " '₹242',\n",
       " '₹499',\n",
       " '₹419',\n",
       " '₹398',\n",
       " '₹349',\n",
       " '₹842',\n",
       " '₹399',\n",
       " '₹328',\n",
       " '₹449',\n",
       " '₹474',\n",
       " '₹428',\n",
       " '₹539',\n",
       " '₹1,499',\n",
       " '₹499',\n",
       " '₹1,047',\n",
       " '₹299',\n",
       " '₹474',\n",
       " '₹398',\n",
       " '₹429',\n",
       " '₹389',\n",
       " '₹379',\n",
       " '₹214',\n",
       " '₹426',\n",
       " '₹265',\n",
       " '₹631',\n",
       " '₹273',\n",
       " '₹1,499',\n",
       " '₹299',\n",
       " '₹429',\n",
       " '₹299',\n",
       " '₹474',\n",
       " '₹499',\n",
       " '₹337']"
      ]
     },
     "execution_count": 540,
     "metadata": {},
     "output_type": "execute_result"
    }
   ],
   "source": [
    "all_priceSN =[]\n",
    "for i in price_ofS:\n",
    "    all_priceSN.append(i.text)\n",
    "all_priceSN"
   ]
  },
  {
   "cell_type": "code",
   "execution_count": 542,
   "metadata": {},
   "outputs": [
    {
     "data": {
      "text/plain": [
       "['55% off',\n",
       " '50% off',\n",
       " '62% off',\n",
       " '60% off',\n",
       " '43% off',\n",
       " '52% off',\n",
       " '70% off',\n",
       " '65% off',\n",
       " '85% off',\n",
       " '58% off',\n",
       " '60% off',\n",
       " '65% off',\n",
       " '57% off',\n",
       " '60% off',\n",
       " '74% off',\n",
       " '77% off',\n",
       " '52% off',\n",
       " '57% off',\n",
       " '46% off',\n",
       " '50% off',\n",
       " '81% off',\n",
       " '68% off',\n",
       " '40% off',\n",
       " '52% off',\n",
       " '60% off',\n",
       " '85% off',\n",
       " '61% off',\n",
       " '62% off',\n",
       " '57% off',\n",
       " '82% off',\n",
       " '46% off',\n",
       " '15% off',\n",
       " '61% off',\n",
       " '50% off',\n",
       " '78% off',\n",
       " '57% off',\n",
       " '40% off',\n",
       " '52% off',\n",
       " '50% off',\n",
       " '32% off']"
      ]
     },
     "execution_count": 542,
     "metadata": {},
     "output_type": "execute_result"
    }
   ],
   "source": [
    "all_discountSN =[]\n",
    "for i in discount_perS:\n",
    "    all_discountSN.append(i.text)\n",
    "all_discountSN"
   ]
  },
  {
   "cell_type": "code",
   "execution_count": null,
   "metadata": {},
   "outputs": [],
   "source": []
  },
  {
   "cell_type": "code",
   "execution_count": 543,
   "metadata": {},
   "outputs": [],
   "source": [
    "for i in range(0,1):\n",
    "\n",
    "    try:\n",
    "\n",
    "        \n",
    "\n",
    "        drivers.get(urls[i])\n",
    "        brand_name_S1 = drivers.find_elements_by_xpath(\"//div[@class = '_2WkVRV']\")\n",
    "        short_descS1 = drivers.find_elements_by_xpath(\"//a[@class = 'IRpwTa']\")\n",
    "        price_ofS1 = drivers.find_elements_by_xpath(\"//div[@class = '_30jeq3']\")\n",
    "        discount_perS1 = drivers.find_elements_by_xpath(\"//div[@class = '_3Ay6Sb']//span\")\n",
    "  \n",
    "    except NoSuchElementException :\n",
    "\n",
    "        brand_name_2.append(\"---\")\n",
    "        short_desc.append(\"---\")\n",
    "        price_of.append(\"---\")\n",
    "        discount_per.append(\"---\")"
   ]
  },
  {
   "cell_type": "code",
   "execution_count": 545,
   "metadata": {},
   "outputs": [
    {
     "data": {
      "text/plain": [
       "['ESSENCE',\n",
       " 'Absolute comfort',\n",
       " 'Jokatoo',\n",
       " 'Deals4you',\n",
       " 'HOTSTYLE',\n",
       " 'oxpeo',\n",
       " 'ESSENCE',\n",
       " 'KRAFTER',\n",
       " 'Birde',\n",
       " \"LEVI'S\",\n",
       " 'Walkstyle',\n",
       " 'Raftar',\n",
       " 'Svpanther',\n",
       " 'SHURAB',\n",
       " 'GUSTO',\n",
       " 'TR',\n",
       " 'Xtoon',\n",
       " 'TR',\n",
       " 'Kraasa',\n",
       " 'Black Cooper',\n",
       " 'Robbie jones',\n",
       " 'Baogi',\n",
       " 'LEATHERKRAFT',\n",
       " \"LEVI'S\",\n",
       " 'BRUTON',\n",
       " 'SWIGGY',\n",
       " 'SPARX',\n",
       " 'SPARX',\n",
       " 'ESSENCE',\n",
       " 'BRUTON',\n",
       " 'SHOEFLY',\n",
       " 'bluemaker',\n",
       " 'Axter',\n",
       " 'VORII',\n",
       " 'GRSHOE',\n",
       " 'Imcolus',\n",
       " 'bluemaker',\n",
       " 'BLACK BOTTOM',\n",
       " 'PUMA',\n",
       " \"LEVI'S\"]"
      ]
     },
     "execution_count": 545,
     "metadata": {},
     "output_type": "execute_result"
    }
   ],
   "source": [
    "all_brandsSN1 = []\n",
    "for i in brand_name_S1:\n",
    "    all_brandsSN1.append(i.text)\n",
    "all_brandsSN1"
   ]
  },
  {
   "cell_type": "code",
   "execution_count": 548,
   "metadata": {},
   "outputs": [
    {
     "data": {
      "text/plain": [
       "(['53% off',\n",
       "  '63% off',\n",
       "  '71% off',\n",
       "  '55% off',\n",
       "  '57% off',\n",
       "  '60% off',\n",
       "  '53% off',\n",
       "  '8% off',\n",
       "  '64% off',\n",
       "  '50% off',\n",
       "  '62% off',\n",
       "  '62% off',\n",
       "  '53% off',\n",
       "  '60% off',\n",
       "  '46% off',\n",
       "  '62% off',\n",
       "  '64% off',\n",
       "  '70% off',\n",
       "  '50% off',\n",
       "  '52% off',\n",
       "  '52% off',\n",
       "  '55% off',\n",
       "  '70% off',\n",
       "  '50% off',\n",
       "  '76% off',\n",
       "  '69% off',\n",
       "  '14% off',\n",
       "  '61% off',\n",
       "  '82% off',\n",
       "  '74% off',\n",
       "  '52% off',\n",
       "  '78% off',\n",
       "  '62% off',\n",
       "  '63% off',\n",
       "  '53% off',\n",
       "  '52% off',\n",
       "  '55% off',\n",
       "  '64% off',\n",
       "  '50% off'],\n",
       " ['₹468',\n",
       "  '₹367',\n",
       "  '₹418',\n",
       "  '₹449',\n",
       "  '₹211',\n",
       "  '₹398',\n",
       "  '₹468',\n",
       "  '₹458',\n",
       "  '₹525',\n",
       "  '₹1,499',\n",
       "  '₹569',\n",
       "  '₹372',\n",
       "  '₹463',\n",
       "  '₹399',\n",
       "  '₹699',\n",
       "  '₹379',\n",
       "  '₹359',\n",
       "  '₹599',\n",
       "  '₹499',\n",
       "  '₹474',\n",
       "  '₹474',\n",
       "  '₹449',\n",
       "  '₹299',\n",
       "  '₹1,499',\n",
       "  '₹299',\n",
       "  '₹759',\n",
       "  '₹599',\n",
       "  '₹699',\n",
       "  '₹381',\n",
       "  '₹426',\n",
       "  '₹682',\n",
       "  '₹474',\n",
       "  '₹299',\n",
       "  '₹379',\n",
       "  '₹365',\n",
       "  '₹464',\n",
       "  '₹474',\n",
       "  '₹449',\n",
       "  '₹1,367',\n",
       "  '₹1,499'],\n",
       " ['Sneakers For Men',\n",
       "  'Sneakers For Men',\n",
       "  'Colourblocked Trending Multicolor Ultralight canvas Spo...',\n",
       "  'Sneakers For Men',\n",
       "  'Sneakers For Men',\n",
       "  'Combo Pack of 2 Casual Shoes Sneakers For Men',\n",
       "  'Basic 2.0 Sneakers For Men',\n",
       "  'Sneakers For Men',\n",
       "  'Sneakers For Men',\n",
       "  'Sneakers For Men',\n",
       "  'Casual shoes Sneakers For Men',\n",
       "  'Sneakers For Men',\n",
       "  'Series 7 Sneakers For Men',\n",
       "  'Casual Sneakers Shoes For Men Sneakers For Men',\n",
       "  'Sneakers For Men',\n",
       "  'Sneakers For Men',\n",
       "  'Sneakers For Men',\n",
       "  'Casual Loafers, Sneakers Shoes for Men Pack of 5 Combo(...',\n",
       "  'Sneakers For Men',\n",
       "  'Combo Pack of 2 Casual Sneakers For Men',\n",
       "  'Combo Pack of 4 Casual Shoes For Men Sneakers For Men',\n",
       "  'casual for men (beige 06) Sneakers For Men',\n",
       "  'Combo Pack of 2 Casual Loafer Sneakers Shoes Sneakers F...',\n",
       "  'Latest Stylish Casual sneakers for men | Lace up lightw...',\n",
       "  'Sneakers For Men',\n",
       "  'casual for men (black 07) Sneakers For Men',\n",
       "  'Fashion Outdoor Canvas Casual Light Weight Partywear Sn...',\n",
       "  'Flex R Dual IDP Sneakers For Men',\n",
       "  'Jordy Buck Sneakers For Men'])"
      ]
     },
     "execution_count": 548,
     "metadata": {},
     "output_type": "execute_result"
    }
   ],
   "source": [
    "all_descSN1 =[]\n",
    "for i in short_descS1:\n",
    "    all_descSN1.append(i.text)\n",
    "all_priceSN1 =[]\n",
    "for i in price_ofS1:\n",
    "    all_priceSN1.append(i.text)\n",
    "all_discountSN1 =[]\n",
    "for i in discount_perS1:\n",
    "    all_discountSN1.append(i.text)\n",
    "all_discountSN1,all_priceSN1,all_descSN1"
   ]
  },
  {
   "cell_type": "code",
   "execution_count": 560,
   "metadata": {},
   "outputs": [],
   "source": [
    "for i in range(1,2):\n",
    "\n",
    "    try:\n",
    "\n",
    "        \n",
    "\n",
    "        drivers.get(urls[i])\n",
    "        brand_name_S2 = drivers.find_elements_by_xpath(\"//div[@class = '_2WkVRV']\")\n",
    "        short_descS2 = drivers.find_elements_by_xpath(\"//div[@class = '_2B099V']//a[1]\")\n",
    "        price_ofS2 = drivers.find_elements_by_xpath(\"//div[@class = '_30jeq3']\")\n",
    "        discount_perS2= drivers.find_elements_by_xpath(\"//div[@class = '_3Ay6Sb']//span\")\n",
    "        short_desc\n",
    "  \n",
    "    except NoSuchElementException :\n",
    "\n",
    "        brand_name_2.append(\"---\")\n",
    "        short_desc.append(\"---\")\n",
    "        price_of.append(\"---\")\n",
    "        discount_per.append(\"---\")"
   ]
  },
  {
   "cell_type": "code",
   "execution_count": 561,
   "metadata": {},
   "outputs": [
    {
     "data": {
      "text/plain": [
       "(['76% off',\n",
       "  '70% off',\n",
       "  '80% off',\n",
       "  '55% off',\n",
       "  '50% off',\n",
       "  '63% off',\n",
       "  '88% off',\n",
       "  '40% off',\n",
       "  '70% off',\n",
       "  '50% off',\n",
       "  '55% off',\n",
       "  '10% off',\n",
       "  '62% off',\n",
       "  '74% off',\n",
       "  '40% off',\n",
       "  '55% off',\n",
       "  '68% off',\n",
       "  '62% off',\n",
       "  '66% off',\n",
       "  '52% off',\n",
       "  '76% off',\n",
       "  '55% off',\n",
       "  '70% off',\n",
       "  '60% off',\n",
       "  '76% off',\n",
       "  '35% off',\n",
       "  '14% off',\n",
       "  '60% off',\n",
       "  '63% off',\n",
       "  '82% off',\n",
       "  '46% off',\n",
       "  '52% off',\n",
       "  '85% off',\n",
       "  '50% off',\n",
       "  '54% off',\n",
       "  '50% off',\n",
       "  '60% off',\n",
       "  '52% off',\n",
       "  '65% off',\n",
       "  '50% off'],\n",
       " ['₹599',\n",
       "  '₹298',\n",
       "  '₹399',\n",
       "  '₹449',\n",
       "  '₹499',\n",
       "  '₹474',\n",
       "  '₹479',\n",
       "  '₹599',\n",
       "  '₹349',\n",
       "  '₹1,499',\n",
       "  '₹1,349',\n",
       "  '₹669',\n",
       "  '₹376',\n",
       "  '₹251',\n",
       "  '₹599',\n",
       "  '₹1,574',\n",
       "  '₹313',\n",
       "  '₹375',\n",
       "  '₹429',\n",
       "  '₹474',\n",
       "  '₹299',\n",
       "  '₹1,484',\n",
       "  '₹290',\n",
       "  '₹399',\n",
       "  '₹299',\n",
       "  '₹649',\n",
       "  '₹644',\n",
       "  '₹998',\n",
       "  '₹735',\n",
       "  '₹426',\n",
       "  '₹267',\n",
       "  '₹474',\n",
       "  '₹499',\n",
       "  '₹1,499',\n",
       "  '₹451',\n",
       "  '₹499',\n",
       "  '₹399',\n",
       "  '₹474',\n",
       "  '₹349',\n",
       "  '₹1,499'],\n",
       " ['Combo Pack of 2 Sports Running LightWeight Shoes Sneake...',\n",
       "  'STYLISH Sneakers For Men',\n",
       "  'Combo Pack Of 2 Range of Stylish Comfortable Shoes Snea...',\n",
       "  'Sneakers For Men',\n",
       "  'Sneakers For Men',\n",
       "  'Rockstyle Trending Multicolor Ultralight canvas Sport/ ...',\n",
       "  'Casual sneakers shoes for men Sneakers For Men',\n",
       "  'Casual Sneaker Sneakers For Men',\n",
       "  'Thunder Sneakers For Men',\n",
       "  'Basic 2.0 Sneakers For Men',\n",
       "  'Trenzo II IDP Sneakers For Men',\n",
       "  'SD-323 Sneakers For Men',\n",
       "  'Spring Season White Shoes Men Running Flat PU Leather S...',\n",
       "  '489 Black Sneakers For Men',\n",
       "  'Sneakers For Men',\n",
       "  'Puma Wired Cage Sneakers For Men',\n",
       "  'Walking shoes,Casual Sneakers For Men',\n",
       "  'Sneakers For Men',\n",
       "  'White Sneaker for Men Sneakers For Men',\n",
       "  'casual Sneakers White Shoes For Men And Boys Sneakers F...',\n",
       "  'CUBIC_1 Sneakers For Men',\n",
       "  'Acrux IDP Sneakers For Men',\n",
       "  'Sneakers For Men',\n",
       "  'Latest Stylish Casual sneakers for men | Lace up lightw...',\n",
       "  'CUBIC_1 Sneakers For Men',\n",
       "  'Cipramo Canvas Shoes for Men Sneakers For Men',\n",
       "  'SPARX SD0323G Sneakers For Men',\n",
       "  \"Men's Ultraforce Mid-top Athletic-Inspired Retro Fashio...\",\n",
       "  'Combo Pack of 4 Casual Shoes Sneakers For Men',\n",
       "  'Combo Pack of 2 Casual Sneakers For Men',\n",
       "  'Black Boxer Sneakers For Men',\n",
       "  'Sneakers For Men',\n",
       "  'Sneakers For Men',\n",
       "  'Sneakers For Men',\n",
       "  'Men Running Flat PU Synthetic Sneakers Male Black Board...',\n",
       "  'CASUAL BOOTS Sneakers For Men',\n",
       "  'Sneakers for man Sneakers For Men',\n",
       "  'Latest Design Sneakers For Men',\n",
       "  'Sneakers For Men',\n",
       "  'Jordy Buck Sneakers For Men'],\n",
       " ['BRUTON',\n",
       "  'Creer',\n",
       "  'Axter',\n",
       "  'Deals4you',\n",
       "  'Red Rose',\n",
       "  'Ktiz',\n",
       "  '\"trend\"',\n",
       "  'Numenzo',\n",
       "  'Billion',\n",
       "  \"LEVI'S\",\n",
       "  'PUMA',\n",
       "  'SPARX',\n",
       "  'NATOINAL HUNT',\n",
       "  'VISTAARA',\n",
       "  'Zorth',\n",
       "  'PUMA',\n",
       "  'Layasa',\n",
       "  'Adies',\n",
       "  'Nilatin',\n",
       "  'Robbie jones',\n",
       "  'BRUTON',\n",
       "  'PUMA',\n",
       "  'Kavon',\n",
       "  'SHURAB',\n",
       "  'BRUTON',\n",
       "  'City Soles',\n",
       "  'SPARX',\n",
       "  'bacca bucci',\n",
       "  'Birde',\n",
       "  'BRUTON',\n",
       "  'jootiyapa',\n",
       "  'Robbie jones',\n",
       "  'Afrojack',\n",
       "  \"LEVI'S\",\n",
       "  'FASHION CITY',\n",
       "  'Knoos',\n",
       "  'Baogi',\n",
       "  'JUBENTA',\n",
       "  'M K FOOTWEAR',\n",
       "  \"LEVI'S\"])"
      ]
     },
     "execution_count": 561,
     "metadata": {},
     "output_type": "execute_result"
    }
   ],
   "source": [
    "all_brandsSN2 = []\n",
    "for i in brand_name_S2:\n",
    "    all_brandsSN2.append(i.text)\n",
    "all_descSN2 =[]\n",
    "for i in short_descS2:\n",
    "    all_descSN2.append(i.text)\n",
    "all_priceSN2 =[]\n",
    "for i in price_ofS2:\n",
    "    all_priceSN2.append(i.text)\n",
    "all_discountSN2 =[]\n",
    "for i in discount_perS2:\n",
    "    all_discountSN2.append(i.text)\n",
    "all_discountSN2,all_priceSN2,all_descSN2,all_brandsSN2"
   ]
  },
  {
   "cell_type": "code",
   "execution_count": 562,
   "metadata": {},
   "outputs": [],
   "source": [
    "all_descSN.extend(all_descSN1)\n",
    "all_descSN.extend(all_descSN2)"
   ]
  },
  {
   "cell_type": "code",
   "execution_count": 552,
   "metadata": {},
   "outputs": [],
   "source": [
    "all_priceSN.extend(all_priceSN1)\n",
    "all_priceSN.extend(all_priceSN2)"
   ]
  },
  {
   "cell_type": "code",
   "execution_count": 553,
   "metadata": {},
   "outputs": [],
   "source": [
    "all_discountSN.extend(all_discountSN1)\n",
    "all_discountSN.extend(all_discountSN2)"
   ]
  },
  {
   "cell_type": "code",
   "execution_count": 554,
   "metadata": {},
   "outputs": [],
   "source": [
    "all_brandsSN.extend(all_brandsSN1)\n",
    "all_brandsSN.extend(all_brandsSN2)"
   ]
  },
  {
   "cell_type": "code",
   "execution_count": 555,
   "metadata": {},
   "outputs": [],
   "source": [
    "BrandsSN = all_brandsSN[0:100]\n",
    "PriceSN = all_priceSN[0:100]\n",
    "DiscountSN = all_discountSN[0:100]\n",
    "DescriptionSN = all_descSN[0:100]"
   ]
  },
  {
   "cell_type": "code",
   "execution_count": 566,
   "metadata": {},
   "outputs": [],
   "source": [
    "DescriptionSN = all_descSN[0:100]"
   ]
  },
  {
   "cell_type": "code",
   "execution_count": 567,
   "metadata": {},
   "outputs": [
    {
     "data": {
      "text/plain": [
       "100"
      ]
     },
     "execution_count": 567,
     "metadata": {},
     "output_type": "execute_result"
    }
   ],
   "source": [
    "np.count_nonzero(DescriptionSN)"
   ]
  },
  {
   "cell_type": "code",
   "execution_count": 556,
   "metadata": {},
   "outputs": [],
   "source": [
    "Sneakers = pd.DataFrame({})"
   ]
  },
  {
   "cell_type": "code",
   "execution_count": 568,
   "metadata": {},
   "outputs": [],
   "source": [
    "Sneakers[\"Brand Name\"] = BrandsSN\n",
    "Sneakers[\"Price\"] = PriceSN\n",
    "Sneakers[\"Discount\"] = DiscountSN\n",
    "Sneakers[\"Description\"] = DescriptionSN"
   ]
  },
  {
   "cell_type": "code",
   "execution_count": 569,
   "metadata": {},
   "outputs": [
    {
     "data": {
      "text/html": [
       "<div>\n",
       "<style scoped>\n",
       "    .dataframe tbody tr th:only-of-type {\n",
       "        vertical-align: middle;\n",
       "    }\n",
       "\n",
       "    .dataframe tbody tr th {\n",
       "        vertical-align: top;\n",
       "    }\n",
       "\n",
       "    .dataframe thead th {\n",
       "        text-align: right;\n",
       "    }\n",
       "</style>\n",
       "<table border=\"1\" class=\"dataframe\">\n",
       "  <thead>\n",
       "    <tr style=\"text-align: right;\">\n",
       "      <th></th>\n",
       "      <th>Brand Name</th>\n",
       "      <th>Price</th>\n",
       "      <th>Discount</th>\n",
       "      <th>Description</th>\n",
       "    </tr>\n",
       "  </thead>\n",
       "  <tbody>\n",
       "    <tr>\n",
       "      <th>0</th>\n",
       "      <td>Deals4you</td>\n",
       "      <td>₹449</td>\n",
       "      <td>55% off</td>\n",
       "      <td>Sneakers For Men</td>\n",
       "    </tr>\n",
       "    <tr>\n",
       "      <th>1</th>\n",
       "      <td>LEVI'S</td>\n",
       "      <td>₹1,499</td>\n",
       "      <td>50% off</td>\n",
       "      <td>Basic 2.0 Sneakers For Men</td>\n",
       "    </tr>\n",
       "    <tr>\n",
       "      <th>2</th>\n",
       "      <td>Robbie jones</td>\n",
       "      <td>₹379</td>\n",
       "      <td>62% off</td>\n",
       "      <td>Casual Sneakers Shoes For Men Sneakers For Men</td>\n",
       "    </tr>\n",
       "    <tr>\n",
       "      <th>3</th>\n",
       "      <td>Numenzo</td>\n",
       "      <td>₹398</td>\n",
       "      <td>60% off</td>\n",
       "      <td>Sneakers For Men</td>\n",
       "    </tr>\n",
       "    <tr>\n",
       "      <th>4</th>\n",
       "      <td>HOTSTYLE</td>\n",
       "      <td>₹283</td>\n",
       "      <td>43% off</td>\n",
       "      <td>Sneakers Sneakers For Men</td>\n",
       "    </tr>\n",
       "    <tr>\n",
       "      <th>...</th>\n",
       "      <td>...</td>\n",
       "      <td>...</td>\n",
       "      <td>...</td>\n",
       "      <td>...</td>\n",
       "    </tr>\n",
       "    <tr>\n",
       "      <th>95</th>\n",
       "      <td>PUMA</td>\n",
       "      <td>₹1,574</td>\n",
       "      <td>68% off</td>\n",
       "      <td>Sneakers For Men</td>\n",
       "    </tr>\n",
       "    <tr>\n",
       "      <th>96</th>\n",
       "      <td>Layasa</td>\n",
       "      <td>₹313</td>\n",
       "      <td>62% off</td>\n",
       "      <td>Combo Pack of 2 Casual Shoes Sneakers For Men</td>\n",
       "    </tr>\n",
       "    <tr>\n",
       "      <th>97</th>\n",
       "      <td>Adies</td>\n",
       "      <td>₹375</td>\n",
       "      <td>66% off</td>\n",
       "      <td>Basic 2.0 Sneakers For Men</td>\n",
       "    </tr>\n",
       "    <tr>\n",
       "      <th>98</th>\n",
       "      <td>Nilatin</td>\n",
       "      <td>₹429</td>\n",
       "      <td>52% off</td>\n",
       "      <td>Sneakers For Men</td>\n",
       "    </tr>\n",
       "    <tr>\n",
       "      <th>99</th>\n",
       "      <td>Black Cooper</td>\n",
       "      <td>₹474</td>\n",
       "      <td>76% off</td>\n",
       "      <td>Sneakers For Men</td>\n",
       "    </tr>\n",
       "  </tbody>\n",
       "</table>\n",
       "<p>100 rows × 4 columns</p>\n",
       "</div>"
      ],
      "text/plain": [
       "      Brand Name   Price Discount  \\\n",
       "0      Deals4you    ₹449  55% off   \n",
       "1         LEVI'S  ₹1,499  50% off   \n",
       "2   Robbie jones    ₹379  62% off   \n",
       "3        Numenzo    ₹398  60% off   \n",
       "4       HOTSTYLE    ₹283  43% off   \n",
       "..           ...     ...      ...   \n",
       "95          PUMA  ₹1,574  68% off   \n",
       "96        Layasa    ₹313  62% off   \n",
       "97         Adies    ₹375  66% off   \n",
       "98       Nilatin    ₹429  52% off   \n",
       "99  Black Cooper    ₹474  76% off   \n",
       "\n",
       "                                       Description  \n",
       "0                                 Sneakers For Men  \n",
       "1                       Basic 2.0 Sneakers For Men  \n",
       "2   Casual Sneakers Shoes For Men Sneakers For Men  \n",
       "3                                 Sneakers For Men  \n",
       "4                        Sneakers Sneakers For Men  \n",
       "..                                             ...  \n",
       "95                                Sneakers For Men  \n",
       "96   Combo Pack of 2 Casual Shoes Sneakers For Men  \n",
       "97                      Basic 2.0 Sneakers For Men  \n",
       "98                                Sneakers For Men  \n",
       "99                                Sneakers For Men  \n",
       "\n",
       "[100 rows x 4 columns]"
      ]
     },
     "execution_count": 569,
     "metadata": {},
     "output_type": "execute_result"
    }
   ],
   "source": [
    "Sneakers"
   ]
  },
  {
   "cell_type": "code",
   "execution_count": 600,
   "metadata": {},
   "outputs": [],
   "source": [
    "#Completed"
   ]
  },
  {
   "cell_type": "markdown",
   "metadata": {},
   "source": [
    "# Question number 9"
   ]
  },
  {
   "cell_type": "markdown",
   "metadata": {},
   "source": [
    "Ques.Set Price filter to “Rs. 6649 to Rs. 13099” , Color filter to “Black”.\n",
    "\n",
    "And then scrape First 100 shoes data you get. The data should include “Brand” of the shoes , Short Shoe description, price of the shoe\n"
   ]
  },
  {
   "cell_type": "code",
   "execution_count": 17,
   "metadata": {},
   "outputs": [],
   "source": [
    "urlQ9 = \"https://www.myntra.com/shoes\""
   ]
  },
  {
   "cell_type": "code",
   "execution_count": 18,
   "metadata": {},
   "outputs": [],
   "source": [
    "drivers.get(urlQ9)"
   ]
  },
  {
   "cell_type": "code",
   "execution_count": 19,
   "metadata": {},
   "outputs": [],
   "source": [
    "Brand_shoe1 = drivers.find_elements_by_xpath(\"//h3[@class='product-brand']\")\n",
    "Short_shoe_desc1 = drivers.find_elements_by_xpath(\"//h4[@class = 'product-product']\")\n",
    "Price_of_the_shoe1 = drivers.find_elements_by_xpath(\"//div[@class = 'product-price']//span[1]\")"
   ]
  },
  {
   "cell_type": "code",
   "execution_count": 20,
   "metadata": {},
   "outputs": [],
   "source": [
    "Brand_shoe = []\n",
    "for i in Brand_shoe1:\n",
    "    Brand_shoe.append(i.text)"
   ]
  },
  {
   "cell_type": "code",
   "execution_count": 21,
   "metadata": {},
   "outputs": [
    {
     "data": {
      "text/plain": [
       "['ALDO',\n",
       " 'Nike',\n",
       " 'Nike',\n",
       " 'Nike',\n",
       " 'Nike',\n",
       " 'Nike',\n",
       " 'ALDO',\n",
       " 'Nike',\n",
       " 'Nike',\n",
       " 'UNDER ARMOUR',\n",
       " 'Puma',\n",
       " 'Puma',\n",
       " 'UNDER ARMOUR',\n",
       " 'UNDER ARMOUR',\n",
       " 'Puma',\n",
       " 'Puma',\n",
       " 'Hush Puppies',\n",
       " 'UNDER ARMOUR',\n",
       " 'Puma',\n",
       " 'Puma',\n",
       " 'ADIDAS Originals',\n",
       " 'Puma',\n",
       " 'UNDER ARMOUR',\n",
       " 'UNDER ARMOUR',\n",
       " 'FILA',\n",
       " 'Onitsuka Tiger',\n",
       " 'Nike',\n",
       " 'Skechers',\n",
       " 'Hush Puppies',\n",
       " 'Hush Puppies',\n",
       " 'UNDER ARMOUR',\n",
       " 'Puma',\n",
       " 'Ruosh',\n",
       " 'Puma',\n",
       " 'Heel & Buckle London',\n",
       " 'UNDER ARMOUR',\n",
       " 'UNDER ARMOUR',\n",
       " 'Ruosh',\n",
       " 'UNDER ARMOUR',\n",
       " 'Saint G',\n",
       " 'Puma',\n",
       " 'Ruosh',\n",
       " 'Cole Haan',\n",
       " 'Reebok',\n",
       " 'UNDER ARMOUR',\n",
       " 'Saint G',\n",
       " 'Geox',\n",
       " 'Geox',\n",
       " 'Bugatti',\n",
       " 'Heel & Buckle London']"
      ]
     },
     "execution_count": 21,
     "metadata": {},
     "output_type": "execute_result"
    }
   ],
   "source": [
    "Brand_shoe"
   ]
  },
  {
   "cell_type": "code",
   "execution_count": 22,
   "metadata": {},
   "outputs": [],
   "source": [
    "Short_shoe_desc = []\n",
    "for i in Short_shoe_desc1:\n",
    "    Short_shoe_desc.append(i.text)"
   ]
  },
  {
   "cell_type": "code",
   "execution_count": 23,
   "metadata": {},
   "outputs": [
    {
     "data": {
      "text/plain": [
       "['Men Textured Sneakers',\n",
       " 'Men JORDAN DELTA Basketball',\n",
       " 'Men AIR ZOOM Running Shoes',\n",
       " 'Men JOYRIDE Running Shoes',\n",
       " 'Women REACT Running Shoes',\n",
       " 'AIR ZOOM PEGASUS Running Shoes',\n",
       " 'Men Sneakers',\n",
       " 'Men KD13 EP Basketball Shoes',\n",
       " 'Women PEGASUS 37 Running Shoes',\n",
       " 'Men Liquify Running Shoes',\n",
       " 'Men Velocity Nitro Running',\n",
       " 'Men SPEED 500 2 Running Shoes',\n",
       " 'Charged Rogue 2 Wide 2E Shoes',\n",
       " 'HOVR Sonic 3 Running Shoes',\n",
       " 'Women Liberate Nitro Running',\n",
       " 'Unisex RS-FAST TECH Sneakers',\n",
       " 'Men Solid Leather Formal Slip-Ons',\n",
       " 'Charged Impulse Running Shoes',\n",
       " 'Men UltraRide Running Shoes',\n",
       " 'Women Provoke XT Training',\n",
       " 'Men Nite Jogger Fluid Sneakers',\n",
       " 'Women Eternity Nitro Running',\n",
       " 'HOVR Infinite 2 Running Shoes',\n",
       " 'Women Liquify Rebel Running',\n",
       " 'Men Running Shoes',\n",
       " 'Unisex Mexico 66 Paraty Sneakers',\n",
       " 'Men JORDAN DELTA Sneakers',\n",
       " \"Women D'LITES 3.0 Sneakers\",\n",
       " 'Men Solid Leather Formal Derbys',\n",
       " 'Men Formal Derbys',\n",
       " 'Women Charged Breathe OIL SLK',\n",
       " 'Future Rider Twofold Sneakers',\n",
       " 'Men Solid Leather Formal Derbys',\n",
       " 'Unisex RS-X Pop Sneakers',\n",
       " 'Men Leather Formal Oxfords',\n",
       " 'Women TriBase Reign 2 Training',\n",
       " 'Women HOVR Rise 2 Training',\n",
       " 'Men Leather Formal Brogues',\n",
       " 'HOVR Sonic 3 Running Shoes',\n",
       " 'Men Leather Chelsea Boots',\n",
       " 'Men FUTURE Z 3.1Football Shoes',\n",
       " 'Men Formal Brogues',\n",
       " 'Women Woven Design Sneakers',\n",
       " 'Forever Floatride Energy 2',\n",
       " 'Unisex SC 3ZER0 IV Basketball',\n",
       " 'Men Textured Leather Formal Loafers',\n",
       " 'Men Leather Driving Shoes',\n",
       " 'Men Leather Driving Shoes',\n",
       " 'Women Mules',\n",
       " 'Men Leather Sneakers']"
      ]
     },
     "execution_count": 23,
     "metadata": {},
     "output_type": "execute_result"
    }
   ],
   "source": [
    "Short_shoe_desc"
   ]
  },
  {
   "cell_type": "code",
   "execution_count": 24,
   "metadata": {},
   "outputs": [],
   "source": [
    "Price_of_the_shoe = []\n",
    "for i in Price_of_the_shoe1:\n",
    "    Price_of_the_shoe.append(i.text)"
   ]
  },
  {
   "cell_type": "code",
   "execution_count": 25,
   "metadata": {},
   "outputs": [
    {
     "data": {
      "text/plain": [
       "['Rs. 7199Rs. 8999',\n",
       " 'Rs. 7199',\n",
       " 'Rs. 12495',\n",
       " 'Rs. 7721Rs. 10295',\n",
       " 'Rs. 7721',\n",
       " 'Rs. 11246Rs. 14995',\n",
       " 'Rs. 11246',\n",
       " 'Rs. 8396Rs. 11995',\n",
       " 'Rs. 8396',\n",
       " 'Rs. 11495',\n",
       " 'Rs. 9999',\n",
       " 'Rs. 12995',\n",
       " 'Rs. 7496Rs. 9995',\n",
       " 'Rs. 7496',\n",
       " 'Rs. 8799Rs. 10999',\n",
       " 'Rs. 8799',\n",
       " 'Rs. 10999',\n",
       " 'Rs. 6999Rs. 9999',\n",
       " 'Rs. 6999',\n",
       " 'Rs. 7999',\n",
       " 'Rs. 10999',\n",
       " 'Rs. 7999Rs. 9999',\n",
       " 'Rs. 7999',\n",
       " 'Rs. 9999',\n",
       " 'Rs. 8999',\n",
       " 'Rs. 7999',\n",
       " 'Rs. 7649Rs. 8999',\n",
       " 'Rs. 7649',\n",
       " 'Rs. 7999',\n",
       " 'Rs. 8449Rs. 12999',\n",
       " 'Rs. 8449',\n",
       " 'Rs. 12999',\n",
       " 'Rs. 11999',\n",
       " 'Rs. 7199Rs. 8999',\n",
       " 'Rs. 7199',\n",
       " 'Rs. 8499',\n",
       " 'Rs. 6999',\n",
       " 'Rs. 10995',\n",
       " 'Rs. 6999',\n",
       " 'Rs. 9999',\n",
       " 'Rs. 9999',\n",
       " 'Rs. 7199Rs. 8999',\n",
       " 'Rs. 7199',\n",
       " 'Rs. 6999',\n",
       " 'Rs. 8990',\n",
       " 'Rs. 8499Rs. 9999',\n",
       " 'Rs. 8499',\n",
       " 'Rs. 7693Rs. 10990',\n",
       " 'Rs. 7693',\n",
       " 'Rs. 9599Rs. 11999',\n",
       " 'Rs. 9599',\n",
       " 'Rs. 7999Rs. 9999',\n",
       " 'Rs. 7999',\n",
       " 'Rs. 6990',\n",
       " 'Rs. 8799Rs. 10999',\n",
       " 'Rs. 8799',\n",
       " 'Rs. 11305Rs. 11900',\n",
       " 'Rs. 11305',\n",
       " 'Rs. 7199Rs. 7999',\n",
       " 'Rs. 7199',\n",
       " 'Rs. 6990',\n",
       " 'Rs. 6749Rs. 14999',\n",
       " 'Rs. 6749',\n",
       " 'Rs. 9999',\n",
       " 'Rs. 8999',\n",
       " 'Rs. 9975Rs. 10500',\n",
       " 'Rs. 9975',\n",
       " 'Rs. 7499Rs. 9999',\n",
       " 'Rs. 7499',\n",
       " 'Rs. 9499',\n",
       " 'Rs. 7499',\n",
       " 'Rs. 6993Rs. 9990',\n",
       " 'Rs. 6993']"
      ]
     },
     "execution_count": 25,
     "metadata": {},
     "output_type": "execute_result"
    }
   ],
   "source": [
    "Price_of_the_shoe"
   ]
  },
  {
   "cell_type": "code",
   "execution_count": 27,
   "metadata": {},
   "outputs": [],
   "source": [
    "urls = []\n",
    "urls1 = []\n",
    "import time\n",
    "\n",
    "urls = drivers.find_elements_by_xpath(\"//li[@class='pagination-number']//a\")\n",
    "\n",
    "for j in urls[0:2]:\n",
    "    urls1.append(j.get_attribute(\"href\"))\n",
    "\n",
    "for i in urls1:\n",
    "\n",
    "    \n",
    "    drivers.get(i)\n",
    "    \n",
    "    \n",
    "    #for scrapping the short review\n",
    "\n",
    "    for k in drivers.find_elements_by_xpath(\"//h3[@class='product-brand']\"):\n",
    "\n",
    "        Brand_shoe.append(k.text)\n",
    "    for l in drivers.find_elements_by_xpath(\"//h4[@class = 'product-product']\"):\n",
    "        Short_shoe_desc.append(l.text)\n",
    "    for m in drivers.find_elements_by_xpath(\"//span[@class = 'product-discountedPrice']\"):\n",
    "        Price_of_the_shoe.append(m.text)\n",
    "    time.sleep(10)"
   ]
  },
  {
   "cell_type": "code",
   "execution_count": 28,
   "metadata": {},
   "outputs": [
    {
     "data": {
      "text/plain": [
       "['ALDO',\n",
       " 'Nike',\n",
       " 'Nike',\n",
       " 'Nike',\n",
       " 'Nike',\n",
       " 'Nike',\n",
       " 'ALDO',\n",
       " 'Nike',\n",
       " 'Nike',\n",
       " 'UNDER ARMOUR',\n",
       " 'Puma',\n",
       " 'Puma',\n",
       " 'UNDER ARMOUR',\n",
       " 'UNDER ARMOUR',\n",
       " 'Puma',\n",
       " 'Puma',\n",
       " 'Hush Puppies',\n",
       " 'UNDER ARMOUR',\n",
       " 'Puma',\n",
       " 'Puma',\n",
       " 'ADIDAS Originals',\n",
       " 'Puma',\n",
       " 'UNDER ARMOUR',\n",
       " 'UNDER ARMOUR',\n",
       " 'FILA',\n",
       " 'Onitsuka Tiger',\n",
       " 'Nike',\n",
       " 'Skechers',\n",
       " 'Hush Puppies',\n",
       " 'Hush Puppies',\n",
       " 'UNDER ARMOUR',\n",
       " 'Puma',\n",
       " 'Ruosh',\n",
       " 'Puma',\n",
       " 'Heel & Buckle London',\n",
       " 'UNDER ARMOUR',\n",
       " 'UNDER ARMOUR',\n",
       " 'Ruosh',\n",
       " 'UNDER ARMOUR',\n",
       " 'Saint G',\n",
       " 'Puma',\n",
       " 'Ruosh',\n",
       " 'Cole Haan',\n",
       " 'Reebok',\n",
       " 'UNDER ARMOUR',\n",
       " 'Saint G',\n",
       " 'Geox',\n",
       " 'Geox',\n",
       " 'Bugatti',\n",
       " 'Heel & Buckle London',\n",
       " 'Cole Haan',\n",
       " 'Cole Haan',\n",
       " 'Cole Haan',\n",
       " 'Ruosh',\n",
       " 'Cole Haan',\n",
       " 'Bugatti',\n",
       " 'Ruosh',\n",
       " 'FILA',\n",
       " 'ALDO',\n",
       " 'Ruosh',\n",
       " 'Puma',\n",
       " 'one8 x PUMA',\n",
       " 'Reebok',\n",
       " 'VIONIC',\n",
       " 'Nike',\n",
       " 'Heel & Buckle London',\n",
       " 'Geox',\n",
       " 'Heel & Buckle London',\n",
       " 'Saint G',\n",
       " 'Saint G',\n",
       " 'Cole Haan',\n",
       " 'Geox',\n",
       " 'Heel & Buckle London',\n",
       " 'Saint G',\n",
       " 'Nike',\n",
       " 'ALDO',\n",
       " 'Cole Haan',\n",
       " 'Nike',\n",
       " 'Nike',\n",
       " 'UNDER ARMOUR',\n",
       " 'Geox',\n",
       " 'ALDO',\n",
       " 'Heel & Buckle London',\n",
       " 'Geox',\n",
       " 'UNDER ARMOUR',\n",
       " 'Cole Haan',\n",
       " 'Geox',\n",
       " 'Geox',\n",
       " 'Ruosh',\n",
       " 'Ruosh',\n",
       " 'Geox',\n",
       " 'Geox',\n",
       " 'Reebok',\n",
       " 'Florsheim',\n",
       " 'Nike',\n",
       " 'Reebok',\n",
       " 'Florsheim',\n",
       " 'FILA',\n",
       " 'Kenneth Cole',\n",
       " 'Nike',\n",
       " 'Nike',\n",
       " 'Heel & Buckle London',\n",
       " 'Cole Haan',\n",
       " 'Cole Haan',\n",
       " 'Cole Haan',\n",
       " 'Cole Haan',\n",
       " 'Ruosh',\n",
       " 'FILA',\n",
       " 'Ruosh',\n",
       " 'Puma',\n",
       " 'one8 x PUMA',\n",
       " 'Reebok',\n",
       " 'VIONIC',\n",
       " 'ALDO',\n",
       " 'Heel & Buckle London',\n",
       " 'Geox',\n",
       " 'Heel & Buckle London',\n",
       " 'Saint G',\n",
       " 'Saint G',\n",
       " 'ALDO',\n",
       " 'Cole Haan',\n",
       " 'Geox',\n",
       " 'Heel & Buckle London',\n",
       " 'ALDO',\n",
       " 'Saint G',\n",
       " 'Nike',\n",
       " 'Cole Haan',\n",
       " 'Nike',\n",
       " 'Nike',\n",
       " 'UNDER ARMOUR',\n",
       " 'Geox',\n",
       " 'Heel & Buckle London',\n",
       " 'UNDER ARMOUR',\n",
       " 'Geox',\n",
       " 'Cole Haan',\n",
       " 'Geox',\n",
       " 'Geox',\n",
       " 'Ruosh',\n",
       " 'Ruosh',\n",
       " 'Geox',\n",
       " 'Geox',\n",
       " 'Reebok',\n",
       " 'Florsheim',\n",
       " 'Nike',\n",
       " 'Florsheim',\n",
       " 'Reebok',\n",
       " 'FILA',\n",
       " 'Kenneth Cole',\n",
       " 'Nike',\n",
       " 'UNDER ARMOUR',\n",
       " 'Nike',\n",
       " 'UNDER ARMOUR',\n",
       " 'Nike',\n",
       " 'Saint G',\n",
       " 'ADIDAS',\n",
       " 'ALDO',\n",
       " 'Bugatti',\n",
       " 'Bugatti',\n",
       " 'Nike',\n",
       " 'UNDER ARMOUR',\n",
       " 'UNDER ARMOUR',\n",
       " 'Cole Haan',\n",
       " 'Puma',\n",
       " 'Heel & Buckle London',\n",
       " 'Hush Puppies',\n",
       " 'UNDER ARMOUR',\n",
       " 'Puma',\n",
       " 'ALDO',\n",
       " 'Nike',\n",
       " 'Heel & Buckle London',\n",
       " 'ASICS',\n",
       " 'ADIDAS',\n",
       " 'ROSSO BRUNELLO',\n",
       " 'DAVINCHI',\n",
       " 'Geox',\n",
       " 'Puma',\n",
       " 'Nike',\n",
       " 'Nike',\n",
       " 'ADIDAS',\n",
       " 'ADIDAS',\n",
       " 'Onitsuka Tiger',\n",
       " 'ROSSO BRUNELLO',\n",
       " 'ALDO',\n",
       " 'ALDO',\n",
       " 'ALDO',\n",
       " 'ROSSO BRUNELLO',\n",
       " 'Saint G',\n",
       " 'UNDER ARMOUR',\n",
       " 'ROSSO BRUNELLO',\n",
       " 'ALDO',\n",
       " 'Puma',\n",
       " 'ALDO',\n",
       " 'ALDO',\n",
       " 'ALDO',\n",
       " 'Puma',\n",
       " 'UNDER ARMOUR',\n",
       " 'ALDO',\n",
       " 'ROSSO BRUNELLO',\n",
       " 'Puma',\n",
       " 'ROSSO BRUNELLO']"
      ]
     },
     "execution_count": 28,
     "metadata": {},
     "output_type": "execute_result"
    }
   ],
   "source": [
    "Brand_shoe"
   ]
  },
  {
   "cell_type": "code",
   "execution_count": 29,
   "metadata": {},
   "outputs": [
    {
     "data": {
      "text/plain": [
       "200"
      ]
     },
     "execution_count": 29,
     "metadata": {},
     "output_type": "execute_result"
    }
   ],
   "source": [
    "np.count_nonzero(Brand_shoe)"
   ]
  },
  {
   "cell_type": "code",
   "execution_count": 30,
   "metadata": {},
   "outputs": [
    {
     "data": {
      "text/plain": [
       "['Men Textured Sneakers',\n",
       " 'Men JORDAN DELTA Basketball',\n",
       " 'Men AIR ZOOM Running Shoes',\n",
       " 'Men JOYRIDE Running Shoes',\n",
       " 'Women REACT Running Shoes',\n",
       " 'AIR ZOOM PEGASUS Running Shoes',\n",
       " 'Men Sneakers',\n",
       " 'Men KD13 EP Basketball Shoes',\n",
       " 'Women PEGASUS 37 Running Shoes',\n",
       " 'Men Liquify Running Shoes',\n",
       " 'Men Velocity Nitro Running',\n",
       " 'Men SPEED 500 2 Running Shoes',\n",
       " 'Charged Rogue 2 Wide 2E Shoes',\n",
       " 'HOVR Sonic 3 Running Shoes',\n",
       " 'Women Liberate Nitro Running',\n",
       " 'Unisex RS-FAST TECH Sneakers',\n",
       " 'Men Solid Leather Formal Slip-Ons',\n",
       " 'Charged Impulse Running Shoes',\n",
       " 'Men UltraRide Running Shoes',\n",
       " 'Women Provoke XT Training',\n",
       " 'Men Nite Jogger Fluid Sneakers',\n",
       " 'Women Eternity Nitro Running',\n",
       " 'HOVR Infinite 2 Running Shoes',\n",
       " 'Women Liquify Rebel Running',\n",
       " 'Men Running Shoes',\n",
       " 'Unisex Mexico 66 Paraty Sneakers',\n",
       " 'Men JORDAN DELTA Sneakers',\n",
       " \"Women D'LITES 3.0 Sneakers\",\n",
       " 'Men Solid Leather Formal Derbys',\n",
       " 'Men Formal Derbys',\n",
       " 'Women Charged Breathe OIL SLK',\n",
       " 'Future Rider Twofold Sneakers',\n",
       " 'Men Solid Leather Formal Derbys',\n",
       " 'Unisex RS-X Pop Sneakers',\n",
       " 'Men Leather Formal Oxfords',\n",
       " 'Women TriBase Reign 2 Training',\n",
       " 'Women HOVR Rise 2 Training',\n",
       " 'Men Leather Formal Brogues',\n",
       " 'HOVR Sonic 3 Running Shoes',\n",
       " 'Men Leather Chelsea Boots',\n",
       " 'Men FUTURE Z 3.1Football Shoes',\n",
       " 'Men Formal Brogues',\n",
       " 'Women Woven Design Sneakers',\n",
       " 'Forever Floatride Energy 2',\n",
       " 'Unisex SC 3ZER0 IV Basketball',\n",
       " 'Men Textured Leather Formal Loafers',\n",
       " 'Men Leather Driving Shoes',\n",
       " 'Men Leather Driving Shoes',\n",
       " 'Women Mules',\n",
       " 'Men Leather Sneakers',\n",
       " 'Men Wingtip Oxford Sneakers',\n",
       " 'Men GENERATION ZEROGRAND STITCHLITE',\n",
       " 'Leather Sneakers',\n",
       " 'Men Textured Derbys',\n",
       " 'Men Traveller Leather Penny Loafers',\n",
       " 'Women Mules',\n",
       " 'Men Colourblocked Oxfords',\n",
       " 'Men Solid Sneakers',\n",
       " 'Men Leather Pointed Toe Derby Formal Shoes',\n",
       " 'Men Textured Leather Monks',\n",
       " 'Men Liberate Nitro Running',\n",
       " 'Men Fuse One8 Training Shoes',\n",
       " 'Women Nanoflex Training Shoes',\n",
       " 'Men Textured Sneakers',\n",
       " 'Women AIR MAX VIVA Sneakers',\n",
       " 'Women Solid Leather Gladiators',\n",
       " 'Men Leather Formal Monks',\n",
       " 'Women Solid Leather Heels',\n",
       " 'Women Leather Heeled Boots',\n",
       " 'Women Heeled Boots',\n",
       " 'Women Open Toe Flats',\n",
       " 'Women Leather Solid Pumps',\n",
       " 'Women Peep Toe Heels',\n",
       " 'Women Leather Heeled Boots',\n",
       " 'Men AIR ZOOM PEGASUS 38 Run',\n",
       " 'Women Sneakers',\n",
       " 'Women Solid Leather Ballerinas',\n",
       " 'Men REACT INFINITY RUN Shoes',\n",
       " 'Men AIR ZOOM PEGASUS 38 Run',\n",
       " 'Men Charged Bandit 6 Running',\n",
       " 'Women Leather Boat Shoes',\n",
       " 'Women Open Toe Flats',\n",
       " 'Women Leather Pumps',\n",
       " 'Women Solid Flatforms',\n",
       " 'Charged RC Sportstyle Sneakers',\n",
       " 'Women Sandals',\n",
       " 'Men Leather Formal Derbys',\n",
       " 'Men Leather Formal Slip-Ons',\n",
       " 'Men Solid Leather Formal Slip-Ons',\n",
       " 'Men Solid Leather Formal Monks',\n",
       " 'Men Leather Formal Oxfords',\n",
       " 'Men Leather Formal Oxfords',\n",
       " 'Unisex Zig Kinetica II Running',\n",
       " 'Men Solid Leather Formal Loafers',\n",
       " 'Men REACT MILER 2 Running',\n",
       " 'Men Nano X1 Training Shoes',\n",
       " 'Men Solid Leather Formal Derbys',\n",
       " 'Women Solid Sneakers',\n",
       " 'Women Solid Flat Boots',\n",
       " 'Men Solid SKYVE MAX Sneakers',\n",
       " 'Women AIR MAX VIVA Sneakers',\n",
       " 'Men Leather Sneakers',\n",
       " 'Men Wingtip Oxford Sneakers',\n",
       " 'Men GENERATION ZEROGRAND STITCHLITE',\n",
       " 'Leather Sneakers',\n",
       " 'Men Traveller Leather Penny Loafers',\n",
       " 'Men Colourblocked Oxfords',\n",
       " 'Men Solid Sneakers',\n",
       " 'Men Textured Leather Monks',\n",
       " 'Men Liberate Nitro Running',\n",
       " 'Men Fuse One8 Training Shoes',\n",
       " 'Women Nanoflex Training Shoes',\n",
       " 'Men Textured Sneakers',\n",
       " 'Women Sneakers',\n",
       " 'Women Solid Leather Gladiators',\n",
       " 'Men Leather Formal Monks',\n",
       " 'Women Solid Leather Heels',\n",
       " 'Women Heeled Boots',\n",
       " 'Women Leather Heeled Boots',\n",
       " 'Women Open Toe Flats',\n",
       " 'Women Open Toe Flats',\n",
       " 'Women Leather Solid Pumps',\n",
       " 'Women Peep Toe Heels',\n",
       " 'Men Leather Pointed Toe Derby Formal Shoes',\n",
       " 'Women Leather Heeled Boots',\n",
       " 'Men AIR ZOOM PEGASUS 38 Run',\n",
       " 'Women Solid Leather Ballerinas',\n",
       " 'Men REACT INFINITY RUN Shoes',\n",
       " 'Men AIR ZOOM PEGASUS 38 Run',\n",
       " 'Men Charged Bandit 6 Running',\n",
       " 'Women Leather Boat Shoes',\n",
       " 'Women Leather Pumps',\n",
       " 'Charged RC Sportstyle Sneakers',\n",
       " 'Women Solid Flatforms',\n",
       " 'Women Sandals',\n",
       " 'Men Leather Formal Derbys',\n",
       " 'Men Leather Formal Slip-Ons',\n",
       " 'Men Solid Leather Formal Slip-Ons',\n",
       " 'Men Solid Leather Formal Monks',\n",
       " 'Men Leather Formal Oxfords',\n",
       " 'Men Leather Formal Oxfords',\n",
       " 'Unisex Zig Kinetica II Running',\n",
       " 'Men Solid Leather Formal Loafers',\n",
       " 'Men REACT MILER 2 Running',\n",
       " 'Men Solid Leather Formal Derbys',\n",
       " 'Men Nano X1 Training Shoes',\n",
       " 'Women Solid Sneakers',\n",
       " 'Women Solid Flat Boots',\n",
       " 'Men Solid SKYVE MAX Sneakers',\n",
       " 'Charged Pursuit 2 Running',\n",
       " 'Men Solid SKYVE MAX Sneakers',\n",
       " 'Charged Pursuit 2 Running',\n",
       " 'Unisex Basketball Shoes',\n",
       " 'Leather Heeled Boots',\n",
       " 'Men Supernova Running Shoes',\n",
       " 'Women Black Sneakers',\n",
       " 'Women Black Sneakers',\n",
       " 'Women Mid-Top Sneakers',\n",
       " 'Men PG 5 EP Basketball Shoes',\n",
       " 'Men Charged Impulse Running',\n",
       " 'Men HOVR Rise 2 Training Shoes',\n",
       " 'Women Leather Sneakers',\n",
       " 'Men UltraRide Running Shoes',\n",
       " 'Men Solid Leather Formal Penny Loafers',\n",
       " 'Men Leather Formal Derbys',\n",
       " 'Charged Intake 4 Running Shoes',\n",
       " 'Calibrate Restored Sneakers',\n",
       " 'Men Solid Loafers',\n",
       " 'Men REACT MILER 2 Running',\n",
       " 'Men Solid Leather Formal Monk Shoes',\n",
       " 'Men EvoRide TOKYO Shoes',\n",
       " 'Men Supernova Running Shoes',\n",
       " 'Men Solid Leather Formal Slip-Ons',\n",
       " 'Men Textured Formal Leather Loafers',\n",
       " 'Men Leather Loafers',\n",
       " 'Unisex RS-Fast Sneakers',\n",
       " 'Men REACT MILER PRM Running',\n",
       " 'Unisex TREY 5 Basketball Shoes',\n",
       " 'Men Supernova Running Shoes',\n",
       " 'Men X9000L3 Heat.RDY Running',\n",
       " 'Unisex Solid Sneakers',\n",
       " 'Men Solid Leather Formal Loafers',\n",
       " 'Men Leather Driving Shoes',\n",
       " 'Men Solid Driving Shoes',\n",
       " 'Men Solid Loafers',\n",
       " 'Men Solid Leather Formal Loafers',\n",
       " 'Women Textured Leather Heels',\n",
       " 'Men Charged Engage Training',\n",
       " 'Men Solid Monk Shoes',\n",
       " 'Men Solid Leather Formal Derbys',\n",
       " 'Men ONE 1 IL Football Shoes',\n",
       " 'Women Sandals',\n",
       " 'Men Sneakers',\n",
       " 'Men Solid Leather Formal Oxfords',\n",
       " 'Men Speed 300 Ignite 2 Running',\n",
       " 'Women HOVR Infinite 2 Running',\n",
       " 'Women Woven Design Pumps',\n",
       " 'Men Solid Leather Formal Oxfords',\n",
       " 'Future Rider Peanuts Sneakers',\n",
       " 'Men Solid Leather Formal Loafers']"
      ]
     },
     "execution_count": 30,
     "metadata": {},
     "output_type": "execute_result"
    }
   ],
   "source": [
    "Short_shoe_desc"
   ]
  },
  {
   "cell_type": "code",
   "execution_count": 31,
   "metadata": {},
   "outputs": [
    {
     "data": {
      "text/plain": [
       "200"
      ]
     },
     "execution_count": 31,
     "metadata": {},
     "output_type": "execute_result"
    }
   ],
   "source": [
    "np.count_nonzero(Short_shoe_desc)"
   ]
  },
  {
   "cell_type": "code",
   "execution_count": 32,
   "metadata": {},
   "outputs": [
    {
     "data": {
      "text/plain": [
       "['Rs. 7199Rs. 8999',\n",
       " 'Rs. 7199',\n",
       " 'Rs. 12495',\n",
       " 'Rs. 7721Rs. 10295',\n",
       " 'Rs. 7721',\n",
       " 'Rs. 11246Rs. 14995',\n",
       " 'Rs. 11246',\n",
       " 'Rs. 8396Rs. 11995',\n",
       " 'Rs. 8396',\n",
       " 'Rs. 11495',\n",
       " 'Rs. 9999',\n",
       " 'Rs. 12995',\n",
       " 'Rs. 7496Rs. 9995',\n",
       " 'Rs. 7496',\n",
       " 'Rs. 8799Rs. 10999',\n",
       " 'Rs. 8799',\n",
       " 'Rs. 10999',\n",
       " 'Rs. 6999Rs. 9999',\n",
       " 'Rs. 6999',\n",
       " 'Rs. 7999',\n",
       " 'Rs. 10999',\n",
       " 'Rs. 7999Rs. 9999',\n",
       " 'Rs. 7999',\n",
       " 'Rs. 9999',\n",
       " 'Rs. 8999',\n",
       " 'Rs. 7999',\n",
       " 'Rs. 7649Rs. 8999',\n",
       " 'Rs. 7649',\n",
       " 'Rs. 7999',\n",
       " 'Rs. 8449Rs. 12999',\n",
       " 'Rs. 8449',\n",
       " 'Rs. 12999',\n",
       " 'Rs. 11999',\n",
       " 'Rs. 7199Rs. 8999',\n",
       " 'Rs. 7199',\n",
       " 'Rs. 8499',\n",
       " 'Rs. 6999',\n",
       " 'Rs. 10995',\n",
       " 'Rs. 6999',\n",
       " 'Rs. 9999',\n",
       " 'Rs. 9999',\n",
       " 'Rs. 7199Rs. 8999',\n",
       " 'Rs. 7199',\n",
       " 'Rs. 6999',\n",
       " 'Rs. 8990',\n",
       " 'Rs. 8499Rs. 9999',\n",
       " 'Rs. 8499',\n",
       " 'Rs. 7693Rs. 10990',\n",
       " 'Rs. 7693',\n",
       " 'Rs. 9599Rs. 11999',\n",
       " 'Rs. 9599',\n",
       " 'Rs. 7999Rs. 9999',\n",
       " 'Rs. 7999',\n",
       " 'Rs. 6990',\n",
       " 'Rs. 8799Rs. 10999',\n",
       " 'Rs. 8799',\n",
       " 'Rs. 11305Rs. 11900',\n",
       " 'Rs. 11305',\n",
       " 'Rs. 7199Rs. 7999',\n",
       " 'Rs. 7199',\n",
       " 'Rs. 6990',\n",
       " 'Rs. 6749Rs. 14999',\n",
       " 'Rs. 6749',\n",
       " 'Rs. 9999',\n",
       " 'Rs. 8999',\n",
       " 'Rs. 9975Rs. 10500',\n",
       " 'Rs. 9975',\n",
       " 'Rs. 7499Rs. 9999',\n",
       " 'Rs. 7499',\n",
       " 'Rs. 9499',\n",
       " 'Rs. 7499',\n",
       " 'Rs. 6993Rs. 9990',\n",
       " 'Rs. 6993',\n",
       " 'Rs. 9999',\n",
       " 'Rs. 7799',\n",
       " 'Rs. 7039',\n",
       " 'Rs. 6993',\n",
       " 'Rs. 11999',\n",
       " 'Rs. 6993',\n",
       " 'Rs. 6675',\n",
       " 'Rs. 7440',\n",
       " 'Rs. 8999',\n",
       " 'Rs. 8992',\n",
       " 'Rs. 7192',\n",
       " 'Rs. 8995',\n",
       " 'Rs. 10499',\n",
       " 'Rs. 12320',\n",
       " 'Rs. 8995',\n",
       " 'Rs. 7649',\n",
       " 'Rs. 7192',\n",
       " 'Rs. 6749',\n",
       " 'Rs. 6749',\n",
       " 'Rs. 11242',\n",
       " 'Rs. 9367',\n",
       " 'Rs. 7867',\n",
       " 'Rs. 9770',\n",
       " 'Rs. 7499',\n",
       " 'Rs. 9513',\n",
       " 'Rs. 6971',\n",
       " 'Rs. 6993',\n",
       " 'Rs. 9999',\n",
       " 'Rs. 7039',\n",
       " 'Rs. 6993',\n",
       " 'Rs. 11999',\n",
       " 'Rs. 6993',\n",
       " 'Rs. 7440',\n",
       " 'Rs. 6675',\n",
       " 'Rs. 8999',\n",
       " 'Rs. 8992',\n",
       " 'Rs. 7192',\n",
       " 'Rs. 7799',\n",
       " 'Rs. 8995',\n",
       " 'Rs. 10499',\n",
       " 'Rs. 12320',\n",
       " 'Rs. 8995',\n",
       " 'Rs. 7649',\n",
       " 'Rs. 7192',\n",
       " 'Rs. 6749',\n",
       " 'Rs. 6749',\n",
       " 'Rs. 11242',\n",
       " 'Rs. 9367',\n",
       " 'Rs. 7867',\n",
       " 'Rs. 9770',\n",
       " 'Rs. 7499',\n",
       " 'Rs. 9513',\n",
       " 'Rs. 6971',\n",
       " 'Rs. 6971',\n",
       " 'Rs. 6965',\n",
       " 'Rs. 7999',\n",
       " 'Rs. 7900',\n",
       " 'Rs. 6929',\n",
       " 'Rs. 8792',\n",
       " 'Rs. 11199',\n",
       " 'Rs. 9770',\n",
       " 'Rs. 7400',\n",
       " 'Rs. 7999',\n",
       " 'Rs. 7999',\n",
       " 'Rs. 10799',\n",
       " 'Rs. 8091',\n",
       " 'Rs. 7492',\n",
       " 'Rs. 9996',\n",
       " 'Rs. 6965',\n",
       " 'Rs. 7999',\n",
       " 'Rs. 9599',\n",
       " 'Rs. 10799',\n",
       " 'Rs. 7799',\n",
       " 'Rs. 10799',\n",
       " 'Rs. 7110',\n",
       " 'Rs. 10349',\n",
       " 'Rs. 9099',\n",
       " 'Rs. 11549',\n",
       " 'Rs. 7199',\n",
       " 'Rs. 6749',\n",
       " 'Rs. 7799',\n",
       " 'Rs. 10799',\n",
       " 'Rs. 8999']"
      ]
     },
     "execution_count": 32,
     "metadata": {},
     "output_type": "execute_result"
    }
   ],
   "source": [
    "Price_of_the_shoe"
   ]
  },
  {
   "cell_type": "code",
   "execution_count": 33,
   "metadata": {},
   "outputs": [
    {
     "data": {
      "text/plain": [
       "156"
      ]
     },
     "execution_count": 33,
     "metadata": {},
     "output_type": "execute_result"
    }
   ],
   "source": [
    "np.count_nonzero(Price_of_the_shoe)"
   ]
  },
  {
   "cell_type": "code",
   "execution_count": 36,
   "metadata": {},
   "outputs": [],
   "source": [
    "Price_of_the_shoe100 = Price_of_the_shoe[56:156]"
   ]
  },
  {
   "cell_type": "code",
   "execution_count": 37,
   "metadata": {},
   "outputs": [
    {
     "data": {
      "text/plain": [
       "100"
      ]
     },
     "execution_count": 37,
     "metadata": {},
     "output_type": "execute_result"
    }
   ],
   "source": [
    "np.count_nonzero(Price_of_the_shoe100)"
   ]
  },
  {
   "cell_type": "code",
   "execution_count": 38,
   "metadata": {},
   "outputs": [
    {
     "data": {
      "text/plain": [
       "['Rs. 11305Rs. 11900',\n",
       " 'Rs. 11305',\n",
       " 'Rs. 7199Rs. 7999',\n",
       " 'Rs. 7199',\n",
       " 'Rs. 6990',\n",
       " 'Rs. 6749Rs. 14999',\n",
       " 'Rs. 6749',\n",
       " 'Rs. 9999',\n",
       " 'Rs. 8999',\n",
       " 'Rs. 9975Rs. 10500',\n",
       " 'Rs. 9975',\n",
       " 'Rs. 7499Rs. 9999',\n",
       " 'Rs. 7499',\n",
       " 'Rs. 9499',\n",
       " 'Rs. 7499',\n",
       " 'Rs. 6993Rs. 9990',\n",
       " 'Rs. 6993',\n",
       " 'Rs. 9999',\n",
       " 'Rs. 7799',\n",
       " 'Rs. 7039',\n",
       " 'Rs. 6993',\n",
       " 'Rs. 11999',\n",
       " 'Rs. 6993',\n",
       " 'Rs. 6675',\n",
       " 'Rs. 7440',\n",
       " 'Rs. 8999',\n",
       " 'Rs. 8992',\n",
       " 'Rs. 7192',\n",
       " 'Rs. 8995',\n",
       " 'Rs. 10499',\n",
       " 'Rs. 12320',\n",
       " 'Rs. 8995',\n",
       " 'Rs. 7649',\n",
       " 'Rs. 7192',\n",
       " 'Rs. 6749',\n",
       " 'Rs. 6749',\n",
       " 'Rs. 11242',\n",
       " 'Rs. 9367',\n",
       " 'Rs. 7867',\n",
       " 'Rs. 9770',\n",
       " 'Rs. 7499',\n",
       " 'Rs. 9513',\n",
       " 'Rs. 6971',\n",
       " 'Rs. 6993',\n",
       " 'Rs. 9999',\n",
       " 'Rs. 7039',\n",
       " 'Rs. 6993',\n",
       " 'Rs. 11999',\n",
       " 'Rs. 6993',\n",
       " 'Rs. 7440',\n",
       " 'Rs. 6675',\n",
       " 'Rs. 8999',\n",
       " 'Rs. 8992',\n",
       " 'Rs. 7192',\n",
       " 'Rs. 7799',\n",
       " 'Rs. 8995',\n",
       " 'Rs. 10499',\n",
       " 'Rs. 12320',\n",
       " 'Rs. 8995',\n",
       " 'Rs. 7649',\n",
       " 'Rs. 7192',\n",
       " 'Rs. 6749',\n",
       " 'Rs. 6749',\n",
       " 'Rs. 11242',\n",
       " 'Rs. 9367',\n",
       " 'Rs. 7867',\n",
       " 'Rs. 9770',\n",
       " 'Rs. 7499',\n",
       " 'Rs. 9513',\n",
       " 'Rs. 6971',\n",
       " 'Rs. 6971',\n",
       " 'Rs. 6965',\n",
       " 'Rs. 7999',\n",
       " 'Rs. 7900',\n",
       " 'Rs. 6929',\n",
       " 'Rs. 8792',\n",
       " 'Rs. 11199',\n",
       " 'Rs. 9770',\n",
       " 'Rs. 7400',\n",
       " 'Rs. 7999',\n",
       " 'Rs. 7999',\n",
       " 'Rs. 10799',\n",
       " 'Rs. 8091',\n",
       " 'Rs. 7492',\n",
       " 'Rs. 9996',\n",
       " 'Rs. 6965',\n",
       " 'Rs. 7999',\n",
       " 'Rs. 9599',\n",
       " 'Rs. 10799',\n",
       " 'Rs. 7799',\n",
       " 'Rs. 10799',\n",
       " 'Rs. 7110',\n",
       " 'Rs. 10349',\n",
       " 'Rs. 9099',\n",
       " 'Rs. 11549',\n",
       " 'Rs. 7199',\n",
       " 'Rs. 6749',\n",
       " 'Rs. 7799',\n",
       " 'Rs. 10799',\n",
       " 'Rs. 8999']"
      ]
     },
     "execution_count": 38,
     "metadata": {},
     "output_type": "execute_result"
    }
   ],
   "source": [
    "Price_of_the_shoe100"
   ]
  },
  {
   "cell_type": "code",
   "execution_count": 41,
   "metadata": {},
   "outputs": [],
   "source": [
    "Price_of_the_shoe100[0] = Price_of_the_shoe100[0].replace('Rs. 11305Rs. 11900','Rs. 11305')"
   ]
  },
  {
   "cell_type": "code",
   "execution_count": 42,
   "metadata": {},
   "outputs": [],
   "source": [
    "Price_of_the_shoe100[2] = Price_of_the_shoe100[2].replace('Rs. 7199Rs. 7999','Rs. 7199')\n",
    "Price_of_the_shoe100[5] = Price_of_the_shoe100[5].replace('Rs. 6749Rs. 14999','Rs. 6749')\n",
    "Price_of_the_shoe100[9] = Price_of_the_shoe100[9].replace('Rs. 9975Rs. 10500','Rs. 9975')\n",
    "Price_of_the_shoe100[11] = Price_of_the_shoe100[11].replace('Rs. 7499Rs. 9999','Rs. 7499')\n",
    "Price_of_the_shoe100[15] = Price_of_the_shoe100[15].replace('Rs. 6993Rs. 9990','Rs. 6993')"
   ]
  },
  {
   "cell_type": "code",
   "execution_count": 43,
   "metadata": {},
   "outputs": [
    {
     "data": {
      "text/plain": [
       "['Rs. 11305',\n",
       " 'Rs. 11305',\n",
       " 'Rs. 7199',\n",
       " 'Rs. 7199',\n",
       " 'Rs. 6990',\n",
       " 'Rs. 6749',\n",
       " 'Rs. 6749',\n",
       " 'Rs. 9999',\n",
       " 'Rs. 8999',\n",
       " 'Rs. 9975',\n",
       " 'Rs. 9975',\n",
       " 'Rs. 7499',\n",
       " 'Rs. 7499',\n",
       " 'Rs. 9499',\n",
       " 'Rs. 7499',\n",
       " 'Rs. 6993',\n",
       " 'Rs. 6993',\n",
       " 'Rs. 9999',\n",
       " 'Rs. 7799',\n",
       " 'Rs. 7039',\n",
       " 'Rs. 6993',\n",
       " 'Rs. 11999',\n",
       " 'Rs. 6993',\n",
       " 'Rs. 6675',\n",
       " 'Rs. 7440',\n",
       " 'Rs. 8999',\n",
       " 'Rs. 8992',\n",
       " 'Rs. 7192',\n",
       " 'Rs. 8995',\n",
       " 'Rs. 10499',\n",
       " 'Rs. 12320',\n",
       " 'Rs. 8995',\n",
       " 'Rs. 7649',\n",
       " 'Rs. 7192',\n",
       " 'Rs. 6749',\n",
       " 'Rs. 6749',\n",
       " 'Rs. 11242',\n",
       " 'Rs. 9367',\n",
       " 'Rs. 7867',\n",
       " 'Rs. 9770',\n",
       " 'Rs. 7499',\n",
       " 'Rs. 9513',\n",
       " 'Rs. 6971',\n",
       " 'Rs. 6993',\n",
       " 'Rs. 9999',\n",
       " 'Rs. 7039',\n",
       " 'Rs. 6993',\n",
       " 'Rs. 11999',\n",
       " 'Rs. 6993',\n",
       " 'Rs. 7440',\n",
       " 'Rs. 6675',\n",
       " 'Rs. 8999',\n",
       " 'Rs. 8992',\n",
       " 'Rs. 7192',\n",
       " 'Rs. 7799',\n",
       " 'Rs. 8995',\n",
       " 'Rs. 10499',\n",
       " 'Rs. 12320',\n",
       " 'Rs. 8995',\n",
       " 'Rs. 7649',\n",
       " 'Rs. 7192',\n",
       " 'Rs. 6749',\n",
       " 'Rs. 6749',\n",
       " 'Rs. 11242',\n",
       " 'Rs. 9367',\n",
       " 'Rs. 7867',\n",
       " 'Rs. 9770',\n",
       " 'Rs. 7499',\n",
       " 'Rs. 9513',\n",
       " 'Rs. 6971',\n",
       " 'Rs. 6971',\n",
       " 'Rs. 6965',\n",
       " 'Rs. 7999',\n",
       " 'Rs. 7900',\n",
       " 'Rs. 6929',\n",
       " 'Rs. 8792',\n",
       " 'Rs. 11199',\n",
       " 'Rs. 9770',\n",
       " 'Rs. 7400',\n",
       " 'Rs. 7999',\n",
       " 'Rs. 7999',\n",
       " 'Rs. 10799',\n",
       " 'Rs. 8091',\n",
       " 'Rs. 7492',\n",
       " 'Rs. 9996',\n",
       " 'Rs. 6965',\n",
       " 'Rs. 7999',\n",
       " 'Rs. 9599',\n",
       " 'Rs. 10799',\n",
       " 'Rs. 7799',\n",
       " 'Rs. 10799',\n",
       " 'Rs. 7110',\n",
       " 'Rs. 10349',\n",
       " 'Rs. 9099',\n",
       " 'Rs. 11549',\n",
       " 'Rs. 7199',\n",
       " 'Rs. 6749',\n",
       " 'Rs. 7799',\n",
       " 'Rs. 10799',\n",
       " 'Rs. 8999']"
      ]
     },
     "execution_count": 43,
     "metadata": {},
     "output_type": "execute_result"
    }
   ],
   "source": [
    "Price_of_the_shoe100"
   ]
  },
  {
   "cell_type": "code",
   "execution_count": 44,
   "metadata": {},
   "outputs": [],
   "source": [
    "Brand_shoe100 = Brand_shoe[56:156]"
   ]
  },
  {
   "cell_type": "code",
   "execution_count": 45,
   "metadata": {},
   "outputs": [],
   "source": [
    "Short_shoe_desc100 = Short_shoe_desc[56:156]"
   ]
  },
  {
   "cell_type": "code",
   "execution_count": 46,
   "metadata": {},
   "outputs": [],
   "source": [
    "Shoe_Black = pd.DataFrame({})"
   ]
  },
  {
   "cell_type": "code",
   "execution_count": 47,
   "metadata": {},
   "outputs": [],
   "source": [
    "Shoe_Black[\"Brand\"] = Brand_shoe100\n",
    "Shoe_Black[\"Shoe Discription\"] = Short_shoe_desc100\n",
    "Shoe_Black[\"Price\"] = Price_of_the_shoe100"
   ]
  },
  {
   "cell_type": "code",
   "execution_count": 48,
   "metadata": {},
   "outputs": [
    {
     "data": {
      "text/html": [
       "<div>\n",
       "<style scoped>\n",
       "    .dataframe tbody tr th:only-of-type {\n",
       "        vertical-align: middle;\n",
       "    }\n",
       "\n",
       "    .dataframe tbody tr th {\n",
       "        vertical-align: top;\n",
       "    }\n",
       "\n",
       "    .dataframe thead th {\n",
       "        text-align: right;\n",
       "    }\n",
       "</style>\n",
       "<table border=\"1\" class=\"dataframe\">\n",
       "  <thead>\n",
       "    <tr style=\"text-align: right;\">\n",
       "      <th></th>\n",
       "      <th>Brand</th>\n",
       "      <th>Shoe Discription</th>\n",
       "      <th>Price</th>\n",
       "    </tr>\n",
       "  </thead>\n",
       "  <tbody>\n",
       "    <tr>\n",
       "      <th>0</th>\n",
       "      <td>Ruosh</td>\n",
       "      <td>Men Colourblocked Oxfords</td>\n",
       "      <td>Rs. 11305</td>\n",
       "    </tr>\n",
       "    <tr>\n",
       "      <th>1</th>\n",
       "      <td>FILA</td>\n",
       "      <td>Men Solid Sneakers</td>\n",
       "      <td>Rs. 11305</td>\n",
       "    </tr>\n",
       "    <tr>\n",
       "      <th>2</th>\n",
       "      <td>ALDO</td>\n",
       "      <td>Men Leather Pointed Toe Derby Formal Shoes</td>\n",
       "      <td>Rs. 7199</td>\n",
       "    </tr>\n",
       "    <tr>\n",
       "      <th>3</th>\n",
       "      <td>Ruosh</td>\n",
       "      <td>Men Textured Leather Monks</td>\n",
       "      <td>Rs. 7199</td>\n",
       "    </tr>\n",
       "    <tr>\n",
       "      <th>4</th>\n",
       "      <td>Puma</td>\n",
       "      <td>Men Liberate Nitro Running</td>\n",
       "      <td>Rs. 6990</td>\n",
       "    </tr>\n",
       "    <tr>\n",
       "      <th>...</th>\n",
       "      <td>...</td>\n",
       "      <td>...</td>\n",
       "      <td>...</td>\n",
       "    </tr>\n",
       "    <tr>\n",
       "      <th>95</th>\n",
       "      <td>UNDER ARMOUR</td>\n",
       "      <td>Charged Pursuit 2 Running</td>\n",
       "      <td>Rs. 7199</td>\n",
       "    </tr>\n",
       "    <tr>\n",
       "      <th>96</th>\n",
       "      <td>Nike</td>\n",
       "      <td>Unisex Basketball Shoes</td>\n",
       "      <td>Rs. 6749</td>\n",
       "    </tr>\n",
       "    <tr>\n",
       "      <th>97</th>\n",
       "      <td>Saint G</td>\n",
       "      <td>Leather Heeled Boots</td>\n",
       "      <td>Rs. 7799</td>\n",
       "    </tr>\n",
       "    <tr>\n",
       "      <th>98</th>\n",
       "      <td>ADIDAS</td>\n",
       "      <td>Men Supernova Running Shoes</td>\n",
       "      <td>Rs. 10799</td>\n",
       "    </tr>\n",
       "    <tr>\n",
       "      <th>99</th>\n",
       "      <td>ALDO</td>\n",
       "      <td>Women Black Sneakers</td>\n",
       "      <td>Rs. 8999</td>\n",
       "    </tr>\n",
       "  </tbody>\n",
       "</table>\n",
       "<p>100 rows × 3 columns</p>\n",
       "</div>"
      ],
      "text/plain": [
       "           Brand                            Shoe Discription      Price\n",
       "0          Ruosh                   Men Colourblocked Oxfords  Rs. 11305\n",
       "1           FILA                          Men Solid Sneakers  Rs. 11305\n",
       "2           ALDO  Men Leather Pointed Toe Derby Formal Shoes   Rs. 7199\n",
       "3          Ruosh                  Men Textured Leather Monks   Rs. 7199\n",
       "4           Puma                  Men Liberate Nitro Running   Rs. 6990\n",
       "..           ...                                         ...        ...\n",
       "95  UNDER ARMOUR                   Charged Pursuit 2 Running   Rs. 7199\n",
       "96          Nike                     Unisex Basketball Shoes   Rs. 6749\n",
       "97       Saint G                        Leather Heeled Boots   Rs. 7799\n",
       "98        ADIDAS                 Men Supernova Running Shoes  Rs. 10799\n",
       "99          ALDO                        Women Black Sneakers   Rs. 8999\n",
       "\n",
       "[100 rows x 3 columns]"
      ]
     },
     "execution_count": 48,
     "metadata": {},
     "output_type": "execute_result"
    }
   ],
   "source": [
    "Shoe_Black"
   ]
  },
  {
   "cell_type": "code",
   "execution_count": null,
   "metadata": {},
   "outputs": [],
   "source": []
  },
  {
   "cell_type": "markdown",
   "metadata": {},
   "source": [
    "# Question Number 10"
   ]
  },
  {
   "cell_type": "markdown",
   "metadata": {},
   "source": [
    "After setting the filters scrape first 10 laptops data. You have to scrape 3 attributes for each laptop:\n",
    "1. title\n",
    "2. Ratings\n",
    "3. Price"
   ]
  },
  {
   "cell_type": "code",
   "execution_count": 857,
   "metadata": {},
   "outputs": [],
   "source": [
    "urlq10 = \"https://www.amazon.in/\""
   ]
  },
  {
   "cell_type": "code",
   "execution_count": 858,
   "metadata": {},
   "outputs": [],
   "source": [
    "drivers.get(urlq10)"
   ]
  },
  {
   "cell_type": "code",
   "execution_count": 859,
   "metadata": {},
   "outputs": [],
   "source": [
    "search_amazon = drivers.find_element_by_id(\"twotabsearchtextbox\")"
   ]
  },
  {
   "cell_type": "code",
   "execution_count": 860,
   "metadata": {},
   "outputs": [],
   "source": [
    "search_amazon_btn = drivers.find_element_by_id(\"nav-search-submit-button\")"
   ]
  },
  {
   "cell_type": "code",
   "execution_count": 861,
   "metadata": {},
   "outputs": [],
   "source": [
    "search_amazon.send_keys(\"Laptop\")"
   ]
  },
  {
   "cell_type": "code",
   "execution_count": 862,
   "metadata": {},
   "outputs": [],
   "source": [
    "search_amazon_btn.click()"
   ]
  },
  {
   "cell_type": "code",
   "execution_count": 877,
   "metadata": {},
   "outputs": [],
   "source": [
    "laptop_titles = drivers.find_elements_by_xpath(\"//span[@class ='a-size-medium a-color-base a-text-normal']\")"
   ]
  },
  {
   "cell_type": "code",
   "execution_count": 878,
   "metadata": {},
   "outputs": [],
   "source": [
    "laptop_titles1 = []\n",
    "for i in laptop_titles[0:10]:\n",
    "    laptop_titles1.append(i.text)"
   ]
  },
  {
   "cell_type": "code",
   "execution_count": 879,
   "metadata": {},
   "outputs": [
    {
     "data": {
      "text/plain": [
       "['Lenovo IdeaPad Flex 5 11th Gen Intel Core i7 14-inch FHD IPS 2-in-1 Touchscreen Laptop (16GB/512GB SSD/Win 10/Office 2019/Lenovo Digital Pen Stylus/Fingerprint Reader/Graphite Grey/1.5Kg), 82HS0092IN',\n",
       " 'Lenovo Yoga Slim 7 10th Gen Intel Core i7 14 inch Full HD IPS Thin and Light Laptop (8GB/512GB SSD/Windows 10/MS Office 2019/NVIDIA MX350 2GB GDDR5 Graphics/Slate Grey/1.55Kg), 82A1009KIN',\n",
       " 'Mi Notebook Horizon Edition 14 Intel Core i5-10210U 10th Gen 14-inch (35.56 cms) Thin and Light Laptop(8GB/512GB SSD/Windows 10/Nvidia MX350 2GB Graphics/Grey/1.35Kg), XMA1904-AR+Webcam',\n",
       " 'Lenovo Legion 5Pi 10th Gen Intel Core i7 15.6\" FHD Gaming Laptop (16GB/1TB SSD/Windows 10/MS Office 2019/144 Hz/NVIDIA RTX 2060 6GB GDDR6/with M300 RGB Gaming Mouse/Iron Grey/2.3Kg), 82AW005SIN',\n",
       " 'Life Digital Laptop 15.6-inch (39.62 cms) (Intel Core i7, 8GB RAM, 512GB SSD, Windows 10), ZED AIR CX7',\n",
       " 'HP Pavilion (2021) Thin & Light 11th Gen Core i7 Laptop, 16 GB RAM, 1TB SSD, Iris Xe Graphics, 14\" (35.56cms) FHD Screen, Windows 10, MS Office, Backlit Keyboard (14-dv0058TU)',\n",
       " 'Lenovo IdeaPad Flex 5 11th Gen Intel Core i7 14-inch FHD IPS 2-in-1 Touchscreen Laptop (16GB/512GB SSD/Win 10/Office 2019/Lenovo Digital Pen Stylus/Fingerprint Reader/Graphite Grey/1.5Kg), 82HS0092IN',\n",
       " 'Asus ROG Zephyrus S Ultra Slim Gaming Laptop, 15.6\" 144Hz IPS Type FHD, GeForce RTX 2070, Intel Core i7-8750H, 16GB DDR4, 512GB PCIe NVMe SSD, Aura Sync RGB, Windows 10, GX531GW-AS76',\n",
       " '(Renewed) Dell Intel 4th Gen Core i7 4600U 14-Inch (35.56 cms) 1366x768 Laptop (4 GB/256 GB SSD/Windows 10/MS Office Pro 2019 /Intel HD Graphics 4600/Silver/1.80 kg), Dell Lattitude E7440',\n",
       " 'CUK VivoBook K571 by ASUS 15 Inch Gaming Laptop (Intel Core i7, 16GB RAM, 256GB NVMe SSD + 1TB HDD, NVIDIA GeForce GTX 1650 Ti 4GB, 15.6\" FHD, Windows 10 Home) Thin Notebook Computer']"
      ]
     },
     "execution_count": 879,
     "metadata": {},
     "output_type": "execute_result"
    }
   ],
   "source": [
    "laptop_titles1"
   ]
  },
  {
   "cell_type": "code",
   "execution_count": 901,
   "metadata": {},
   "outputs": [
    {
     "data": {
      "text/plain": [
       "[<selenium.webdriver.remote.webelement.WebElement (session=\"9eff805885e764abb858ad1b511b683e\", element=\"fc43dbff-997d-4626-ad19-b57e9d4276c1\")>,\n",
       " <selenium.webdriver.remote.webelement.WebElement (session=\"9eff805885e764abb858ad1b511b683e\", element=\"d98465b5-f96b-4aa2-85b3-bef2e0dd3e07\")>,\n",
       " <selenium.webdriver.remote.webelement.WebElement (session=\"9eff805885e764abb858ad1b511b683e\", element=\"c3f4b4d4-00a2-42e0-8cf5-e140d58fcbd4\")>,\n",
       " <selenium.webdriver.remote.webelement.WebElement (session=\"9eff805885e764abb858ad1b511b683e\", element=\"e91bdeb8-de15-420c-b6a5-211fd1eaee34\")>,\n",
       " <selenium.webdriver.remote.webelement.WebElement (session=\"9eff805885e764abb858ad1b511b683e\", element=\"07b41488-1c52-4973-b1ab-a7a366b49480\")>,\n",
       " <selenium.webdriver.remote.webelement.WebElement (session=\"9eff805885e764abb858ad1b511b683e\", element=\"da87ad0a-0a9a-452d-bda2-ac3588d8ad1c\")>,\n",
       " <selenium.webdriver.remote.webelement.WebElement (session=\"9eff805885e764abb858ad1b511b683e\", element=\"0008e208-56d7-4456-a5c2-745e695067f4\")>,\n",
       " <selenium.webdriver.remote.webelement.WebElement (session=\"9eff805885e764abb858ad1b511b683e\", element=\"1552a4f0-46f4-493b-be17-8073740a42f8\")>,\n",
       " <selenium.webdriver.remote.webelement.WebElement (session=\"9eff805885e764abb858ad1b511b683e\", element=\"0c00a18a-52f2-41af-aca2-a1c61b6bb51d\")>,\n",
       " <selenium.webdriver.remote.webelement.WebElement (session=\"9eff805885e764abb858ad1b511b683e\", element=\"d8d4f0a1-9b41-4c7b-93c0-cb953dfa9e38\")>,\n",
       " <selenium.webdriver.remote.webelement.WebElement (session=\"9eff805885e764abb858ad1b511b683e\", element=\"29fa5a2c-649c-4afd-9008-0e6759a28c89\")>,\n",
       " <selenium.webdriver.remote.webelement.WebElement (session=\"9eff805885e764abb858ad1b511b683e\", element=\"534a3a3d-9f35-4ca1-b982-bba2344bd586\")>,\n",
       " <selenium.webdriver.remote.webelement.WebElement (session=\"9eff805885e764abb858ad1b511b683e\", element=\"330b609f-d21c-4e53-98d7-ab24d9fe3df7\")>,\n",
       " <selenium.webdriver.remote.webelement.WebElement (session=\"9eff805885e764abb858ad1b511b683e\", element=\"d326d5ee-8467-4163-bcc5-2a988ce41519\")>,\n",
       " <selenium.webdriver.remote.webelement.WebElement (session=\"9eff805885e764abb858ad1b511b683e\", element=\"de9dc70f-8192-4d5b-a9d2-ac3e08d18663\")>,\n",
       " <selenium.webdriver.remote.webelement.WebElement (session=\"9eff805885e764abb858ad1b511b683e\", element=\"a07d2e7a-4f2b-46a0-9a2f-23e958cc47c5\")>,\n",
       " <selenium.webdriver.remote.webelement.WebElement (session=\"9eff805885e764abb858ad1b511b683e\", element=\"7699341d-38f4-4d0d-949e-5edc3258fb38\")>,\n",
       " <selenium.webdriver.remote.webelement.WebElement (session=\"9eff805885e764abb858ad1b511b683e\", element=\"854eab30-9f50-44eb-875a-c752ed5e68ba\")>,\n",
       " <selenium.webdriver.remote.webelement.WebElement (session=\"9eff805885e764abb858ad1b511b683e\", element=\"3b6cfaaa-aec0-43bb-a532-402be89055bf\")>,\n",
       " <selenium.webdriver.remote.webelement.WebElement (session=\"9eff805885e764abb858ad1b511b683e\", element=\"2847b3a6-adbf-449a-94d6-1bd6b54b18c0\")>,\n",
       " <selenium.webdriver.remote.webelement.WebElement (session=\"9eff805885e764abb858ad1b511b683e\", element=\"39240ced-25a5-4d93-b40e-2e7166392325\")>,\n",
       " <selenium.webdriver.remote.webelement.WebElement (session=\"9eff805885e764abb858ad1b511b683e\", element=\"197a2a71-5063-456c-a327-5fb1c663c9e4\")>,\n",
       " <selenium.webdriver.remote.webelement.WebElement (session=\"9eff805885e764abb858ad1b511b683e\", element=\"5bc0d610-5795-4ee3-baee-2dc88a365745\")>,\n",
       " <selenium.webdriver.remote.webelement.WebElement (session=\"9eff805885e764abb858ad1b511b683e\", element=\"bce2bede-4d06-4c2f-b65e-b31c3253ee98\")>,\n",
       " <selenium.webdriver.remote.webelement.WebElement (session=\"9eff805885e764abb858ad1b511b683e\", element=\"1a67e46d-6ace-41fa-becb-b12dab575680\")>,\n",
       " <selenium.webdriver.remote.webelement.WebElement (session=\"9eff805885e764abb858ad1b511b683e\", element=\"531df18d-61e5-4c6b-b97e-573e655b600d\")>,\n",
       " <selenium.webdriver.remote.webelement.WebElement (session=\"9eff805885e764abb858ad1b511b683e\", element=\"fecb6318-0298-497f-b387-a4c749f432db\")>,\n",
       " <selenium.webdriver.remote.webelement.WebElement (session=\"9eff805885e764abb858ad1b511b683e\", element=\"dd9450d7-f93d-4ff8-87aa-dc1836ef7a00\")>,\n",
       " <selenium.webdriver.remote.webelement.WebElement (session=\"9eff805885e764abb858ad1b511b683e\", element=\"028053ef-6fe9-473b-aac3-08c3fe71f1da\")>,\n",
       " <selenium.webdriver.remote.webelement.WebElement (session=\"9eff805885e764abb858ad1b511b683e\", element=\"26efbc3e-97ba-4110-9ee9-1c596a853277\")>]"
      ]
     },
     "execution_count": 901,
     "metadata": {},
     "output_type": "execute_result"
    }
   ],
   "source": [
    "laptop_ratings = drivers.find_elements_by_xpath(\"//span[@class ='a-icon-alt']\")\n",
    "laptop_ratings"
   ]
  },
  {
   "cell_type": "code",
   "execution_count": 908,
   "metadata": {},
   "outputs": [],
   "source": [
    "laptop_ratings1 = []\n",
    "for i in laptop_ratings[0:10]:\n",
    "    laptop_ratings1.append(i.text)"
   ]
  },
  {
   "cell_type": "code",
   "execution_count": 909,
   "metadata": {},
   "outputs": [
    {
     "data": {
      "text/plain": [
       "['', '', '', '', '', '', '', '', '', '']"
      ]
     },
     "execution_count": 909,
     "metadata": {},
     "output_type": "execute_result"
    }
   ],
   "source": [
    "laptop_ratings1"
   ]
  },
  {
   "cell_type": "code",
   "execution_count": 905,
   "metadata": {},
   "outputs": [
    {
     "data": {
      "text/plain": [
       "[<selenium.webdriver.remote.webelement.WebElement (session=\"9eff805885e764abb858ad1b511b683e\", element=\"e69f6776-0801-42ea-9411-66fe5974f4fe\")>,\n",
       " <selenium.webdriver.remote.webelement.WebElement (session=\"9eff805885e764abb858ad1b511b683e\", element=\"f608d879-0ae4-473d-8f18-11607ca55e27\")>,\n",
       " <selenium.webdriver.remote.webelement.WebElement (session=\"9eff805885e764abb858ad1b511b683e\", element=\"ffab77a7-3659-4362-9850-c74c08a024a4\")>,\n",
       " <selenium.webdriver.remote.webelement.WebElement (session=\"9eff805885e764abb858ad1b511b683e\", element=\"ce1c1c62-c103-4fee-a2d9-f3943862c02b\")>,\n",
       " <selenium.webdriver.remote.webelement.WebElement (session=\"9eff805885e764abb858ad1b511b683e\", element=\"9738202c-2d70-4b3b-b47d-088543ac0c3b\")>,\n",
       " <selenium.webdriver.remote.webelement.WebElement (session=\"9eff805885e764abb858ad1b511b683e\", element=\"ba812a2f-65c4-48c4-b4dc-40953be4e4c6\")>,\n",
       " <selenium.webdriver.remote.webelement.WebElement (session=\"9eff805885e764abb858ad1b511b683e\", element=\"8a14e10c-1bc6-4afd-9b33-6a562a8521b1\")>,\n",
       " <selenium.webdriver.remote.webelement.WebElement (session=\"9eff805885e764abb858ad1b511b683e\", element=\"74867c33-ed4f-486d-a6e9-f275508956e1\")>,\n",
       " <selenium.webdriver.remote.webelement.WebElement (session=\"9eff805885e764abb858ad1b511b683e\", element=\"c857ddea-284d-4379-beb3-4c821e8cd769\")>,\n",
       " <selenium.webdriver.remote.webelement.WebElement (session=\"9eff805885e764abb858ad1b511b683e\", element=\"468e88c4-dae4-4265-9d45-e829e5df1007\")>,\n",
       " <selenium.webdriver.remote.webelement.WebElement (session=\"9eff805885e764abb858ad1b511b683e\", element=\"f7590a06-193b-4687-b0f0-aab732cfad3a\")>,\n",
       " <selenium.webdriver.remote.webelement.WebElement (session=\"9eff805885e764abb858ad1b511b683e\", element=\"900b7bde-9b08-4dfb-acb5-f9b52c0ea17e\")>,\n",
       " <selenium.webdriver.remote.webelement.WebElement (session=\"9eff805885e764abb858ad1b511b683e\", element=\"02383495-62d9-44f9-b4a0-0bfddce3f5e4\")>,\n",
       " <selenium.webdriver.remote.webelement.WebElement (session=\"9eff805885e764abb858ad1b511b683e\", element=\"4a632d40-fd9f-479d-9d90-325aabd7ae7d\")>,\n",
       " <selenium.webdriver.remote.webelement.WebElement (session=\"9eff805885e764abb858ad1b511b683e\", element=\"c1ee65a5-c031-4fc1-b22c-4c7e41beeb68\")>,\n",
       " <selenium.webdriver.remote.webelement.WebElement (session=\"9eff805885e764abb858ad1b511b683e\", element=\"9b7d577e-6860-42c6-b0c5-da5cde988056\")>,\n",
       " <selenium.webdriver.remote.webelement.WebElement (session=\"9eff805885e764abb858ad1b511b683e\", element=\"d7f58884-d748-4bd0-b4f8-32aa0ffde446\")>,\n",
       " <selenium.webdriver.remote.webelement.WebElement (session=\"9eff805885e764abb858ad1b511b683e\", element=\"1f437d42-30f4-4f55-94aa-c671ede1d484\")>,\n",
       " <selenium.webdriver.remote.webelement.WebElement (session=\"9eff805885e764abb858ad1b511b683e\", element=\"ad010392-2c95-4c90-9fed-2046b7a3867e\")>,\n",
       " <selenium.webdriver.remote.webelement.WebElement (session=\"9eff805885e764abb858ad1b511b683e\", element=\"9b141b69-56e7-41b2-a95d-e76b2b2463df\")>,\n",
       " <selenium.webdriver.remote.webelement.WebElement (session=\"9eff805885e764abb858ad1b511b683e\", element=\"4da28232-6cb8-4d16-987d-0510002d1696\")>,\n",
       " <selenium.webdriver.remote.webelement.WebElement (session=\"9eff805885e764abb858ad1b511b683e\", element=\"419a9ecd-e0cd-4006-863e-238afa59abfe\")>,\n",
       " <selenium.webdriver.remote.webelement.WebElement (session=\"9eff805885e764abb858ad1b511b683e\", element=\"3fcef31b-f569-403a-80f9-d69a2c3ac8bd\")>,\n",
       " <selenium.webdriver.remote.webelement.WebElement (session=\"9eff805885e764abb858ad1b511b683e\", element=\"a6deab55-bcb4-493b-911c-9bf00c948880\")>,\n",
       " <selenium.webdriver.remote.webelement.WebElement (session=\"9eff805885e764abb858ad1b511b683e\", element=\"4da2997c-50ff-4253-99aa-332893c3ada7\")>,\n",
       " <selenium.webdriver.remote.webelement.WebElement (session=\"9eff805885e764abb858ad1b511b683e\", element=\"27d3ecf0-51e4-4bd0-af9e-dba4b0c3c1c4\")>]"
      ]
     },
     "execution_count": 905,
     "metadata": {},
     "output_type": "execute_result"
    }
   ],
   "source": [
    "laptop_prices = drivers.find_elements_by_xpath(\"//span[@class ='a-price-whole']\")\n",
    "laptop_prices"
   ]
  },
  {
   "cell_type": "code",
   "execution_count": 896,
   "metadata": {},
   "outputs": [],
   "source": [
    "laptop_prices1 = []\n",
    "for i in laptop_prices[0:10]:\n",
    "    laptop_prices1.append(i.text)"
   ]
  },
  {
   "cell_type": "code",
   "execution_count": 897,
   "metadata": {},
   "outputs": [
    {
     "data": {
      "text/plain": [
       "['83,990',\n",
       " '83,990',\n",
       " '53,999',\n",
       " '1,35,490',\n",
       " '47,050',\n",
       " '84,999',\n",
       " '83,990',\n",
       " '3,43,099',\n",
       " '39,999',\n",
       " '1,44,643']"
      ]
     },
     "execution_count": 897,
     "metadata": {},
     "output_type": "execute_result"
    }
   ],
   "source": [
    "laptop_prices1"
   ]
  },
  {
   "cell_type": "code",
   "execution_count": null,
   "metadata": {},
   "outputs": [],
   "source": []
  }
 ],
 "metadata": {
  "kernelspec": {
   "display_name": "Python 3",
   "language": "python",
   "name": "python3"
  },
  "language_info": {
   "codemirror_mode": {
    "name": "ipython",
    "version": 3
   },
   "file_extension": ".py",
   "mimetype": "text/x-python",
   "name": "python",
   "nbconvert_exporter": "python",
   "pygments_lexer": "ipython3",
   "version": "3.8.3"
  }
 },
 "nbformat": 4,
 "nbformat_minor": 4
}
